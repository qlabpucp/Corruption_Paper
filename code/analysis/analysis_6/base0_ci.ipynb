{
 "cells": [
  {
   "cell_type": "markdown",
   "id": "c16703ef-3ce1-4fb4-a5f4-9c50c26157c7",
   "metadata": {},
   "source": [
    "# BASE 0 - CI"
   ]
  },
  {
   "cell_type": "markdown",
   "id": "77ea7de5-2163-4eed-8420-26f0de6737ec",
   "metadata": {},
   "source": [
    "Information:\n",
    "\n",
    "* Database: base 0\n",
    "* Predicted variable: Corrupción Intensa\n",
    "* Predictor variables: Only SIAF and Canon\n",
    "* Type of prediction: Clasification\n",
    "* Periodo: 2016-2020"
   ]
  },
  {
   "cell_type": "markdown",
   "id": "1aca0c1c-50f7-4f75-b07e-83cea7238d5b",
   "metadata": {},
   "source": [
    "## 1. Cargar librerías, módulos y datos"
   ]
  },
  {
   "cell_type": "code",
   "execution_count": 1,
   "id": "4ca2434c-6b68-4561-89c9-cd8044733a29",
   "metadata": {
    "tags": []
   },
   "outputs": [],
   "source": [
    "import warnings\n",
    "warnings.filterwarnings( 'ignore' )"
   ]
  },
  {
   "cell_type": "code",
   "execution_count": 2,
   "id": "daea9755-b514-4eac-a8b3-97ab86131b45",
   "metadata": {
    "tags": []
   },
   "outputs": [],
   "source": [
    "import pandas as  pd\n",
    "import numpy as np\n",
    "import pickle\n",
    "import joblib\n",
    "import matplotlib.pyplot as plt\n",
    "from importlib.machinery import SourceFileLoader"
   ]
  },
  {
   "cell_type": "code",
   "execution_count": 3,
   "id": "c840acee-e68c-4a8f-a4a4-772d9c978ea4",
   "metadata": {},
   "outputs": [],
   "source": [
    "from imblearn.over_sampling import SMOTE\n",
    "from imblearn.combine import SMOTETomek\n",
    "from imblearn.over_sampling import RandomOverSampler\n",
    "from collections import Counter"
   ]
  },
  {
   "cell_type": "code",
   "execution_count": 4,
   "id": "c7a7263d-7a53-4cfd-a311-f770ce2445f8",
   "metadata": {},
   "outputs": [],
   "source": [
    "from sklearn.model_selection import train_test_split, GridSearchCV\n",
    "from sklearn.linear_model import LogisticRegression, LogisticRegressionCV\n",
    "from sklearn.ensemble import RandomForestRegressor, RandomForestClassifier\n",
    "from sklearn.metrics import accuracy_score, log_loss, roc_auc_score, f1_score, matthews_corrcoef\n",
    "from xgboost import XGBRegressor, XGBClassifier\n",
    "from sklearn.model_selection import KFold"
   ]
  },
  {
   "cell_type": "code",
   "execution_count": 5,
   "id": "368bf546-d90c-43fa-826e-f60fb5044c0a",
   "metadata": {
    "tags": []
   },
   "outputs": [],
   "source": [
    "fun = SourceFileLoader( 'funciones', r'..\\..\\..\\code\\modules\\funciones.py' ).load_module()\n",
    "vn  = SourceFileLoader( 'variables_nombres', r'..\\..\\..\\code\\modules\\variables_nombres.py' ).load_module()"
   ]
  },
  {
   "cell_type": "code",
   "execution_count": 6,
   "id": "32f68f2d-0dd3-416b-89a3-16d3ccf44eee",
   "metadata": {
    "tags": []
   },
   "outputs": [],
   "source": [
    "path = r'..\\..\\..\\input\\preprocessed_data\\base0_siaf.csv'\n",
    "data = pd.read_csv( path )"
   ]
  },
  {
   "cell_type": "markdown",
   "id": "3f504639-4a7d-4df1-ac15-96b4618e06db",
   "metadata": {},
   "source": [
    "## 2. Realizar la partición en conjunto de entrenamiento y prueba"
   ]
  },
  {
   "cell_type": "code",
   "execution_count": 7,
   "id": "432a0677-4a59-4f6e-8adf-52e52af5905b",
   "metadata": {},
   "outputs": [],
   "source": [
    "dep_var    = [ 'corrup_intensa' ]\n",
    "other_vars = [ 'monto_examinado', 'monto_auditado', 'monto_objeto_servicio', \n",
    "               'monto_corrup1', 'monto_corrup2', 'tipo_control', 'corrup_amplia',\n",
    "               'per_corrup1', 'per_corrup2', '_monto', 'monto_', 'year', 'ubigeo' ]\n",
    "\n",
    "pred_vars  = [ col for col in data.columns if col not in dep_var and col not in other_vars ]\n",
    "\n",
    "x_train, x_test, y_train, y_test = train_test_split( data[ pred_vars ], \n",
    "                                                     data[ 'corrup_intensa' ], \n",
    "                                                     test_size    = 0.3,\n",
    "                                                     random_state = 2023 )"
   ]
  },
  {
   "cell_type": "code",
   "execution_count": 8,
   "id": "51dc9a4c-d0ac-4394-bd16-21f305200ebf",
   "metadata": {},
   "outputs": [],
   "source": [
    "x_train_columns = x_train.columns.to_list()\n",
    "x_train_columns = pd.DataFrame( x_train_columns, columns = [ 'colname' ] )\n",
    "x_train_columns.to_excel( r'..\\..\\..\\code\\prediction\\colnames_b0_ci_siaf.xlsx' )"
   ]
  },
  {
   "cell_type": "markdown",
   "id": "52dd3078-aa0b-4593-b2b5-9763591a7991",
   "metadata": {},
   "source": [
    "## 3. Implementar métodos de muestreo"
   ]
  },
  {
   "cell_type": "markdown",
   "id": "e5f54c5f-fd9c-4c3a-9368-ce7008e46136",
   "metadata": {},
   "source": [
    "Se implementan los métodos SMOTE, SMOTE Tomek-Links y Naive Random Oversampling"
   ]
  },
  {
   "cell_type": "code",
   "execution_count": 9,
   "id": "f60399f2-ef36-4b0b-b246-514bd58ff20c",
   "metadata": {},
   "outputs": [],
   "source": [
    "x_train_s, x_train_st, x_train_nro, y_train_s, y_train_st, y_train_nro = fun.resampling( x_train, y_train )"
   ]
  },
  {
   "cell_type": "code",
   "execution_count": 10,
   "id": "624d7b5d-3da6-4828-ab26-71dab5679273",
   "metadata": {
    "collapsed": true,
    "jupyter": {
     "outputs_hidden": true,
     "source_hidden": true
    },
    "tags": []
   },
   "outputs": [
    {
     "ename": "KeyError",
     "evalue": "'corrup_intensa'",
     "output_type": "error",
     "traceback": [
      "\u001b[1;31m---------------------------------------------------------------------------\u001b[0m",
      "\u001b[1;31mKeyError\u001b[0m                                  Traceback (most recent call last)",
      "File \u001b[1;32m~\\anaconda3\\Lib\\site-packages\\pandas\\core\\indexes\\base.py:3653\u001b[0m, in \u001b[0;36mIndex.get_loc\u001b[1;34m(self, key)\u001b[0m\n\u001b[0;32m   3652\u001b[0m \u001b[38;5;28;01mtry\u001b[39;00m:\n\u001b[1;32m-> 3653\u001b[0m     \u001b[38;5;28;01mreturn\u001b[39;00m \u001b[38;5;28mself\u001b[39m\u001b[38;5;241m.\u001b[39m_engine\u001b[38;5;241m.\u001b[39mget_loc(casted_key)\n\u001b[0;32m   3654\u001b[0m \u001b[38;5;28;01mexcept\u001b[39;00m \u001b[38;5;167;01mKeyError\u001b[39;00m \u001b[38;5;28;01mas\u001b[39;00m err:\n",
      "File \u001b[1;32m~\\anaconda3\\Lib\\site-packages\\pandas\\_libs\\index.pyx:147\u001b[0m, in \u001b[0;36mpandas._libs.index.IndexEngine.get_loc\u001b[1;34m()\u001b[0m\n",
      "File \u001b[1;32m~\\anaconda3\\Lib\\site-packages\\pandas\\_libs\\index.pyx:176\u001b[0m, in \u001b[0;36mpandas._libs.index.IndexEngine.get_loc\u001b[1;34m()\u001b[0m\n",
      "File \u001b[1;32mpandas\\_libs\\hashtable_class_helper.pxi:7080\u001b[0m, in \u001b[0;36mpandas._libs.hashtable.PyObjectHashTable.get_item\u001b[1;34m()\u001b[0m\n",
      "File \u001b[1;32mpandas\\_libs\\hashtable_class_helper.pxi:7088\u001b[0m, in \u001b[0;36mpandas._libs.hashtable.PyObjectHashTable.get_item\u001b[1;34m()\u001b[0m\n",
      "\u001b[1;31mKeyError\u001b[0m: 'corrup_intensa'",
      "\nThe above exception was the direct cause of the following exception:\n",
      "\u001b[1;31mKeyError\u001b[0m                                  Traceback (most recent call last)",
      "Cell \u001b[1;32mIn[10], line 1\u001b[0m\n\u001b[1;32m----> 1\u001b[0m x_train_s[ \u001b[38;5;124m'\u001b[39m\u001b[38;5;124mcorrup_intensa\u001b[39m\u001b[38;5;124m'\u001b[39m ]\u001b[38;5;241m.\u001b[39mvalue_counts()\n",
      "File \u001b[1;32m~\\anaconda3\\Lib\\site-packages\\pandas\\core\\frame.py:3761\u001b[0m, in \u001b[0;36mDataFrame.__getitem__\u001b[1;34m(self, key)\u001b[0m\n\u001b[0;32m   3759\u001b[0m \u001b[38;5;28;01mif\u001b[39;00m \u001b[38;5;28mself\u001b[39m\u001b[38;5;241m.\u001b[39mcolumns\u001b[38;5;241m.\u001b[39mnlevels \u001b[38;5;241m>\u001b[39m \u001b[38;5;241m1\u001b[39m:\n\u001b[0;32m   3760\u001b[0m     \u001b[38;5;28;01mreturn\u001b[39;00m \u001b[38;5;28mself\u001b[39m\u001b[38;5;241m.\u001b[39m_getitem_multilevel(key)\n\u001b[1;32m-> 3761\u001b[0m indexer \u001b[38;5;241m=\u001b[39m \u001b[38;5;28mself\u001b[39m\u001b[38;5;241m.\u001b[39mcolumns\u001b[38;5;241m.\u001b[39mget_loc(key)\n\u001b[0;32m   3762\u001b[0m \u001b[38;5;28;01mif\u001b[39;00m is_integer(indexer):\n\u001b[0;32m   3763\u001b[0m     indexer \u001b[38;5;241m=\u001b[39m [indexer]\n",
      "File \u001b[1;32m~\\anaconda3\\Lib\\site-packages\\pandas\\core\\indexes\\base.py:3655\u001b[0m, in \u001b[0;36mIndex.get_loc\u001b[1;34m(self, key)\u001b[0m\n\u001b[0;32m   3653\u001b[0m     \u001b[38;5;28;01mreturn\u001b[39;00m \u001b[38;5;28mself\u001b[39m\u001b[38;5;241m.\u001b[39m_engine\u001b[38;5;241m.\u001b[39mget_loc(casted_key)\n\u001b[0;32m   3654\u001b[0m \u001b[38;5;28;01mexcept\u001b[39;00m \u001b[38;5;167;01mKeyError\u001b[39;00m \u001b[38;5;28;01mas\u001b[39;00m err:\n\u001b[1;32m-> 3655\u001b[0m     \u001b[38;5;28;01mraise\u001b[39;00m \u001b[38;5;167;01mKeyError\u001b[39;00m(key) \u001b[38;5;28;01mfrom\u001b[39;00m \u001b[38;5;21;01merr\u001b[39;00m\n\u001b[0;32m   3656\u001b[0m \u001b[38;5;28;01mexcept\u001b[39;00m \u001b[38;5;167;01mTypeError\u001b[39;00m:\n\u001b[0;32m   3657\u001b[0m     \u001b[38;5;66;03m# If we have a listlike key, _check_indexing_error will raise\u001b[39;00m\n\u001b[0;32m   3658\u001b[0m     \u001b[38;5;66;03m#  InvalidIndexError. Otherwise we fall through and re-raise\u001b[39;00m\n\u001b[0;32m   3659\u001b[0m     \u001b[38;5;66;03m#  the TypeError.\u001b[39;00m\n\u001b[0;32m   3660\u001b[0m     \u001b[38;5;28mself\u001b[39m\u001b[38;5;241m.\u001b[39m_check_indexing_error(key)\n",
      "\u001b[1;31mKeyError\u001b[0m: 'corrup_intensa'"
     ]
    }
   ],
   "source": [
    "check_data      = np.zeros( ( 4, 4 ) )\n",
    "\n",
    "check_data[ 0 ] = [ x_train.shape[ 0 ], x_train.shape[ 1 ], \n",
    "                    y_train.value_counts()[ 0 ], y_train.value_counts()[ 1 ] ]\n",
    "\n",
    "check_data[ 1 ] = [ x_train_s.shape[ 0 ], x_train_smote.shape[ 1 ], \n",
    "                    x_train_s.value_counts()[ 0 ], y_train_smote.value_counts()[ 1 ] ]\n",
    "\n",
    "check_data[ 2 ] = [ x_train_st.shape[ 0 ], x_train_smote_tomek.shape[ 1 ],\n",
    "                    x_train_st.value_counts()[ 0 ], y_train_smote_tomek.value_counts()[ 1 ] ]\n",
    "\n",
    "check_data[ 3 ] = [ x_train_ros.shape[ 0 ], x_train_ros.shape[ 1 ],\n",
    "                    y_train_ros.value_counts()[ 0 ], y_train_ros.value_counts()[ 1 ] ]\n",
    "\n",
    "colnames        = [ 'observaciones', 'variables', 'Nro. No', 'Nro. Si' ]\n",
    "\n",
    "rownames        = [ 'Original',\n",
    "                    'SMOTE',\n",
    "                    'SOMTE Tomek',\n",
    "                    'NRS' ]\n",
    "\n",
    "table_check_data = pd.DataFrame( check_data, columns = colnames )\n",
    "table_check_data.index = rownames\n",
    "table_check_data"
   ]
  },
  {
   "cell_type": "code",
   "execution_count": 19,
   "id": "18f3d29a-1012-4ae3-b6f0-224cf5ba7058",
   "metadata": {
    "tags": []
   },
   "outputs": [
    {
     "data": {
      "text/html": [
       "<div>\n",
       "<style scoped>\n",
       "    .dataframe tbody tr th:only-of-type {\n",
       "        vertical-align: middle;\n",
       "    }\n",
       "\n",
       "    .dataframe tbody tr th {\n",
       "        vertical-align: top;\n",
       "    }\n",
       "\n",
       "    .dataframe thead th {\n",
       "        text-align: right;\n",
       "    }\n",
       "</style>\n",
       "<table border=\"1\" class=\"dataframe\">\n",
       "  <thead>\n",
       "    <tr style=\"text-align: right;\">\n",
       "      <th></th>\n",
       "      <th>observaciones</th>\n",
       "      <th>variables</th>\n",
       "      <th>Nro. No</th>\n",
       "      <th>Nro. Si</th>\n",
       "    </tr>\n",
       "  </thead>\n",
       "  <tbody>\n",
       "    <tr>\n",
       "      <th>Original</th>\n",
       "      <td>1443.0</td>\n",
       "      <td>14732.0</td>\n",
       "      <td>514.0</td>\n",
       "      <td>929.0</td>\n",
       "    </tr>\n",
       "    <tr>\n",
       "      <th>SMOTE</th>\n",
       "      <td>1858.0</td>\n",
       "      <td>14732.0</td>\n",
       "      <td>929.0</td>\n",
       "      <td>929.0</td>\n",
       "    </tr>\n",
       "    <tr>\n",
       "      <th>SOMTE Tomek</th>\n",
       "      <td>1808.0</td>\n",
       "      <td>14732.0</td>\n",
       "      <td>904.0</td>\n",
       "      <td>904.0</td>\n",
       "    </tr>\n",
       "    <tr>\n",
       "      <th>NRS</th>\n",
       "      <td>1858.0</td>\n",
       "      <td>14732.0</td>\n",
       "      <td>929.0</td>\n",
       "      <td>929.0</td>\n",
       "    </tr>\n",
       "  </tbody>\n",
       "</table>\n",
       "</div>"
      ],
      "text/plain": [
       "             observaciones  variables  Nro. No  Nro. Si\n",
       "Original            1443.0    14732.0    514.0    929.0\n",
       "SMOTE               1858.0    14732.0    929.0    929.0\n",
       "SOMTE Tomek         1808.0    14732.0    904.0    904.0\n",
       "NRS                 1858.0    14732.0    929.0    929.0"
      ]
     },
     "execution_count": 19,
     "metadata": {},
     "output_type": "execute_result"
    }
   ],
   "source": [
    "check_data      = np.zeros( ( 4, 4 ) )\n",
    "\n",
    "check_data[ 0 ] = [ x_train.shape[ 0 ], x_train.shape[ 1 ], \n",
    "                    y_train.value_counts()[ 0 ], y_train.value_counts()[ 1 ] ]\n",
    "\n",
    "check_data[ 1 ] = [ x_train_s.shape[ 0 ], x_train_s.shape[ 1 ], \n",
    "                    y_train_s.value_counts()[ 0 ], y_train_s.value_counts()[ 1 ] ]\n",
    "\n",
    "check_data[ 2 ] = [ x_train_st.shape[ 0 ], x_train_st.shape[ 1 ],\n",
    "                    y_train_st.value_counts()[ 0 ], y_train_st.value_counts()[ 1 ] ]\n",
    "\n",
    "check_data[ 3 ] = [ x_train_nro.shape[ 0 ], x_train_nro.shape[ 1 ],\n",
    "                    y_train_nro.value_counts()[ 0 ], y_train_nro.value_counts()[ 1 ] ]\n",
    "\n",
    "colnames        = [ 'observaciones', 'variables', 'Nro. No', 'Nro. Si' ]\n",
    "\n",
    "rownames        = [ 'Original',\n",
    "                    'SMOTE',\n",
    "                    'SOMTE Tomek',\n",
    "                    'NRS' ]\n",
    "\n",
    "table_check_data = pd.DataFrame( check_data, columns = colnames )\n",
    "table_check_data.index = rownames\n",
    "table_check_data"
   ]
  },
  {
   "cell_type": "markdown",
   "id": "ee9e3f85-c184-4a9e-b1d4-95e253d4d330",
   "metadata": {},
   "source": [
    "## 4. Implementar los modelos de clasificación"
   ]
  },
  {
   "cell_type": "code",
   "execution_count": 16,
   "id": "065a3d42-8d6d-4f40-955a-2114cc19b13b",
   "metadata": {},
   "outputs": [
    {
     "name": "stdout",
     "output_type": "stream",
     "text": [
      "2946.4\n",
      "4419.6\n",
      "5892.8\n"
     ]
    }
   ],
   "source": [
    "o_20 = 20*x_train.shape[ 1 ]/100\n",
    "o_30 = 30*x_train.shape[ 1 ]/100\n",
    "o_40 = 40*x_train.shape[ 1 ]/100\n",
    "\n",
    "print( o_20, o_30, o_40, sep = '\\n' )"
   ]
  },
  {
   "cell_type": "code",
   "execution_count": 17,
   "id": "244e1546-58aa-4e49-946b-d3a75d03d365",
   "metadata": {},
   "outputs": [],
   "source": [
    "models = {\n",
    "    \n",
    "    'Logistic Regression'      : { 'model'      : LogisticRegression( random_state = 2023, n_jobs = -1 ) },\n",
    "    \n",
    "    'Logistic Lasso'           : { 'model'      : LogisticRegressionCV( random_state = 2023, penalty = 'l1', solver = 'saga', n_jobs = -1, Cs = [ 0.001, 0.01, 0.1, 1, 10, 100 ] ) },\n",
    "    \n",
    "    'Logistic Ridge'           : { 'model'      : LogisticRegressionCV( random_state = 2023, penalty = 'l2', solver = 'saga', n_jobs = -1, Cs = [ 0.001, 0.01, 0.1, 1, 10, 100 ] ) },\n",
    "    \n",
    "    'Logistic Elastic Net'     : { 'model'      : LogisticRegressionCV( random_state = 2023, penalty = 'elasticnet', solver = 'saga', l1_ratios = [ 0.5 ], n_jobs = -1, Cs = [ 0.001, 0.01, 0.1, 1, 10, 100 ] ) },\n",
    "    \n",
    "    'Random Forest Classifier' : { 'model'      : RandomForestClassifier( random_state = 2023, n_jobs = -1 ),\n",
    "                                   'grid_params': { 'n_estimators': [ 250, 500, 1000 ], 'max_depth': [ 10, 20, 30 ], 'max_features': [ 2946, 4420, 5893 ] } },\n",
    "    \n",
    "    'XGboost Classifier'       : { 'model'      : XGBClassifier( random_state = 2023, use_label_encoder = False, objective = 'binary:logistic', verbosity = 0, learning_rate = 0.1, n_jobs = -1 ),\n",
    "                                   'grid_params': { 'n_estimators': [ 250, 500, 1000 ], 'max_depth': [ 1, 2 ], 'max_features': [ 2946, 4420, 5893 ] } }\n",
    "    \n",
    "        }"
   ]
  },
  {
   "cell_type": "code",
   "execution_count": 18,
   "id": "9e83de3e-5e96-4f03-8ac3-453e40fd7380",
   "metadata": {},
   "outputs": [],
   "source": [
    "models_path = r'..\\..\\..\\output\\ejecucion_6\\models\\base0'\n",
    "vars_path   = r'..\\..\\..\\output\\ejecucion_6\\results\\base0'\n",
    "gs_path     = r'..\\..\\..\\output\\ejecucion_6\\gridsearch_results\\base0'"
   ]
  },
  {
   "cell_type": "code",
   "execution_count": 19,
   "id": "e6341349-e5db-4ec9-8f8a-a0086ede71d2",
   "metadata": {},
   "outputs": [],
   "source": [
    "x_train_list = [ x_train, x_train_s, x_train_st, x_train_nro ]\n",
    "y_train_list = [ y_train, y_train_s, y_train_st, y_train_nro ]\n",
    "path_list    = [ models_path, vars_path, gs_path ]"
   ]
  },
  {
   "cell_type": "code",
   "execution_count": 20,
   "id": "fa177cd1-cb95-491c-858b-c30c2d2d5fc5",
   "metadata": {},
   "outputs": [],
   "source": [
    "sufix = 'ci'"
   ]
  },
  {
   "cell_type": "code",
   "execution_count": 21,
   "id": "af00f4cd-bd52-4fbd-9a8d-ec981d83325d",
   "metadata": {
    "tags": []
   },
   "outputs": [],
   "source": [
    "resultados = fun.test_models_classification( models, x_train_list, y_train_list, x_test, y_test, path_list, sufix )\n",
    "resultados.to_excel( r'..\\..\\..\\output\\ejecucion_6\\results\\base0\\base0_ci.xlsx' )"
   ]
  }
 ],
 "metadata": {
  "kernelspec": {
   "display_name": "Python 3 (ipykernel)",
   "language": "python",
   "name": "python3"
  },
  "language_info": {
   "codemirror_mode": {
    "name": "ipython",
    "version": 3
   },
   "file_extension": ".py",
   "mimetype": "text/x-python",
   "name": "python",
   "nbconvert_exporter": "python",
   "pygments_lexer": "ipython3",
   "version": "3.11.4"
  }
 },
 "nbformat": 4,
 "nbformat_minor": 5
}
