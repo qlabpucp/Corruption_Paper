{
 "cells": [
  {
   "cell_type": "code",
   "execution_count": 1,
   "id": "1f336f74-9c9c-42f4-9761-5d19d8852865",
   "metadata": {
    "tags": []
   },
   "outputs": [],
   "source": [
    "import warnings\n",
    "warnings.filterwarnings( 'ignore' )"
   ]
  },
  {
   "cell_type": "code",
   "execution_count": 2,
   "id": "e4aa5864-d700-49b5-a2d7-32be00038519",
   "metadata": {
    "tags": []
   },
   "outputs": [],
   "source": [
    "import pandas as  pd\n",
    "import numpy as np\n",
    "import pickle\n",
    "import joblib\n",
    "import matplotlib.pyplot as plt\n",
    "from importlib.machinery import SourceFileLoader"
   ]
  },
  {
   "cell_type": "code",
   "execution_count": 3,
   "id": "209ccbe2-60e0-4ac7-bc6b-ff19b7a60448",
   "metadata": {},
   "outputs": [],
   "source": [
    "from imblearn.over_sampling import SMOTE\n",
    "from imblearn.combine import SMOTETomek\n",
    "from imblearn.over_sampling import RandomOverSampler\n",
    "from collections import Counter"
   ]
  },
  {
   "cell_type": "code",
   "execution_count": 28,
   "id": "99b95d0d-2d66-4436-bb35-2657b1b8bf3c",
   "metadata": {},
   "outputs": [],
   "source": [
    "from sklearn.model_selection import train_test_split, GridSearchCV\n",
    "from sklearn.linear_model import LogisticRegression, LogisticRegressionCV\n",
    "from sklearn.ensemble import RandomForestRegressor, RandomForestClassifier\n",
    "from sklearn.metrics import accuracy_score, log_loss, roc_auc_score, f1_score, matthews_corrcoef\n",
    "from xgboost import XGBRegressor, XGBClassifier\n",
    "from sklearn.model_selection import KFold\n",
    "from sklearn.feature_selection import SelectFromModel\n",
    "from sklearn.preprocessing import StandardScaler\n",
    "from sklearn.metrics import classification_report"
   ]
  },
  {
   "cell_type": "code",
   "execution_count": 5,
   "id": "f74d9525-6840-43b9-9aad-789d36b6e80e",
   "metadata": {},
   "outputs": [],
   "source": [
    "fun = SourceFileLoader( 'funciones', r'..\\..\\..\\code\\modules\\funciones.py' ).load_module()\n",
    "vn  = SourceFileLoader( 'variables_nombres', r'..\\..\\..\\code\\modules\\variables_nombres.py' ).load_module()"
   ]
  },
  {
   "cell_type": "code",
   "execution_count": 6,
   "id": "8547a27d-dbd0-4257-a84d-436a5da3c805",
   "metadata": {
    "tags": []
   },
   "outputs": [],
   "source": [
    "path = r'..\\..\\..\\input\\preprocessed_data\\base0.csv'\n",
    "data = pd.read_csv( path )"
   ]
  },
  {
   "cell_type": "markdown",
   "id": "06b972cf-e8fd-4d25-af53-f5eed708dcdc",
   "metadata": {},
   "source": [
    "## 2. Standard Scales"
   ]
  },
  {
   "cell_type": "code",
   "execution_count": 7,
   "id": "90c7d596-2638-4d32-a802-6310bef820bb",
   "metadata": {
    "tags": []
   },
   "outputs": [],
   "source": [
    "num_vars_total = vn.renamu_varibles_num + vn.siaf_variables + vn.politica_variables\n",
    "num_vars       = [ var for var in data.columns if var in num_vars_total ] \n",
    "cat_vars       = [ var for var in data.columns if var not in num_vars ]"
   ]
  },
  {
   "cell_type": "code",
   "execution_count": 9,
   "id": "7d08f06d-f7a4-47e4-9f07-117a784cb402",
   "metadata": {
    "tags": []
   },
   "outputs": [],
   "source": [
    "scaler     = StandardScaler()\n",
    "scaled_arr = scaler.fit_transform( data[ num_vars ] )\n",
    "scaled_df  = pd.DataFrame( scaled_arr, columns = num_vars )"
   ]
  },
  {
   "cell_type": "code",
   "execution_count": 10,
   "id": "0855db5c-032e-4591-be27-f0ed0b4dfd17",
   "metadata": {
    "tags": []
   },
   "outputs": [],
   "source": [
    "df_final = pd.concat( [ scaled_df, data[ cat_vars ] ], axis = 1 )"
   ]
  },
  {
   "cell_type": "code",
   "execution_count": 13,
   "id": "caaa8d9e-d8ef-40f4-a28b-f2d3b6b4f57d",
   "metadata": {
    "tags": []
   },
   "outputs": [],
   "source": [
    "dep_var    = [ 'corrup_intensa' ]\n",
    "other_vars = [ 'monto_examinado', 'monto_auditado', 'monto_objeto_servicio', \n",
    "               'monto_corrup1', 'monto_corrup2', 'tipo_control', 'corrup_amplia',\n",
    "               'per_corrup1', 'per_corrup2', '_monto', 'monto_', 'year', 'ubigeo' ]\n",
    "\n",
    "pred_vars  = [ col for col in df_final.columns if col not in dep_var and col not in other_vars ]\n",
    "\n",
    "x_train, x_test, y_train, y_test = train_test_split( df_final[ pred_vars ], \n",
    "                                                     df_final[ 'corrup_intensa' ], \n",
    "                                                     test_size    = 0.3,\n",
    "                                                     random_state = 2023 )"
   ]
  },
  {
   "cell_type": "code",
   "execution_count": 21,
   "id": "c09b7a85-a38c-4409-b98b-b03bb3109bb3",
   "metadata": {
    "tags": []
   },
   "outputs": [],
   "source": [
    "x_train_s, x_train_st, x_train_nro, y_train_s, y_train_st, y_train_nro = fun.resampling( x_train, y_train )"
   ]
  },
  {
   "cell_type": "code",
   "execution_count": 22,
   "id": "7e5b59c1-8894-43a7-ac64-5a05f3fa32f1",
   "metadata": {
    "tags": []
   },
   "outputs": [
    {
     "data": {
      "text/html": [
       "<style>#sk-container-id-2 {color: black;background-color: white;}#sk-container-id-2 pre{padding: 0;}#sk-container-id-2 div.sk-toggleable {background-color: white;}#sk-container-id-2 label.sk-toggleable__label {cursor: pointer;display: block;width: 100%;margin-bottom: 0;padding: 0.3em;box-sizing: border-box;text-align: center;}#sk-container-id-2 label.sk-toggleable__label-arrow:before {content: \"▸\";float: left;margin-right: 0.25em;color: #696969;}#sk-container-id-2 label.sk-toggleable__label-arrow:hover:before {color: black;}#sk-container-id-2 div.sk-estimator:hover label.sk-toggleable__label-arrow:before {color: black;}#sk-container-id-2 div.sk-toggleable__content {max-height: 0;max-width: 0;overflow: hidden;text-align: left;background-color: #f0f8ff;}#sk-container-id-2 div.sk-toggleable__content pre {margin: 0.2em;color: black;border-radius: 0.25em;background-color: #f0f8ff;}#sk-container-id-2 input.sk-toggleable__control:checked~div.sk-toggleable__content {max-height: 200px;max-width: 100%;overflow: auto;}#sk-container-id-2 input.sk-toggleable__control:checked~label.sk-toggleable__label-arrow:before {content: \"▾\";}#sk-container-id-2 div.sk-estimator input.sk-toggleable__control:checked~label.sk-toggleable__label {background-color: #d4ebff;}#sk-container-id-2 div.sk-label input.sk-toggleable__control:checked~label.sk-toggleable__label {background-color: #d4ebff;}#sk-container-id-2 input.sk-hidden--visually {border: 0;clip: rect(1px 1px 1px 1px);clip: rect(1px, 1px, 1px, 1px);height: 1px;margin: -1px;overflow: hidden;padding: 0;position: absolute;width: 1px;}#sk-container-id-2 div.sk-estimator {font-family: monospace;background-color: #f0f8ff;border: 1px dotted black;border-radius: 0.25em;box-sizing: border-box;margin-bottom: 0.5em;}#sk-container-id-2 div.sk-estimator:hover {background-color: #d4ebff;}#sk-container-id-2 div.sk-parallel-item::after {content: \"\";width: 100%;border-bottom: 1px solid gray;flex-grow: 1;}#sk-container-id-2 div.sk-label:hover label.sk-toggleable__label {background-color: #d4ebff;}#sk-container-id-2 div.sk-serial::before {content: \"\";position: absolute;border-left: 1px solid gray;box-sizing: border-box;top: 0;bottom: 0;left: 50%;z-index: 0;}#sk-container-id-2 div.sk-serial {display: flex;flex-direction: column;align-items: center;background-color: white;padding-right: 0.2em;padding-left: 0.2em;position: relative;}#sk-container-id-2 div.sk-item {position: relative;z-index: 1;}#sk-container-id-2 div.sk-parallel {display: flex;align-items: stretch;justify-content: center;background-color: white;position: relative;}#sk-container-id-2 div.sk-item::before, #sk-container-id-2 div.sk-parallel-item::before {content: \"\";position: absolute;border-left: 1px solid gray;box-sizing: border-box;top: 0;bottom: 0;left: 50%;z-index: -1;}#sk-container-id-2 div.sk-parallel-item {display: flex;flex-direction: column;z-index: 1;position: relative;background-color: white;}#sk-container-id-2 div.sk-parallel-item:first-child::after {align-self: flex-end;width: 50%;}#sk-container-id-2 div.sk-parallel-item:last-child::after {align-self: flex-start;width: 50%;}#sk-container-id-2 div.sk-parallel-item:only-child::after {width: 0;}#sk-container-id-2 div.sk-dashed-wrapped {border: 1px dashed gray;margin: 0 0.4em 0.5em 0.4em;box-sizing: border-box;padding-bottom: 0.4em;background-color: white;}#sk-container-id-2 div.sk-label label {font-family: monospace;font-weight: bold;display: inline-block;line-height: 1.2em;}#sk-container-id-2 div.sk-label-container {text-align: center;}#sk-container-id-2 div.sk-container {/* jupyter's `normalize.less` sets `[hidden] { display: none; }` but bootstrap.min.css set `[hidden] { display: none !important; }` so we also need the `!important` here to be able to override the default hidden behavior on the sphinx rendered scikit-learn.org. See: https://github.com/scikit-learn/scikit-learn/issues/21755 */display: inline-block !important;position: relative;}#sk-container-id-2 div.sk-text-repr-fallback {display: none;}</style><div id=\"sk-container-id-2\" class=\"sk-top-container\"><div class=\"sk-text-repr-fallback\"><pre>RandomForestClassifier(max_depth=30, max_features=5808, n_estimators=250,\n",
       "                       n_jobs=-1, random_state=2023)</pre><b>In a Jupyter environment, please rerun this cell to show the HTML representation or trust the notebook. <br />On GitHub, the HTML representation is unable to render, please try loading this page with nbviewer.org.</b></div><div class=\"sk-container\" hidden><div class=\"sk-item\"><div class=\"sk-estimator sk-toggleable\"><input class=\"sk-toggleable__control sk-hidden--visually\" id=\"sk-estimator-id-2\" type=\"checkbox\" checked><label for=\"sk-estimator-id-2\" class=\"sk-toggleable__label sk-toggleable__label-arrow\">RandomForestClassifier</label><div class=\"sk-toggleable__content\"><pre>RandomForestClassifier(max_depth=30, max_features=5808, n_estimators=250,\n",
       "                       n_jobs=-1, random_state=2023)</pre></div></div></div></div></div>"
      ],
      "text/plain": [
       "RandomForestClassifier(max_depth=30, max_features=5808, n_estimators=250,\n",
       "                       n_jobs=-1, random_state=2023)"
      ]
     },
     "execution_count": 22,
     "metadata": {},
     "output_type": "execute_result"
    }
   ],
   "source": [
    "model = RandomForestClassifier( random_state = 2023, \n",
    "                                n_jobs       = -1,\n",
    "                                max_depth    = 30, \n",
    "                                max_features = 5808, \n",
    "                                n_estimators = 250 )\n",
    "\n",
    "model.fit( x_train_nro, y_train_nro )"
   ]
  },
  {
   "cell_type": "code",
   "execution_count": 23,
   "id": "4a8e46c6-d29c-4ad4-814b-df52d2ebf8cb",
   "metadata": {
    "tags": []
   },
   "outputs": [],
   "source": [
    "y_pred_class = model.predict( x_test )\n",
    "y_pred_prob  = model.predict_proba( x_test )[ :, 1 ]"
   ]
  },
  {
   "cell_type": "code",
   "execution_count": 26,
   "id": "3c37b43c-55b2-4f83-b16a-20dbc2fad58d",
   "metadata": {
    "collapsed": true,
    "jupyter": {
     "outputs_hidden": true
    },
    "tags": []
   },
   "outputs": [
    {
     "data": {
      "text/plain": [
       "array([1., 1., 1., 0., 1., 1., 0., 1., 1., 1., 1., 1., 1., 1., 1., 1., 1.,\n",
       "       1., 0., 1., 1., 1., 1., 1., 1., 1., 1., 1., 1., 1., 1., 0., 1., 1.,\n",
       "       1., 1., 0., 1., 1., 1., 1., 1., 1., 0., 0., 1., 1., 1., 1., 1., 1.,\n",
       "       1., 1., 1., 1., 1., 0., 1., 1., 0., 1., 1., 0., 1., 1., 1., 1., 1.,\n",
       "       1., 1., 1., 1., 0., 0., 1., 1., 1., 1., 1., 1., 0., 0., 1., 1., 1.,\n",
       "       1., 1., 0., 1., 1., 1., 1., 1., 1., 0., 1., 0., 1., 1., 1., 1., 1.,\n",
       "       1., 0., 1., 1., 1., 0., 0., 1., 0., 1., 0., 1., 1., 1., 1., 1., 1.,\n",
       "       1., 1., 1., 1., 0., 1., 1., 1., 1., 1., 1., 1., 0., 1., 1., 1., 0.,\n",
       "       1., 1., 1., 1., 1., 1., 1., 0., 1., 1., 1., 1., 1., 1., 1., 1., 0.,\n",
       "       1., 0., 1., 0., 0., 1., 1., 1., 1., 0., 1., 0., 1., 0., 1., 1., 1.,\n",
       "       1., 1., 1., 1., 0., 0., 1., 0., 1., 1., 1., 0., 0., 0., 1., 1., 1.,\n",
       "       1., 0., 0., 1., 0., 0., 0., 1., 1., 1., 1., 1., 1., 1., 1., 1., 1.,\n",
       "       0., 0., 0., 1., 1., 1., 1., 1., 1., 1., 1., 1., 1., 1., 0., 1., 0.,\n",
       "       1., 1., 0., 1., 1., 1., 1., 1., 1., 0., 1., 0., 1., 1., 1., 1., 0.,\n",
       "       0., 0., 0., 1., 1., 0., 0., 0., 0., 0., 1., 1., 1., 1., 0., 1., 0.,\n",
       "       1., 1., 1., 1., 0., 1., 1., 1., 1., 0., 1., 1., 1., 1., 1., 1., 1.,\n",
       "       1., 1., 1., 1., 1., 1., 1., 1., 1., 1., 1., 0., 0., 1., 1., 1., 1.,\n",
       "       1., 1., 1., 1., 1., 1., 0., 1., 1., 1., 1., 1., 1., 1., 1., 1., 1.,\n",
       "       0., 1., 1., 1., 1., 1., 1., 1., 1., 1., 1., 1., 1., 1., 1., 1., 1.,\n",
       "       1., 1., 1., 1., 1., 1., 1., 1., 1., 1., 1., 1., 1., 0., 1., 1., 0.,\n",
       "       1., 0., 1., 1., 1., 0., 1., 1., 1., 0., 0., 1., 1., 1., 1., 1., 1.,\n",
       "       1., 1., 1., 1., 1., 1., 1., 1., 1., 1., 1., 1., 1., 1., 1., 1., 1.,\n",
       "       1., 1., 1., 1., 1., 1., 1., 1., 0., 0., 0., 1., 1., 1., 1., 1., 0.,\n",
       "       0., 1., 1., 1., 1., 1., 1., 1., 1., 1., 1., 1., 1., 1., 1., 1., 1.,\n",
       "       1., 1., 0., 1., 1., 1., 1.])"
      ]
     },
     "execution_count": 26,
     "metadata": {},
     "output_type": "execute_result"
    }
   ],
   "source": [
    "y_pred_class"
   ]
  },
  {
   "cell_type": "code",
   "execution_count": 32,
   "id": "430120eb-72de-4c10-bbea-e139edfd27d4",
   "metadata": {
    "tags": []
   },
   "outputs": [],
   "source": [
    "columns       = [ 'no', 'si' ]\n",
    "rf_report     = classification_report( y_test, y_pred_class, target_names = columns, output_dict = True )\n",
    "\n",
    "accuracy_     = accuracy_score( y_test, y_pred_class )\n",
    "log_loss_     = log_loss( y_test, y_pred_class )\n",
    "roc_auc_      = roc_auc_score( y_test, y_pred_prob )\n",
    "f1_score_     = f1_score( y_test, y_pred_class, average = 'macro' )\n",
    "mcc_          = matthews_corrcoef( y_test, y_pred_class )\n",
    "f1_score_si   = rf_report[ 'si' ][ 'f1-score' ]\n",
    "f1_score_no   = rf_report[ 'no' ][ 'f1-score' ]"
   ]
  },
  {
   "cell_type": "code",
   "execution_count": 34,
   "id": "fdfb96b1-e1f7-422c-a7e7-bed3270ada0c",
   "metadata": {
    "tags": []
   },
   "outputs": [
    {
     "data": {
      "text/html": [
       "<div>\n",
       "<style scoped>\n",
       "    .dataframe tbody tr th:only-of-type {\n",
       "        vertical-align: middle;\n",
       "    }\n",
       "\n",
       "    .dataframe tbody tr th {\n",
       "        vertical-align: top;\n",
       "    }\n",
       "\n",
       "    .dataframe thead th {\n",
       "        text-align: right;\n",
       "    }\n",
       "</style>\n",
       "<table border=\"1\" class=\"dataframe\">\n",
       "  <thead>\n",
       "    <tr style=\"text-align: right;\">\n",
       "      <th></th>\n",
       "      <th>Overall_Accuracy</th>\n",
       "      <th>Log_Loss</th>\n",
       "      <th>ROC_AUC</th>\n",
       "      <th>MCC</th>\n",
       "      <th>F1 Global</th>\n",
       "      <th>F1_Si</th>\n",
       "      <th>F1_No</th>\n",
       "    </tr>\n",
       "  </thead>\n",
       "  <tbody>\n",
       "    <tr>\n",
       "      <th>Optimal Random Forest</th>\n",
       "      <td>0.759</td>\n",
       "      <td>8.685</td>\n",
       "      <td>0.692</td>\n",
       "      <td>0.315</td>\n",
       "      <td>0.654</td>\n",
       "      <td>0.845</td>\n",
       "      <td>0.462</td>\n",
       "    </tr>\n",
       "  </tbody>\n",
       "</table>\n",
       "</div>"
      ],
      "text/plain": [
       "                       Overall_Accuracy  Log_Loss  ROC_AUC    MCC  F1 Global  \\\n",
       "Optimal Random Forest             0.759     8.685    0.692  0.315      0.654   \n",
       "\n",
       "                       F1_Si  F1_No  \n",
       "Optimal Random Forest  0.845  0.462  "
      ]
     },
     "execution_count": 34,
     "metadata": {},
     "output_type": "execute_result"
    }
   ],
   "source": [
    "table = np.zeros( ( 1, 7 ) )\n",
    "\n",
    "table[ 0 ] = [ accuracy_, log_loss_, roc_auc_, mcc_, f1_score_, f1_score_si, f1_score_no ]\n",
    "\n",
    "colnames_table = [ \"Overall_Accuracy\", \"Log_Loss\", \"ROC_AUC\", \"MCC\", \"F1 Global\", \"F1_Si\", \"F1_No\" ]\n",
    "rownames_table = [ \"Optimal Random Forest\" ] \n",
    "\n",
    "table = pd.DataFrame( table, columns = colnames_table )\n",
    "table.index = rownames_table\n",
    "\n",
    "table = table.round( 3 )\n",
    "table"
   ]
  },
  {
   "cell_type": "markdown",
   "id": "8e3130c5-c720-4192-83a3-dd19b32bae9d",
   "metadata": {},
   "source": [
    "## 2. Feature selection"
   ]
  },
  {
   "cell_type": "code",
   "execution_count": 36,
   "id": "1570f07b-8917-40ff-9cd8-4bcb1c982e6d",
   "metadata": {
    "tags": []
   },
   "outputs": [
    {
     "name": "stdout",
     "output_type": "stream",
     "text": [
      "(1366, 14520)\n",
      "(1366, 7260)\n"
     ]
    }
   ],
   "source": [
    "select = SelectFromModel( model, threshold = 'median' )\n",
    "select.fit( x_train_nro, y_train_nro )\n",
    "x_train_nro_selected = select.transform( x_train_nro )\n",
    "print( x_train_nro.shape )\n",
    "print( x_train_nro_selected.shape )"
   ]
  },
  {
   "cell_type": "code",
   "execution_count": 47,
   "id": "107adb48-8b26-486b-ad61-75f6c68fdaaa",
   "metadata": {
    "tags": []
   },
   "outputs": [],
   "source": [
    "select.get_support()\n",
    "selected_feat = x_train_nro.columns[ ( select.get_support() ) ]"
   ]
  },
  {
   "cell_type": "code",
   "execution_count": 52,
   "id": "8ae25045-bc1b-413b-839c-8745eb0f0c50",
   "metadata": {
    "tags": []
   },
   "outputs": [],
   "source": [
    "x_test_selected = x_test[ selected_feat ]"
   ]
  },
  {
   "cell_type": "code",
   "execution_count": 43,
   "id": "04f72349-0279-4ee4-a0ea-5e935454f5b0",
   "metadata": {
    "tags": []
   },
   "outputs": [
    {
     "data": {
      "text/html": [
       "<style>#sk-container-id-3 {color: black;background-color: white;}#sk-container-id-3 pre{padding: 0;}#sk-container-id-3 div.sk-toggleable {background-color: white;}#sk-container-id-3 label.sk-toggleable__label {cursor: pointer;display: block;width: 100%;margin-bottom: 0;padding: 0.3em;box-sizing: border-box;text-align: center;}#sk-container-id-3 label.sk-toggleable__label-arrow:before {content: \"▸\";float: left;margin-right: 0.25em;color: #696969;}#sk-container-id-3 label.sk-toggleable__label-arrow:hover:before {color: black;}#sk-container-id-3 div.sk-estimator:hover label.sk-toggleable__label-arrow:before {color: black;}#sk-container-id-3 div.sk-toggleable__content {max-height: 0;max-width: 0;overflow: hidden;text-align: left;background-color: #f0f8ff;}#sk-container-id-3 div.sk-toggleable__content pre {margin: 0.2em;color: black;border-radius: 0.25em;background-color: #f0f8ff;}#sk-container-id-3 input.sk-toggleable__control:checked~div.sk-toggleable__content {max-height: 200px;max-width: 100%;overflow: auto;}#sk-container-id-3 input.sk-toggleable__control:checked~label.sk-toggleable__label-arrow:before {content: \"▾\";}#sk-container-id-3 div.sk-estimator input.sk-toggleable__control:checked~label.sk-toggleable__label {background-color: #d4ebff;}#sk-container-id-3 div.sk-label input.sk-toggleable__control:checked~label.sk-toggleable__label {background-color: #d4ebff;}#sk-container-id-3 input.sk-hidden--visually {border: 0;clip: rect(1px 1px 1px 1px);clip: rect(1px, 1px, 1px, 1px);height: 1px;margin: -1px;overflow: hidden;padding: 0;position: absolute;width: 1px;}#sk-container-id-3 div.sk-estimator {font-family: monospace;background-color: #f0f8ff;border: 1px dotted black;border-radius: 0.25em;box-sizing: border-box;margin-bottom: 0.5em;}#sk-container-id-3 div.sk-estimator:hover {background-color: #d4ebff;}#sk-container-id-3 div.sk-parallel-item::after {content: \"\";width: 100%;border-bottom: 1px solid gray;flex-grow: 1;}#sk-container-id-3 div.sk-label:hover label.sk-toggleable__label {background-color: #d4ebff;}#sk-container-id-3 div.sk-serial::before {content: \"\";position: absolute;border-left: 1px solid gray;box-sizing: border-box;top: 0;bottom: 0;left: 50%;z-index: 0;}#sk-container-id-3 div.sk-serial {display: flex;flex-direction: column;align-items: center;background-color: white;padding-right: 0.2em;padding-left: 0.2em;position: relative;}#sk-container-id-3 div.sk-item {position: relative;z-index: 1;}#sk-container-id-3 div.sk-parallel {display: flex;align-items: stretch;justify-content: center;background-color: white;position: relative;}#sk-container-id-3 div.sk-item::before, #sk-container-id-3 div.sk-parallel-item::before {content: \"\";position: absolute;border-left: 1px solid gray;box-sizing: border-box;top: 0;bottom: 0;left: 50%;z-index: -1;}#sk-container-id-3 div.sk-parallel-item {display: flex;flex-direction: column;z-index: 1;position: relative;background-color: white;}#sk-container-id-3 div.sk-parallel-item:first-child::after {align-self: flex-end;width: 50%;}#sk-container-id-3 div.sk-parallel-item:last-child::after {align-self: flex-start;width: 50%;}#sk-container-id-3 div.sk-parallel-item:only-child::after {width: 0;}#sk-container-id-3 div.sk-dashed-wrapped {border: 1px dashed gray;margin: 0 0.4em 0.5em 0.4em;box-sizing: border-box;padding-bottom: 0.4em;background-color: white;}#sk-container-id-3 div.sk-label label {font-family: monospace;font-weight: bold;display: inline-block;line-height: 1.2em;}#sk-container-id-3 div.sk-label-container {text-align: center;}#sk-container-id-3 div.sk-container {/* jupyter's `normalize.less` sets `[hidden] { display: none; }` but bootstrap.min.css set `[hidden] { display: none !important; }` so we also need the `!important` here to be able to override the default hidden behavior on the sphinx rendered scikit-learn.org. See: https://github.com/scikit-learn/scikit-learn/issues/21755 */display: inline-block !important;position: relative;}#sk-container-id-3 div.sk-text-repr-fallback {display: none;}</style><div id=\"sk-container-id-3\" class=\"sk-top-container\"><div class=\"sk-text-repr-fallback\"><pre>RandomForestClassifier(max_depth=30, max_features=5808, n_estimators=250,\n",
       "                       n_jobs=-1, random_state=2023)</pre><b>In a Jupyter environment, please rerun this cell to show the HTML representation or trust the notebook. <br />On GitHub, the HTML representation is unable to render, please try loading this page with nbviewer.org.</b></div><div class=\"sk-container\" hidden><div class=\"sk-item\"><div class=\"sk-estimator sk-toggleable\"><input class=\"sk-toggleable__control sk-hidden--visually\" id=\"sk-estimator-id-3\" type=\"checkbox\" checked><label for=\"sk-estimator-id-3\" class=\"sk-toggleable__label sk-toggleable__label-arrow\">RandomForestClassifier</label><div class=\"sk-toggleable__content\"><pre>RandomForestClassifier(max_depth=30, max_features=5808, n_estimators=250,\n",
       "                       n_jobs=-1, random_state=2023)</pre></div></div></div></div></div>"
      ],
      "text/plain": [
       "RandomForestClassifier(max_depth=30, max_features=5808, n_estimators=250,\n",
       "                       n_jobs=-1, random_state=2023)"
      ]
     },
     "execution_count": 43,
     "metadata": {},
     "output_type": "execute_result"
    }
   ],
   "source": [
    "model_2 = RandomForestClassifier( random_state = 2023, \n",
    "                                  n_jobs       = -1,\n",
    "                                  max_depth    = 30, \n",
    "                                  max_features = 5808, \n",
    "                                  n_estimators = 250 )\n",
    "\n",
    "model_2.fit( x_train_nro_selected, y_train_nro )"
   ]
  },
  {
   "cell_type": "code",
   "execution_count": 53,
   "id": "4d4873c3-c12a-43f8-a22a-8b1c5944c2a5",
   "metadata": {
    "tags": []
   },
   "outputs": [],
   "source": [
    "y_pred_class_2 = model_2.predict( x_test_selected )\n",
    "y_pred_prob_2  = model_2.predict_proba( x_test_selected )[ :, 1 ]"
   ]
  },
  {
   "cell_type": "code",
   "execution_count": 54,
   "id": "e0ad63d2-6107-4feb-9eff-6ae24f620b17",
   "metadata": {
    "tags": []
   },
   "outputs": [],
   "source": [
    "columns       = [ 'no', 'si' ]\n",
    "rf_report_2   = classification_report( y_test, y_pred_class_2, target_names = columns, output_dict = True )\n",
    "\n",
    "accuracy_2    = accuracy_score( y_test, y_pred_class_2 )\n",
    "log_loss_2    = log_loss( y_test, y_pred_class_2 )\n",
    "roc_auc_2     = roc_auc_score( y_test, y_pred_prob_2 )\n",
    "f1_score_2    = f1_score( y_test, y_pred_class_2, average = 'macro' )\n",
    "mcc_2         = matthews_corrcoef( y_test, y_pred_class_2 )\n",
    "f1_score_si_2 = rf_report_2[ 'si' ][ 'f1-score' ]\n",
    "f1_score_no_2 = rf_report_2[ 'no' ][ 'f1-score' ]"
   ]
  },
  {
   "cell_type": "code",
   "execution_count": 57,
   "id": "5eaae3a8-8ee2-4979-9e37-71b723c80698",
   "metadata": {
    "tags": []
   },
   "outputs": [
    {
     "data": {
      "text/plain": [
       "0.2602960376568211"
      ]
     },
     "execution_count": 57,
     "metadata": {},
     "output_type": "execute_result"
    }
   ],
   "source": [
    "mcc_2"
   ]
  },
  {
   "cell_type": "code",
   "execution_count": 58,
   "id": "0acd3b66-2482-472c-960f-fc497daac806",
   "metadata": {
    "tags": []
   },
   "outputs": [
    {
     "data": {
      "text/html": [
       "<div>\n",
       "<style scoped>\n",
       "    .dataframe tbody tr th:only-of-type {\n",
       "        vertical-align: middle;\n",
       "    }\n",
       "\n",
       "    .dataframe tbody tr th {\n",
       "        vertical-align: top;\n",
       "    }\n",
       "\n",
       "    .dataframe thead th {\n",
       "        text-align: right;\n",
       "    }\n",
       "</style>\n",
       "<table border=\"1\" class=\"dataframe\">\n",
       "  <thead>\n",
       "    <tr style=\"text-align: right;\">\n",
       "      <th></th>\n",
       "      <th>Overall_Accuracy</th>\n",
       "      <th>Log_Loss</th>\n",
       "      <th>ROC_AUC</th>\n",
       "      <th>MCC</th>\n",
       "      <th>F1 Global</th>\n",
       "      <th>F1_Si</th>\n",
       "      <th>F1_No</th>\n",
       "    </tr>\n",
       "  </thead>\n",
       "  <tbody>\n",
       "    <tr>\n",
       "      <th>Optimal Random Forest</th>\n",
       "      <td>0.747</td>\n",
       "      <td>9.119</td>\n",
       "      <td>0.693</td>\n",
       "      <td>0.26</td>\n",
       "      <td>0.623</td>\n",
       "      <td>0.839</td>\n",
       "      <td>0.407</td>\n",
       "    </tr>\n",
       "  </tbody>\n",
       "</table>\n",
       "</div>"
      ],
      "text/plain": [
       "                       Overall_Accuracy  Log_Loss  ROC_AUC   MCC  F1 Global  \\\n",
       "Optimal Random Forest             0.747     9.119    0.693  0.26      0.623   \n",
       "\n",
       "                       F1_Si  F1_No  \n",
       "Optimal Random Forest  0.839  0.407  "
      ]
     },
     "execution_count": 58,
     "metadata": {},
     "output_type": "execute_result"
    }
   ],
   "source": [
    "table = np.zeros( ( 1, 7 ) )\n",
    "\n",
    "table[ 0 ] = [ accuracy_2, log_loss_2, roc_auc_2, mcc_2, f1_score_2, f1_score_si_2, f1_score_no_2 ]\n",
    "\n",
    "colnames_table = [ \"Overall_Accuracy\", \"Log_Loss\", \"ROC_AUC\", \"MCC\", \"F1 Global\", \"F1_Si\", \"F1_No\" ]\n",
    "rownames_table = [ \"Optimal Random Forest\" ] \n",
    "\n",
    "table = pd.DataFrame( table, columns = colnames_table )\n",
    "table.index = rownames_table\n",
    "\n",
    "table = table.round( 3 )\n",
    "table"
   ]
  }
 ],
 "metadata": {
  "kernelspec": {
   "display_name": "Python 3 (ipykernel)",
   "language": "python",
   "name": "python3"
  },
  "language_info": {
   "codemirror_mode": {
    "name": "ipython",
    "version": 3
   },
   "file_extension": ".py",
   "mimetype": "text/x-python",
   "name": "python",
   "nbconvert_exporter": "python",
   "pygments_lexer": "ipython3",
   "version": "3.11.4"
  }
 },
 "nbformat": 4,
 "nbformat_minor": 5
}
