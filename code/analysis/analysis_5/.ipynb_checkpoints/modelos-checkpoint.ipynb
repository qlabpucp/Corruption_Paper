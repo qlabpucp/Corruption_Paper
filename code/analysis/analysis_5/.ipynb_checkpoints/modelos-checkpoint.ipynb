{
 "cells": [
  {
   "cell_type": "markdown",
   "id": "c8f8d620-2128-4177-aba1-e30b0dbde05d",
   "metadata": {},
   "source": [
    "# 1. Load data"
   ]
  },
  {
   "cell_type": "code",
   "execution_count": 1,
   "id": "a3a3efb8-b0a7-42c8-bdd4-a2fd77c01cc2",
   "metadata": {
    "tags": []
   },
   "outputs": [],
   "source": [
    "import warnings\n",
    "warnings.filterwarnings( 'ignore' )"
   ]
  },
  {
   "cell_type": "code",
   "execution_count": 30,
   "id": "c6f605b0-31d5-4b88-9c0a-6230da98ee92",
   "metadata": {
    "tags": []
   },
   "outputs": [],
   "source": [
    "import pandas as  pd\n",
    "import numpy as np\n",
    "import pickle\n",
    "import joblib\n",
    "import os"
   ]
  },
  {
   "cell_type": "code",
   "execution_count": 3,
   "id": "d6f8483a-222a-4f5e-ac36-52f3570d3743",
   "metadata": {
    "tags": []
   },
   "outputs": [],
   "source": [
    "import functions as fn"
   ]
  },
  {
   "cell_type": "code",
   "execution_count": 112,
   "id": "775b5762-df28-4a48-9c73-70eb31befc2c",
   "metadata": {
    "tags": []
   },
   "outputs": [],
   "source": [
    "from sklearn.model_selection import train_test_split, GridSearchCV\n",
    "from sklearn.linear_model import Lasso, Ridge, LinearRegression\n",
    "from sklearn.linear_model import LogisticRegression, LogisticRegressionCV\n",
    "from sklearn.ensemble import RandomForestRegressor, RandomForestClassifier\n",
    "from sklearn.pipeline import Pipeline\n",
    "from sklearn.metrics import r2_score, mean_squared_error\n",
    "from sklearn.metrics import accuracy_score, log_loss, roc_auc_score, f1_score, matthews_corrcoef\n",
    "from xgboost import XGBRegressor, XGBClassifier\n",
    "from sklearn.model_selection import KFold"
   ]
  },
  {
   "cell_type": "code",
   "execution_count": 5,
   "id": "1265e599-9d6e-4a86-91f1-ea31d855cd96",
   "metadata": {
    "tags": []
   },
   "outputs": [],
   "source": [
    "from imblearn.over_sampling import SMOTE\n",
    "from imblearn.combine import SMOTETomek\n",
    "from imblearn.over_sampling import RandomOverSampler\n",
    "from collections import Counter"
   ]
  },
  {
   "cell_type": "code",
   "execution_count": 6,
   "id": "0fde957a-3322-4229-9936-dd0586c1bbc1",
   "metadata": {
    "tags": []
   },
   "outputs": [],
   "source": [
    "from sklearn.datasets import make_classification\n",
    "\n",
    "X, y = make_classification(\n",
    "    # n_samples=100,\n",
    "    n_features=5,\n",
    "    n_informative=3,\n",
    "    n_classes=2,\n",
    "    random_state=999,\n",
    "    weights = [0.25, 0.75],\n",
    ")"
   ]
  },
  {
   "cell_type": "code",
   "execution_count": 7,
   "id": "f7dd4c82-c7f3-430a-83a2-01318354e72c",
   "metadata": {
    "tags": []
   },
   "outputs": [
    {
     "data": {
      "text/html": [
       "<div>\n",
       "<style scoped>\n",
       "    .dataframe tbody tr th:only-of-type {\n",
       "        vertical-align: middle;\n",
       "    }\n",
       "\n",
       "    .dataframe tbody tr th {\n",
       "        vertical-align: top;\n",
       "    }\n",
       "\n",
       "    .dataframe thead th {\n",
       "        text-align: right;\n",
       "    }\n",
       "</style>\n",
       "<table border=\"1\" class=\"dataframe\">\n",
       "  <thead>\n",
       "    <tr style=\"text-align: right;\">\n",
       "      <th></th>\n",
       "      <th>X1</th>\n",
       "      <th>X2</th>\n",
       "      <th>X3</th>\n",
       "      <th>X4</th>\n",
       "      <th>X5</th>\n",
       "      <th>y</th>\n",
       "    </tr>\n",
       "  </thead>\n",
       "  <tbody>\n",
       "    <tr>\n",
       "      <th>0</th>\n",
       "      <td>0.124407</td>\n",
       "      <td>-2.516167</td>\n",
       "      <td>-0.642083</td>\n",
       "      <td>-0.546166</td>\n",
       "      <td>2.020140</td>\n",
       "      <td>1</td>\n",
       "    </tr>\n",
       "    <tr>\n",
       "      <th>1</th>\n",
       "      <td>-0.676661</td>\n",
       "      <td>1.561602</td>\n",
       "      <td>0.939160</td>\n",
       "      <td>0.174470</td>\n",
       "      <td>-0.867781</td>\n",
       "      <td>1</td>\n",
       "    </tr>\n",
       "    <tr>\n",
       "      <th>2</th>\n",
       "      <td>-0.986671</td>\n",
       "      <td>-0.138833</td>\n",
       "      <td>0.917341</td>\n",
       "      <td>0.974462</td>\n",
       "      <td>1.004820</td>\n",
       "      <td>1</td>\n",
       "    </tr>\n",
       "    <tr>\n",
       "      <th>3</th>\n",
       "      <td>0.094244</td>\n",
       "      <td>-1.883036</td>\n",
       "      <td>-0.492748</td>\n",
       "      <td>-0.660872</td>\n",
       "      <td>1.460955</td>\n",
       "      <td>1</td>\n",
       "    </tr>\n",
       "    <tr>\n",
       "      <th>4</th>\n",
       "      <td>-0.111260</td>\n",
       "      <td>0.768110</td>\n",
       "      <td>0.225981</td>\n",
       "      <td>-0.667605</td>\n",
       "      <td>-0.731197</td>\n",
       "      <td>1</td>\n",
       "    </tr>\n",
       "    <tr>\n",
       "      <th>...</th>\n",
       "      <td>...</td>\n",
       "      <td>...</td>\n",
       "      <td>...</td>\n",
       "      <td>...</td>\n",
       "      <td>...</td>\n",
       "      <td>...</td>\n",
       "    </tr>\n",
       "    <tr>\n",
       "      <th>95</th>\n",
       "      <td>0.190516</td>\n",
       "      <td>-1.427720</td>\n",
       "      <td>-0.499187</td>\n",
       "      <td>-0.878646</td>\n",
       "      <td>0.949568</td>\n",
       "      <td>0</td>\n",
       "    </tr>\n",
       "    <tr>\n",
       "      <th>96</th>\n",
       "      <td>-0.725680</td>\n",
       "      <td>1.271393</td>\n",
       "      <td>0.934481</td>\n",
       "      <td>0.369618</td>\n",
       "      <td>-0.539265</td>\n",
       "      <td>1</td>\n",
       "    </tr>\n",
       "    <tr>\n",
       "      <th>97</th>\n",
       "      <td>-1.338530</td>\n",
       "      <td>-1.958133</td>\n",
       "      <td>0.786235</td>\n",
       "      <td>-1.014356</td>\n",
       "      <td>2.457490</td>\n",
       "      <td>0</td>\n",
       "    </tr>\n",
       "    <tr>\n",
       "      <th>98</th>\n",
       "      <td>-1.615453</td>\n",
       "      <td>0.247027</td>\n",
       "      <td>1.482545</td>\n",
       "      <td>-0.983854</td>\n",
       "      <td>0.715300</td>\n",
       "      <td>0</td>\n",
       "    </tr>\n",
       "    <tr>\n",
       "      <th>99</th>\n",
       "      <td>0.763237</td>\n",
       "      <td>0.285540</td>\n",
       "      <td>-0.690688</td>\n",
       "      <td>-1.131848</td>\n",
       "      <td>-1.009210</td>\n",
       "      <td>1</td>\n",
       "    </tr>\n",
       "  </tbody>\n",
       "</table>\n",
       "<p>100 rows × 6 columns</p>\n",
       "</div>"
      ],
      "text/plain": [
       "          X1        X2        X3        X4        X5  y\n",
       "0   0.124407 -2.516167 -0.642083 -0.546166  2.020140  1\n",
       "1  -0.676661  1.561602  0.939160  0.174470 -0.867781  1\n",
       "2  -0.986671 -0.138833  0.917341  0.974462  1.004820  1\n",
       "3   0.094244 -1.883036 -0.492748 -0.660872  1.460955  1\n",
       "4  -0.111260  0.768110  0.225981 -0.667605 -0.731197  1\n",
       "..       ...       ...       ...       ...       ... ..\n",
       "95  0.190516 -1.427720 -0.499187 -0.878646  0.949568  0\n",
       "96 -0.725680  1.271393  0.934481  0.369618 -0.539265  1\n",
       "97 -1.338530 -1.958133  0.786235 -1.014356  2.457490  0\n",
       "98 -1.615453  0.247027  1.482545 -0.983854  0.715300  0\n",
       "99  0.763237  0.285540 -0.690688 -1.131848 -1.009210  1\n",
       "\n",
       "[100 rows x 6 columns]"
      ]
     },
     "execution_count": 7,
     "metadata": {},
     "output_type": "execute_result"
    }
   ],
   "source": [
    "import pandas as pd\n",
    "\n",
    "# Create DataFrame with features as columns\n",
    "dataset = pd.DataFrame(X)\n",
    "# give custom names to the features\n",
    "dataset.columns = ['X1', 'X2', 'X3', 'X4', 'X5']\n",
    "# Now add the label as a column\n",
    "dataset['y'] = y\n",
    "\n",
    "dataset"
   ]
  },
  {
   "cell_type": "code",
   "execution_count": 93,
   "id": "1fc52fb2-5ae5-46e9-b084-9fda9f8f64db",
   "metadata": {
    "tags": []
   },
   "outputs": [
    {
     "data": {
      "text/plain": [
       "1    75\n",
       "0    25\n",
       "Name: y, dtype: int64"
      ]
     },
     "execution_count": 93,
     "metadata": {},
     "output_type": "execute_result"
    }
   ],
   "source": [
    "dataset[ 'y' ].value_counts()"
   ]
  },
  {
   "cell_type": "code",
   "execution_count": 8,
   "id": "18bde35d-71ab-48c7-a912-10740f3008be",
   "metadata": {
    "tags": []
   },
   "outputs": [],
   "source": [
    "pred_vars  = [ col for col in dataset.columns if col != 'y' ]\n",
    "\n",
    "x_train, x_test, y_train, y_test = train_test_split( dataset[ pred_vars ], \n",
    "                                                     dataset[ 'y' ], \n",
    "                                                     test_size    = 0.25,\n",
    "                                                     random_state = 2023 )"
   ]
  },
  {
   "cell_type": "code",
   "execution_count": null,
   "id": "37ede758-284e-42b6-9263-a7823d56e7a0",
   "metadata": {},
   "outputs": [],
   "source": []
  },
  {
   "cell_type": "code",
   "execution_count": 9,
   "id": "f411e78d-124d-49dd-b584-a2eafa0043bb",
   "metadata": {
    "tags": []
   },
   "outputs": [],
   "source": [
    "x_train_s, x_train_st, x_train_nro, y_train_s, y_train_st, y_train_nro = fn.resampling( x_train, y_train )"
   ]
  },
  {
   "cell_type": "code",
   "execution_count": null,
   "id": "fce7846d-feb7-441f-a45c-cf827769b260",
   "metadata": {},
   "outputs": [],
   "source": []
  },
  {
   "cell_type": "markdown",
   "id": "0dbc4667-dc07-40da-86be-91a50d10a17e",
   "metadata": {
    "tags": []
   },
   "source": [
    "# 2. Models implementation"
   ]
  },
  {
   "cell_type": "markdown",
   "id": "59c2ee52-28e3-4621-ad85-b5092a32369d",
   "metadata": {
    "tags": []
   },
   "source": [
    "### 2.1. Regresión"
   ]
  },
  {
   "cell_type": "markdown",
   "id": "7bd66136-bdfd-4afa-9a20-426191c59c67",
   "metadata": {},
   "source": [
    "En este caso, se predice la variable 'craest_3c'"
   ]
  },
  {
   "cell_type": "code",
   "execution_count": 87,
   "id": "3be87b63-f40c-4d98-a2f1-e8bff27e9187",
   "metadata": {
    "tags": []
   },
   "outputs": [],
   "source": [
    "models = {\n",
    "    \n",
    "    'Logistic Regression'      : { 'model'      : LogisticRegression( random_state = 2023 ) },\n",
    "    \n",
    "    'Logistic Lasso'           : { 'model'      : LogisticRegressionCV( random_state = 2023, penalty = 'l1', solver = 'saga' ),\n",
    "                                   'grid_params': { 'Cs': [ 0.001, 0.01, 0.1, 1, 10, 100 ] } },\n",
    "    \n",
    "#     'Logistic Ridge'           : { 'model'      : LogisticRegressionCV( random_state = 2023, penalty = 'l2', solver = 'saga' ),\n",
    "#                                    'grid_params': { 'Cs': [ 0.001, 0.01, 0.1, 1, 10, 100 ] } },\n",
    "    \n",
    "#     'Random Forest Classifier' : { 'model'      : RandomForestClassifier( random_state = 2023 ),\n",
    "#                                    'grid_params': { 'n_estimators': [ 250, 500, 1000 ], 'max_depth': [ 10, 20, 30 ] } },\n",
    "    \n",
    "    'XGboost Classifier'       : { 'model'      : XGBClassifier( random_state = 2023 ),\n",
    "                                   'grid_params': { 'n_estimators': [ 250, 500, 1000 ], 'max_depth': [ 1, 2 ] } }\n",
    "    \n",
    "        }"
   ]
  },
  {
   "cell_type": "code",
   "execution_count": 117,
   "id": "d18000f9-09a7-481e-82fa-2b48427253f9",
   "metadata": {
    "tags": []
   },
   "outputs": [],
   "source": [
    "path_models = r'..\\..\\..\\output\\ejecucion_5\\models\\base0'\n",
    "path_vars   = r'..\\..\\..\\output\\ejecucion_5\\results\\base0'\n",
    "path_gs     = r'..\\..\\..\\output\\ejecucion_5\\gridsearch_results\\base0'"
   ]
  },
  {
   "cell_type": "code",
   "execution_count": 118,
   "id": "5a2fbb5c-4805-4dba-bf75-6456f8a3a620",
   "metadata": {
    "tags": []
   },
   "outputs": [],
   "source": [
    "x_train_list = [ x_train, x_train_s, x_train_st, x_train_nro ]\n",
    "y_train_list = [ y_train, y_train_s, y_train_st, y_train_nro ]"
   ]
  },
  {
   "cell_type": "code",
   "execution_count": 119,
   "id": "d015bc9b-004d-4f50-948e-1bb73bcdeed0",
   "metadata": {
    "tags": []
   },
   "outputs": [],
   "source": [
    "path_list = [ path_models, path_vars, path_gs ]"
   ]
  },
  {
   "cell_type": "code",
   "execution_count": 45,
   "id": "d47319f0-e828-464c-ab2c-1c2716afe24c",
   "metadata": {
    "tags": []
   },
   "outputs": [
    {
     "name": "stdout",
     "output_type": "stream",
     "text": [
      "0 (108, 5)\n",
      "1 (108, 5)\n",
      "2 (104, 5)\n",
      "3 (108, 5)\n"
     ]
    }
   ],
   "source": [
    "for index, ( x_train, y_train ) in enumerate( zip( x_train_list, y_train_list ) ):\n",
    "    print( index, x_train.shape )"
   ]
  },
  {
   "cell_type": "code",
   "execution_count": 46,
   "id": "475b8649-be28-4a83-964b-7dba1ecc048d",
   "metadata": {
    "tags": []
   },
   "outputs": [
    {
     "data": {
      "text/plain": [
       "1    52\n",
       "0    52\n",
       "Name: y, dtype: int64"
      ]
     },
     "execution_count": 46,
     "metadata": {},
     "output_type": "execute_result"
    }
   ],
   "source": [
    "y_train_st.value_counts()"
   ]
  },
  {
   "cell_type": "markdown",
   "id": "6c3f1442-ac78-41dc-a565-7a6370a82b18",
   "metadata": {},
   "source": [
    "Parámetros adicionales:\n",
    "\n",
    "* Path para exportar modelos preentrenados\n",
    "* Path para exportar listas de variables\n",
    "* Path para exportar grid_search results\n"
   ]
  },
  {
   "cell_type": "code",
   "execution_count": 124,
   "id": "0b41e94d-319c-4478-905e-d302f2581eac",
   "metadata": {
    "tags": []
   },
   "outputs": [],
   "source": [
    "def test_models_classification( models, x_train_list, y_train_list, x_test, y_test, path_list ):\n",
    "                               \n",
    "    \n",
    "    results = {\n",
    "        \n",
    "        'Model'             : [],\n",
    "        'accuracy_train'    : [],\n",
    "        'accuracy_test'     : [],\n",
    "        'log_loss_train'    : [],\n",
    "        'log_loss_test'     : [],\n",
    "        'roc_auc_train'     : [],\n",
    "        'roc_auc_test'      : [],\n",
    "        'f1_train'          : [],\n",
    "        'f1_test'           : [],\n",
    "        'MCC_train'         : [],\n",
    "        'MCC_test'          : [],\n",
    "        'Grid_Search_Params': []\n",
    "        \n",
    "    }\n",
    "    \n",
    "    for path in path_list:\n",
    "        if not os.path.exists( path ):\n",
    "            os.makedirs( path )\n",
    "    \n",
    "    for model_name, model_params in models.items():\n",
    "        \n",
    "        if 'model' in model_params:\n",
    "            model = model_params[ 'model' ]\n",
    "        else:\n",
    "            raise ValueError( f'Model is not defined for { model_name }' )\n",
    "        \n",
    "        if 'grid_params' in model_params:\n",
    "            grid_params = model_params[ 'grid_params' ]\n",
    "        else:\n",
    "            grid_params = None\n",
    "            \n",
    "            \n",
    "        for index, ( x_train, y_train ) in enumerate( zip( x_train_list, y_train_list ) ):\n",
    "            \n",
    "            pred_vars      = x_train.columns.to_list()\n",
    "            variables_dict = {}\n",
    "\n",
    "            if grid_params is not None:\n",
    "\n",
    "                cv          = KFold( n_splits = 5, shuffle = True, random_state = 2023 )\n",
    "                grid_search = GridSearchCV( model, grid_params, cv = cv )\n",
    "\n",
    "                grid_search.fit( x_train, y_train )\n",
    "                \n",
    "                results_gs  = pd.DataFrame( grid_search.cv_results_ )\n",
    "                results_gs.to_excel( f'{ path_list[ 2 ] }/gs_{ model_name }_{ index }.xlsx' )\n",
    "\n",
    "                best_model  = grid_search.best_estimator_\n",
    "                best_params = grid_search.best_params_\n",
    "\n",
    "                y_pred_train_class = best_model.predict( x_train )\n",
    "                y_pred_train_proba = best_model.predict_proba( x_train )[ :, 1 ]            \n",
    "\n",
    "                y_pred_test_class  = best_model.predict( x_test )\n",
    "                y_pred_test_proba  = best_model.predict_proba( x_test )[ :, 1 ]\n",
    "                \n",
    "                joblib.dump( best_model, f'{ path_list[ 0 ] }/model_{ model_name }_{ index }.joblib' )\n",
    "\n",
    "                if hasattr( best_model, 'feature_importances_' ):\n",
    "                    \n",
    "                    feature_importances = best_model.feature_importances_\n",
    "                    vars_df             = pd.DataFrame( {'Var': pred_vars, 'Importance Score': feature_importances } )\n",
    "                    vars_df             = vars_df.reindex( vars_df[ 'Importance Score' ].abs().sort_values( ascending = False ).index )\n",
    "                    vars_df.to_excel( f'{ path_list[ 1 ] }/varlist_{ model_name }_{ index }.xlsx' )\n",
    "\n",
    "                elif hasattr( best_model, 'coef_' ):\n",
    "                    \n",
    "                    coefficients = best_model.coef_[ 0 ]\n",
    "                    vars_df      = pd.DataFrame( {'Var': best_model.feature_names_in_, 'Coefficient': coefficients } )\n",
    "                    vars_df      = vars_df.reindex( vars_df[ 'Coefficient' ].abs().sort_values( ascending = False ).index )\n",
    "                    vars_df.to_excel( f'{ path_list[ 1 ] }/varlist_{ model_name }_{ index }.xlsx' )\n",
    "\n",
    "            else:\n",
    "                model.fit( x_train, y_train )\n",
    "\n",
    "                best_params  = 'No grid search'\n",
    "\n",
    "                y_pred_train_class = model.predict( x_train )\n",
    "                y_pred_train_proba = model.predict_proba( x_train )[ :, 1 ]            \n",
    "\n",
    "                y_pred_test_class  = model.predict( x_test )\n",
    "                y_pred_test_proba  = model.predict_proba( x_test )[ :, 1 ]\n",
    "                \n",
    "                joblib.dump( model, f'{ path_models }/{ model_name }_{ index }.joblib' )\n",
    "\n",
    "                coefficients = model.coef_[ 0 ]\n",
    "                vars_df      = pd.DataFrame( {'Var': model.feature_names_in_, 'Coefficient': coefficients } )\n",
    "                vars_df      = vars_df.reindex( vars_df[ 'Coefficient' ].abs().sort_values( ascending = False ).index )\n",
    "                vars_df.to_excel( f'{ path_list[ 1 ] }/varlist_{ model_name }_{ index }.xlsx' )\n",
    "\n",
    "            accuracy_train  = accuracy_score( y_train, y_pred_train_class )\n",
    "            log_loss_train  = log_loss( y_train, y_pred_train_class )\n",
    "            roc_auc_train   = roc_auc_score( y_train, y_pred_train_proba )\n",
    "            f1_score_train  = f1_score( y_train, y_pred_train_class, average = 'macro' )\n",
    "            mcc_score_train = matthews_corrcoef( y_train, y_pred_train_class )\n",
    "\n",
    "            accuracy_test   = accuracy_score( y_test, y_pred_test_class )\n",
    "            log_loss_test   = log_loss( y_test, y_pred_test_class )\n",
    "            roc_auc_test    = roc_auc_score( y_test, y_pred_test_proba )\n",
    "            f1_score_test   = f1_score( y_test, y_pred_test_class, average = 'macro' )\n",
    "            mcc_score_test  = matthews_corrcoef( y_test, y_pred_test_class )\n",
    "\n",
    "            results[ 'Model' ].append( f'{ model_name }_{ index }' )\n",
    "            results[ 'accuracy_train' ].append( round( accuracy_train, 3 ) )\n",
    "            results[ 'accuracy_test' ].append( round( accuracy_test, 3 ) )\n",
    "            results[ 'log_loss_train' ].append( round( log_loss_train, 3 ) )\n",
    "            results[ 'log_loss_test' ].append( round( log_loss_test, 3 ) )\n",
    "            results[ 'roc_auc_train' ].append( round( roc_auc_train, 3 ) )\n",
    "            results[ 'roc_auc_test' ].append( round( roc_auc_test, 3 ) )\n",
    "            results[ 'f1_train' ].append( round( f1_score_train, 3 ) )\n",
    "            results[ 'f1_test' ].append( round( f1_score_test, 3 ) )\n",
    "            results[ 'MCC_train' ].append( round( mcc_score_train, 3 ) )\n",
    "            results[ 'MCC_test' ].append( round( mcc_score_test, 3 ) )          \n",
    "            results[ 'Grid_Search_Params' ].append( best_params )\n",
    "        \n",
    "    results_df = pd.DataFrame( results )\n",
    "    results_df = results_df.sort_values( by = 'f1_test', ascending = False )\n",
    "\n",
    "    return results_df"
   ]
  },
  {
   "cell_type": "code",
   "execution_count": 125,
   "id": "81426451-7108-47cd-9557-9d706cf22d07",
   "metadata": {
    "tags": []
   },
   "outputs": [
    {
     "name": "stdout",
     "output_type": "stream",
     "text": [
      "CPU times: total: 1min 54s\n",
      "Wall time: 25.6 s\n"
     ]
    }
   ],
   "source": [
    "%%time\n",
    "\n",
    "results_reg = test_models_classification( models, x_train_list, y_train_list, x_test, y_test, path_list )"
   ]
  },
  {
   "cell_type": "code",
   "execution_count": 126,
   "id": "bfd620dd-90f9-4150-a6c7-27a0aef054cb",
   "metadata": {
    "tags": []
   },
   "outputs": [
    {
     "data": {
      "text/html": [
       "<div>\n",
       "<style scoped>\n",
       "    .dataframe tbody tr th:only-of-type {\n",
       "        vertical-align: middle;\n",
       "    }\n",
       "\n",
       "    .dataframe tbody tr th {\n",
       "        vertical-align: top;\n",
       "    }\n",
       "\n",
       "    .dataframe thead th {\n",
       "        text-align: right;\n",
       "    }\n",
       "</style>\n",
       "<table border=\"1\" class=\"dataframe\">\n",
       "  <thead>\n",
       "    <tr style=\"text-align: right;\">\n",
       "      <th></th>\n",
       "      <th>Model</th>\n",
       "      <th>accuracy_train</th>\n",
       "      <th>accuracy_test</th>\n",
       "      <th>log_loss_train</th>\n",
       "      <th>log_loss_test</th>\n",
       "      <th>roc_auc_train</th>\n",
       "      <th>roc_auc_test</th>\n",
       "      <th>f1_train</th>\n",
       "      <th>f1_test</th>\n",
       "      <th>MCC_train</th>\n",
       "      <th>MCC_test</th>\n",
       "      <th>Grid_Search_Params</th>\n",
       "    </tr>\n",
       "  </thead>\n",
       "  <tbody>\n",
       "    <tr>\n",
       "      <th>8</th>\n",
       "      <td>XGboost Classifier_0</td>\n",
       "      <td>1.000</td>\n",
       "      <td>0.92</td>\n",
       "      <td>0.000</td>\n",
       "      <td>2.883</td>\n",
       "      <td>1.000</td>\n",
       "      <td>0.857</td>\n",
       "      <td>1.000</td>\n",
       "      <td>0.851</td>\n",
       "      <td>1.000</td>\n",
       "      <td>0.702</td>\n",
       "      <td>{'max_depth': 2, 'n_estimators': 250}</td>\n",
       "    </tr>\n",
       "    <tr>\n",
       "      <th>10</th>\n",
       "      <td>XGboost Classifier_2</td>\n",
       "      <td>1.000</td>\n",
       "      <td>0.92</td>\n",
       "      <td>0.000</td>\n",
       "      <td>2.883</td>\n",
       "      <td>1.000</td>\n",
       "      <td>0.845</td>\n",
       "      <td>1.000</td>\n",
       "      <td>0.851</td>\n",
       "      <td>1.000</td>\n",
       "      <td>0.702</td>\n",
       "      <td>{'max_depth': 2, 'n_estimators': 250}</td>\n",
       "    </tr>\n",
       "    <tr>\n",
       "      <th>11</th>\n",
       "      <td>XGboost Classifier_3</td>\n",
       "      <td>1.000</td>\n",
       "      <td>0.92</td>\n",
       "      <td>0.000</td>\n",
       "      <td>2.883</td>\n",
       "      <td>1.000</td>\n",
       "      <td>0.857</td>\n",
       "      <td>1.000</td>\n",
       "      <td>0.851</td>\n",
       "      <td>1.000</td>\n",
       "      <td>0.702</td>\n",
       "      <td>{'max_depth': 2, 'n_estimators': 250}</td>\n",
       "    </tr>\n",
       "    <tr>\n",
       "      <th>9</th>\n",
       "      <td>XGboost Classifier_1</td>\n",
       "      <td>1.000</td>\n",
       "      <td>0.88</td>\n",
       "      <td>0.000</td>\n",
       "      <td>4.325</td>\n",
       "      <td>1.000</td>\n",
       "      <td>0.917</td>\n",
       "      <td>1.000</td>\n",
       "      <td>0.751</td>\n",
       "      <td>1.000</td>\n",
       "      <td>0.510</td>\n",
       "      <td>{'max_depth': 2, 'n_estimators': 500}</td>\n",
       "    </tr>\n",
       "    <tr>\n",
       "      <th>1</th>\n",
       "      <td>Logistic Regression_1</td>\n",
       "      <td>0.407</td>\n",
       "      <td>0.60</td>\n",
       "      <td>21.359</td>\n",
       "      <td>14.417</td>\n",
       "      <td>0.470</td>\n",
       "      <td>0.560</td>\n",
       "      <td>0.404</td>\n",
       "      <td>0.504</td>\n",
       "      <td>-0.187</td>\n",
       "      <td>0.089</td>\n",
       "      <td>No grid search</td>\n",
       "    </tr>\n",
       "    <tr>\n",
       "      <th>2</th>\n",
       "      <td>Logistic Regression_2</td>\n",
       "      <td>0.404</td>\n",
       "      <td>0.60</td>\n",
       "      <td>21.488</td>\n",
       "      <td>14.417</td>\n",
       "      <td>0.476</td>\n",
       "      <td>0.560</td>\n",
       "      <td>0.398</td>\n",
       "      <td>0.504</td>\n",
       "      <td>-0.196</td>\n",
       "      <td>0.089</td>\n",
       "      <td>No grid search</td>\n",
       "    </tr>\n",
       "    <tr>\n",
       "      <th>0</th>\n",
       "      <td>Logistic Regression_0</td>\n",
       "      <td>0.639</td>\n",
       "      <td>0.68</td>\n",
       "      <td>13.016</td>\n",
       "      <td>11.534</td>\n",
       "      <td>0.636</td>\n",
       "      <td>0.452</td>\n",
       "      <td>0.637</td>\n",
       "      <td>0.500</td>\n",
       "      <td>0.280</td>\n",
       "      <td>0.010</td>\n",
       "      <td>No grid search</td>\n",
       "    </tr>\n",
       "    <tr>\n",
       "      <th>3</th>\n",
       "      <td>Logistic Regression_3</td>\n",
       "      <td>0.639</td>\n",
       "      <td>0.68</td>\n",
       "      <td>13.016</td>\n",
       "      <td>11.534</td>\n",
       "      <td>0.636</td>\n",
       "      <td>0.452</td>\n",
       "      <td>0.637</td>\n",
       "      <td>0.500</td>\n",
       "      <td>0.280</td>\n",
       "      <td>0.010</td>\n",
       "      <td>No grid search</td>\n",
       "    </tr>\n",
       "    <tr>\n",
       "      <th>4</th>\n",
       "      <td>Logistic Lasso_0</td>\n",
       "      <td>0.630</td>\n",
       "      <td>0.68</td>\n",
       "      <td>13.350</td>\n",
       "      <td>11.534</td>\n",
       "      <td>0.638</td>\n",
       "      <td>0.452</td>\n",
       "      <td>0.628</td>\n",
       "      <td>0.500</td>\n",
       "      <td>0.262</td>\n",
       "      <td>0.010</td>\n",
       "      <td>{'Cs': 100}</td>\n",
       "    </tr>\n",
       "    <tr>\n",
       "      <th>7</th>\n",
       "      <td>Logistic Lasso_3</td>\n",
       "      <td>0.630</td>\n",
       "      <td>0.68</td>\n",
       "      <td>13.350</td>\n",
       "      <td>11.534</td>\n",
       "      <td>0.638</td>\n",
       "      <td>0.452</td>\n",
       "      <td>0.628</td>\n",
       "      <td>0.500</td>\n",
       "      <td>0.262</td>\n",
       "      <td>0.010</td>\n",
       "      <td>{'Cs': 100}</td>\n",
       "    </tr>\n",
       "    <tr>\n",
       "      <th>5</th>\n",
       "      <td>Logistic Lasso_1</td>\n",
       "      <td>0.500</td>\n",
       "      <td>0.84</td>\n",
       "      <td>18.022</td>\n",
       "      <td>5.767</td>\n",
       "      <td>0.500</td>\n",
       "      <td>0.500</td>\n",
       "      <td>0.333</td>\n",
       "      <td>0.457</td>\n",
       "      <td>0.000</td>\n",
       "      <td>0.000</td>\n",
       "      <td>{'Cs': 1}</td>\n",
       "    </tr>\n",
       "    <tr>\n",
       "      <th>6</th>\n",
       "      <td>Logistic Lasso_2</td>\n",
       "      <td>0.500</td>\n",
       "      <td>0.84</td>\n",
       "      <td>18.022</td>\n",
       "      <td>5.767</td>\n",
       "      <td>0.500</td>\n",
       "      <td>0.500</td>\n",
       "      <td>0.333</td>\n",
       "      <td>0.457</td>\n",
       "      <td>0.000</td>\n",
       "      <td>0.000</td>\n",
       "      <td>{'Cs': 1}</td>\n",
       "    </tr>\n",
       "  </tbody>\n",
       "</table>\n",
       "</div>"
      ],
      "text/plain": [
       "                    Model  accuracy_train  accuracy_test  log_loss_train  \\\n",
       "8    XGboost Classifier_0           1.000           0.92           0.000   \n",
       "10   XGboost Classifier_2           1.000           0.92           0.000   \n",
       "11   XGboost Classifier_3           1.000           0.92           0.000   \n",
       "9    XGboost Classifier_1           1.000           0.88           0.000   \n",
       "1   Logistic Regression_1           0.407           0.60          21.359   \n",
       "2   Logistic Regression_2           0.404           0.60          21.488   \n",
       "0   Logistic Regression_0           0.639           0.68          13.016   \n",
       "3   Logistic Regression_3           0.639           0.68          13.016   \n",
       "4        Logistic Lasso_0           0.630           0.68          13.350   \n",
       "7        Logistic Lasso_3           0.630           0.68          13.350   \n",
       "5        Logistic Lasso_1           0.500           0.84          18.022   \n",
       "6        Logistic Lasso_2           0.500           0.84          18.022   \n",
       "\n",
       "    log_loss_test  roc_auc_train  roc_auc_test  f1_train  f1_test  MCC_train  \\\n",
       "8           2.883          1.000         0.857     1.000    0.851      1.000   \n",
       "10          2.883          1.000         0.845     1.000    0.851      1.000   \n",
       "11          2.883          1.000         0.857     1.000    0.851      1.000   \n",
       "9           4.325          1.000         0.917     1.000    0.751      1.000   \n",
       "1          14.417          0.470         0.560     0.404    0.504     -0.187   \n",
       "2          14.417          0.476         0.560     0.398    0.504     -0.196   \n",
       "0          11.534          0.636         0.452     0.637    0.500      0.280   \n",
       "3          11.534          0.636         0.452     0.637    0.500      0.280   \n",
       "4          11.534          0.638         0.452     0.628    0.500      0.262   \n",
       "7          11.534          0.638         0.452     0.628    0.500      0.262   \n",
       "5           5.767          0.500         0.500     0.333    0.457      0.000   \n",
       "6           5.767          0.500         0.500     0.333    0.457      0.000   \n",
       "\n",
       "    MCC_test                     Grid_Search_Params  \n",
       "8      0.702  {'max_depth': 2, 'n_estimators': 250}  \n",
       "10     0.702  {'max_depth': 2, 'n_estimators': 250}  \n",
       "11     0.702  {'max_depth': 2, 'n_estimators': 250}  \n",
       "9      0.510  {'max_depth': 2, 'n_estimators': 500}  \n",
       "1      0.089                         No grid search  \n",
       "2      0.089                         No grid search  \n",
       "0      0.010                         No grid search  \n",
       "3      0.010                         No grid search  \n",
       "4      0.010                            {'Cs': 100}  \n",
       "7      0.010                            {'Cs': 100}  \n",
       "5      0.000                              {'Cs': 1}  \n",
       "6      0.000                              {'Cs': 1}  "
      ]
     },
     "execution_count": 126,
     "metadata": {},
     "output_type": "execute_result"
    }
   ],
   "source": [
    "results_reg"
   ]
  },
  {
   "cell_type": "code",
   "execution_count": 123,
   "id": "620575b1-8035-4604-b6f2-97238fd967c9",
   "metadata": {
    "tags": []
   },
   "outputs": [],
   "source": [
    "results_reg.to_excel( 'results.xlsx' )"
   ]
  },
  {
   "cell_type": "code",
   "execution_count": null,
   "id": "1e43954d-91c1-4d3d-9e87-456fd2c9a7d7",
   "metadata": {},
   "outputs": [],
   "source": []
  },
  {
   "cell_type": "code",
   "execution_count": null,
   "id": "7ccf69a6-71ba-46a1-88af-5cf30b41da94",
   "metadata": {},
   "outputs": [],
   "source": []
  },
  {
   "cell_type": "code",
   "execution_count": null,
   "id": "7f72da82-782c-4c64-a295-cf29315a997f",
   "metadata": {},
   "outputs": [],
   "source": []
  },
  {
   "cell_type": "code",
   "execution_count": null,
   "id": "9e611898-a135-4732-b8aa-fef3c49f1d4d",
   "metadata": {},
   "outputs": [],
   "source": []
  },
  {
   "cell_type": "code",
   "execution_count": 67,
   "id": "8a057764-325b-41bd-8a34-41252af528b0",
   "metadata": {
    "tags": []
   },
   "outputs": [
    {
     "data": {
      "text/html": [
       "<style>#sk-container-id-2 {color: black;background-color: white;}#sk-container-id-2 pre{padding: 0;}#sk-container-id-2 div.sk-toggleable {background-color: white;}#sk-container-id-2 label.sk-toggleable__label {cursor: pointer;display: block;width: 100%;margin-bottom: 0;padding: 0.3em;box-sizing: border-box;text-align: center;}#sk-container-id-2 label.sk-toggleable__label-arrow:before {content: \"▸\";float: left;margin-right: 0.25em;color: #696969;}#sk-container-id-2 label.sk-toggleable__label-arrow:hover:before {color: black;}#sk-container-id-2 div.sk-estimator:hover label.sk-toggleable__label-arrow:before {color: black;}#sk-container-id-2 div.sk-toggleable__content {max-height: 0;max-width: 0;overflow: hidden;text-align: left;background-color: #f0f8ff;}#sk-container-id-2 div.sk-toggleable__content pre {margin: 0.2em;color: black;border-radius: 0.25em;background-color: #f0f8ff;}#sk-container-id-2 input.sk-toggleable__control:checked~div.sk-toggleable__content {max-height: 200px;max-width: 100%;overflow: auto;}#sk-container-id-2 input.sk-toggleable__control:checked~label.sk-toggleable__label-arrow:before {content: \"▾\";}#sk-container-id-2 div.sk-estimator input.sk-toggleable__control:checked~label.sk-toggleable__label {background-color: #d4ebff;}#sk-container-id-2 div.sk-label input.sk-toggleable__control:checked~label.sk-toggleable__label {background-color: #d4ebff;}#sk-container-id-2 input.sk-hidden--visually {border: 0;clip: rect(1px 1px 1px 1px);clip: rect(1px, 1px, 1px, 1px);height: 1px;margin: -1px;overflow: hidden;padding: 0;position: absolute;width: 1px;}#sk-container-id-2 div.sk-estimator {font-family: monospace;background-color: #f0f8ff;border: 1px dotted black;border-radius: 0.25em;box-sizing: border-box;margin-bottom: 0.5em;}#sk-container-id-2 div.sk-estimator:hover {background-color: #d4ebff;}#sk-container-id-2 div.sk-parallel-item::after {content: \"\";width: 100%;border-bottom: 1px solid gray;flex-grow: 1;}#sk-container-id-2 div.sk-label:hover label.sk-toggleable__label {background-color: #d4ebff;}#sk-container-id-2 div.sk-serial::before {content: \"\";position: absolute;border-left: 1px solid gray;box-sizing: border-box;top: 0;bottom: 0;left: 50%;z-index: 0;}#sk-container-id-2 div.sk-serial {display: flex;flex-direction: column;align-items: center;background-color: white;padding-right: 0.2em;padding-left: 0.2em;position: relative;}#sk-container-id-2 div.sk-item {position: relative;z-index: 1;}#sk-container-id-2 div.sk-parallel {display: flex;align-items: stretch;justify-content: center;background-color: white;position: relative;}#sk-container-id-2 div.sk-item::before, #sk-container-id-2 div.sk-parallel-item::before {content: \"\";position: absolute;border-left: 1px solid gray;box-sizing: border-box;top: 0;bottom: 0;left: 50%;z-index: -1;}#sk-container-id-2 div.sk-parallel-item {display: flex;flex-direction: column;z-index: 1;position: relative;background-color: white;}#sk-container-id-2 div.sk-parallel-item:first-child::after {align-self: flex-end;width: 50%;}#sk-container-id-2 div.sk-parallel-item:last-child::after {align-self: flex-start;width: 50%;}#sk-container-id-2 div.sk-parallel-item:only-child::after {width: 0;}#sk-container-id-2 div.sk-dashed-wrapped {border: 1px dashed gray;margin: 0 0.4em 0.5em 0.4em;box-sizing: border-box;padding-bottom: 0.4em;background-color: white;}#sk-container-id-2 div.sk-label label {font-family: monospace;font-weight: bold;display: inline-block;line-height: 1.2em;}#sk-container-id-2 div.sk-label-container {text-align: center;}#sk-container-id-2 div.sk-container {/* jupyter's `normalize.less` sets `[hidden] { display: none; }` but bootstrap.min.css set `[hidden] { display: none !important; }` so we also need the `!important` here to be able to override the default hidden behavior on the sphinx rendered scikit-learn.org. See: https://github.com/scikit-learn/scikit-learn/issues/21755 */display: inline-block !important;position: relative;}#sk-container-id-2 div.sk-text-repr-fallback {display: none;}</style><div id=\"sk-container-id-2\" class=\"sk-top-container\"><div class=\"sk-text-repr-fallback\"><pre>RandomForestClassifier(random_state=2023)</pre><b>In a Jupyter environment, please rerun this cell to show the HTML representation or trust the notebook. <br />On GitHub, the HTML representation is unable to render, please try loading this page with nbviewer.org.</b></div><div class=\"sk-container\" hidden><div class=\"sk-item\"><div class=\"sk-estimator sk-toggleable\"><input class=\"sk-toggleable__control sk-hidden--visually\" id=\"sk-estimator-id-2\" type=\"checkbox\" checked><label for=\"sk-estimator-id-2\" class=\"sk-toggleable__label sk-toggleable__label-arrow\">RandomForestClassifier</label><div class=\"sk-toggleable__content\"><pre>RandomForestClassifier(random_state=2023)</pre></div></div></div></div></div>"
      ],
      "text/plain": [
       "RandomForestClassifier(random_state=2023)"
      ]
     },
     "execution_count": 67,
     "metadata": {},
     "output_type": "execute_result"
    }
   ],
   "source": [
    "model1 = RandomForestClassifier( random_state = 2023 )\n",
    "model1.fit( x_train, y_train )\n",
    "vars_dict = { var: score for var, score in zip( pred_vars, model1.feature_importances_ ) }"
   ]
  },
  {
   "cell_type": "code",
   "execution_count": 70,
   "id": "4325856c-f675-4da1-88a9-718bf31afc9e",
   "metadata": {
    "tags": []
   },
   "outputs": [],
   "source": [
    "vars_dict = { var: score for var, score in zip( pred_vars, model1.feature_importances_ ) }\n",
    "vars_df   = pd.DataFrame( vars_dict, index = pred_vars )"
   ]
  },
  {
   "cell_type": "code",
   "execution_count": 71,
   "id": "26ea7d61-f748-4e2f-b868-5e59abf28259",
   "metadata": {
    "tags": []
   },
   "outputs": [
    {
     "data": {
      "text/plain": [
       "{'X1': 0.30447100486630746,\n",
       " 'X2': 0.14130582154778112,\n",
       " 'X3': 0.19052687487653105,\n",
       " 'X4': 0.21725349580220096,\n",
       " 'X5': 0.14644280290717948}"
      ]
     },
     "execution_count": 71,
     "metadata": {},
     "output_type": "execute_result"
    }
   ],
   "source": [
    "vars_dict"
   ]
  },
  {
   "cell_type": "code",
   "execution_count": 72,
   "id": "af4aeeb3-721d-47d5-b4ff-f33e6fc62cb5",
   "metadata": {
    "tags": []
   },
   "outputs": [
    {
     "data": {
      "text/html": [
       "<div>\n",
       "<style scoped>\n",
       "    .dataframe tbody tr th:only-of-type {\n",
       "        vertical-align: middle;\n",
       "    }\n",
       "\n",
       "    .dataframe tbody tr th {\n",
       "        vertical-align: top;\n",
       "    }\n",
       "\n",
       "    .dataframe thead th {\n",
       "        text-align: right;\n",
       "    }\n",
       "</style>\n",
       "<table border=\"1\" class=\"dataframe\">\n",
       "  <thead>\n",
       "    <tr style=\"text-align: right;\">\n",
       "      <th></th>\n",
       "      <th>X1</th>\n",
       "      <th>X2</th>\n",
       "      <th>X3</th>\n",
       "      <th>X4</th>\n",
       "      <th>X5</th>\n",
       "    </tr>\n",
       "  </thead>\n",
       "  <tbody>\n",
       "    <tr>\n",
       "      <th>X1</th>\n",
       "      <td>0.304471</td>\n",
       "      <td>0.141306</td>\n",
       "      <td>0.190527</td>\n",
       "      <td>0.217253</td>\n",
       "      <td>0.146443</td>\n",
       "    </tr>\n",
       "    <tr>\n",
       "      <th>X2</th>\n",
       "      <td>0.304471</td>\n",
       "      <td>0.141306</td>\n",
       "      <td>0.190527</td>\n",
       "      <td>0.217253</td>\n",
       "      <td>0.146443</td>\n",
       "    </tr>\n",
       "    <tr>\n",
       "      <th>X3</th>\n",
       "      <td>0.304471</td>\n",
       "      <td>0.141306</td>\n",
       "      <td>0.190527</td>\n",
       "      <td>0.217253</td>\n",
       "      <td>0.146443</td>\n",
       "    </tr>\n",
       "    <tr>\n",
       "      <th>X4</th>\n",
       "      <td>0.304471</td>\n",
       "      <td>0.141306</td>\n",
       "      <td>0.190527</td>\n",
       "      <td>0.217253</td>\n",
       "      <td>0.146443</td>\n",
       "    </tr>\n",
       "    <tr>\n",
       "      <th>X5</th>\n",
       "      <td>0.304471</td>\n",
       "      <td>0.141306</td>\n",
       "      <td>0.190527</td>\n",
       "      <td>0.217253</td>\n",
       "      <td>0.146443</td>\n",
       "    </tr>\n",
       "  </tbody>\n",
       "</table>\n",
       "</div>"
      ],
      "text/plain": [
       "          X1        X2        X3        X4        X5\n",
       "X1  0.304471  0.141306  0.190527  0.217253  0.146443\n",
       "X2  0.304471  0.141306  0.190527  0.217253  0.146443\n",
       "X3  0.304471  0.141306  0.190527  0.217253  0.146443\n",
       "X4  0.304471  0.141306  0.190527  0.217253  0.146443\n",
       "X5  0.304471  0.141306  0.190527  0.217253  0.146443"
      ]
     },
     "execution_count": 72,
     "metadata": {},
     "output_type": "execute_result"
    }
   ],
   "source": [
    "vars_df"
   ]
  },
  {
   "cell_type": "code",
   "execution_count": 74,
   "id": "f0aaf0ad-bb69-4cb7-a992-b68089e046d9",
   "metadata": {
    "tags": []
   },
   "outputs": [],
   "source": [
    "importances = model1.feature_importances_\n",
    "\n",
    "# Crear un DataFrame a partir de las importancias y variables\n",
    "vars_df = pd.DataFrame({'Variable': pred_vars, 'Score': importances})"
   ]
  },
  {
   "cell_type": "code",
   "execution_count": 75,
   "id": "9a95fac2-8a6a-45a0-93ff-de1af95e5995",
   "metadata": {
    "tags": []
   },
   "outputs": [
    {
     "data": {
      "text/html": [
       "<div>\n",
       "<style scoped>\n",
       "    .dataframe tbody tr th:only-of-type {\n",
       "        vertical-align: middle;\n",
       "    }\n",
       "\n",
       "    .dataframe tbody tr th {\n",
       "        vertical-align: top;\n",
       "    }\n",
       "\n",
       "    .dataframe thead th {\n",
       "        text-align: right;\n",
       "    }\n",
       "</style>\n",
       "<table border=\"1\" class=\"dataframe\">\n",
       "  <thead>\n",
       "    <tr style=\"text-align: right;\">\n",
       "      <th></th>\n",
       "      <th>Variable</th>\n",
       "      <th>Score</th>\n",
       "    </tr>\n",
       "  </thead>\n",
       "  <tbody>\n",
       "    <tr>\n",
       "      <th>0</th>\n",
       "      <td>X1</td>\n",
       "      <td>0.304471</td>\n",
       "    </tr>\n",
       "    <tr>\n",
       "      <th>1</th>\n",
       "      <td>X2</td>\n",
       "      <td>0.141306</td>\n",
       "    </tr>\n",
       "    <tr>\n",
       "      <th>2</th>\n",
       "      <td>X3</td>\n",
       "      <td>0.190527</td>\n",
       "    </tr>\n",
       "    <tr>\n",
       "      <th>3</th>\n",
       "      <td>X4</td>\n",
       "      <td>0.217253</td>\n",
       "    </tr>\n",
       "    <tr>\n",
       "      <th>4</th>\n",
       "      <td>X5</td>\n",
       "      <td>0.146443</td>\n",
       "    </tr>\n",
       "  </tbody>\n",
       "</table>\n",
       "</div>"
      ],
      "text/plain": [
       "  Variable     Score\n",
       "0       X1  0.304471\n",
       "1       X2  0.141306\n",
       "2       X3  0.190527\n",
       "3       X4  0.217253\n",
       "4       X5  0.146443"
      ]
     },
     "execution_count": 75,
     "metadata": {},
     "output_type": "execute_result"
    }
   ],
   "source": [
    "vars_df"
   ]
  },
  {
   "cell_type": "code",
   "execution_count": null,
   "id": "9a28850c-0fdb-483e-851a-0b937d96342c",
   "metadata": {},
   "outputs": [],
   "source": []
  },
  {
   "cell_type": "code",
   "execution_count": 83,
   "id": "b35180cf-4603-455d-9c0e-bb0f051c456d",
   "metadata": {
    "tags": []
   },
   "outputs": [],
   "source": [
    "model2 = LogisticRegression( random_state = 2023 )\n",
    "model2.fit( x_train, y_train )\n",
    "vars_dict = { var: score for var, score in zip( model2.feature_names_in_, model2.coef_[ 0 ] ) }"
   ]
  },
  {
   "cell_type": "code",
   "execution_count": 84,
   "id": "2bcbe2c6-427b-4717-871d-0885b76b2ab3",
   "metadata": {
    "tags": []
   },
   "outputs": [
    {
     "data": {
      "text/plain": [
       "{'X1': 0.12059142810644019,\n",
       " 'X2': 0.13756248895016432,\n",
       " 'X3': -0.07442007135896472,\n",
       " 'X4': 0.18600183273230658,\n",
       " 'X5': -0.1684039377415832}"
      ]
     },
     "execution_count": 84,
     "metadata": {},
     "output_type": "execute_result"
    }
   ],
   "source": [
    "vars_dict"
   ]
  },
  {
   "cell_type": "code",
   "execution_count": 85,
   "id": "ddd33b5c-f9bf-4e56-8af7-1bbd6ad2a021",
   "metadata": {
    "tags": []
   },
   "outputs": [],
   "source": [
    "importances = model2.coef_[ 0 ]\n",
    "\n",
    "# Crear un DataFrame a partir de las importancias y variables\n",
    "vars_df = pd.DataFrame({'Variable': model2.feature_names_in_, 'Score': importances})"
   ]
  },
  {
   "cell_type": "code",
   "execution_count": 86,
   "id": "a51d9eff-6b4d-48c4-bd36-fbf304cd256a",
   "metadata": {
    "tags": []
   },
   "outputs": [
    {
     "data": {
      "text/html": [
       "<div>\n",
       "<style scoped>\n",
       "    .dataframe tbody tr th:only-of-type {\n",
       "        vertical-align: middle;\n",
       "    }\n",
       "\n",
       "    .dataframe tbody tr th {\n",
       "        vertical-align: top;\n",
       "    }\n",
       "\n",
       "    .dataframe thead th {\n",
       "        text-align: right;\n",
       "    }\n",
       "</style>\n",
       "<table border=\"1\" class=\"dataframe\">\n",
       "  <thead>\n",
       "    <tr style=\"text-align: right;\">\n",
       "      <th></th>\n",
       "      <th>Variable</th>\n",
       "      <th>Score</th>\n",
       "    </tr>\n",
       "  </thead>\n",
       "  <tbody>\n",
       "    <tr>\n",
       "      <th>0</th>\n",
       "      <td>X1</td>\n",
       "      <td>0.120591</td>\n",
       "    </tr>\n",
       "    <tr>\n",
       "      <th>1</th>\n",
       "      <td>X2</td>\n",
       "      <td>0.137562</td>\n",
       "    </tr>\n",
       "    <tr>\n",
       "      <th>2</th>\n",
       "      <td>X3</td>\n",
       "      <td>-0.074420</td>\n",
       "    </tr>\n",
       "    <tr>\n",
       "      <th>3</th>\n",
       "      <td>X4</td>\n",
       "      <td>0.186002</td>\n",
       "    </tr>\n",
       "    <tr>\n",
       "      <th>4</th>\n",
       "      <td>X5</td>\n",
       "      <td>-0.168404</td>\n",
       "    </tr>\n",
       "  </tbody>\n",
       "</table>\n",
       "</div>"
      ],
      "text/plain": [
       "  Variable     Score\n",
       "0       X1  0.120591\n",
       "1       X2  0.137562\n",
       "2       X3 -0.074420\n",
       "3       X4  0.186002\n",
       "4       X5 -0.168404"
      ]
     },
     "execution_count": 86,
     "metadata": {},
     "output_type": "execute_result"
    }
   ],
   "source": [
    "vars_df"
   ]
  },
  {
   "cell_type": "code",
   "execution_count": 81,
   "id": "a878de87-265b-4c27-85de-669f519bb6a4",
   "metadata": {
    "tags": []
   },
   "outputs": [
    {
     "data": {
      "text/plain": [
       "array([ 0.12059143,  0.13756249, -0.07442007,  0.18600183, -0.16840394])"
      ]
     },
     "execution_count": 81,
     "metadata": {},
     "output_type": "execute_result"
    }
   ],
   "source": [
    "importances[ 0 ]"
   ]
  }
 ],
 "metadata": {
  "kernelspec": {
   "display_name": "Python 3 (ipykernel)",
   "language": "python",
   "name": "python3"
  },
  "language_info": {
   "codemirror_mode": {
    "name": "ipython",
    "version": 3
   },
   "file_extension": ".py",
   "mimetype": "text/x-python",
   "name": "python",
   "nbconvert_exporter": "python",
   "pygments_lexer": "ipython3",
   "version": "3.11.4"
  }
 },
 "nbformat": 4,
 "nbformat_minor": 5
}
