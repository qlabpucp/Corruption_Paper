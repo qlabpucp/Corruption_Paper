{
 "cells": [
  {
   "cell_type": "markdown",
   "id": "c16703ef-3ce1-4fb4-a5f4-9c50c26157c7",
   "metadata": {},
   "source": [
    "# BASE 0 - CI"
   ]
  },
  {
   "cell_type": "markdown",
   "id": "77ea7de5-2163-4eed-8420-26f0de6737ec",
   "metadata": {},
   "source": [
    "Information:\n",
    "\n",
    "* Database: base 0\n",
    "* Predicted variable: Corrupción Intensa\n",
    "* Type of prediction: Clasification\n",
    "* Periodo: 2016-2020"
   ]
  },
  {
   "cell_type": "markdown",
   "id": "1aca0c1c-50f7-4f75-b07e-83cea7238d5b",
   "metadata": {},
   "source": [
    "## 1. Load libraries, modules and data"
   ]
  },
  {
   "cell_type": "code",
   "execution_count": 17,
   "id": "4ca2434c-6b68-4561-89c9-cd8044733a29",
   "metadata": {
    "tags": []
   },
   "outputs": [],
   "source": [
    "import warnings\n",
    "warnings.filterwarnings( 'ignore' )"
   ]
  },
  {
   "cell_type": "code",
   "execution_count": 18,
   "id": "daea9755-b514-4eac-a8b3-97ab86131b45",
   "metadata": {
    "tags": []
   },
   "outputs": [],
   "source": [
    "import pandas as  pd\n",
    "import numpy as np\n",
    "import pickle\n",
    "import joblib\n",
    "import matplotlib.pyplot as plt"
   ]
  },
  {
   "cell_type": "code",
   "execution_count": null,
   "id": "c840acee-e68c-4a8f-a4a4-772d9c978ea4",
   "metadata": {},
   "outputs": [],
   "source": [
    "from imblearn.over_sampling import SMOTE\n",
    "from imblearn.combine import SMOTETomek\n",
    "from imblearn.over_sampling import RandomOverSampler\n",
    "from collections import Counter"
   ]
  },
  {
   "cell_type": "code",
   "execution_count": null,
   "id": "c7a7263d-7a53-4cfd-a311-f770ce2445f8",
   "metadata": {},
   "outputs": [],
   "source": [
    "from sklearn.model_selection import train_test_split, GridSearchCV\n",
    "from sklearn.linear_model import LogisticRegression, LogisticRegressionCV\n",
    "from sklearn.ensemble import RandomForestRegressor, RandomForestClassifier\n",
    "from sklearn.metrics import accuracy_score, log_loss, roc_auc_score, f1_score, matthews_corrcoef\n",
    "from xgboost import XGBRegressor, XGBClassifier\n",
    "from sklearn.model_selection import KFold"
   ]
  },
  {
   "cell_type": "code",
   "execution_count": null,
   "id": "368bf546-d90c-43fa-826e-f60fb5044c0a",
   "metadata": {},
   "outputs": [],
   "source": [
    "fun = SourceFileLoader( 'funciones', r'..\\..\\..\\code\\modules\\funciones.py' ).load_module()\n",
    "vn  = SourceFileLoader( 'variables_nombres', r'..\\..\\..\\code\\modules\\variables_nombres.py' ).load_module()"
   ]
  },
  {
   "cell_type": "code",
   "execution_count": 19,
   "id": "32f68f2d-0dd3-416b-89a3-16d3ccf44eee",
   "metadata": {
    "tags": []
   },
   "outputs": [],
   "source": [
    "path = r'..\\..\\..\\input\\preprocessed_data\\base0.csv'\n",
    "data = pd.read_csv( path )"
   ]
  },
  {
   "cell_type": "code",
   "execution_count": null,
   "id": "8cf50be7-22fc-43a5-802d-2fdf859de0ea",
   "metadata": {},
   "outputs": [],
   "source": []
  }
 ],
 "metadata": {
  "kernelspec": {
   "display_name": "Python 3 (ipykernel)",
   "language": "python",
   "name": "python3"
  },
  "language_info": {
   "name": ""
  }
 },
 "nbformat": 4,
 "nbformat_minor": 5
}
