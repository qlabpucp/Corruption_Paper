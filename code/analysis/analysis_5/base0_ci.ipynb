{
 "cells": [
  {
   "cell_type": "markdown",
   "id": "c16703ef-3ce1-4fb4-a5f4-9c50c26157c7",
   "metadata": {},
   "source": [
    "# BASE 0 - CI"
   ]
  },
  {
   "cell_type": "markdown",
   "id": "77ea7de5-2163-4eed-8420-26f0de6737ec",
   "metadata": {},
   "source": [
    "Information:\n",
    "\n",
    "* Database: base 0\n",
    "* Predicted variable: Corrupción Intensa\n",
    "* Type of prediction: Clasification\n",
    "* Periodo: 2016-2020"
   ]
  },
  {
   "cell_type": "markdown",
   "id": "1aca0c1c-50f7-4f75-b07e-83cea7238d5b",
   "metadata": {},
   "source": [
    "## 1. Cargar librerías, módulos y datos"
   ]
  },
  {
   "cell_type": "code",
   "execution_count": 1,
   "id": "4ca2434c-6b68-4561-89c9-cd8044733a29",
   "metadata": {
    "tags": []
   },
   "outputs": [],
   "source": [
    "import warnings\n",
    "warnings.filterwarnings( 'ignore' )"
   ]
  },
  {
   "cell_type": "code",
   "execution_count": 2,
   "id": "daea9755-b514-4eac-a8b3-97ab86131b45",
   "metadata": {
    "tags": []
   },
   "outputs": [],
   "source": [
    "import pandas as  pd\n",
    "import numpy as np\n",
    "import pickle\n",
    "import joblib\n",
    "import matplotlib.pyplot as plt\n",
    "from importlib.machinery import SourceFileLoader"
   ]
  },
  {
   "cell_type": "code",
   "execution_count": 3,
   "id": "c840acee-e68c-4a8f-a4a4-772d9c978ea4",
   "metadata": {},
   "outputs": [],
   "source": [
    "from imblearn.over_sampling import SMOTE\n",
    "from imblearn.combine import SMOTETomek\n",
    "from imblearn.over_sampling import RandomOverSampler\n",
    "from collections import Counter"
   ]
  },
  {
   "cell_type": "code",
   "execution_count": 4,
   "id": "c7a7263d-7a53-4cfd-a311-f770ce2445f8",
   "metadata": {},
   "outputs": [],
   "source": [
    "from sklearn.model_selection import train_test_split, GridSearchCV\n",
    "from sklearn.linear_model import LogisticRegression, LogisticRegressionCV\n",
    "from sklearn.ensemble import RandomForestRegressor, RandomForestClassifier\n",
    "from sklearn.metrics import accuracy_score, log_loss, roc_auc_score, f1_score, matthews_corrcoef\n",
    "from xgboost import XGBRegressor, XGBClassifier\n",
    "from sklearn.model_selection import KFold"
   ]
  },
  {
   "cell_type": "code",
   "execution_count": 5,
   "id": "368bf546-d90c-43fa-826e-f60fb5044c0a",
   "metadata": {},
   "outputs": [],
   "source": [
    "fun = SourceFileLoader( 'funciones', r'..\\..\\..\\code\\modules\\funciones.py' ).load_module()\n",
    "vn  = SourceFileLoader( 'variables_nombres', r'..\\..\\..\\code\\modules\\variables_nombres.py' ).load_module()"
   ]
  },
  {
   "cell_type": "code",
   "execution_count": 6,
   "id": "32f68f2d-0dd3-416b-89a3-16d3ccf44eee",
   "metadata": {
    "tags": []
   },
   "outputs": [],
   "source": [
    "path = r'..\\..\\..\\input\\preprocessed_data\\base0.csv'\n",
    "data = pd.read_csv( path )"
   ]
  },
  {
   "cell_type": "markdown",
   "id": "3f504639-4a7d-4df1-ac15-96b4618e06db",
   "metadata": {},
   "source": [
    "## 2. Realizar la partición en conjunto de entrenamiento y prueba"
   ]
  },
  {
   "cell_type": "code",
   "execution_count": 7,
   "id": "432a0677-4a59-4f6e-8adf-52e52af5905b",
   "metadata": {},
   "outputs": [],
   "source": [
    "dep_var    = [ 'corrup_intensa' ]\n",
    "other_vars = [ 'monto_examinado', 'monto_auditado', 'monto_objeto_servicio', \n",
    "               'monto_corrup1', 'monto_corrup2', 'tipo_control', 'corrup_amplia',\n",
    "               'per_corrup1', 'per_corrup2', '_monto', 'monto_', 'year', 'ubigeo' ]\n",
    "\n",
    "pred_vars  = [ col for col in data.columns if col not in dep_var and col not in other_vars ]\n",
    "\n",
    "x_train, x_test, y_train, y_test = train_test_split( data[ pred_vars ], \n",
    "                                                     data[ 'corrup_intensa' ], \n",
    "                                                     test_size    = 0.3,\n",
    "                                                     random_state = 2023 )"
   ]
  },
  {
   "cell_type": "code",
   "execution_count": 8,
   "id": "51dc9a4c-d0ac-4394-bd16-21f305200ebf",
   "metadata": {},
   "outputs": [],
   "source": [
    "x_train_columns = x_train.columns.to_list()\n",
    "x_train_columns = pd.DataFrame( x_train_columns, columns = [ 'colname' ] )\n",
    "x_train_columns.to_excel( r'..\\..\\..\\code\\prediction\\colnames_b0_ci.xlsx' )"
   ]
  },
  {
   "cell_type": "markdown",
   "id": "52dd3078-aa0b-4593-b2b5-9763591a7991",
   "metadata": {},
   "source": [
    "## 3. Implementar métodos de muestreo"
   ]
  },
  {
   "cell_type": "markdown",
   "id": "e5f54c5f-fd9c-4c3a-9368-ce7008e46136",
   "metadata": {},
   "source": [
    "Se implementan los métodos SMOTE, SMOTE Tomek-Links y Naive Random Oversampling"
   ]
  },
  {
   "cell_type": "code",
   "execution_count": 9,
   "id": "f60399f2-ef36-4b0b-b246-514bd58ff20c",
   "metadata": {},
   "outputs": [],
   "source": [
    "x_train_s, x_train_st, x_train_nro, y_train_s, y_train_st, y_train_nro = fun.resampling( x_train, y_train )"
   ]
  },
  {
   "cell_type": "markdown",
   "id": "ee9e3f85-c184-4a9e-b1d4-95e253d4d330",
   "metadata": {},
   "source": [
    "## 4. Implementar los modelos de clasificación"
   ]
  },
  {
   "cell_type": "code",
   "execution_count": 10,
   "id": "065a3d42-8d6d-4f40-955a-2114cc19b13b",
   "metadata": {},
   "outputs": [
    {
     "name": "stdout",
     "output_type": "stream",
     "text": [
      "2904.0\n",
      "4356.0\n",
      "5808.0\n"
     ]
    }
   ],
   "source": [
    "o_20 = 20*x_train.shape[ 1 ]/100\n",
    "o_30 = 30*x_train.shape[ 1 ]/100\n",
    "o_40 = 40*x_train.shape[ 1 ]/100\n",
    "\n",
    "print( o_20, o_30, o_40, sep = '\\n' )"
   ]
  },
  {
   "cell_type": "code",
   "execution_count": 11,
   "id": "244e1546-58aa-4e49-946b-d3a75d03d365",
   "metadata": {},
   "outputs": [],
   "source": [
    "models = {\n",
    "    \n",
    "    'Logistic Regression'      : { 'model'      : LogisticRegression( random_state = 2023, n_jobs = -1 ) },\n",
    "    \n",
    "    'Logistic Lasso'           : { 'model'      : LogisticRegressionCV( random_state = 2023, penalty = 'l1', solver = 'saga', n_jobs = -1 ),\n",
    "                                   'grid_params': { 'Cs': [ 0.001, 0.01, 0.1, 1, 10, 100 ] } },\n",
    "    \n",
    "    'Logistic Ridge'           : { 'model'      : LogisticRegressionCV( random_state = 2023, penalty = 'l2', solver = 'saga', n_jobs = -1 ),\n",
    "                                   'grid_params': { 'Cs': [ 0.001, 0.01, 0.1, 1, 10, 100 ] } },\n",
    "    \n",
    "    'Logistic Elastic Net'     : { 'model'      : LogisticRegressionCV( random_state = 2023, penalty = 'elasticnet', solver = 'saga', l1_ratios = [ 0.5 ], n_jobs = -1 ),\n",
    "                                   'grid_params': { 'Cs': [ 0.001, 0.01, 0.1, 1, 10, 100 ] } },\n",
    "    \n",
    "    'Random Forest Classifier' : { 'model'      : RandomForestClassifier( random_state = 2023, n_jobs = -1 ),\n",
    "                                   'grid_params': { 'n_estimators': [ 250, 500, 1000 ], 'max_depth': [ 10, 20, 30 ], 'max_features': [ 2904, 4356, 5808 ] } },\n",
    "    \n",
    "    'XGboost Classifier'       : { 'model'      : XGBClassifier( random_state = 2023, use_label_encoder = False, objective = 'binary:logistic', verbosity = 0, learning_rate = 0.1, n_jobs = -1 ),\n",
    "                                   'grid_params': { 'n_estimators': [ 250, 500, 1000 ], 'max_depth': [ 1, 2 ], 'max_features': [ 2904, 4356, 5808 ] } }\n",
    "    \n",
    "        }"
   ]
  },
  {
   "cell_type": "code",
   "execution_count": 12,
   "id": "9e83de3e-5e96-4f03-8ac3-453e40fd7380",
   "metadata": {},
   "outputs": [],
   "source": [
    "models_path = r'..\\..\\..\\output\\ejecucion_5\\models\\base0'\n",
    "vars_path   = r'..\\..\\..\\output\\ejecucion_5\\results\\base0'\n",
    "gs_path     = r'..\\..\\..\\output\\ejecucion_5\\gridsearch_results\\base0'"
   ]
  },
  {
   "cell_type": "code",
   "execution_count": 13,
   "id": "e6341349-e5db-4ec9-8f8a-a0086ede71d2",
   "metadata": {},
   "outputs": [],
   "source": [
    "x_train_list = [ x_train, x_train_s, x_train_st, x_train_nro ]\n",
    "y_train_list = [ y_train, y_train_s, y_train_st, y_train_nro ]\n",
    "path_list    = [ models_path, vars_path, gs_path ]"
   ]
  },
  {
   "cell_type": "code",
   "execution_count": 14,
   "id": "8e917d46-940f-4154-b6b0-a0857c65295d",
   "metadata": {},
   "outputs": [],
   "source": [
    "sufix = 'ci'"
   ]
  },
  {
   "cell_type": "code",
   "execution_count": 16,
   "id": "af00f4cd-bd52-4fbd-9a8d-ec981d83325d",
   "metadata": {},
   "outputs": [],
   "source": [
    "resultados = fun.test_models_classification( models, x_train_list, y_train_list, x_test, y_test, path_list, sufix )\n",
    "resultados.to_excel( r'..\\..\\..\\output\\ejecucion_5\\results\\base0\\base0_ci.xlsx' )"
   ]
  }
 ],
 "metadata": {
  "kernelspec": {
   "display_name": "Python 3 (ipykernel)",
   "language": "python",
   "name": "python3"
  },
  "language_info": {
   "codemirror_mode": {
    "name": "ipython",
    "version": 3
   },
   "file_extension": ".py",
   "mimetype": "text/x-python",
   "name": "python",
   "nbconvert_exporter": "python",
   "pygments_lexer": "ipython3",
   "version": "3.9.13"
  }
 },
 "nbformat": 4,
 "nbformat_minor": 5
}
