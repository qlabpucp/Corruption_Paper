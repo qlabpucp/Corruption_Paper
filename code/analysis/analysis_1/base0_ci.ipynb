{
 "cells": [
  {
   "cell_type": "markdown",
   "id": "20441923-9b4c-4c6c-87b2-24e3f93e638b",
   "metadata": {},
   "source": [
    "# BASE 0 - CI"
   ]
  },
  {
   "cell_type": "markdown",
   "id": "9ba67e5f-1646-44b9-9a10-232eec5916bc",
   "metadata": {},
   "source": [
    "Information:\n",
    "\n",
    "* Database: base 0\n",
    "* Predicted variable: Corrupción Intensa\n",
    "* Type of prediction: Clasification\n",
    "* Periodo: 2016-2020"
   ]
  },
  {
   "cell_type": "markdown",
   "id": "fa83588d-21c5-482b-9a30-93fb486073ae",
   "metadata": {},
   "source": [
    "## 1. Load data and Libraries"
   ]
  },
  {
   "cell_type": "code",
   "execution_count": 1,
   "id": "41b347cf-1513-4fc9-880c-a0bef2a8a709",
   "metadata": {},
   "outputs": [],
   "source": [
    "import warnings\n",
    "warnings.filterwarnings( 'ignore' )"
   ]
  },
  {
   "cell_type": "code",
   "execution_count": 2,
   "id": "bd7f2b1f-13c4-44b1-ae99-21e610fbf6ef",
   "metadata": {},
   "outputs": [],
   "source": [
    "import pandas as  pd\n",
    "import numpy as np\n",
    "import pickle\n",
    "import joblib\n",
    "import matplotlib.pyplot as plt"
   ]
  },
  {
   "cell_type": "code",
   "execution_count": 3,
   "id": "d031ebd0-f647-4e9f-be1d-5ee2284b029d",
   "metadata": {},
   "outputs": [],
   "source": [
    "path = r'..\\..\\..\\input\\preprocessed_data\\base0.csv'\n",
    "data = pd.read_csv( path )"
   ]
  },
  {
   "cell_type": "code",
   "execution_count": 4,
   "id": "2343315f-7352-4d46-a0aa-7207c86053ac",
   "metadata": {},
   "outputs": [
    {
     "data": {
      "text/plain": [
       "(1382, 14510)"
      ]
     },
     "execution_count": 4,
     "metadata": {},
     "output_type": "execute_result"
    }
   ],
   "source": [
    "data.shape"
   ]
  },
  {
   "cell_type": "code",
   "execution_count": 5,
   "id": "c6d51e4d-52e9-4d0e-90da-2fdc93f105fd",
   "metadata": {},
   "outputs": [
    {
     "data": {
      "text/plain": [
       "1.0    71.852388\n",
       "0.0    28.147612\n",
       "Name: corrup_intensa, dtype: float64"
      ]
     },
     "execution_count": 5,
     "metadata": {},
     "output_type": "execute_result"
    }
   ],
   "source": [
    "data[ 'corrup_intensa' ].value_counts( normalize = True )*100"
   ]
  },
  {
   "cell_type": "code",
   "execution_count": 6,
   "id": "69010e50",
   "metadata": {},
   "outputs": [
    {
     "data": {
      "text/plain": [
       "1.0    993\n",
       "0.0    389\n",
       "Name: corrup_intensa, dtype: int64"
      ]
     },
     "execution_count": 6,
     "metadata": {},
     "output_type": "execute_result"
    }
   ],
   "source": [
    "data[ 'corrup_intensa' ].value_counts()"
   ]
  },
  {
   "cell_type": "code",
   "execution_count": 7,
   "id": "007ce411-429f-484a-9501-557730bf4857",
   "metadata": {},
   "outputs": [],
   "source": [
    "# data = data.drop( 'variable_gasto', axis = 1 )"
   ]
  },
  {
   "cell_type": "markdown",
   "id": "1863270e-519f-4def-9a3e-000d9ed4cc31",
   "metadata": {},
   "source": [
    "## 2. Split variables"
   ]
  },
  {
   "cell_type": "code",
   "execution_count": 8,
   "id": "6dbc5c9a-e77a-4cc4-8d98-39f363556638",
   "metadata": {},
   "outputs": [],
   "source": [
    "from sklearn.model_selection import train_test_split"
   ]
  },
  {
   "cell_type": "code",
   "execution_count": 9,
   "id": "d6187f08-6f18-4b10-bf07-46285888b4e4",
   "metadata": {},
   "outputs": [],
   "source": [
    "dep_var    = [ 'corrup_intensa' ]\n",
    "other_vars = [ 'monto_examinado', 'monto_auditado', 'monto_objeto_servicio', \n",
    "               'monto_corrup1', 'monto_corrup2', 'tipo_control', 'corrup_amplia',\n",
    "               'per_corrup1', 'per_corrup2', '_monto', 'monto_', 'year', 'ubigeo' ]\n",
    "\n",
    "pred_vars  = [ col for col in data.columns if col not in dep_var and col not in other_vars ]\n",
    "\n",
    "x_train, x_test, y_train, y_test = train_test_split( data[ pred_vars ], \n",
    "                                                     data[ 'corrup_intensa' ], \n",
    "                                                     test_size    = 0.25,\n",
    "                                                     random_state = 2023 )"
   ]
  },
  {
   "cell_type": "markdown",
   "id": "2cd00b6f",
   "metadata": {},
   "source": [
    "## 3. Resampling"
   ]
  },
  {
   "cell_type": "markdown",
   "id": "2920c2e2",
   "metadata": {},
   "source": [
    "#### 3.1 SMOTE TOMEK"
   ]
  },
  {
   "cell_type": "code",
   "execution_count": 10,
   "id": "0b1cd7dc",
   "metadata": {
    "tags": []
   },
   "outputs": [],
   "source": [
    "from imblearn.over_sampling import SMOTE\n",
    "from imblearn.combine import SMOTETomek\n",
    "from collections import Counter \n",
    "\n",
    "os_us = SMOTETomek( random_state         = 2023, \n",
    "                    sampling_strategy    = 'all' )\n",
    "\n",
    "x_train_smote_tomek, y_train_smote_tomek = os_us.fit_resample( x_train, y_train )"
   ]
  },
  {
   "cell_type": "markdown",
   "id": "75b82058",
   "metadata": {},
   "source": [
    "#### 3.2 SMOTE"
   ]
  },
  {
   "cell_type": "code",
   "execution_count": 11,
   "id": "c7462fd1",
   "metadata": {},
   "outputs": [],
   "source": [
    "os_us = SMOTE( random_state      = 2023, \n",
    "               sampling_strategy = 'all' )\n",
    "\n",
    "x_train_smote, y_train_smote = os_us.fit_resample( x_train, y_train )"
   ]
  },
  {
   "cell_type": "markdown",
   "id": "6fb3fd42",
   "metadata": {},
   "source": [
    "#### 3.3 Naive random sampling"
   ]
  },
  {
   "cell_type": "code",
   "execution_count": 12,
   "id": "e027eb29",
   "metadata": {},
   "outputs": [],
   "source": [
    "from imblearn.over_sampling import RandomOverSampler\n",
    "\n",
    "ros = RandomOverSampler( random_state = 2023 )\n",
    "\n",
    "x_train_ros, y_train_ros = ros.fit_resample( x_train, y_train )"
   ]
  },
  {
   "cell_type": "markdown",
   "id": "404a91fe-cce0-4dd1-b667-f9d0374ef431",
   "metadata": {},
   "source": [
    "### 3.4. Check data and variables percentage"
   ]
  },
  {
   "cell_type": "code",
   "execution_count": 13,
   "id": "acbb43ac-4c67-4799-8f55-dd3bf03b1032",
   "metadata": {},
   "outputs": [
    {
     "data": {
      "text/html": [
       "<div>\n",
       "<style scoped>\n",
       "    .dataframe tbody tr th:only-of-type {\n",
       "        vertical-align: middle;\n",
       "    }\n",
       "\n",
       "    .dataframe tbody tr th {\n",
       "        vertical-align: top;\n",
       "    }\n",
       "\n",
       "    .dataframe thead th {\n",
       "        text-align: right;\n",
       "    }\n",
       "</style>\n",
       "<table border=\"1\" class=\"dataframe\">\n",
       "  <thead>\n",
       "    <tr style=\"text-align: right;\">\n",
       "      <th></th>\n",
       "      <th>observaciones</th>\n",
       "      <th>variables</th>\n",
       "      <th>Nro. No</th>\n",
       "      <th>Nro. Si</th>\n",
       "    </tr>\n",
       "  </thead>\n",
       "  <tbody>\n",
       "    <tr>\n",
       "      <th>Original</th>\n",
       "      <td>1036.0</td>\n",
       "      <td>14503.0</td>\n",
       "      <td>302.0</td>\n",
       "      <td>734.0</td>\n",
       "    </tr>\n",
       "    <tr>\n",
       "      <th>SMOTE</th>\n",
       "      <td>1468.0</td>\n",
       "      <td>14503.0</td>\n",
       "      <td>734.0</td>\n",
       "      <td>734.0</td>\n",
       "    </tr>\n",
       "    <tr>\n",
       "      <th>SOMTE Tomek</th>\n",
       "      <td>1270.0</td>\n",
       "      <td>14503.0</td>\n",
       "      <td>635.0</td>\n",
       "      <td>635.0</td>\n",
       "    </tr>\n",
       "    <tr>\n",
       "      <th>NRS</th>\n",
       "      <td>1468.0</td>\n",
       "      <td>14503.0</td>\n",
       "      <td>734.0</td>\n",
       "      <td>734.0</td>\n",
       "    </tr>\n",
       "  </tbody>\n",
       "</table>\n",
       "</div>"
      ],
      "text/plain": [
       "             observaciones  variables  Nro. No  Nro. Si\n",
       "Original            1036.0    14503.0    302.0    734.0\n",
       "SMOTE               1468.0    14503.0    734.0    734.0\n",
       "SOMTE Tomek         1270.0    14503.0    635.0    635.0\n",
       "NRS                 1468.0    14503.0    734.0    734.0"
      ]
     },
     "execution_count": 13,
     "metadata": {},
     "output_type": "execute_result"
    }
   ],
   "source": [
    "check_data      = np.zeros( ( 4, 4 ) )\n",
    "\n",
    "check_data[ 0 ] = [ x_train.shape[ 0 ], x_train.shape[ 1 ], \n",
    "                    y_train.value_counts()[ 0 ], y_train.value_counts()[ 1 ] ]\n",
    "\n",
    "check_data[ 1 ] = [ x_train_smote.shape[ 0 ], x_train_smote.shape[ 1 ], \n",
    "                    y_train_smote.value_counts()[ 0 ], y_train_smote.value_counts()[ 1 ] ]\n",
    "\n",
    "check_data[ 2 ] = [ x_train_smote_tomek.shape[ 0 ], x_train_smote_tomek.shape[ 1 ],\n",
    "                    y_train_smote_tomek.value_counts()[ 0 ], y_train_smote_tomek.value_counts()[ 1 ] ]\n",
    "\n",
    "check_data[ 3 ] = [ x_train_ros.shape[ 0 ], x_train_ros.shape[ 1 ],\n",
    "                    y_train_ros.value_counts()[ 0 ], y_train_ros.value_counts()[ 1 ] ]\n",
    "\n",
    "colnames        = [ 'observaciones', 'variables', 'Nro. No', 'Nro. Si' ]\n",
    "\n",
    "rownames        = [ 'Original',\n",
    "                    'SMOTE',\n",
    "                    'SOMTE Tomek',\n",
    "                    'NRS' ]\n",
    "\n",
    "table_check_data = pd.DataFrame( check_data, columns = colnames )\n",
    "table_check_data.index = rownames\n",
    "table_check_data"
   ]
  },
  {
   "cell_type": "code",
   "execution_count": 14,
   "id": "ec96fa67-ec1b-4587-914d-38739a5eb4c2",
   "metadata": {},
   "outputs": [
    {
     "name": "stdout",
     "output_type": "stream",
     "text": [
      "2900.6\n",
      "4350.9\n",
      "5801.2\n"
     ]
    }
   ],
   "source": [
    "# Calculate the percentage of variables to be included for the original dataset\n",
    "\n",
    "o_20 = 20*x_train.shape[ 1 ]/100\n",
    "o_30 = 30*x_train.shape[ 1 ]/100\n",
    "o_40 = 40*x_train.shape[ 1 ]/100\n",
    "\n",
    "print( o_20, o_30, o_40, sep = '\\n' )"
   ]
  },
  {
   "cell_type": "markdown",
   "id": "9119dc4d-eb22-4211-a9f3-2db9e439b153",
   "metadata": {},
   "source": [
    "## 4. Logistic Regression"
   ]
  },
  {
   "cell_type": "code",
   "execution_count": 15,
   "id": "aeb21e21-716a-405c-bc9e-4f82a8f9f9bb",
   "metadata": {},
   "outputs": [],
   "source": [
    "from sklearn.linear_model import LogisticRegression\n",
    "from sklearn.metrics import accuracy_score, confusion_matrix, log_loss, roc_auc_score\n",
    "from sklearn.metrics import classification_report\n",
    "from sklearn.metrics import f1_score"
   ]
  },
  {
   "cell_type": "code",
   "execution_count": 16,
   "id": "f11d31af-c0fe-47d4-b586-a7d701a83c7f",
   "metadata": {},
   "outputs": [
    {
     "name": "stdout",
     "output_type": "stream",
     "text": [
      "Wall time: 17.2 s\n"
     ]
    }
   ],
   "source": [
    "%%time\n",
    "\n",
    "# Implementing the model\n",
    "lg_model_o          = LogisticRegression( random_state = 2023 ).fit( x_train, y_train )\n",
    "lg_model_s          = LogisticRegression( random_state = 2023 ).fit( x_train_smote, y_train_smote )\n",
    "lg_model_st         = LogisticRegression( random_state = 2023 ).fit( x_train_smote_tomek, y_train_smote_tomek )\n",
    "lg_model_nrs        = LogisticRegression( random_state = 2023 ).fit( x_train_ros, y_train_ros )\n",
    "\n",
    "# Predict over test set\n",
    "y_lg_pred_class_o   = lg_model_o.predict( x_test )\n",
    "y_lg_pred_prob_o    = lg_model_o.predict_proba( x_test )[ :, 1 ]\n",
    "\n",
    "y_lg_pred_class_s   = lg_model_s.predict( x_test )\n",
    "y_lg_pred_prob_s    = lg_model_s.predict_proba( x_test )[ :, 1 ]\n",
    "\n",
    "y_lg_pred_class_st  = lg_model_st.predict( x_test )\n",
    "y_lg_pred_prob_st   = lg_model_st.predict_proba( x_test )[ :, 1 ]\n",
    "\n",
    "y_lg_pred_class_nrs = lg_model_nrs.predict( x_test )\n",
    "y_lg_pred_prob_nrs  = lg_model_nrs.predict_proba( x_test )[ :, 1 ]"
   ]
  },
  {
   "cell_type": "code",
   "execution_count": 19,
   "id": "40a9e318-0744-40f7-9f85-2f3c7b9ebd78",
   "metadata": {},
   "outputs": [],
   "source": [
    "# Calculating clasiffication report\n",
    "columns             = [ 'no', 'si' ]\n",
    "lg_report_o         = classification_report( y_test, y_lg_pred_class_o, target_names = columns, output_dict = True )\n",
    "lg_report_s         = classification_report( y_test, y_lg_pred_class_s, target_names = columns, output_dict = True )\n",
    "lg_report_st        = classification_report( y_test, y_lg_pred_class_st, target_names = columns, output_dict = True )\n",
    "lg_report_nrs       = classification_report( y_test, y_lg_pred_class_nrs, target_names = columns, output_dict = True )\n",
    "\n",
    "# Calculating metrics for the original model\n",
    "lg_no_precision_o   = lg_report_o[ 'no' ][ 'precision' ]\n",
    "lg_no_recall_o      = lg_report_o[ 'no' ][ 'recall' ]\n",
    "lg_no_f1_score_o    = lg_report_o[ 'no' ][ 'f1-score' ]\n",
    "\n",
    "lg_si_precision_o   = lg_report_o[ 'si' ][ 'precision' ]\n",
    "lg_si_recall_o      = lg_report_o[ 'si' ][ 'recall' ]\n",
    "lg_si_f1_score_o    = lg_report_o[ 'si' ][ 'f1-score' ]\n",
    "\n",
    "accuracy_lg_o       = accuracy_score( y_test, y_lg_pred_class_o )\n",
    "log_loss_lg_o       = log_loss( y_test, y_lg_pred_class_o )\n",
    "roc_auc_lg_o        = roc_auc_score( y_test, y_lg_pred_prob_o )\n",
    "f1_score_lg_o       = f1_score( y_test, y_lg_pred_class_s, average = 'macro' )\n",
    "\n",
    "# Calculating metrics for the SMOTE model\n",
    "lg_no_precision_s   = lg_report_s[ 'no' ][ 'precision' ]\n",
    "lg_no_recall_s      = lg_report_s[ 'no' ][ 'recall' ]\n",
    "lg_no_f1_score_s    = lg_report_s[ 'no' ][ 'f1-score' ]\n",
    "\n",
    "lg_si_precision_s   = lg_report_s[ 'si' ][ 'precision' ]\n",
    "lg_si_recall_s      = lg_report_s[ 'si' ][ 'recall' ]\n",
    "lg_si_f1_score_s    = lg_report_s[ 'si' ][ 'f1-score' ]\n",
    "\n",
    "accuracy_lg_s       = accuracy_score( y_test, y_lg_pred_class_s )\n",
    "log_loss_lg_s       = log_loss( y_test, y_lg_pred_class_s )\n",
    "roc_auc_lg_s        = roc_auc_score( y_test, y_lg_pred_prob_s )\n",
    "f1_score_lg_s       = f1_score( y_test, y_lg_pred_class_s, average = 'macro' )\n",
    "\n",
    "# Calculating metrics for the SMOTE Tomek model\n",
    "lg_no_precision_st  = lg_report_st[ 'no' ][ 'precision' ]\n",
    "lg_no_recall_st     = lg_report_st[ 'no' ][ 'recall' ]\n",
    "lg_no_f1_score_st   = lg_report_st[ 'no' ][ 'f1-score' ]\n",
    "\n",
    "lg_si_precision_st  = lg_report_st[ 'si' ][ 'precision' ]\n",
    "lg_si_recall_st     = lg_report_st[ 'si' ][ 'recall' ]\n",
    "lg_si_f1_score_st   = lg_report_st[ 'si' ][ 'f1-score' ]\n",
    "\n",
    "accuracy_lg_st      = accuracy_score( y_test, y_lg_pred_class_st )\n",
    "log_loss_lg_st      = log_loss( y_test, y_lg_pred_class_st )\n",
    "roc_auc_lg_st       = roc_auc_score( y_test, y_lg_pred_prob_st )\n",
    "f1_score_lg_st      = f1_score( y_test, y_lg_pred_class_st, average = 'macro' )\n",
    "\n",
    "# Calculating metrics for the NRS model\n",
    "lg_no_precision_nrs = lg_report_st[ 'no' ][ 'precision' ]\n",
    "lg_no_recall_nrs    = lg_report_st[ 'no' ][ 'recall' ]\n",
    "lg_no_f1_score_nrs  = lg_report_st[ 'no' ][ 'f1-score' ]\n",
    "\n",
    "lg_si_precision_nrs = lg_report_st[ 'si' ][ 'precision' ]\n",
    "lg_si_recall_nrs    = lg_report_st[ 'si' ][ 'recall' ]\n",
    "lg_si_f1_score_nrs  = lg_report_st[ 'si' ][ 'f1-score' ]\n",
    "\n",
    "accuracy_lg_nrs     = accuracy_score( y_test, y_lg_pred_class_nrs )\n",
    "log_loss_lg_nrs     = log_loss( y_test, y_lg_pred_class_nrs )\n",
    "roc_auc_lg_nrs      = roc_auc_score( y_test, y_lg_pred_prob_nrs )\n",
    "f1_score_lg_nrs     = f1_score( y_test, y_lg_pred_class_nrs, average = 'macro' )"
   ]
  },
  {
   "cell_type": "markdown",
   "id": "bc75946b-4aa1-46f9-b7ae-12764e6aabfd",
   "metadata": {},
   "source": [
    "## 5. Regularization Methods (Lasso, Ridge and Elastic Net)"
   ]
  },
  {
   "cell_type": "code",
   "execution_count": 30,
   "id": "6e1962f4-dd16-4777-a590-d89cea9d0b52",
   "metadata": {},
   "outputs": [],
   "source": [
    "from sklearn.linear_model import LogisticRegressionCV\n",
    "from sklearn.model_selection import GridSearchCV"
   ]
  },
  {
   "cell_type": "markdown",
   "id": "3f31b8ce-4aee-48b8-bdce-dd858441f8b6",
   "metadata": {},
   "source": [
    "## 5.1. Lasso"
   ]
  },
  {
   "cell_type": "code",
   "execution_count": 18,
   "id": "9c71c8f6-79a9-4242-9932-5514c2a74488",
   "metadata": {
    "tags": []
   },
   "outputs": [
    {
     "name": "stdout",
     "output_type": "stream",
     "text": [
      "Wall time: 1h 5min 47s\n"
     ]
    }
   ],
   "source": [
    "%%time\n",
    "\n",
    "# Implementing the model\n",
    "lasso_model_o          = LogisticRegressionCV( penalty = 'l1', solver = 'saga', cv = 10, random_state = 2023, n_jobs = -1 ).\\\n",
    "                                          fit( x_train, y_train )\n",
    "\n",
    "lasso_model_s          = LogisticRegressionCV( penalty = 'l1', solver = 'saga', cv = 10, random_state = 2023, n_jobs = -1 ).\\\n",
    "                                          fit( x_train_smote, y_train_smote )\n",
    "\n",
    "lasso_model_st         = LogisticRegressionCV( penalty = 'l1', solver = 'saga', cv = 10, random_state = 2023, n_jobs = -1 ).\\\n",
    "                                          fit( x_train_smote_tomek, y_train_smote_tomek )\n",
    "\n",
    "lasso_model_nrs        = LogisticRegressionCV( penalty = 'l1', solver = 'saga', cv = 10, random_state = 2023, n_jobs = -1 ).\\\n",
    "                                          fit( x_train_ros, y_train_ros )\n",
    "\n",
    "# Predict over test set\n",
    "y_lasso_pred_class_o   = lasso_model_o.predict( x_test )\n",
    "y_lasso_pred_prob_o    = lasso_model_o.predict_proba( x_test )[ :, 1 ]\n",
    "\n",
    "y_lasso_pred_class_s   = lasso_model_s.predict( x_test )\n",
    "y_lasso_pred_prob_s    = lasso_model_s.predict_proba( x_test )[ :, 1 ]\n",
    "\n",
    "y_lasso_pred_class_st  = lasso_model_st.predict( x_test )\n",
    "y_lasso_pred_prob_st   = lasso_model_st.predict_proba( x_test )[ :, 1 ]\n",
    "\n",
    "y_lasso_pred_class_nrs = lasso_model_nrs.predict( x_test )\n",
    "y_lasso_pred_prob_nrs  = lasso_model_nrs.predict_proba( x_test )[ :, 1 ]"
   ]
  },
  {
   "cell_type": "code",
   "execution_count": 19,
   "id": "a07d1fb4-57c2-4acb-97da-0331b5ef4a48",
   "metadata": {},
   "outputs": [],
   "source": [
    "# Calculating clasiffication report\n",
    "columns                = [ 'no', 'si' ]\n",
    "lasso_report_o         = classification_report( y_test, y_lasso_pred_class_o, target_names = columns, output_dict = True )\n",
    "lasso_report_s         = classification_report( y_test, y_lasso_pred_class_s, target_names = columns, output_dict = True )\n",
    "lasso_report_st        = classification_report( y_test, y_lasso_pred_class_st, target_names = columns, output_dict = True )\n",
    "lasso_report_nrs       = classification_report( y_test, y_lasso_pred_class_nrs, target_names = columns, output_dict = True )\n",
    "\n",
    "# Calculating metrics for the original model\n",
    "lasso_no_precision_o   = lasso_report_o[ 'no' ][ 'precision' ]\n",
    "lasso_no_recall_o      = lasso_report_o[ 'no' ][ 'recall' ]\n",
    "lasso_no_f1_score_o    = lasso_report_o[ 'no' ][ 'f1-score' ]\n",
    "\n",
    "lasso_si_precision_o   = lasso_report_o[ 'si' ][ 'precision' ]\n",
    "lasso_si_recall_o      = lasso_report_o[ 'si' ][ 'recall' ]\n",
    "lasso_si_f1_score_o    = lasso_report_o[ 'si' ][ 'f1-score' ]\n",
    "\n",
    "accuracy_lasso_o       = accuracy_score( y_test, y_lasso_pred_class_o )\n",
    "log_loss_lasso_o       = log_loss( y_test, y_lasso_pred_class_o )\n",
    "roc_auc_lasso_o        = roc_auc_score( y_test, y_lasso_pred_prob_o )\n",
    "f1_score_lasso_o       = f1_score( y_test, y_lasso_pred_class_o, average = 'macro' )\n",
    "\n",
    "# Calculating metrics for the SMOTE model\n",
    "lasso_no_precision_s   = lasso_report_s[ 'no' ][ 'precision' ]\n",
    "lasso_no_recall_s      = lasso_report_s[ 'no' ][ 'recall' ]\n",
    "lasso_no_f1_score_s    = lasso_report_s[ 'no' ][ 'f1-score' ]\n",
    "\n",
    "lasso_si_precision_s   = lasso_report_s[ 'si' ][ 'precision' ]\n",
    "lasso_si_recall_s      = lasso_report_s[ 'si' ][ 'recall' ]\n",
    "lasso_si_f1_score_s    = lasso_report_s[ 'si' ][ 'f1-score' ]\n",
    "\n",
    "accuracy_lasso_s       = accuracy_score( y_test, y_lasso_pred_class_s )\n",
    "log_loss_lasso_s       = log_loss( y_test, y_lasso_pred_class_s )\n",
    "roc_auc_lasso_s        = roc_auc_score( y_test, y_lasso_pred_prob_s )\n",
    "f1_score_lasso_s       = f1_score( y_test, y_lasso_pred_class_s, average = 'macro' )\n",
    "\n",
    "# Calculating metrics for the SMOTE Tomek model\n",
    "lasso_no_precision_st  = lasso_report_st[ 'no' ][ 'precision' ]\n",
    "lasso_no_recall_st     = lasso_report_st[ 'no' ][ 'recall' ]\n",
    "lasso_no_f1_score_st   = lasso_report_st[ 'no' ][ 'f1-score' ]\n",
    "\n",
    "lasso_si_precision_st  = lasso_report_st[ 'si' ][ 'precision' ]\n",
    "lasso_si_recall_st     = lasso_report_st[ 'si' ][ 'recall' ]\n",
    "lasso_si_f1_score_st   = lasso_report_st[ 'si' ][ 'f1-score' ]\n",
    "\n",
    "accuracy_lasso_st      = accuracy_score( y_test, y_lasso_pred_class_st )\n",
    "log_loss_lasso_st      = log_loss( y_test, y_lasso_pred_class_st )\n",
    "roc_auc_lasso_st       = roc_auc_score( y_test, y_lasso_pred_prob_st )\n",
    "f1_score_lasso_st      = f1_score( y_test, y_lasso_pred_class_st, average = 'macro' )\n",
    "\n",
    "# Calculating metrics for the NRS model\n",
    "lasso_no_precision_nrs = lasso_report_nrs[ 'no' ][ 'precision' ]\n",
    "lasso_no_recall_nrs    = lasso_report_nrs[ 'no' ][ 'recall' ]\n",
    "lasso_no_f1_score_nrs  = lasso_report_nrs[ 'no' ][ 'f1-score' ]\n",
    "\n",
    "lasso_si_precision_nrs = lasso_report_nrs[ 'si' ][ 'precision' ]\n",
    "lasso_si_recall_nrs = lasso_report_nrs[ 'si' ][ 'recall' ]\n",
    "lasso_si_f1_score_nrs = lasso_report_nrs[ 'si' ][ 'f1-score' ]\n",
    "\n",
    "accuracy_lasso_nrs = accuracy_score( y_test, y_lasso_pred_class_nrs )\n",
    "log_loss_lasso_nrs = log_loss( y_test, y_lasso_pred_class_nrs )\n",
    "roc_auc_lasso_nrs = roc_auc_score( y_test, y_lasso_pred_prob_nrs )\n",
    "f1_score_lasso_nrs = f1_score( y_test, y_lasso_pred_class_nrs, average = 'macro' )"
   ]
  },
  {
   "cell_type": "code",
   "execution_count": 20,
   "id": "471d4a00-bc34-4d66-a98b-317800c101e9",
   "metadata": {},
   "outputs": [],
   "source": [
    "# coef_series = pd.DataFrame( data = lasso_model_o.coef_.reshape(-1, 1), index = lasso_model_o.feature_names_in_ )\n",
    "# a = coef_series.sort_values(by=0, ascending = False, key = abs )\n",
    "# a.to_excel('a.xlsx')"
   ]
  },
  {
   "cell_type": "markdown",
   "id": "c7fb248f-7bdf-4759-8fb2-cea5b6caac44",
   "metadata": {},
   "source": [
    "## 5.2. Ridge"
   ]
  },
  {
   "cell_type": "code",
   "execution_count": 21,
   "id": "bfa5f976-95a6-4d89-b3ce-b1696e1ea7b8",
   "metadata": {
    "tags": []
   },
   "outputs": [
    {
     "name": "stdout",
     "output_type": "stream",
     "text": [
      "Wall time: 37min 16s\n"
     ]
    }
   ],
   "source": [
    "%%time\n",
    "\n",
    "# Implementing the model\n",
    "ridge_model_o          = LogisticRegressionCV( penalty = 'l2', solver = 'saga', cv = 10, random_state = 2023, n_jobs = -1 ).\\\n",
    "                                          fit( x_train, y_train )\n",
    "\n",
    "ridge_model_s          = LogisticRegressionCV( penalty = 'l2', solver = 'saga', cv = 10, random_state = 2023, n_jobs = -1 ).\\\n",
    "                                          fit( x_train_smote, y_train_smote )\n",
    "\n",
    "ridge_model_st         = LogisticRegressionCV( penalty = 'l2', solver = 'saga', cv = 10, random_state = 2023, n_jobs = -1 ).\\\n",
    "                                          fit( x_train_smote_tomek, y_train_smote_tomek )\n",
    "\n",
    "ridge_model_nrs        = LogisticRegressionCV( penalty = 'l2', solver = 'saga', cv = 10, random_state = 2023, n_jobs = -1 ).\\\n",
    "                                          fit( x_train_ros, y_train_ros )\n",
    "\n",
    "# Predict over test set\n",
    "y_ridge_pred_class_o   = ridge_model_o.predict( x_test )\n",
    "y_ridge_pred_prob_o    = ridge_model_o.predict_proba( x_test )[ :, 1 ]\n",
    "\n",
    "y_ridge_pred_class_s   = ridge_model_s.predict( x_test )\n",
    "y_ridge_pred_prob_s    = ridge_model_s.predict_proba( x_test )[ :, 1 ]\n",
    "\n",
    "y_ridge_pred_class_st  = ridge_model_st.predict( x_test )\n",
    "y_ridge_pred_prob_st   = ridge_model_st.predict_proba( x_test )[ :, 1 ]\n",
    "\n",
    "y_ridge_pred_class_nrs = ridge_model_nrs.predict( x_test )\n",
    "y_ridge_pred_prob_nrs  = ridge_model_nrs.predict_proba( x_test )[ :, 1 ]"
   ]
  },
  {
   "cell_type": "code",
   "execution_count": 22,
   "id": "12c61469-f89e-42f5-b978-e3140a42f728",
   "metadata": {},
   "outputs": [],
   "source": [
    "# Calculating clasiffication report\n",
    "columns                = [ 'no', 'si' ]\n",
    "ridge_report_o         = classification_report( y_test, y_ridge_pred_class_o, target_names = columns, output_dict = True )\n",
    "ridge_report_s         = classification_report( y_test, y_ridge_pred_class_s, target_names = columns, output_dict = True )\n",
    "ridge_report_st        = classification_report( y_test, y_ridge_pred_class_st, target_names = columns, output_dict = True )\n",
    "ridge_report_nrs       = classification_report( y_test, y_ridge_pred_class_nrs, target_names = columns, output_dict = True )\n",
    "\n",
    "# Calculating metrics for the original model\n",
    "ridge_no_precision_o   = ridge_report_o[ 'no' ][ 'precision' ]\n",
    "ridge_no_recall_o      = ridge_report_o[ 'no' ][ 'recall' ]\n",
    "ridge_no_f1_score_o    = ridge_report_o[ 'no' ][ 'f1-score' ]\n",
    "\n",
    "ridge_si_precision_o   = ridge_report_o[ 'si' ][ 'precision' ]\n",
    "ridge_si_recall_o      = ridge_report_o[ 'si' ][ 'recall' ]\n",
    "ridge_si_f1_score_o    = ridge_report_o[ 'si' ][ 'f1-score' ]\n",
    "\n",
    "accuracy_ridge_o       = accuracy_score( y_test, y_ridge_pred_class_o )\n",
    "log_loss_ridge_o       = log_loss( y_test, y_ridge_pred_class_o )\n",
    "roc_auc_ridge_o        = roc_auc_score( y_test, y_ridge_pred_prob_o )\n",
    "f1_score_ridge_o       = f1_score( y_test, y_ridge_pred_class_o, average = 'macro' )\n",
    "\n",
    "# Calculating metrics for the SMOTE model\n",
    "ridge_no_precision_s   = ridge_report_s[ 'no' ][ 'precision' ]\n",
    "ridge_no_recall_s      = ridge_report_s[ 'no' ][ 'recall' ]\n",
    "ridge_no_f1_score_s    = ridge_report_s[ 'no' ][ 'f1-score' ]\n",
    "\n",
    "ridge_si_precision_s   = ridge_report_s[ 'si' ][ 'precision' ]\n",
    "ridge_si_recall_s      = ridge_report_s[ 'si' ][ 'recall' ]\n",
    "ridge_si_f1_score_s    = ridge_report_s[ 'si' ][ 'f1-score' ]\n",
    "\n",
    "accuracy_ridge_s       = accuracy_score( y_test, y_ridge_pred_class_s )\n",
    "log_loss_ridge_s       = log_loss( y_test, y_ridge_pred_class_s )\n",
    "roc_auc_ridge_s        = roc_auc_score( y_test, y_ridge_pred_prob_s )\n",
    "f1_score_ridge_s       = f1_score( y_test, y_ridge_pred_class_s, average = 'macro' )\n",
    "\n",
    "# Calculating metrics for the SMOTE Tomek model\n",
    "ridge_no_precision_st  = ridge_report_st[ 'no' ][ 'precision' ]\n",
    "ridge_no_recall_st     = ridge_report_st[ 'no' ][ 'recall' ]\n",
    "ridge_no_f1_score_st   = ridge_report_st[ 'no' ][ 'f1-score' ]\n",
    "\n",
    "ridge_si_precision_st  = ridge_report_st[ 'si' ][ 'precision' ]\n",
    "ridge_si_recall_st     = ridge_report_st[ 'si' ][ 'recall' ]\n",
    "ridge_si_f1_score_st   = ridge_report_st[ 'si' ][ 'f1-score' ]\n",
    "\n",
    "accuracy_ridge_st      = accuracy_score( y_test, y_ridge_pred_class_st )\n",
    "log_loss_ridge_st      = log_loss( y_test, y_ridge_pred_class_st )\n",
    "roc_auc_ridge_st       = roc_auc_score( y_test, y_ridge_pred_prob_st )\n",
    "f1_score_ridge_st      = f1_score( y_test, y_ridge_pred_class_st, average = 'macro' )\n",
    "\n",
    "# Calculating metrics for the NRS model\n",
    "ridge_no_precision_nrs = ridge_report_nrs[ 'no' ][ 'precision' ]\n",
    "ridge_no_recall_nrs    = ridge_report_nrs[ 'no' ][ 'recall' ]\n",
    "ridge_no_f1_score_nrs  = ridge_report_nrs[ 'no' ][ 'f1-score' ]\n",
    "\n",
    "ridge_si_precision_nrs = ridge_report_nrs[ 'si' ][ 'precision' ]\n",
    "ridge_si_recall_nrs    = ridge_report_nrs[ 'si' ][ 'recall' ]\n",
    "ridge_si_f1_score_nrs  = ridge_report_nrs[ 'si' ][ 'f1-score' ]\n",
    "\n",
    "accuracy_ridge_nrs     = accuracy_score( y_test, y_ridge_pred_class_nrs )\n",
    "log_loss_ridge_nrs     = log_loss( y_test, y_ridge_pred_class_nrs )\n",
    "roc_auc_ridge_nrs      = roc_auc_score( y_test, y_ridge_pred_prob_nrs )\n",
    "f1_score_ridge_nrs     = f1_score( y_test, y_ridge_pred_class_nrs, average = 'macro' )"
   ]
  },
  {
   "cell_type": "markdown",
   "id": "6bdc9cf1-c42c-402e-b703-74549afd90b0",
   "metadata": {},
   "source": [
    "### 5.3. Elastic Net"
   ]
  },
  {
   "cell_type": "code",
   "execution_count": 23,
   "id": "fd032ec1-7426-4e5f-a95a-03ba52f460c5",
   "metadata": {},
   "outputs": [
    {
     "name": "stdout",
     "output_type": "stream",
     "text": [
      "Wall time: 1h 37s\n"
     ]
    }
   ],
   "source": [
    "%%time\n",
    "\n",
    "# Implementing the model\n",
    "elasticnet_model_o          = LogisticRegressionCV( penalty = 'elasticnet', solver = 'saga', cv = 10, random_state = 2023, l1_ratios = [ 0.5 ], n_jobs = -1 ).\\\n",
    "                                               fit( x_train, y_train )\n",
    "\n",
    "elasticnet_model_s          = LogisticRegressionCV( penalty = 'elasticnet', solver = 'saga', cv = 10, random_state = 2023, l1_ratios = [ 0.5 ], n_jobs = -1 ).\\\n",
    "                                               fit( x_train_smote, y_train_smote )\n",
    "\n",
    "elasticnet_model_st         = LogisticRegressionCV( penalty = 'elasticnet', solver = 'saga', cv = 10, random_state = 2023, l1_ratios = [ 0.5 ], n_jobs = -1 ).\\\n",
    "                                               fit( x_train_smote_tomek, y_train_smote_tomek )\n",
    "\n",
    "elasticnet_model_nrs        = LogisticRegressionCV( penalty = 'elasticnet', solver = 'saga', cv = 10, random_state = 2023, l1_ratios = [ 0.5 ], n_jobs = -1 ).\\\n",
    "                                               fit( x_train_ros, y_train_ros )\n",
    "\n",
    "\n",
    "# Predict over test set\n",
    "y_elasticnet_pred_class_o   = elasticnet_model_o.predict( x_test )\n",
    "y_elasticnet_pred_prob_o    = elasticnet_model_o.predict_proba( x_test )[ :, 1 ]\n",
    "\n",
    "y_elasticnet_pred_class_s   = elasticnet_model_s.predict( x_test )\n",
    "y_elasticnet_pred_prob_s    = elasticnet_model_s.predict_proba( x_test )[ :, 1 ]\n",
    "\n",
    "y_elasticnet_pred_class_st  = elasticnet_model_st.predict( x_test )\n",
    "y_elasticnet_pred_prob_st   = elasticnet_model_st.predict_proba( x_test )[ :, 1 ]\n",
    "\n",
    "y_elasticnet_pred_class_nrs = elasticnet_model_nrs.predict( x_test )\n",
    "y_elasticnet_pred_prob_nrs  = elasticnet_model_nrs.predict_proba( x_test )[ :, 1 ]"
   ]
  },
  {
   "cell_type": "code",
   "execution_count": 24,
   "id": "ca900f1c-144a-4d4d-acaa-1007b98d5251",
   "metadata": {},
   "outputs": [],
   "source": [
    "# Calculating clasiffication report\n",
    "columns                     = [ 'no', 'si' ]\n",
    "elasticnet_report_o         = classification_report( y_test, y_elasticnet_pred_class_o, target_names = columns, output_dict = True )\n",
    "elasticnet_report_s         = classification_report( y_test, y_elasticnet_pred_class_s, target_names = columns, output_dict = True )\n",
    "elasticnet_report_st        = classification_report( y_test, y_elasticnet_pred_class_st, target_names = columns, output_dict = True )\n",
    "elasticnet_report_nrs       = classification_report( y_test, y_elasticnet_pred_class_nrs, target_names = columns, output_dict = True )\n",
    "\n",
    "# Calculating metrics for the original model\n",
    "elasticnet_no_precision_o   = elasticnet_report_o[ 'no' ][ 'precision' ]\n",
    "elasticnet_no_recall_o      = elasticnet_report_o[ 'no' ][ 'recall' ]\n",
    "elasticnet_no_f1_score_o    = elasticnet_report_o[ 'no' ][ 'f1-score' ]\n",
    "\n",
    "elasticnet_si_precision_o   = elasticnet_report_o[ 'si' ][ 'precision' ]\n",
    "elasticnet_si_recall_o      = elasticnet_report_o[ 'si' ][ 'recall' ]\n",
    "elasticnet_si_f1_score_o    = elasticnet_report_o[ 'si' ][ 'f1-score' ]\n",
    "\n",
    "accuracy_elasticnet_o       = accuracy_score( y_test, y_elasticnet_pred_class_o )\n",
    "log_loss_elasticnet_o       = log_loss( y_test, y_elasticnet_pred_class_o )\n",
    "roc_auc_elasticnet_o        = roc_auc_score( y_test, y_elasticnet_pred_prob_o )\n",
    "f1_score_elasticnet_o       = f1_score( y_test, y_elasticnet_pred_class_o, average = 'macro' )\n",
    "\n",
    "# Calculating metrics for the SMOTE model\n",
    "elasticnet_no_precision_s   = elasticnet_report_s[ 'no' ][ 'precision' ]\n",
    "elasticnet_no_recall_s      = elasticnet_report_s[ 'no' ][ 'recall' ]\n",
    "elasticnet_no_f1_score_s    = elasticnet_report_s[ 'no' ][ 'f1-score' ]\n",
    "\n",
    "elasticnet_si_precision_s   = elasticnet_report_s[ 'si' ][ 'precision' ]\n",
    "elasticnet_si_recall_s      = elasticnet_report_s[ 'si' ][ 'recall' ]\n",
    "elasticnet_si_f1_score_s    = elasticnet_report_s[ 'si' ][ 'f1-score' ]\n",
    "\n",
    "accuracy_elasticnet_s       = accuracy_score( y_test, y_elasticnet_pred_class_s )\n",
    "log_loss_elasticnet_s       = log_loss( y_test, y_elasticnet_pred_class_s )\n",
    "roc_auc_elasticnet_s        = roc_auc_score( y_test, y_elasticnet_pred_prob_s )\n",
    "f1_score_elasticnet_s       = f1_score( y_test, y_elasticnet_pred_class_s, average = 'macro' )\n",
    "\n",
    "# Calculating metrics for the SMOTE Tomek model\n",
    "elasticnet_no_precision_st  = elasticnet_report_st[ 'no' ][ 'precision' ]\n",
    "elasticnet_no_recall_st     = elasticnet_report_st[ 'no' ][ 'recall' ]\n",
    "elasticnet_no_f1_score_st   = elasticnet_report_st[ 'no' ][ 'f1-score' ]\n",
    "\n",
    "elasticnet_si_precision_st  = elasticnet_report_st[ 'si' ][ 'precision' ]\n",
    "elasticnet_si_recall_st     = elasticnet_report_st[ 'si' ][ 'recall' ]\n",
    "elasticnet_si_f1_score_st   = elasticnet_report_st[ 'si' ][ 'f1-score' ]\n",
    "\n",
    "accuracy_elasticnet_st      = accuracy_score( y_test, y_elasticnet_pred_class_st )\n",
    "log_loss_elasticnet_st      = log_loss( y_test, y_elasticnet_pred_class_st )\n",
    "roc_auc_elasticnet_st       = roc_auc_score( y_test, y_elasticnet_pred_prob_st )\n",
    "f1_score_elasticnet_st      = f1_score( y_test, y_elasticnet_pred_class_st, average = 'macro' )\n",
    "\n",
    "# Calculating metrics for the NRS model\n",
    "elasticnet_no_precision_nrs = elasticnet_report_nrs[ 'no' ][ 'precision' ]\n",
    "elasticnet_no_recall_nrs    = elasticnet_report_nrs[ 'no' ][ 'recall' ]\n",
    "elasticnet_no_f1_score_nrs  = elasticnet_report_nrs[ 'no' ][ 'f1-score' ]\n",
    "\n",
    "elasticnet_si_precision_nrs = elasticnet_report_nrs[ 'si' ][ 'precision' ]\n",
    "elasticnet_si_recall_nrs    = elasticnet_report_nrs[ 'si' ][ 'recall' ]\n",
    "elasticnet_si_f1_score_nrs  = elasticnet_report_nrs[ 'si' ][ 'f1-score' ]\n",
    "\n",
    "accuracy_elasticnet_nrs     = accuracy_score( y_test, y_elasticnet_pred_class_nrs )\n",
    "log_loss_elasticnet_nrs     = log_loss( y_test, y_elasticnet_pred_class_nrs )\n",
    "roc_auc_elasticnet_nrs      = roc_auc_score( y_test, y_elasticnet_pred_prob_nrs )\n",
    "f1_score_elasticnet_nrs     = f1_score( y_test, y_elasticnet_pred_class_nrs, average = 'macro' )"
   ]
  },
  {
   "cell_type": "markdown",
   "id": "df796fff-eadc-4c69-b7fa-6853601b39d6",
   "metadata": {
    "tags": []
   },
   "source": [
    "## 6. Random Forest"
   ]
  },
  {
   "cell_type": "code",
   "execution_count": 31,
   "id": "339e91e6-3c2d-4e4a-b5bf-890898dc71b2",
   "metadata": {},
   "outputs": [],
   "source": [
    "from sklearn.ensemble import RandomForestClassifier\n",
    "from sklearn.model_selection import GridSearchCV\n",
    "from sklearn.model_selection import KFold"
   ]
  },
  {
   "cell_type": "code",
   "execution_count": 32,
   "id": "575cb50d-92ad-4ffc-837e-852f80f1696c",
   "metadata": {},
   "outputs": [
    {
     "name": "stdout",
     "output_type": "stream",
     "text": [
      "Original dataset: {'max_depth': 30, 'max_features': 4361, 'n_estimators': 250}\n",
      "SMOTE dataset: {'max_depth': 30, 'max_features': 2907, 'n_estimators': 1000}\n",
      "SMOTE Tomek dataset: {'max_depth': 30, 'max_features': 2907, 'n_estimators': 500}\n",
      "NRS dataset: {'max_depth': 30, 'max_features': 2907, 'n_estimators': 1000}\n",
      "Wall time: 14h 28min 55s\n"
     ]
    }
   ],
   "source": [
    "%%time\n",
    "\n",
    "# Set the model (Comentado)\n",
    "rf_model = RandomForestClassifier( random_state = 2023,\n",
    "                                   n_jobs = -1 )\n",
    "\n",
    "# Define param grid (Comentado)\n",
    "rf_param_grid = {\n",
    "    'n_estimators': [ 250, 500, 1000 ],\n",
    "    'max_features': [ 2907, 4361, 5814 ],\n",
    "    'max_depth': [ 10, 20, 30 ]\n",
    "}\n",
    "\n",
    "# Set up cross-validation strategy\n",
    "cv = KFold( n_splits = 5, shuffle = True, random_state = 2023 )\n",
    "\n",
    "# Grid search (Comentado)\n",
    "rf_search_o = GridSearchCV( estimator = rf_model,\n",
    "                            param_grid = rf_param_grid,\n",
    "                            cv = cv,\n",
    "                            n_jobs = -1 )\n",
    "\n",
    "rf_search_s = GridSearchCV( estimator = rf_model,\n",
    "                            param_grid = rf_param_grid,\n",
    "                            cv = cv,\n",
    "                            n_jobs = -1 )\n",
    "\n",
    "rf_search_st = GridSearchCV( estimator = rf_model,\n",
    "                             param_grid = rf_param_grid,\n",
    "                             cv = cv,\n",
    "                             n_jobs = -1 )\n",
    "\n",
    "rf_search_nrs = GridSearchCV( estimator = rf_model,\n",
    "                              param_grid = rf_param_grid,\n",
    "                              cv = cv,\n",
    "                              n_jobs = -1 )\n",
    "\n",
    "# Fit different models (Comentado)\n",
    "rf_search_o.fit( x_train, y_train )\n",
    "rf_search_s.fit( x_train_smote, y_train_smote )\n",
    "rf_search_st.fit( x_train_smote_tomek, y_train_smote_tomek )\n",
    "rf_search_nrs.fit( x_train_ros, y_train_ros )\n",
    "\n",
    "# Print best params and best score (Comentado)\n",
    "print( f'Original dataset: { rf_search_o.best_params_ }' )\n",
    "print( f'SMOTE dataset: { rf_search_s.best_params_ }' )\n",
    "print( f'SMOTE Tomek dataset: { rf_search_st.best_params_ }' )\n",
    "print( f'NRS dataset: { rf_search_nrs.best_params_ }' )\n",
    "\n",
    "# Select best params (Comentado)\n",
    "rf_max_features_o   = rf_search_o.best_params_[ 'max_features' ] \n",
    "rf_n_estimators_o   = rf_search_o.best_params_[ 'n_estimators' ]\n",
    "rf_max_depth_o      = rf_search_o.best_params_[ 'max_depth' ] \n",
    "\n",
    "rf_max_features_s   = rf_search_s.best_params_[ 'max_features' ] \n",
    "rf_n_estimators_s   = rf_search_s.best_params_[ 'n_estimators' ]\n",
    "rf_max_depth_s      = rf_search_s.best_params_[ 'max_depth' ] \n",
    "\n",
    "rf_max_features_st  = rf_search_st.best_params_[ 'max_features' ] \n",
    "rf_n_estimators_st  = rf_search_st.best_params_[ 'n_estimators' ] \n",
    "rf_max_depth_st     = rf_search_st.best_params_[ 'max_depth' ] \n",
    "\n",
    "rf_max_features_nrs = rf_search_nrs.best_params_[ 'max_features' ] \n",
    "rf_n_estimators_nrs = rf_search_nrs.best_params_[ 'n_estimators' ]\n",
    "rf_max_depth_nrs    = rf_search_nrs.best_params_[ 'max_depth' ] "
   ]
  },
  {
   "cell_type": "code",
   "execution_count": 33,
   "id": "36d7ba1d-fdc4-4014-b735-5975e89d75f8",
   "metadata": {
    "tags": []
   },
   "outputs": [],
   "source": [
    "# Train the optimal models\n",
    "rf_optimal_model_o = RandomForestClassifier( max_features = rf_max_features_o, \n",
    "                                             n_estimators = rf_n_estimators_o,\n",
    "                                             max_depth    = rf_max_depth_o,                                             \n",
    "                                             random_state = 2023,\n",
    "                                             n_jobs = -1 )\n",
    "\n",
    "rf_optimal_model_s = RandomForestClassifier( max_features = rf_max_features_s, \n",
    "                                             n_estimators = rf_n_estimators_s,\n",
    "                                             max_depth    = rf_n_estimators_s,                                               \n",
    "                                             random_state = 2023,\n",
    "                                             n_jobs = -1 )\n",
    "\n",
    "rf_optimal_model_st = RandomForestClassifier( max_features = rf_max_features_st, \n",
    "                                              n_estimators = rf_n_estimators_st,\n",
    "                                              max_depth    = rf_n_estimators_st,\n",
    "                                              random_state = 2023,\n",
    "                                              n_jobs = -1 )\n",
    "\n",
    "rf_optimal_model_nrs = RandomForestClassifier( max_features = rf_max_features_nrs, \n",
    "                                               n_estimators = rf_n_estimators_nrs,\n",
    "                                               max_depth    = rf_n_estimators_nrs,\n",
    "                                               random_state = 2023,\n",
    "                                               n_jobs = -1 )\n",
    "\n",
    "rf_optimal_model_o.fit( x_train, y_train )\n",
    "rf_optimal_model_s.fit( x_train_smote, y_train_smote )\n",
    "rf_optimal_model_st.fit( x_train_smote_tomek, y_train_smote_tomek )\n",
    "rf_optimal_model_nrs.fit( x_train_ros, y_train_ros )\n",
    "\n",
    "# Apply over test set\n",
    "y_rf_pred_class_o   = rf_optimal_model_o.predict( x_test )\n",
    "y_rf_pred_prob_o    = rf_optimal_model_o.predict_proba( x_test )[ :, 1 ]\n",
    "\n",
    "y_rf_pred_class_s   = rf_optimal_model_s.predict( x_test )\n",
    "y_rf_pred_prob_s    = rf_optimal_model_s.predict_proba( x_test )[ :, 1 ]\n",
    "\n",
    "y_rf_pred_class_st  = rf_optimal_model_st.predict( x_test )\n",
    "y_rf_pred_prob_st   = rf_optimal_model_st.predict_proba( x_test )[ :, 1 ]\n",
    "\n",
    "y_rf_pred_class_nrs = rf_optimal_model_nrs.predict( x_test )\n",
    "y_rf_pred_prob_nrs  = rf_optimal_model_nrs.predict_proba( x_test )[ :, 1 ]"
   ]
  },
  {
   "cell_type": "code",
   "execution_count": 35,
   "id": "e7efc8c8-00ee-488d-8107-944b11a106d2",
   "metadata": {},
   "outputs": [],
   "source": [
    "# Calculating clasiffication report\n",
    "columns             = [ 'no', 'si' ]\n",
    "rf_report_o         = classification_report( y_test, y_rf_pred_class_o, target_names = columns, output_dict = True )\n",
    "rf_report_s         = classification_report( y_test, y_rf_pred_class_s, target_names = columns, output_dict = True )\n",
    "rf_report_st        = classification_report( y_test, y_rf_pred_class_st, target_names = columns, output_dict = True )\n",
    "rf_report_nrs       = classification_report( y_test, y_rf_pred_class_nrs, target_names = columns, output_dict = True )\n",
    "\n",
    "# Calculating metrics for the original model\n",
    "rf_no_precision_o   = rf_report_o[ 'no' ][ 'precision' ]\n",
    "rf_no_recall_o      = rf_report_o[ 'no' ][ 'recall' ]\n",
    "rf_no_f1_score_o    = rf_report_o[ 'no' ][ 'f1-score' ]\n",
    "\n",
    "rf_si_precision_o   = rf_report_o[ 'si' ][ 'precision' ]\n",
    "rf_si_recall_o      = rf_report_o[ 'si' ][ 'recall' ]\n",
    "rf_si_f1_score_o    = rf_report_o[ 'si' ][ 'f1-score' ]\n",
    "\n",
    "accuracy_rf_o       = accuracy_score( y_test, y_rf_pred_class_o )\n",
    "log_loss_rf_o       = log_loss( y_test, y_rf_pred_class_o )\n",
    "roc_auc_rf_o        = roc_auc_score( y_test, y_rf_pred_prob_o )\n",
    "f1_score_rf_o       = f1_score( y_test, y_rf_pred_class_o, average = 'macro' )\n",
    "\n",
    "# Calculating metrics for the SMOTE model\n",
    "rf_no_precision_s   = rf_report_s[ 'no' ][ 'precision' ]\n",
    "rf_no_recall_s      = rf_report_s[ 'no' ][ 'recall' ]\n",
    "rf_no_f1_score_s    = rf_report_s[ 'no' ][ 'f1-score' ]\n",
    "\n",
    "rf_si_precision_s   = rf_report_s[ 'si' ][ 'precision' ]\n",
    "rf_si_recall_s      = rf_report_s[ 'si' ][ 'recall' ]\n",
    "rf_si_f1_score_s    = rf_report_s[ 'si' ][ 'f1-score' ]\n",
    "\n",
    "accuracy_rf_s       = accuracy_score( y_test, y_rf_pred_class_s )\n",
    "log_loss_rf_s       = log_loss( y_test, y_rf_pred_class_s )\n",
    "roc_auc_rf_s        = roc_auc_score( y_test, y_rf_pred_prob_s )\n",
    "f1_score_rf_s       = f1_score( y_test, y_rf_pred_class_s, average = 'macro' )\n",
    "\n",
    "# Calculating metrics for the SMOTE Tomek model\n",
    "rf_no_precision_st  = rf_report_st[ 'no' ][ 'precision' ]\n",
    "rf_no_recall_st     = rf_report_st[ 'no' ][ 'recall' ]\n",
    "rf_no_f1_score_st   = rf_report_st[ 'no' ][ 'f1-score' ]\n",
    "\n",
    "rf_si_precision_st  = rf_report_st[ 'si' ][ 'precision' ]\n",
    "rf_si_recall_st     = rf_report_st[ 'si' ][ 'recall' ]\n",
    "rf_si_f1_score_st   = rf_report_st[ 'si' ][ 'f1-score' ]\n",
    "\n",
    "accuracy_rf_st      = accuracy_score( y_test, y_rf_pred_class_st )\n",
    "log_loss_rf_st      = log_loss( y_test, y_rf_pred_class_st )\n",
    "roc_auc_rf_st       = roc_auc_score( y_test, y_rf_pred_prob_st )\n",
    "f1_score_rf_st      = f1_score( y_test, y_rf_pred_class_st, average = 'macro' )\n",
    "\n",
    "# Calculating metrics for the NRS model\n",
    "rf_no_precision_nrs = rf_report_nrs[ 'no' ][ 'precision' ]\n",
    "rf_no_recall_nrs    = rf_report_nrs[ 'no' ][ 'recall' ]\n",
    "rf_no_f1_score_nrs  = rf_report_nrs[ 'no' ][ 'f1-score' ]\n",
    "\n",
    "rf_si_precision_nrs = rf_report_nrs[ 'si' ][ 'precision' ]\n",
    "rf_si_recall_nrs    = rf_report_nrs[ 'si' ][ 'recall' ]\n",
    "rf_si_f1_score_nrs  = rf_report_nrs[ 'si' ][ 'f1-score' ]\n",
    "\n",
    "accuracy_rf_nrs     = accuracy_score( y_test, y_rf_pred_class_nrs )\n",
    "log_loss_rf_nrs     = log_loss( y_test, y_rf_pred_class_nrs )\n",
    "roc_auc_rf_nrs      = roc_auc_score( y_test, y_rf_pred_prob_nrs )\n",
    "f1_score_rf_nrs     = f1_score( y_test, y_rf_pred_class_nrs, average = 'macro' )"
   ]
  },
  {
   "cell_type": "markdown",
   "id": "3f2ad86c-eb38-43e4-b5c3-0f78da50766e",
   "metadata": {},
   "source": [
    "## 7. Boosted Trees"
   ]
  },
  {
   "cell_type": "code",
   "execution_count": 29,
   "id": "38aa3a9a-9f56-4f2d-bd12-ff8982dadd9d",
   "metadata": {},
   "outputs": [],
   "source": [
    "from xgboost import XGBClassifier"
   ]
  },
  {
   "cell_type": "code",
   "execution_count": 30,
   "id": "b0d6a434-90b4-48ab-a8e2-b7123c52bedb",
   "metadata": {
    "tags": []
   },
   "outputs": [
    {
     "name": "stdout",
     "output_type": "stream",
     "text": [
      "{'max_depth': 1, 'max_features': 2907, 'n_estimators': 1000}\n",
      "{'max_depth': 2, 'max_features': 2907, 'n_estimators': 1000}\n",
      "{'max_depth': 2, 'max_features': 2907, 'n_estimators': 1000}\n",
      "{'max_depth': 2, 'max_features': 2907, 'n_estimators': 1000}\n",
      "Wall time: 5h 23min\n"
     ]
    }
   ],
   "source": [
    "%%time\n",
    "\n",
    "# Set the model (Comentrario) \n",
    "xgb_model = XGBClassifier( use_label_encoder = False, \n",
    "                           objective = 'binary:logistic', \n",
    "                           verbosity = 0,\n",
    "                           learning_rate = 0.1,\n",
    "                           random_state = 2023,\n",
    "                           n_jobs = -1 )\n",
    "\n",
    "# Define param grid (Comentrario)\n",
    "xgb_param_grid = {\n",
    "    'n_estimators': [ 250, 500, 1000 ],\n",
    "    'max_features': [ 2907, 4361, 5814 ],\n",
    "    'max_depth': [ 1, 2 ]\n",
    "}\n",
    "\n",
    "# Set up cross-validation strategy\n",
    "cv = KFold( n_splits = 5, shuffle = True, random_state = 2023 )\n",
    "\n",
    "# Grid search (Comentrario)\n",
    "xgb_search_o = GridSearchCV( estimator = xgb_model,\n",
    "                             param_grid = xgb_param_grid,\n",
    "                             cv = cv,\n",
    "                             n_jobs = -1 )\n",
    "\n",
    "xgb_search_s = GridSearchCV( estimator = xgb_model,\n",
    "                             param_grid = xgb_param_grid,\n",
    "                             cv = cv,\n",
    "                             n_jobs = -1 )\n",
    "\n",
    "xgb_search_st = GridSearchCV( estimator = xgb_model,\n",
    "                              param_grid = xgb_param_grid,\n",
    "                              cv = cv,\n",
    "                              n_jobs = -1 )\n",
    "\n",
    "xgb_search_nrs = GridSearchCV( estimator = xgb_model,\n",
    "                               param_grid = xgb_param_grid,\n",
    "                               cv = cv,\n",
    "                               n_jobs = -1 )\n",
    "\n",
    "# Fit different models (Comentrario)\n",
    "xgb_search_o.fit( x_train, y_train )\n",
    "xgb_search_s.fit( x_train_smote, y_train_smote )\n",
    "xgb_search_st.fit( x_train_smote_tomek, y_train_smote_tomek )\n",
    "xgb_search_nrs.fit( x_train_ros, y_train_ros )\n",
    "\n",
    "# Print best params and best scores (Comentrario)\n",
    "print( xgb_search_o.best_params_ )\n",
    "print( xgb_search_s.best_params_ )\n",
    "print( xgb_search_st.best_params_ )\n",
    "print( xgb_search_nrs.best_params_ )\n",
    "\n",
    "# Select best params (Comentrario)\n",
    "xgb_max_features_o   = xgb_search_o.best_params_[ 'max_features' ] \n",
    "xgb_max_depth_o      = xgb_search_o.best_params_[ 'max_depth' ] \n",
    "xgb_n_estimators_o   = xgb_search_o.best_params_[ 'n_estimators' ] \n",
    "\n",
    "xgb_max_features_s   = xgb_search_s.best_params_[ 'max_features' ] \n",
    "xgb_max_depth_s      = xgb_search_s.best_params_[ 'max_depth' ] \n",
    "xgb_n_estimators_s   = xgb_search_s.best_params_[ 'n_estimators' ] \n",
    "\n",
    "xgb_max_features_st  = xgb_search_st.best_params_[ 'max_features' ] \n",
    "xgb_max_depth_st     = xgb_search_st.best_params_[ 'max_depth' ] \n",
    "xgb_n_estimators_st  = xgb_search_st.best_params_[ 'n_estimators' ] \n",
    "\n",
    "xgb_max_features_nrs = xgb_search_nrs.best_params_[ 'max_features' ] \n",
    "xgb_max_depth_nrs    = xgb_search_nrs.best_params_[ 'max_depth' ] \n",
    "xgb_n_estimators_nrs = xgb_search_nrs.best_params_[ 'n_estimators' ]"
   ]
  },
  {
   "cell_type": "code",
   "execution_count": 31,
   "id": "ae8ae139-d1bf-4414-bd9e-8919e01c35af",
   "metadata": {},
   "outputs": [],
   "source": [
    "# Train the optimal model\n",
    "xgb_optimal_model_o = XGBClassifier( objective = 'binary:logistic', \n",
    "                                     verbosity = 0,\n",
    "                                     learning_rate = 0.1,\n",
    "                                     max_features = xgb_max_features_o,\n",
    "                                     max_depth = xgb_max_depth_o,\n",
    "                                     n_estimators = xgb_n_estimators_o,\n",
    "                                     random_state = 2023,\n",
    "                                     n_jobs = -1 )\n",
    "\n",
    "xgb_optimal_model_s = XGBClassifier( objective = 'binary:logistic', \n",
    "                                     verbosity = 0,\n",
    "                                     learning_rate = 0.1,\n",
    "                                     max_features = xgb_max_features_s,\n",
    "                                     max_depth = xgb_max_depth_s,\n",
    "                                     n_estimators = xgb_n_estimators_s,\n",
    "                                     random_state = 2023,\n",
    "                                     n_jobs = -1 )\n",
    "\n",
    "xgb_optimal_model_st = XGBClassifier( objective = 'binary:logistic', \n",
    "                                      verbosity = 0,\n",
    "                                      learning_rate = 0.1,\n",
    "                                      max_features = xgb_max_features_st, \n",
    "                                      max_depth = xgb_max_depth_st,\n",
    "                                      n_estimators = xgb_n_estimators_st,\n",
    "                                      random_state = 2023,\n",
    "                                      n_jobs = -1 )\n",
    "\n",
    "xgb_optimal_model_nrs = XGBClassifier( objective = 'binary:logistic', \n",
    "                                       verbosity = 0,\n",
    "                                       learning_rate = 0.1,\n",
    "                                       max_features = xgb_max_features_nrs, \n",
    "                                       max_depth = xgb_max_depth_nrs,\n",
    "                                       n_estimators = xgb_n_estimators_nrs,\n",
    "                                       random_state = 2023,\n",
    "                                       n_jobs = -1 )\n",
    "\n",
    "xgb_optimal_model_o.fit( x_train, y_train )\n",
    "xgb_optimal_model_s.fit( x_train_smote, y_train_smote )\n",
    "xgb_optimal_model_st.fit( x_train_smote_tomek, y_train_smote_tomek )\n",
    "xgb_optimal_model_nrs.fit( x_train_ros, y_train_ros )\n",
    "\n",
    "# Apply over test set\n",
    "y_xgb_pred_class_o   = xgb_optimal_model_o.predict( x_test )\n",
    "y_xgb_pred_prob_o    = xgb_optimal_model_o.predict_proba( x_test )[ :, 1 ]\n",
    "\n",
    "y_xgb_pred_class_s   = xgb_optimal_model_s.predict( x_test )\n",
    "y_xgb_pred_prob_s    = xgb_optimal_model_s.predict_proba( x_test )[ :, 1 ]\n",
    "\n",
    "y_xgb_pred_class_st  = xgb_optimal_model_st.predict( x_test )\n",
    "y_xgb_pred_prob_st   = xgb_optimal_model_st.predict_proba( x_test )[ :, 1 ]\n",
    "\n",
    "y_xgb_pred_class_nrs = xgb_optimal_model_nrs.predict( x_test )\n",
    "y_xgb_pred_prob_nrs  = xgb_optimal_model_nrs.predict_proba( x_test )[ :, 1 ]"
   ]
  },
  {
   "cell_type": "code",
   "execution_count": 32,
   "id": "e2c4d214-9058-4f95-968b-78391b96df1c",
   "metadata": {
    "tags": []
   },
   "outputs": [],
   "source": [
    "# Calculating clasiffication report\n",
    "columns              = [ 'no', 'si' ]\n",
    "xgb_report_o         = classification_report( y_test, y_xgb_pred_class_o, target_names = columns, output_dict = True )\n",
    "xgb_report_s         = classification_report( y_test, y_xgb_pred_class_s, target_names = columns, output_dict = True )\n",
    "xgb_report_st        = classification_report( y_test, y_xgb_pred_class_st, target_names = columns, output_dict = True )\n",
    "xgb_report_nrs       = classification_report( y_test, y_xgb_pred_class_nrs, target_names = columns, output_dict = True )\n",
    "\n",
    "# Calculating metrics for the original model\n",
    "xgb_no_precision_o   = xgb_report_o[ 'no' ][ 'precision' ]\n",
    "xgb_no_recall_o      = xgb_report_o[ 'no' ][ 'recall' ]\n",
    "xgb_no_f1_score_o    = xgb_report_o[ 'no' ][ 'f1-score' ]\n",
    "\n",
    "xgb_si_precision_o   = xgb_report_o[ 'si' ][ 'precision' ]\n",
    "xgb_si_recall_o      = xgb_report_o[ 'si' ][ 'recall' ]\n",
    "xgb_si_f1_score_o    = xgb_report_o[ 'si' ][ 'f1-score' ]\n",
    "\n",
    "accuracy_xgb_o       = accuracy_score( y_test, y_xgb_pred_class_o )\n",
    "log_loss_xgb_o       = log_loss( y_test, y_xgb_pred_class_o )\n",
    "roc_auc_xgb_o        = roc_auc_score( y_test, y_xgb_pred_prob_o )\n",
    "f1_score_xgb_o       = f1_score( y_test, y_xgb_pred_class_o, average = 'macro' )\n",
    "\n",
    "# Calculating metrics for the SMOTE model\n",
    "xgb_no_precision_s   = xgb_report_s[ 'no' ][ 'precision' ]\n",
    "xgb_no_recall_s      = xgb_report_s[ 'no' ][ 'recall' ]\n",
    "xgb_no_f1_score_s    = xgb_report_s[ 'no' ][ 'f1-score' ]\n",
    "\n",
    "xgb_si_precision_s   = xgb_report_s[ 'si' ][ 'precision' ]\n",
    "xgb_si_recall_s      = xgb_report_s[ 'si' ][ 'recall' ]\n",
    "xgb_si_f1_score_s    = xgb_report_s[ 'si' ][ 'f1-score' ]\n",
    "\n",
    "accuracy_xgb_s       = accuracy_score( y_test, y_xgb_pred_class_s )\n",
    "log_loss_xgb_s       = log_loss( y_test, y_xgb_pred_class_s )\n",
    "roc_auc_xgb_s        = roc_auc_score( y_test, y_xgb_pred_prob_s )\n",
    "f1_score_xgb_s       = f1_score( y_test, y_xgb_pred_class_s, average = 'macro' )\n",
    "\n",
    "# Calculating metrics for the SMOTE Tomek model\n",
    "xgb_no_precision_st  = xgb_report_st[ 'no' ][ 'precision' ]\n",
    "xgb_no_recall_st     = xgb_report_st[ 'no' ][ 'recall' ]\n",
    "xgb_no_f1_score_st   = xgb_report_st[ 'no' ][ 'f1-score' ]\n",
    "\n",
    "xgb_si_precision_st  = xgb_report_st[ 'si' ][ 'precision' ]\n",
    "xgb_si_recall_st     = xgb_report_st[ 'si' ][ 'recall' ]\n",
    "xgb_si_f1_score_st   = xgb_report_st[ 'si' ][ 'f1-score' ]\n",
    "\n",
    "accuracy_xgb_st      = accuracy_score( y_test, y_xgb_pred_class_st )\n",
    "log_loss_xgb_st      = log_loss( y_test, y_xgb_pred_class_st )\n",
    "roc_auc_xgb_st       = roc_auc_score( y_test, y_xgb_pred_prob_st )\n",
    "f1_score_xgb_st      = f1_score( y_test, y_xgb_pred_class_st, average = 'macro' )\n",
    "\n",
    "# Calculating metrics for the NRS model\n",
    "xgb_no_precision_nrs = xgb_report_nrs[ 'no' ][ 'precision' ]\n",
    "xgb_no_recall_nrs    = xgb_report_nrs[ 'no' ][ 'recall' ]\n",
    "xgb_no_f1_score_nrs  = xgb_report_nrs[ 'no' ][ 'f1-score' ]\n",
    "\n",
    "xgb_si_precision_nrs = xgb_report_nrs[ 'si' ][ 'precision' ]\n",
    "xgb_si_recall_nrs    = xgb_report_nrs[ 'si' ][ 'recall' ]\n",
    "xgb_si_f1_score_nrs  = xgb_report_nrs[ 'si' ][ 'f1-score' ]\n",
    "\n",
    "accuracy_xgb_nrs     = accuracy_score( y_test, y_xgb_pred_class_nrs )\n",
    "log_loss_xgb_nrs     = log_loss( y_test, y_xgb_pred_class_nrs )\n",
    "roc_auc_xgb_nrs      = roc_auc_score( y_test, y_xgb_pred_prob_nrs )\n",
    "f1_score_xgb_nrs     = f1_score( y_test, y_xgb_pred_class_nrs, average = 'macro' )"
   ]
  },
  {
   "cell_type": "markdown",
   "id": "c54dd529-7134-4afa-a985-b91234ec63d4",
   "metadata": {},
   "source": [
    "## 8. Resultados Test"
   ]
  },
  {
   "cell_type": "code",
   "execution_count": 33,
   "id": "06441f2b-3cfb-4e6d-a55a-333507de123d",
   "metadata": {},
   "outputs": [],
   "source": [
    "# Calculate Matthews Correlation Coefficient\n",
    "from sklearn.metrics import matthews_corrcoef\n",
    "\n",
    "mcc_lg_o           = matthews_corrcoef( y_test, y_lg_pred_class_o )\n",
    "mcc_lg_s           = matthews_corrcoef( y_test, y_lg_pred_class_s )\n",
    "mcc_lg_st          = matthews_corrcoef( y_test, y_lg_pred_class_st )\n",
    "mcc_lg_nrs         = matthews_corrcoef( y_test, y_lg_pred_class_nrs )\n",
    "\n",
    "mcc_lasso_o        = matthews_corrcoef( y_test, y_lasso_pred_class_o )\n",
    "mcc_lasso_s        = matthews_corrcoef( y_test, y_lasso_pred_class_s )\n",
    "mcc_lasso_st       = matthews_corrcoef( y_test, y_lasso_pred_class_st )\n",
    "mcc_lasso_nrs      = matthews_corrcoef( y_test, y_lasso_pred_class_nrs )\n",
    "\n",
    "mcc_ridge_o        = matthews_corrcoef( y_test, y_ridge_pred_class_o )\n",
    "mcc_ridge_s        = matthews_corrcoef( y_test, y_ridge_pred_class_s )\n",
    "mcc_ridge_st       = matthews_corrcoef( y_test, y_ridge_pred_class_st )\n",
    "mcc_ridge_nrs      = matthews_corrcoef( y_test, y_ridge_pred_class_nrs )\n",
    "\n",
    "mcc_elasticnet_o   = matthews_corrcoef( y_test, y_elasticnet_pred_class_o )\n",
    "mcc_elasticnet_s   = matthews_corrcoef( y_test, y_elasticnet_pred_class_s )\n",
    "mcc_elasticnet_st  = matthews_corrcoef( y_test, y_elasticnet_pred_class_st )\n",
    "mcc_elasticnet_nrs = matthews_corrcoef( y_test, y_elasticnet_pred_class_nrs )\n",
    "\n",
    "mcc_rf_o           = matthews_corrcoef( y_test, y_rf_pred_class_o )\n",
    "mcc_rf_s           = matthews_corrcoef( y_test, y_rf_pred_class_s )\n",
    "mcc_rf_st          = matthews_corrcoef( y_test, y_rf_pred_class_st )\n",
    "mcc_rf_nrs         = matthews_corrcoef( y_test, y_rf_pred_class_nrs )\n",
    "\n",
    "mcc_xgb_o          = matthews_corrcoef( y_test, y_xgb_pred_class_o )\n",
    "mcc_xgb_s          = matthews_corrcoef( y_test, y_xgb_pred_class_s )\n",
    "mcc_xgb_st         = matthews_corrcoef( y_test, y_xgb_pred_class_st )\n",
    "mcc_xgb_nrs        = matthews_corrcoef( y_test, y_xgb_pred_class_nrs )"
   ]
  },
  {
   "cell_type": "code",
   "execution_count": 36,
   "id": "781ee6a5-178f-4f35-802d-6d17fbdd6bf8",
   "metadata": {
    "collapsed": true,
    "jupyter": {
     "outputs_hidden": true
    },
    "tags": []
   },
   "outputs": [
    {
     "ename": "NameError",
     "evalue": "name 'accuracy_lg_o' is not defined",
     "output_type": "error",
     "traceback": [
      "\u001b[1;31m---------------------------------------------------------------------------\u001b[0m",
      "\u001b[1;31mNameError\u001b[0m                                 Traceback (most recent call last)",
      "\u001b[1;32m~\\AppData\\Local\\Temp\\ipykernel_19164\\1594306839.py\u001b[0m in \u001b[0;36m<module>\u001b[1;34m\u001b[0m\n\u001b[0;32m      1\u001b[0m \u001b[0mtable\u001b[0m \u001b[1;33m=\u001b[0m \u001b[0mnp\u001b[0m\u001b[1;33m.\u001b[0m\u001b[0mzeros\u001b[0m\u001b[1;33m(\u001b[0m \u001b[1;33m(\u001b[0m \u001b[1;36m24\u001b[0m\u001b[1;33m,\u001b[0m \u001b[1;36m10\u001b[0m \u001b[1;33m)\u001b[0m \u001b[1;33m)\u001b[0m\u001b[1;33m\u001b[0m\u001b[1;33m\u001b[0m\u001b[0m\n\u001b[0;32m      2\u001b[0m \u001b[1;33m\u001b[0m\u001b[0m\n\u001b[1;32m----> 3\u001b[1;33m table[ 0 ] = [ accuracy_lg_o, roc_auc_lg_o, f1_score_lg_o, mcc_lg_o, lg_no_precision_o, lg_no_recall_o, \n\u001b[0m\u001b[0;32m      4\u001b[0m                lg_no_f1_score_o, lg_si_precision_o, lg_si_recall_o, lg_si_f1_score_o ]\n\u001b[0;32m      5\u001b[0m \u001b[1;33m\u001b[0m\u001b[0m\n",
      "\u001b[1;31mNameError\u001b[0m: name 'accuracy_lg_o' is not defined"
     ]
    }
   ],
   "source": [
    "table = np.zeros( ( 24, 10 ) )\n",
    "\n",
    "table[ 0 ] = [ accuracy_lg_o, roc_auc_lg_o, f1_score_lg_o, mcc_lg_o, lg_no_precision_o, lg_no_recall_o, \n",
    "               lg_no_f1_score_o, lg_si_precision_o, lg_si_recall_o, lg_si_f1_score_o ]\n",
    "\n",
    "table[ 1 ] = [ accuracy_lg_s, roc_auc_lg_s, f1_score_lg_s, mcc_lg_s, lg_no_precision_s, lg_no_recall_s, \n",
    "               lg_no_f1_score_s, lg_si_precision_s, lg_si_recall_s, lg_si_f1_score_s ]\n",
    "\n",
    "table[ 2 ] = [ accuracy_lg_st, roc_auc_lg_st, f1_score_lg_st, mcc_lg_st, lg_no_precision_st, lg_no_recall_st, \n",
    "               lg_no_f1_score_st, lg_si_precision_st, lg_si_recall_st, lg_si_f1_score_st ]\n",
    "\n",
    "table[ 3 ] = [ accuracy_lg_nrs, roc_auc_lg_nrs, f1_score_lg_nrs, mcc_lg_nrs, lg_no_precision_nrs, lg_no_recall_nrs, \n",
    "               lg_no_f1_score_nrs, lg_si_precision_nrs, lg_si_recall_nrs, lg_si_f1_score_nrs ]\n",
    "\n",
    "table[ 4 ] = [ accuracy_lasso_o, roc_auc_lasso_o, f1_score_lasso_o, mcc_lasso_o, lasso_no_precision_o, lasso_no_recall_o, \n",
    "               lasso_no_f1_score_o, lasso_si_precision_o, lasso_si_recall_o, lasso_si_f1_score_o ]\n",
    "\n",
    "table[ 5 ] = [ accuracy_lasso_s, roc_auc_lasso_s, f1_score_lasso_s, mcc_lasso_s, lasso_no_precision_s, lasso_no_recall_s, \n",
    "               lasso_no_f1_score_s, lasso_si_precision_s, lasso_si_recall_s, lasso_si_f1_score_s ]\n",
    "\n",
    "table[ 6 ] = [ accuracy_lasso_st, roc_auc_lasso_st, f1_score_lasso_st, mcc_lasso_st, lasso_no_precision_st, lasso_no_recall_st, \n",
    "               lasso_no_f1_score_st, lasso_si_precision_st, lasso_si_recall_st, lasso_si_f1_score_st ]\n",
    "\n",
    "table[ 7 ] = [ accuracy_lasso_nrs, roc_auc_lasso_nrs, f1_score_lasso_nrs, mcc_lasso_nrs, lasso_no_precision_nrs, lasso_no_recall_nrs, \n",
    "               lasso_no_f1_score_nrs, lasso_si_precision_nrs, lasso_si_recall_nrs, lasso_si_f1_score_nrs ]\n",
    "\n",
    "table[ 8 ] = [ accuracy_ridge_o, roc_auc_ridge_o, f1_score_ridge_o, mcc_ridge_o, ridge_no_precision_o, ridge_no_recall_o, \n",
    "               ridge_no_f1_score_o, ridge_si_precision_o, ridge_si_recall_o, ridge_si_f1_score_o ]\n",
    "\n",
    "table[ 9 ] = [ accuracy_ridge_s, roc_auc_ridge_s, f1_score_ridge_s, mcc_ridge_s, ridge_no_precision_s, ridge_no_recall_s, \n",
    "               ridge_no_f1_score_s, ridge_si_precision_s, ridge_si_recall_s, ridge_si_f1_score_s ]\n",
    "\n",
    "table[ 10 ] = [ accuracy_ridge_st, roc_auc_ridge_st, f1_score_ridge_st, mcc_ridge_st, ridge_no_precision_st, ridge_no_recall_st, \n",
    "               ridge_no_f1_score_st, ridge_si_precision_st, ridge_si_recall_st, ridge_si_f1_score_st ]\n",
    "\n",
    "table[ 11 ] = [ accuracy_ridge_nrs, roc_auc_ridge_nrs, f1_score_ridge_nrs, mcc_ridge_nrs, ridge_no_precision_nrs, ridge_no_recall_nrs, \n",
    "               ridge_no_f1_score_nrs, ridge_si_precision_nrs, ridge_si_recall_nrs, ridge_si_f1_score_nrs ]\n",
    "\n",
    "table[ 12 ] = [ accuracy_elasticnet_o, roc_auc_elasticnet_o, f1_score_elasticnet_o, mcc_elasticnet_o, elasticnet_no_precision_o, elasticnet_no_recall_o, \n",
    "               elasticnet_no_f1_score_o, elasticnet_si_precision_o, elasticnet_si_recall_o, elasticnet_si_f1_score_o ]\n",
    "\n",
    "table[ 13 ] = [ accuracy_elasticnet_s, roc_auc_elasticnet_s, f1_score_elasticnet_s, mcc_elasticnet_s, elasticnet_no_precision_s, elasticnet_no_recall_s, \n",
    "               elasticnet_no_f1_score_s, elasticnet_si_precision_s, elasticnet_si_recall_s, elasticnet_si_f1_score_s ]\n",
    "\n",
    "table[ 14 ] = [ accuracy_elasticnet_st, roc_auc_elasticnet_st, f1_score_elasticnet_st, mcc_elasticnet_st, elasticnet_no_precision_st, elasticnet_no_recall_st, \n",
    "               elasticnet_no_f1_score_st, elasticnet_si_precision_st, elasticnet_si_recall_st, elasticnet_si_f1_score_st ]\n",
    "\n",
    "table[ 15 ] = [ accuracy_elasticnet_nrs, roc_auc_elasticnet_nrs, f1_score_elasticnet_nrs, mcc_elasticnet_nrs, elasticnet_no_precision_nrs, elasticnet_no_recall_nrs, \n",
    "               elasticnet_no_f1_score_nrs, elasticnet_si_precision_nrs, elasticnet_si_recall_nrs, elasticnet_si_f1_score_nrs ]\n",
    "\n",
    "table[ 16 ] = [ accuracy_rf_o, roc_auc_rf_o, f1_score_rf_o, mcc_rf_o, rf_no_precision_o, rf_no_recall_o, \n",
    "               rf_no_f1_score_o, rf_si_precision_o, rf_si_recall_o, rf_si_f1_score_o ]\n",
    "\n",
    "table[ 17 ] = [ accuracy_rf_s, roc_auc_rf_s, f1_score_rf_s, mcc_rf_s, rf_no_precision_s, rf_no_recall_s, \n",
    "               rf_no_f1_score_s, rf_si_precision_s, rf_si_recall_s, rf_si_f1_score_s ]\n",
    "\n",
    "table[ 18 ] = [ accuracy_rf_st, roc_auc_rf_st, f1_score_rf_st, mcc_rf_st, rf_no_precision_st, rf_no_recall_st, \n",
    "               rf_no_f1_score_st, rf_si_precision_st, rf_si_recall_st, rf_si_f1_score_st ]\n",
    "\n",
    "table[ 19 ] = [ accuracy_rf_nrs, roc_auc_rf_nrs, f1_score_rf_nrs, mcc_rf_nrs, rf_no_precision_nrs, rf_no_recall_nrs, \n",
    "               rf_no_f1_score_nrs, rf_si_precision_nrs, rf_si_recall_nrs, rf_si_f1_score_nrs ]\n",
    "\n",
    "table[ 20 ] = [ accuracy_xgb_o, roc_auc_xgb_o, f1_score_xgb_o, mcc_xgb_o, xgb_no_precision_o, xgb_no_recall_o, \n",
    "               xgb_no_f1_score_o, xgb_si_precision_o, xgb_si_recall_o, xgb_si_f1_score_o ]\n",
    "\n",
    "table[ 21 ] = [ accuracy_xgb_s, roc_auc_xgb_s, f1_score_xgb_s, mcc_xgb_s, xgb_no_precision_s, xgb_no_recall_s, \n",
    "               xgb_no_f1_score_s, xgb_si_precision_s, xgb_si_recall_s, xgb_si_f1_score_s ]\n",
    "\n",
    "table[ 22 ] = [ accuracy_xgb_st, roc_auc_xgb_st, f1_score_xgb_st, mcc_xgb_st, xgb_no_precision_st, xgb_no_recall_st, \n",
    "               xgb_no_f1_score_st, xgb_si_precision_st, xgb_si_recall_st, xgb_si_f1_score_st ]\n",
    "\n",
    "table[ 23 ] = [ accuracy_xgb_nrs, roc_auc_xgb_nrs, f1_score_xgb_nrs, mcc_xgb_nrs, xgb_no_precision_nrs, xgb_no_recall_nrs, \n",
    "               xgb_no_f1_score_nrs, xgb_si_precision_nrs, xgb_si_recall_nrs, xgb_si_f1_score_nrs ]\n",
    "\n",
    "colnames_table = [ \"Overall_Accuracy\", \"Roc_Auc\", \"Global_F1_Score\", \"Matthews_Corr_Coef\", \"No_Precision\", \n",
    "                   \"No_Recall\", \"No_F1_Score\", \"Si_Precision\", \"Si_Recall\", \"Si_F1_Score\" ]\n",
    "                  \n",
    "rownames_table = [ \"O. Logistic Regression\", \n",
    "                   \"S. Logistic Regression\", \n",
    "                   \"ST. Logistic Regression\",                   \n",
    "                   \"NRS. Logistic Regression\", \n",
    "                   \"O. Logistc Lasso\",                  \n",
    "                   \"S. Logistc Lasso\",\n",
    "                   \"ST. Logistc Lasso\",                  \n",
    "                   \"NRS. Logistc Lasso\",\n",
    "                   \"O. Logistc Ridge\",                   \n",
    "                   \"S. Logistc Ridge\", \n",
    "                   \"ST. Logistc Ridge\",                   \n",
    "                   \"NRS. Logistc Ridge\", \n",
    "                   \"O. Logistic Elastic Net\",\n",
    "                   \"S. Logistic Elastic Net\",                  \n",
    "                   \"ST. Logistic Elastic Net\",                  \n",
    "                   \"NRS. Logistic Elastic Net\",                  \n",
    "                   \"O. Random Forest\",                   \n",
    "                   \"S. Random Forest\", \n",
    "                   \"ST. Random Forest\",                   \n",
    "                   \"NRS. Random Forest\", \n",
    "                   \"O. Boosted Trees\",                  \n",
    "                   \"S. Boosted Trees\",                  \n",
    "                   \"ST. Boosted Trees\",\n",
    "                   \"NRS. Boosted Trees\" ]                  \n",
    "\n",
    "\n",
    "table_pandas = pd.DataFrame( table, columns = colnames_table )\n",
    "table_pandas.index = rownames_table\n",
    "\n",
    "table_pandas = table_pandas.round( 3 )\n",
    "table_pandas"
   ]
  },
  {
   "cell_type": "code",
   "execution_count": 35,
   "id": "365d8e0f-28f7-47e9-a02f-1d5192a20f96",
   "metadata": {},
   "outputs": [],
   "source": [
    "# Tabla general para Test\n",
    "table_pandas.to_excel( r'..\\..\\..\\output\\ejecucion_1\\results\\base0_ci_results_test.xlsx' )"
   ]
  },
  {
   "cell_type": "markdown",
   "id": "175b1d8e-a4a8-4093-8c60-587bec395496",
   "metadata": {},
   "source": [
    "## 9. Resultados Train"
   ]
  },
  {
   "cell_type": "markdown",
   "id": "d7e67c07-1fe9-4f1a-b732-b7c62cda94cc",
   "metadata": {},
   "source": [
    "### 9.1. Random Forest"
   ]
  },
  {
   "cell_type": "code",
   "execution_count": 36,
   "id": "5781111d-a1c4-4b13-bf69-9c5d99a8c241",
   "metadata": {},
   "outputs": [],
   "source": [
    "# Apply over training set\n",
    "y_rf_pred_class_o_train   = rf_optimal_model_o.predict( x_train )\n",
    "y_rf_pred_prob_o_train    = rf_optimal_model_o.predict_proba( x_train )[ :, 1 ]\n",
    "\n",
    "y_rf_pred_class_s_train   = rf_optimal_model_s.predict( x_train )\n",
    "y_rf_pred_prob_s_train    = rf_optimal_model_s.predict_proba( x_train )[ :, 1 ]\n",
    "\n",
    "y_rf_pred_class_st_train  = rf_optimal_model_st.predict( x_train )\n",
    "y_rf_pred_prob_st_train   = rf_optimal_model_st.predict_proba( x_train )[ :, 1 ]\n",
    "\n",
    "y_rf_pred_class_nrs_train = rf_optimal_model_nrs.predict( x_train )\n",
    "y_rf_pred_prob_nrs_train  = rf_optimal_model_nrs.predict_proba( x_train )[ :, 1 ]\n",
    "\n",
    "# Calculating clasiffication report\n",
    "columns                   = [ 'no', 'si' ]\n",
    "rf_report_o_train         = classification_report( y_train, y_rf_pred_class_o_train, target_names = columns, output_dict = True )\n",
    "rf_report_s_train         = classification_report( y_train, y_rf_pred_class_s_train, target_names = columns, output_dict = True )\n",
    "rf_report_st_train        = classification_report( y_train, y_rf_pred_class_st_train, target_names = columns, output_dict = True )\n",
    "rf_report_nrs_train       = classification_report( y_train, y_rf_pred_class_nrs_train, target_names = columns, output_dict = True )\n",
    "\n",
    "# Calculating metrics for the original model\n",
    "rf_no_precision_o_train   = rf_report_o[ 'no' ][ 'precision' ]\n",
    "rf_no_recall_o_train      = rf_report_o[ 'no' ][ 'recall' ]\n",
    "rf_no_f1_score_o_train    = rf_report_o[ 'no' ][ 'f1-score' ]\n",
    "\n",
    "rf_si_precision_o_train   = rf_report_o[ 'si' ][ 'precision' ]\n",
    "rf_si_recall_o_train      = rf_report_o[ 'si' ][ 'recall' ]\n",
    "rf_si_f1_score_o_train    = rf_report_o[ 'si' ][ 'f1-score' ]\n",
    "\n",
    "accuracy_rf_o_train       = accuracy_score( y_train, y_rf_pred_class_o_train )\n",
    "log_loss_rf_o_train       = log_loss( y_train, y_rf_pred_class_o_train )\n",
    "roc_auc_rf_o_train        = roc_auc_score( y_train, y_rf_pred_prob_o_train )\n",
    "f1_score_rf_o_train       = f1_score( y_train, y_rf_pred_class_o_train, average = 'macro' )\n",
    "\n",
    "# Calculating metrics for the SMOTE model\n",
    "rf_no_precision_s_train   = rf_report_s[ 'no' ][ 'precision' ]\n",
    "rf_no_recall_s_train      = rf_report_s[ 'no' ][ 'recall' ]\n",
    "rf_no_f1_score_s_train    = rf_report_s[ 'no' ][ 'f1-score' ]\n",
    "\n",
    "rf_si_precision_s_train   = rf_report_s[ 'si' ][ 'precision' ]\n",
    "rf_si_recall_s_train      = rf_report_s[ 'si' ][ 'recall' ]\n",
    "rf_si_f1_score_s_train    = rf_report_s[ 'si' ][ 'f1-score' ]\n",
    "\n",
    "accuracy_rf_s_train       = accuracy_score( y_train, y_rf_pred_class_s_train )\n",
    "log_loss_rf_s_train       = log_loss( y_train, y_rf_pred_class_s_train )\n",
    "roc_auc_rf_s_train        = roc_auc_score( y_train, y_rf_pred_prob_s_train )\n",
    "f1_score_rf_s_train       = f1_score( y_train, y_rf_pred_class_s_train, average = 'macro' )\n",
    "\n",
    "# Calculating metrics for the SMOTE Tomek model\n",
    "rf_no_precision_st_train  = rf_report_st[ 'no' ][ 'precision' ]\n",
    "rf_no_recall_st_train     = rf_report_st[ 'no' ][ 'recall' ]\n",
    "rf_no_f1_score_st_train   = rf_report_st[ 'no' ][ 'f1-score' ]\n",
    "\n",
    "rf_si_precision_st_train  = rf_report_st[ 'si' ][ 'precision' ]\n",
    "rf_si_recall_st_train     = rf_report_st[ 'si' ][ 'recall' ]\n",
    "rf_si_f1_score_st_train   = rf_report_st[ 'si' ][ 'f1-score' ]\n",
    "\n",
    "accuracy_rf_st_train      = accuracy_score( y_train, y_rf_pred_class_st_train )\n",
    "log_loss_rf_st_train      = log_loss( y_train, y_rf_pred_class_st_train )\n",
    "roc_auc_rf_st_train       = roc_auc_score( y_train, y_rf_pred_prob_st_train )\n",
    "f1_score_rf_st_train      = f1_score( y_train, y_rf_pred_class_st_train, average = 'macro' )\n",
    "\n",
    "# Calculating metrics for the NRS model\n",
    "rf_no_precision_nrs_train = rf_report_nrs[ 'no' ][ 'precision' ]\n",
    "rf_no_recall_nrs_train    = rf_report_nrs[ 'no' ][ 'recall' ]\n",
    "rf_no_f1_score_nrs_train  = rf_report_nrs[ 'no' ][ 'f1-score' ]\n",
    "\n",
    "rf_si_precision_nrs_train = rf_report_nrs[ 'si' ][ 'precision' ]\n",
    "rf_si_recall_nrs_train    = rf_report_nrs[ 'si' ][ 'recall' ]\n",
    "rf_si_f1_score_nrs_train  = rf_report_nrs[ 'si' ][ 'f1-score' ]\n",
    "\n",
    "accuracy_rf_nrs_train     = accuracy_score( y_train, y_rf_pred_class_nrs_train )\n",
    "log_loss_rf_nrs_train     = log_loss( y_train, y_rf_pred_class_nrs_train )\n",
    "roc_auc_rf_nrs_train      = roc_auc_score( y_train, y_rf_pred_prob_nrs_train )\n",
    "f1_score_rf_nrs_train     = f1_score( y_train, y_rf_pred_class_nrs_train, average = 'macro' )"
   ]
  },
  {
   "cell_type": "markdown",
   "id": "34baa965-53d9-451b-bd6e-b52f98e4fd86",
   "metadata": {},
   "source": [
    "### 9.2. Boosted Trees"
   ]
  },
  {
   "cell_type": "code",
   "execution_count": 37,
   "id": "be69ebd9-6000-4a85-99bb-ae09a32c1b38",
   "metadata": {},
   "outputs": [],
   "source": [
    "# Apply over test set\n",
    "y_xgb_pred_class_o_train   = xgb_optimal_model_o.predict( x_train )\n",
    "y_xgb_pred_prob_o_train    = xgb_optimal_model_o.predict_proba( x_train )[ :, 1 ]\n",
    "\n",
    "y_xgb_pred_class_s_train   = xgb_optimal_model_s.predict( x_train )\n",
    "y_xgb_pred_prob_s_train    = xgb_optimal_model_s.predict_proba( x_train )[ :, 1 ]\n",
    "\n",
    "y_xgb_pred_class_st_train  = xgb_optimal_model_st.predict( x_train )\n",
    "y_xgb_pred_prob_st_train   = xgb_optimal_model_st.predict_proba( x_train )[ :, 1 ]\n",
    "\n",
    "y_xgb_pred_class_nrs_train = xgb_optimal_model_nrs.predict( x_train )\n",
    "y_xgb_pred_prob_nrs_train  = xgb_optimal_model_nrs.predict_proba( x_train )[ :, 1 ]\n",
    "\n",
    "# Calculating clasiffication report\n",
    "columns                    = [ 'no', 'si' ]\n",
    "xgb_report_o_train         = classification_report( y_train, y_xgb_pred_class_o_train, target_names = columns, output_dict = True )\n",
    "xgb_report_s_train         = classification_report( y_train, y_xgb_pred_class_s_train, target_names = columns, output_dict = True )\n",
    "xgb_report_st_train        = classification_report( y_train, y_xgb_pred_class_st_train, target_names = columns, output_dict = True )\n",
    "xgb_report_nrs_train       = classification_report( y_train, y_xgb_pred_class_nrs_train, target_names = columns, output_dict = True )\n",
    "\n",
    "# Calculating metrics for the original model\n",
    "xgb_no_precision_o_train   = xgb_report_o[ 'no' ][ 'precision' ]\n",
    "xgb_no_recall_o_train      = xgb_report_o[ 'no' ][ 'recall' ]\n",
    "xgb_no_f1_score_o_train    = xgb_report_o[ 'no' ][ 'f1-score' ]\n",
    "\n",
    "xgb_si_precision_o_train   = xgb_report_o[ 'si' ][ 'precision' ]\n",
    "xgb_si_recall_o_train      = xgb_report_o[ 'si' ][ 'recall' ]\n",
    "xgb_si_f1_score_o_train    = xgb_report_o[ 'si' ][ 'f1-score' ]\n",
    "\n",
    "accuracy_xgb_o_train       = accuracy_score( y_train, y_xgb_pred_class_o_train )\n",
    "log_loss_xgb_o_train       = log_loss( y_train, y_xgb_pred_class_o_train )\n",
    "roc_auc_xgb_o_train        = roc_auc_score( y_train, y_xgb_pred_prob_o_train )\n",
    "f1_score_xgb_o_train       = f1_score( y_train, y_xgb_pred_class_o_train, average = 'macro' )\n",
    "\n",
    "# Calculating metrics for the SMOTE model\n",
    "xgb_no_precision_s_train   = xgb_report_s[ 'no' ][ 'precision' ]\n",
    "xgb_no_recall_s_train      = xgb_report_s[ 'no' ][ 'recall' ]\n",
    "xgb_no_f1_score_s_train    = xgb_report_s[ 'no' ][ 'f1-score' ]\n",
    "\n",
    "xgb_si_precision_s_train   = xgb_report_s[ 'si' ][ 'precision' ]\n",
    "xgb_si_recall_s_train      = xgb_report_s[ 'si' ][ 'recall' ]\n",
    "xgb_si_f1_score_s_train    = xgb_report_s[ 'si' ][ 'f1-score' ]\n",
    "\n",
    "accuracy_xgb_s_train       = accuracy_score( y_train, y_xgb_pred_class_s_train )\n",
    "log_loss_xgb_s_train       = log_loss( y_train, y_xgb_pred_class_s_train )\n",
    "roc_auc_xgb_s_train        = roc_auc_score( y_train, y_xgb_pred_prob_s_train )\n",
    "f1_score_xgb_s_train       = f1_score( y_train, y_xgb_pred_class_s_train, average = 'macro' )\n",
    "\n",
    "# Calculating metrics for the SMOTE Tomek model\n",
    "xgb_no_precision_st_train  = xgb_report_st[ 'no' ][ 'precision' ]\n",
    "xgb_no_recall_st_train     = xgb_report_st[ 'no' ][ 'recall' ]\n",
    "xgb_no_f1_score_st_train   = xgb_report_st[ 'no' ][ 'f1-score' ]\n",
    "\n",
    "xgb_si_precision_st_train  = xgb_report_st[ 'si' ][ 'precision' ]\n",
    "xgb_si_recall_st_train     = xgb_report_st[ 'si' ][ 'recall' ]\n",
    "xgb_si_f1_score_st_train   = xgb_report_st[ 'si' ][ 'f1-score' ]\n",
    "\n",
    "accuracy_xgb_st_train      = accuracy_score( y_train, y_xgb_pred_class_st_train )\n",
    "log_loss_xgb_st_train      = log_loss( y_train, y_xgb_pred_class_st_train )\n",
    "roc_auc_xgb_st_train       = roc_auc_score( y_train, y_xgb_pred_prob_st_train )\n",
    "f1_score_xgb_st_train      = f1_score( y_train, y_xgb_pred_class_st_train, average = 'macro' )\n",
    "\n",
    "# Calculating metrics for the NRS model\n",
    "xgb_no_precision_nrs_train = xgb_report_nrs[ 'no' ][ 'precision' ]\n",
    "xgb_no_recall_nrs_train    = xgb_report_nrs[ 'no' ][ 'recall' ]\n",
    "xgb_no_f1_score_nrs_train  = xgb_report_nrs[ 'no' ][ 'f1-score' ]\n",
    "\n",
    "xgb_si_precision_nrs_train = xgb_report_nrs[ 'si' ][ 'precision' ]\n",
    "xgb_si_recall_nrs_train    = xgb_report_nrs[ 'si' ][ 'recall' ]\n",
    "xgb_si_f1_score_nrs_train  = xgb_report_nrs[ 'si' ][ 'f1-score' ]\n",
    "\n",
    "accuracy_xgb_nrs_train     = accuracy_score( y_train, y_xgb_pred_class_nrs_train )\n",
    "log_loss_xgb_nrs_train     = log_loss( y_train, y_xgb_pred_class_nrs_train )\n",
    "roc_auc_xgb_nrs_train      = roc_auc_score( y_train, y_xgb_pred_prob_nrs_train )\n",
    "f1_score_xgb_nrs_train     = f1_score( y_train, y_xgb_pred_class_nrs_train, average = 'macro' )"
   ]
  },
  {
   "cell_type": "markdown",
   "id": "193367ec-d693-46f2-b5b4-035051d34fda",
   "metadata": {},
   "source": [
    "### 9.3. Training results summary"
   ]
  },
  {
   "cell_type": "code",
   "execution_count": 38,
   "id": "cee1f540-b7d5-4869-8226-510729415147",
   "metadata": {},
   "outputs": [],
   "source": [
    "mcc_rf_o_train           = matthews_corrcoef( y_train, y_rf_pred_class_o_train )\n",
    "mcc_rf_s_train           = matthews_corrcoef( y_train, y_rf_pred_class_s_train )\n",
    "mcc_rf_st_train          = matthews_corrcoef( y_train, y_rf_pred_class_st_train )\n",
    "mcc_rf_nrs_train         = matthews_corrcoef( y_train, y_rf_pred_class_nrs_train )\n",
    "\n",
    "mcc_xgb_o_train          = matthews_corrcoef( y_train, y_xgb_pred_class_o_train )\n",
    "mcc_xgb_s_train          = matthews_corrcoef( y_train, y_xgb_pred_class_s_train )\n",
    "mcc_xgb_st_train         = matthews_corrcoef( y_train, y_xgb_pred_class_st_train )\n",
    "mcc_xgb_nrs_train        = matthews_corrcoef( y_train, y_xgb_pred_class_nrs_train )"
   ]
  },
  {
   "cell_type": "code",
   "execution_count": 39,
   "id": "2a3aa089-9d5f-464d-b0f0-1c603cd42bba",
   "metadata": {},
   "outputs": [
    {
     "data": {
      "text/html": [
       "<div>\n",
       "<style scoped>\n",
       "    .dataframe tbody tr th:only-of-type {\n",
       "        vertical-align: middle;\n",
       "    }\n",
       "\n",
       "    .dataframe tbody tr th {\n",
       "        vertical-align: top;\n",
       "    }\n",
       "\n",
       "    .dataframe thead th {\n",
       "        text-align: right;\n",
       "    }\n",
       "</style>\n",
       "<table border=\"1\" class=\"dataframe\">\n",
       "  <thead>\n",
       "    <tr style=\"text-align: right;\">\n",
       "      <th></th>\n",
       "      <th>Overall_Accuracy</th>\n",
       "      <th>Roc_Auc</th>\n",
       "      <th>Global_F1_Score</th>\n",
       "      <th>Matthews_Corr_Coef</th>\n",
       "      <th>No_Precision</th>\n",
       "      <th>No_Recall</th>\n",
       "      <th>No_F1_Score</th>\n",
       "      <th>Si_Precision</th>\n",
       "      <th>Si_Recall</th>\n",
       "      <th>Si_F1_Score</th>\n",
       "    </tr>\n",
       "  </thead>\n",
       "  <tbody>\n",
       "    <tr>\n",
       "      <th>O. Random Forest</th>\n",
       "      <td>0.972</td>\n",
       "      <td>0.998</td>\n",
       "      <td>0.980</td>\n",
       "      <td>0.931</td>\n",
       "      <td>0.455</td>\n",
       "      <td>0.213</td>\n",
       "      <td>0.290</td>\n",
       "      <td>0.755</td>\n",
       "      <td>0.905</td>\n",
       "      <td>0.823</td>\n",
       "    </tr>\n",
       "    <tr>\n",
       "      <th>S. Random Forest</th>\n",
       "      <td>0.731</td>\n",
       "      <td>0.695</td>\n",
       "      <td>0.825</td>\n",
       "      <td>0.260</td>\n",
       "      <td>0.507</td>\n",
       "      <td>0.362</td>\n",
       "      <td>0.422</td>\n",
       "      <td>0.785</td>\n",
       "      <td>0.869</td>\n",
       "      <td>0.825</td>\n",
       "    </tr>\n",
       "    <tr>\n",
       "      <th>ST. Random Forest</th>\n",
       "      <td>0.936</td>\n",
       "      <td>0.981</td>\n",
       "      <td>0.956</td>\n",
       "      <td>0.844</td>\n",
       "      <td>0.514</td>\n",
       "      <td>0.383</td>\n",
       "      <td>0.439</td>\n",
       "      <td>0.790</td>\n",
       "      <td>0.865</td>\n",
       "      <td>0.826</td>\n",
       "    </tr>\n",
       "    <tr>\n",
       "      <th>NRS. Random Forest</th>\n",
       "      <td>0.972</td>\n",
       "      <td>0.996</td>\n",
       "      <td>0.980</td>\n",
       "      <td>0.934</td>\n",
       "      <td>0.552</td>\n",
       "      <td>0.340</td>\n",
       "      <td>0.421</td>\n",
       "      <td>0.785</td>\n",
       "      <td>0.897</td>\n",
       "      <td>0.837</td>\n",
       "    </tr>\n",
       "    <tr>\n",
       "      <th>O. Boosted Trees</th>\n",
       "      <td>0.956</td>\n",
       "      <td>0.995</td>\n",
       "      <td>0.970</td>\n",
       "      <td>0.890</td>\n",
       "      <td>0.460</td>\n",
       "      <td>0.245</td>\n",
       "      <td>0.319</td>\n",
       "      <td>0.760</td>\n",
       "      <td>0.893</td>\n",
       "      <td>0.821</td>\n",
       "    </tr>\n",
       "    <tr>\n",
       "      <th>S. Boosted Trees</th>\n",
       "      <td>0.972</td>\n",
       "      <td>0.998</td>\n",
       "      <td>0.980</td>\n",
       "      <td>0.932</td>\n",
       "      <td>0.452</td>\n",
       "      <td>0.298</td>\n",
       "      <td>0.359</td>\n",
       "      <td>0.768</td>\n",
       "      <td>0.865</td>\n",
       "      <td>0.813</td>\n",
       "    </tr>\n",
       "    <tr>\n",
       "      <th>ST. Boosted Trees</th>\n",
       "      <td>0.933</td>\n",
       "      <td>0.975</td>\n",
       "      <td>0.954</td>\n",
       "      <td>0.834</td>\n",
       "      <td>0.439</td>\n",
       "      <td>0.266</td>\n",
       "      <td>0.331</td>\n",
       "      <td>0.761</td>\n",
       "      <td>0.873</td>\n",
       "      <td>0.813</td>\n",
       "    </tr>\n",
       "    <tr>\n",
       "      <th>NRS. Boosted Trees</th>\n",
       "      <td>0.972</td>\n",
       "      <td>0.998</td>\n",
       "      <td>0.980</td>\n",
       "      <td>0.934</td>\n",
       "      <td>0.441</td>\n",
       "      <td>0.319</td>\n",
       "      <td>0.370</td>\n",
       "      <td>0.770</td>\n",
       "      <td>0.849</td>\n",
       "      <td>0.808</td>\n",
       "    </tr>\n",
       "  </tbody>\n",
       "</table>\n",
       "</div>"
      ],
      "text/plain": [
       "                    Overall_Accuracy  Roc_Auc  Global_F1_Score  \\\n",
       "O. Random Forest               0.972    0.998            0.980   \n",
       "S. Random Forest               0.731    0.695            0.825   \n",
       "ST. Random Forest              0.936    0.981            0.956   \n",
       "NRS. Random Forest             0.972    0.996            0.980   \n",
       "O. Boosted Trees               0.956    0.995            0.970   \n",
       "S. Boosted Trees               0.972    0.998            0.980   \n",
       "ST. Boosted Trees              0.933    0.975            0.954   \n",
       "NRS. Boosted Trees             0.972    0.998            0.980   \n",
       "\n",
       "                    Matthews_Corr_Coef  No_Precision  No_Recall  No_F1_Score  \\\n",
       "O. Random Forest                 0.931         0.455      0.213        0.290   \n",
       "S. Random Forest                 0.260         0.507      0.362        0.422   \n",
       "ST. Random Forest                0.844         0.514      0.383        0.439   \n",
       "NRS. Random Forest               0.934         0.552      0.340        0.421   \n",
       "O. Boosted Trees                 0.890         0.460      0.245        0.319   \n",
       "S. Boosted Trees                 0.932         0.452      0.298        0.359   \n",
       "ST. Boosted Trees                0.834         0.439      0.266        0.331   \n",
       "NRS. Boosted Trees               0.934         0.441      0.319        0.370   \n",
       "\n",
       "                    Si_Precision  Si_Recall  Si_F1_Score  \n",
       "O. Random Forest           0.755      0.905        0.823  \n",
       "S. Random Forest           0.785      0.869        0.825  \n",
       "ST. Random Forest          0.790      0.865        0.826  \n",
       "NRS. Random Forest         0.785      0.897        0.837  \n",
       "O. Boosted Trees           0.760      0.893        0.821  \n",
       "S. Boosted Trees           0.768      0.865        0.813  \n",
       "ST. Boosted Trees          0.761      0.873        0.813  \n",
       "NRS. Boosted Trees         0.770      0.849        0.808  "
      ]
     },
     "execution_count": 39,
     "metadata": {},
     "output_type": "execute_result"
    }
   ],
   "source": [
    "table = np.zeros( ( 8, 10 ) )\n",
    "\n",
    "table[ 0 ] = [ accuracy_rf_o_train, roc_auc_rf_o_train, f1_score_rf_o_train, mcc_rf_o_train, rf_no_precision_o_train, rf_no_recall_o_train, \n",
    "               rf_no_f1_score_o_train, rf_si_precision_o_train, rf_si_recall_o_train, rf_si_f1_score_o_train ]\n",
    "\n",
    "table[ 1 ] = [ accuracy_rf_s, roc_auc_rf_s, f1_score_rf_s, mcc_rf_s, rf_no_precision_s, rf_no_recall_s, \n",
    "               rf_no_f1_score_s_train, rf_si_precision_s_train, rf_si_recall_s_train, rf_si_f1_score_s_train ]\n",
    "\n",
    "table[ 2 ] = [ accuracy_rf_st_train, roc_auc_rf_st_train, f1_score_rf_st_train, mcc_rf_st_train, rf_no_precision_st_train, rf_no_recall_st_train, \n",
    "               rf_no_f1_score_st_train, rf_si_precision_st_train, rf_si_recall_st_train, rf_si_f1_score_st_train ]\n",
    "\n",
    "table[ 3 ] = [ accuracy_rf_nrs_train, roc_auc_rf_nrs_train, f1_score_rf_nrs_train, mcc_rf_nrs_train, rf_no_precision_nrs_train, rf_no_recall_nrs_train, \n",
    "               rf_no_f1_score_nrs_train, rf_si_precision_nrs_train, rf_si_recall_nrs_train, rf_si_f1_score_nrs_train ]\n",
    "\n",
    "table[ 4 ] = [ accuracy_xgb_o_train, roc_auc_xgb_o_train, f1_score_xgb_o_train, mcc_xgb_o_train, xgb_no_precision_o_train, xgb_no_recall_o_train, \n",
    "               xgb_no_f1_score_o_train, xgb_si_precision_o_train, xgb_si_recall_o_train, xgb_si_f1_score_o_train ]\n",
    "\n",
    "table[ 5 ] = [ accuracy_xgb_s_train, roc_auc_xgb_s_train, f1_score_xgb_s_train, mcc_xgb_s_train, xgb_no_precision_s_train, xgb_no_recall_s_train, \n",
    "               xgb_no_f1_score_s_train, xgb_si_precision_s_train, xgb_si_recall_s_train, xgb_si_f1_score_s_train ]\n",
    "\n",
    "table[ 6 ] = [ accuracy_xgb_st_train, roc_auc_xgb_st_train, f1_score_xgb_st_train, mcc_xgb_st_train, xgb_no_precision_st_train, xgb_no_recall_st_train, \n",
    "               xgb_no_f1_score_st_train, xgb_si_precision_st_train, xgb_si_recall_st_train, xgb_si_f1_score_st_train ]\n",
    "\n",
    "table[ 7 ] = [ accuracy_xgb_nrs_train, roc_auc_xgb_nrs_train, f1_score_xgb_nrs_train, mcc_xgb_nrs_train, xgb_no_precision_nrs_train, xgb_no_recall_nrs_train, \n",
    "               xgb_no_f1_score_nrs_train, xgb_si_precision_nrs_train, xgb_si_recall_nrs_train, xgb_si_f1_score_nrs_train ]\n",
    "\n",
    "colnames_table = [ \"Overall_Accuracy\", \"Roc_Auc\", \"Global_F1_Score\", \"Matthews_Corr_Coef\", \"No_Precision\", \n",
    "                   \"No_Recall\", \"No_F1_Score\", \"Si_Precision\", \"Si_Recall\", \"Si_F1_Score\" ]\n",
    "                  \n",
    "rownames_table = [ \"O. Random Forest\",                   \n",
    "                   \"S. Random Forest\", \n",
    "                   \"ST. Random Forest\",                   \n",
    "                   \"NRS. Random Forest\", \n",
    "                   \"O. Boosted Trees\",                  \n",
    "                   \"S. Boosted Trees\",                  \n",
    "                   \"ST. Boosted Trees\",\n",
    "                   \"NRS. Boosted Trees\" ]                  \n",
    "\n",
    "\n",
    "table_pandas = pd.DataFrame( table, columns = colnames_table )\n",
    "table_pandas.index = rownames_table\n",
    "\n",
    "table_pandas = table_pandas.round( 3 )\n",
    "table_pandas"
   ]
  },
  {
   "cell_type": "code",
   "execution_count": 40,
   "id": "4e096ca9-97e0-4fc1-a1a6-f36c209fe83a",
   "metadata": {},
   "outputs": [],
   "source": [
    "# Tabla general para Test\n",
    "table_pandas.to_excel( r'..\\..\\..\\output\\ejecucion_1\\results\\base0_ci_results_training.xlsx' )"
   ]
  },
  {
   "cell_type": "markdown",
   "id": "1e7b89d1-92ca-44b0-856a-029decd29dd0",
   "metadata": {},
   "source": [
    "## 10. ROC Curves"
   ]
  },
  {
   "cell_type": "code",
   "execution_count": 41,
   "id": "1825cd0b-bdcd-4a51-a142-aab5fa8c9824",
   "metadata": {},
   "outputs": [],
   "source": [
    "from sklearn import metrics"
   ]
  },
  {
   "cell_type": "markdown",
   "id": "5cbda4a2-94e8-4233-b8a5-ae3b801a7604",
   "metadata": {},
   "source": [
    "### 10.1. Test set"
   ]
  },
  {
   "cell_type": "code",
   "execution_count": 44,
   "id": "76c13b43-3f4e-49c1-b16a-8c473de7d588",
   "metadata": {},
   "outputs": [
    {
     "data": {
      "image/png": "[encoded data removed]",
      "text/plain": [
       "<Figure size 640x480 with 1 Axes>"
      ]
     },
     "metadata": {},
     "output_type": "display_data"
    }
   ],
   "source": [
    "# Random Forest\n",
    "\n",
    "fig, ax = plt.subplots()\n",
    "\n",
    "metrics.plot_roc_curve( rf_optimal_model_o, x_test, y_test, ax = ax, name = 'Random Forest O.' )\n",
    "metrics.plot_roc_curve( rf_optimal_model_s, x_test, y_test, ax = ax, name = 'Random Forest S.' )\n",
    "metrics.plot_roc_curve( rf_optimal_model_st, x_test, y_test, ax = ax, name = 'Random Forest ST.' )\n",
    "metrics.plot_roc_curve( rf_optimal_model_nrs, x_test, y_test, ax = ax, name = 'Random Forest NRS.' )\n",
    "\n",
    "plt.plot( [ 0, 1 ], [ 0, 1 ], 'k--' )\n",
    "\n",
    "ax.set_title( 'ROC Curve Plot for Random Forest models in base 1, test set')\n",
    "ax.legend( loc = 'lower right' )\n",
    "\n",
    "plt.savefig( r'..\\..\\..\\output\\ejecucion_1\\plots\\base1\\b0_ci_roc_curve_rf_test.jpg', dpi = 300, bbox_inches = 'tight' )"
   ]
  },
  {
   "cell_type": "code",
   "execution_count": 45,
   "id": "6f97d20a-4d4b-4801-ae9c-06f16fc5893b",
   "metadata": {},
   "outputs": [
    {
     "data": {
      "image/png": "[encoded data removed]",
      "text/plain": [
       "<Figure size 640x480 with 1 Axes>"
      ]
     },
     "metadata": {},
     "output_type": "display_data"
    }
   ],
   "source": [
    "# Boosted Trees\n",
    "\n",
    "fig, ax = plt.subplots()\n",
    "\n",
    "metrics.plot_roc_curve( xgb_optimal_model_o, x_test, y_test, ax = ax, name = 'Boosted Trees O.' )\n",
    "metrics.plot_roc_curve( xgb_optimal_model_s, x_test, y_test, ax = ax, name = 'Boosted Trees S.' )\n",
    "metrics.plot_roc_curve( xgb_optimal_model_st, x_test, y_test, ax = ax, name = 'Boosted Trees ST.' )\n",
    "metrics.plot_roc_curve( xgb_optimal_model_nrs, x_test, y_test, ax = ax, name = 'Boosted Trees NRS.' )\n",
    "\n",
    "plt.plot( [ 0, 1 ], [ 0, 1 ], 'k--' )\n",
    "\n",
    "ax.set_title( 'ROC Curve Plot for Boosted Trees models in base 1, test set')\n",
    "ax.legend( loc = 'lower right' )\n",
    "\n",
    "plt.savefig( r'..\\..\\..\\output\\ejecucion_1\\plots\\base1\\b0_ci_roc_curve_xgb_test.jpg', dpi = 300, bbox_inches = 'tight' )"
   ]
  },
  {
   "cell_type": "markdown",
   "id": "6653405d-0bca-40f6-a5cb-70ac740ad4aa",
   "metadata": {},
   "source": [
    "### 10.2. Training set"
   ]
  },
  {
   "cell_type": "code",
   "execution_count": 46,
   "id": "818c0d3c-0656-4898-b889-cb5fec2b0064",
   "metadata": {},
   "outputs": [
    {
     "data": {
      "image/png": "[encoded data removed]",
      "text/plain": [
       "<Figure size 640x480 with 1 Axes>"
      ]
     },
     "metadata": {},
     "output_type": "display_data"
    }
   ],
   "source": [
    "# Random Forest\n",
    "\n",
    "fig, ax = plt.subplots()\n",
    "\n",
    "metrics.plot_roc_curve( rf_optimal_model_o, x_train, y_train, ax = ax, name = 'Random Forest O.' )\n",
    "metrics.plot_roc_curve( rf_optimal_model_s, x_train, y_train, ax = ax, name = 'Random Forest S.' )\n",
    "metrics.plot_roc_curve( rf_optimal_model_st, x_train, y_train, ax = ax, name = 'Random Forest ST.' )\n",
    "metrics.plot_roc_curve( rf_optimal_model_nrs, x_train, y_train, ax = ax, name = 'Random Forest NRS.' )\n",
    "\n",
    "plt.plot( [ 0, 1 ], [ 0, 1 ], 'k--' )\n",
    "\n",
    "ax.set_title( 'ROC Curve Plot for Random Forest models in base 1, training set')\n",
    "ax.legend( loc = 'lower right' )\n",
    "\n",
    "plt.savefig( r'..\\..\\..\\output\\ejecucion_1\\plots\\base1\\b0_ci_roc_curve_rf_training.jpg', dpi = 300, bbox_inches = 'tight' )"
   ]
  },
  {
   "cell_type": "code",
   "execution_count": 47,
   "id": "dda22956-f981-48bb-83a0-b8df9d1a6651",
   "metadata": {},
   "outputs": [
    {
     "data": {
      "image/png": "[encoded data removed]",
      "text/plain": [
       "<Figure size 640x480 with 1 Axes>"
      ]
     },
     "metadata": {},
     "output_type": "display_data"
    }
   ],
   "source": [
    "# Boosted Trees\n",
    "\n",
    "fig, ax = plt.subplots()\n",
    "\n",
    "metrics.plot_roc_curve( xgb_optimal_model_o, x_train, y_train, ax = ax, name = 'Boosted Trees O.' )\n",
    "metrics.plot_roc_curve( xgb_optimal_model_s, x_train, y_train, ax = ax, name = 'Boosted Trees S.' )\n",
    "metrics.plot_roc_curve( xgb_optimal_model_st, x_train, y_train, ax = ax, name = 'Boosted Trees ST.' )\n",
    "metrics.plot_roc_curve( xgb_optimal_model_nrs, x_train, y_train, ax = ax, name = 'Boosted Trees NRS.' )\n",
    "\n",
    "plt.plot( [ 0, 1 ], [ 0, 1 ], 'k--' )\n",
    "\n",
    "ax.set_title( 'ROC Curve Plot for Boosted Trees models in base 1, training set')\n",
    "ax.legend( loc = 'lower right' )\n",
    "\n",
    "plt.savefig( r'..\\..\\..\\output\\ejecucion_1\\plots\\base1\\b0_ci_roc_curve_xgb_training.jpg', dpi = 300, bbox_inches = 'tight' )"
   ]
  },
  {
   "cell_type": "markdown",
   "id": "2a92f0aa-eec6-4e3e-9c9f-3aefa4428f65",
   "metadata": {},
   "source": [
    "## 11. Save models"
   ]
  },
  {
   "cell_type": "code",
   "execution_count": 60,
   "id": "283b015e-b3d6-4af7-bd08-a5b74cd3ab5c",
   "metadata": {},
   "outputs": [
    {
     "data": {
      "text/plain": [
       "['..\\\\..\\\\..\\\\output\\\\ejecucion_1\\\\models\\\\base0\\\\b0_ci_xgb_nrs.joblib']"
      ]
     },
     "execution_count": 60,
     "metadata": {},
     "output_type": "execute_result"
    }
   ],
   "source": [
    "joblib.dump( lg_model_o, r'..\\..\\..\\output\\ejecucion_1\\models\\base0\\b0_ci_lg_model_ojoblib' )\n",
    "joblib.dump( lg_model_s, r'..\\..\\..\\output\\ejecucion_1\\models\\base0\\b0_ci_lg_model_s.joblib' )\n",
    "joblib.dump( lg_model_st, r'..\\..\\..\\output\\ejecucion_1\\models\\base0\\b0_ci_lg_model_st.joblib' )\n",
    "joblib.dump( lg_model_nrs, r'..\\..\\..\\output\\ejecucion_1\\models\\base0\\b0_ci_lg_model_nrs.joblib' )\n",
    "\n",
    "joblib.dump( lasso_model_o, r'..\\..\\..\\output\\ejecucion_1\\models\\base0\\b0_ci_lasso_model_o.joblib' )\n",
    "joblib.dump( lasso_model_s, r'..\\..\\..\\output\\ejecucion_1\\models\\base0\\b0_ci_lasso_model_s.joblib' )\n",
    "joblib.dump( lasso_model_st, r'..\\..\\..\\output\\ejecucion_1\\models\\base0\\b0_ci_lasso_model_st.joblib' )\n",
    "joblib.dump( lasso_model_nrs, r'..\\..\\..\\output\\ejecucion_1\\models\\base0\\b0_ci_lasso_model_nrs_1.joblib' )\n",
    "\n",
    "joblib.dump( ridge_model_o, r'..\\..\\..\\output\\ejecucion_1\\models\\base0\\b0_ci_ridge_model_o.joblib' )\n",
    "joblib.dump( ridge_model_s, r'..\\..\\..\\output\\ejecucion_1\\models\\base0\\b0_ci_ridge_model_s.joblib' )\n",
    "joblib.dump( ridge_model_st, r'..\\..\\..\\output\\ejecucion_1\\models\\base0\\b0_ci_ridge_model_st.joblib' )\n",
    "joblib.dump( ridge_model_nrs, r'..\\..\\..\\output\\ejecucion_1\\models\\base0\\b0_ci_ridge_model_nrs.joblib' )\n",
    "\n",
    "joblib.dump( elasticnet_model_o, r'..\\..\\..\\output\\ejecucion_1\\models\\base0\\b0_ci_elasticnet_model_o.joblib' )\n",
    "joblib.dump( elasticnet_model_s, r'..\\..\\..\\output\\ejecucion_1\\models\\base0\\b0_ci_elasticnet_model_s.joblib' )\n",
    "joblib.dump( elasticnet_model_st, r'..\\..\\..\\output\\ejecucion_1\\models\\base0\\b0_ci_elasticnet_model_st.joblib' )\n",
    "joblib.dump( elasticnet_model_nrs, r'..\\..\\..\\output\\ejecucion_1\\models\\base0\\b0_ci_elasticnet_model_nrs.joblib' )\n",
    "\n",
    "joblib.dump( rf_optimal_model_o, r'..\\..\\..\\output\\ejecucion_1\\models\\base0\\b0_ci_rf_o.joblib' )\n",
    "joblib.dump( rf_optimal_model_s, r'..\\..\\..\\output\\ejecucion_1\\models\\base0\\b0_ci_rf_s.joblib' )\n",
    "joblib.dump( rf_optimal_model_st, r'..\\..\\..\\output\\ejecucion_1\\models\\base0\\b0_ci_rf_st.joblib' )\n",
    "joblib.dump( rf_optimal_model_nrs, r'..\\..\\..\\output\\ejecucion_1\\models\\base0\\b0_ci_rf_nrs.joblib' )\n",
    "\n",
    "joblib.dump( xgb_optimal_model_o, r'..\\..\\..\\output\\ejecucion_1\\models\\base0\\b0_ci_xgb_o.joblib' )\n",
    "joblib.dump( xgb_optimal_model_s, r'..\\..\\..\\output\\ejecucion_1\\models\\base0\\b0_ci_xgb_s.joblib' )\n",
    "joblib.dump( xgb_optimal_model_st, r'..\\..\\..\\output\\ejecucion_1\\models\\base0\\b0_ci_xgb_st.joblib' )\n",
    "joblib.dump( xgb_optimal_model_nrs, r'..\\..\\..\\output\\ejecucion_1\\models\\base0\\b0_ci_xgb_nrs.joblib' )"
   ]
  },
  {
   "cell_type": "markdown",
   "id": "8be2c3f4-0f71-490e-901b-7593f3d4baf5",
   "metadata": {},
   "source": [
    "## 13. Grid Search Results"
   ]
  },
  {
   "cell_type": "code",
   "execution_count": 61,
   "id": "099fd44f-2200-4308-b5c6-c5721790e504",
   "metadata": {},
   "outputs": [],
   "source": [
    "# Store Grid Search Results for Random Forest\n",
    "results_gs_rf_o    = pd.DataFrame( rf_search_o.cv_results_ )\n",
    "results_gs_rf_s    = pd.DataFrame( rf_search_s.cv_results_ )\n",
    "results_gs_rf_st   = pd.DataFrame( rf_search_st.cv_results_ )\n",
    "results_gs_rf_nrs  = pd.DataFrame( rf_search_nrs.cv_results_ )\n",
    "\n",
    "# Store Grid Search Results for Boosted Trees\n",
    "results_gs_xgb_o   = pd.DataFrame( xgb_search_o.cv_results_ )\n",
    "results_gs_xgb_s   = pd.DataFrame( xgb_search_s.cv_results_ )\n",
    "results_gs_xgb_st  = pd.DataFrame( xgb_search_st.cv_results_ )\n",
    "results_gs_xgb_nrs = pd.DataFrame( xgb_search_nrs.cv_results_ )"
   ]
  },
  {
   "cell_type": "code",
   "execution_count": 63,
   "id": "ec8a2bee-7b0b-459c-a59b-5048da7a1dbb",
   "metadata": {},
   "outputs": [],
   "source": [
    "# Save Grid Search Results for Random Forest\n",
    "results_gs_rf_o.to_excel( r'..\\..\\..\\output\\ejecucion_1\\gridsearch_results\\base0\\b0_ci_results_gs_rf_o.xlsx' )\n",
    "results_gs_rf_s.to_excel( r'..\\..\\..\\output\\ejecucion_1\\gridsearch_results\\base0\\b0_ci_results_gs_rf_s.xlsx' )\n",
    "results_gs_rf_st.to_excel( r'..\\..\\..\\output\\ejecucion_1\\gridsearch_results\\base0\\b0_ci_results_gs_rf_st.xlsx' )\n",
    "results_gs_rf_nrs.to_excel( r'..\\..\\..\\output\\ejecucion_1\\gridsearch_results\\base0\\b0_ci_results_gs_rf_nrs.xlsx' )\n",
    "\n",
    "# Save Grid Search Results for Boosted Trees\n",
    "results_gs_xgb_o.to_excel( r'..\\..\\..\\output\\ejecucion_1\\gridsearch_results\\base0\\b0_ci_results_gs_xgb_o.xlsx' )\n",
    "results_gs_xgb_s.to_excel( r'..\\..\\..\\output\\ejecucion_1\\gridsearch_results\\base0\\b0_ci_results_gs_xgb_s.xlsx' )\n",
    "results_gs_xgb_st.to_excel( r'..\\..\\..\\output\\ejecucion_1\\gridsearch_results\\base0\\b0_ci_results_gs_xgb_st.xlsx' )\n",
    "results_gs_xgb_nrs.to_excel( r'..\\..\\..\\output\\ejecucion_1\\gridsearch_results\\base0\\b0_ci_results_gs_xgb_nrs.xlsx' )"
   ]
  },
  {
   "cell_type": "markdown",
   "id": "f8091e42-6431-4690-a435-ef3240490f99",
   "metadata": {},
   "source": [
    "## 14. Features maps"
   ]
  },
  {
   "cell_type": "code",
   "execution_count": 41,
   "id": "bc723b9a-3e41-4efc-b378-fe11bc1b2d89",
   "metadata": {},
   "outputs": [],
   "source": [
    "# Random Forest (Original) \n",
    "fp_randomforest_o = pd.Series( rf_optimal_model_o.feature_importances_, index = pred_vars ).\\\n",
    "                    sort_values( ascending = False )\n",
    "\n",
    "fp_randomforest_o = pd.DataFrame( fp_randomforest_o.head( 50 ) ).\\\n",
    "                                  reset_index().\\\n",
    "                                  rename( columns = { 'index': 'vars', 0: 'score' } )"
   ]
  },
  {
   "cell_type": "code",
   "execution_count": 47,
   "id": "9ee9963f-b10b-4c7b-8b5e-e6ba0149f912",
   "metadata": {},
   "outputs": [],
   "source": [
    "# Random Forest (SMOTE)\n",
    "fp_randomforest_s = pd.Series( rf_optimal_model_s.feature_importances_, index = pred_vars ).\\\n",
    "                    sort_values( ascending = False )\n",
    "\n",
    "fp_randomforest_s = pd.DataFrame( fp_randomforest_s.head( 50 ) ).\\\n",
    "                                  reset_index().\\\n",
    "                                  rename( columns = { 'index': 'vars', 0: 'score' } )"
   ]
  },
  {
   "cell_type": "code",
   "execution_count": 50,
   "id": "d7ff0183-1431-4b6d-918d-e9d3a653c327",
   "metadata": {},
   "outputs": [],
   "source": [
    "# Random Forest (SMOTE Tomek)\n",
    "fp_randomforest_st = pd.Series( rf_optimal_model_st.feature_importances_, index = pred_vars ).\\\n",
    "                     sort_values( ascending = False )\n",
    "\n",
    "fp_randomforest_st = pd.DataFrame( fp_randomforest_st.head( 50 ) ).\\\n",
    "                                   reset_index().\\\n",
    "                                   rename( columns = { 'index': 'vars', 0: 'score' } )"
   ]
  },
  {
   "cell_type": "code",
   "execution_count": 52,
   "id": "3db039bb-a122-4cfb-8c90-ac7f549a4575",
   "metadata": {},
   "outputs": [],
   "source": [
    "# Random Forest (NRS)\n",
    "fp_randomforest_nrs = pd.Series( rf_optimal_model_nrs.feature_importances_, index = pred_vars ).\\\n",
    "                      sort_values( ascending = False )\n",
    "\n",
    "fp_randomforest_nrs = pd.DataFrame( fp_randomforest_nrs.head( 50 ) ).\\\n",
    "                                    reset_index().\\\n",
    "                                    rename( columns = { 'index': 'vars', 0: 'score' } )"
   ]
  },
  {
   "cell_type": "code",
   "execution_count": 40,
   "id": "daa90521-a622-4153-a487-0b730dc1fd4f",
   "metadata": {
    "collapsed": true,
    "jupyter": {
     "outputs_hidden": true
    },
    "tags": []
   },
   "outputs": [
    {
     "ename": "NameError",
     "evalue": "name 'xgb_optimal_model_o' is not defined",
     "output_type": "error",
     "traceback": [
      "\u001b[1;31m---------------------------------------------------------------------------\u001b[0m",
      "\u001b[1;31mNameError\u001b[0m                                 Traceback (most recent call last)",
      "\u001b[1;32m~\\AppData\\Local\\Temp\\ipykernel_19164\\2288012713.py\u001b[0m in \u001b[0;36m<module>\u001b[1;34m\u001b[0m\n\u001b[0;32m      1\u001b[0m \u001b[1;31m# Boosted Trees (Original)\u001b[0m\u001b[1;33m\u001b[0m\u001b[1;33m\u001b[0m\u001b[0m\n\u001b[1;32m----> 2\u001b[1;33m \u001b[0mfp_xgboost_o\u001b[0m \u001b[1;33m=\u001b[0m \u001b[0mpd\u001b[0m\u001b[1;33m.\u001b[0m\u001b[0mSeries\u001b[0m\u001b[1;33m(\u001b[0m \u001b[0mxgb_optimal_model_o\u001b[0m\u001b[1;33m.\u001b[0m\u001b[0mfeature_importances_\u001b[0m\u001b[1;33m,\u001b[0m \u001b[0mindex\u001b[0m \u001b[1;33m=\u001b[0m \u001b[0mpred_vars\u001b[0m \u001b[1;33m)\u001b[0m\u001b[1;33m.\u001b[0m\u001b[0;31m\\\u001b[0m\u001b[1;33m\u001b[0m\u001b[1;33m\u001b[0m\u001b[0m\n\u001b[0m\u001b[0;32m      3\u001b[0m            \u001b[0msort_values\u001b[0m\u001b[1;33m(\u001b[0m \u001b[0mascending\u001b[0m \u001b[1;33m=\u001b[0m \u001b[1;32mFalse\u001b[0m \u001b[1;33m)\u001b[0m\u001b[1;33m\u001b[0m\u001b[1;33m\u001b[0m\u001b[0m\n\u001b[0;32m      4\u001b[0m \u001b[1;33m\u001b[0m\u001b[0m\n\u001b[0;32m      5\u001b[0m \u001b[0mfp_xgboost_o\u001b[0m \u001b[1;33m=\u001b[0m \u001b[0mpd\u001b[0m\u001b[1;33m.\u001b[0m\u001b[0mDataFrame\u001b[0m\u001b[1;33m(\u001b[0m \u001b[0mfp_xgboost_o\u001b[0m\u001b[1;33m.\u001b[0m\u001b[0mhead\u001b[0m\u001b[1;33m(\u001b[0m \u001b[1;36m50\u001b[0m \u001b[1;33m)\u001b[0m \u001b[1;33m)\u001b[0m\u001b[1;33m.\u001b[0m\u001b[0;31m\\\u001b[0m\u001b[1;33m\u001b[0m\u001b[1;33m\u001b[0m\u001b[0m\n",
      "\u001b[1;31mNameError\u001b[0m: name 'xgb_optimal_model_o' is not defined"
     ]
    }
   ],
   "source": [
    "# Boosted Trees (Original)\n",
    "fp_xgboost_o = pd.Series( xgb_optimal_model_o.feature_importances_, index = pred_vars ).\\\n",
    "           sort_values( ascending = False )\n",
    "\n",
    "fp_xgboost_o = pd.DataFrame( fp_xgboost_o.head( 50 ) ).\\\n",
    "                             reset_index().\\\n",
    "                             rename( columns = { 'index': 'vars', 0: 'score' } )"
   ]
  },
  {
   "cell_type": "code",
   "execution_count": 69,
   "id": "0033738d-a56d-4722-bb8d-400eaa6b7610",
   "metadata": {},
   "outputs": [],
   "source": [
    "# Boosted Trees (SMOTE)\n",
    "fp_xgboost_s = pd.Series( xgb_optimal_model_s.feature_importances_, index = pred_vars ).\\\n",
    "               sort_values( ascending = False )\n",
    "\n",
    "fp_xgboost_s = pd.DataFrame( fp_xgboost_s.head( 50 ) ).\\\n",
    "                             reset_index().\\\n",
    "                             rename( columns = { 'index': 'vars', 0: 'score' } )"
   ]
  },
  {
   "cell_type": "code",
   "execution_count": 70,
   "id": "82a5379e-5d18-4f81-b08f-4e3710466b8c",
   "metadata": {},
   "outputs": [],
   "source": [
    "# Boosted Trees (SMOTE Tomek)\n",
    "fp_xgboost_st = pd.Series( xgb_optimal_model_st.feature_importances_, index = pred_vars ).\\\n",
    "                sort_values( ascending = False )\n",
    "\n",
    "fp_xgboost_st = pd.DataFrame( fp_xgboost_st.head( 50 ) ).\\\n",
    "                              reset_index().\\\n",
    "                              rename( columns = { 'index': 'vars', 0: 'score' } )"
   ]
  },
  {
   "cell_type": "code",
   "execution_count": 71,
   "id": "828a5942-bfb1-43ad-b9aa-5144be89aca8",
   "metadata": {},
   "outputs": [],
   "source": [
    "# Boosted Trees (NRS)\n",
    "fp_xgboost_nrs = pd.Series( xgb_optimal_model_nrs.feature_importances_, index = pred_vars ).\\\n",
    "                 sort_values( ascending = False )\n",
    "\n",
    "fp_xgboost_nrs = pd.DataFrame( fp_xgboost_nrs.head( 50 ) ).\\\n",
    "                               reset_index().\\\n",
    "                               rename( columns = { 'index': 'vars', 0: 'score' } )"
   ]
  },
  {
   "cell_type": "markdown",
   "id": "e1bd415d-c237-46f6-ad55-e33b0e4fc30c",
   "metadata": {},
   "source": [
    "## 15. Export results"
   ]
  },
  {
   "cell_type": "code",
   "execution_count": 55,
   "id": "171a75c6-571d-4a35-932b-9d06763009c5",
   "metadata": {},
   "outputs": [],
   "source": [
    "# Variables Random Forest\n",
    "\n",
    "fp_randomforest_o.to_excel( r'..\\..\\..\\output\\ejecucion_1\\results\\base0\\base0_ci_rf_o_vg.xlsx' )\n",
    "fp_randomforest_s.to_excel( r'..\\..\\..\\output\\ejecucion_1\\results\\base0\\base0_ci_rf_s_vg.xlsx' )\n",
    "fp_randomforest_st.to_excel( r'..\\..\\..\\output\\ejecucion_1\\results\\base0\\base0_ci_rf_st_vg.xlsx' )\n",
    "fp_randomforest_nrs.to_excel( r'..\\..\\..\\output\\ejecucion_1\\results\\base0\\base0_ci_rf_nrs_vg.xlsx' )"
   ]
  },
  {
   "cell_type": "code",
   "execution_count": 73,
   "id": "d613d55f-b287-4c4b-82e9-a211fc261790",
   "metadata": {},
   "outputs": [],
   "source": [
    "# Variables Boosted Trees\n",
    "\n",
    "fp_xgboost_o.to_excel( r'..\\..\\..\\output\\ejecucion_1\\results\\base0\\base0_ci_xgb_o.xlsx' )\n",
    "fp_xgboost_s.to_excel( r'..\\..\\..\\output\\ejecucion_1\\results\\base0\\base0_ci_xgb_s.xlsx' )\n",
    "fp_xgboost_st.to_excel( r'..\\..\\..\\output\\ejecucion_1\\results\\base0\\base0_ci_xgb_st.xlsx' )\n",
    "fp_xgboost_nrs.to_excel( r'..\\..\\..\\output\\ejecucion_1\\results\\base0\\base0_ci_xgb_nrs.xlsx' )"
   ]
  }
 ],
 "metadata": {
  "kernelspec": {
   "display_name": "Python 3 (ipykernel)",
   "language": "python",
   "name": "python3"
  },
  "language_info": {
   "codemirror_mode": {
    "name": "ipython",
    "version": 3
   },
   "file_extension": ".py",
   "mimetype": "text/x-python",
   "name": "python",
   "nbconvert_exporter": "python",
   "pygments_lexer": "ipython3",
   "version": "3.9.13"
  }
 },
 "nbformat": 4,
 "nbformat_minor": 5
}
