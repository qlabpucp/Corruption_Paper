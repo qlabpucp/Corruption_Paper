{
 "cells": [
  {
   "cell_type": "markdown",
   "id": "5e5fbf3b-a194-4cd8-9d8a-8f17aafe6406",
   "metadata": {},
   "source": [
    "## 1. Cargar los datos"
   ]
  },
  {
   "cell_type": "markdown",
   "id": "4d1a2fc7-820e-449c-8666-c0effe7f3c58",
   "metadata": {},
   "source": [
    "#### 1.1. Importar librerias y módulos"
   ]
  },
  {
   "cell_type": "code",
   "execution_count": 1,
   "id": "0ed9ef30-0261-4660-b09d-55b1fad7e5f5",
   "metadata": {},
   "outputs": [],
   "source": [
    "import pandas as pd\n",
    "import numpy as np\n",
    "from glob import glob\n",
    "import os\n",
    "import funciones as fun\n",
    "import variables_nombres as vn\n",
    "from warnings import simplefilter"
   ]
  },
  {
   "cell_type": "code",
   "execution_count": 2,
   "id": "d2b37738-301a-4d4d-96d5-1bc8ada52d82",
   "metadata": {
    "tags": []
   },
   "outputs": [],
   "source": [
    "simplefilter( action = \"ignore\", \n",
    "              category = pd.errors.PerformanceWarning )\n",
    "# print( dir( fun ) )\n",
    "# pd.set_option( 'display.max_rows', 10 )\n",
    "# pd.set_option( 'display.max_columns', 10 )"
   ]
  },
  {
   "cell_type": "markdown",
   "id": "b1cf9982-9115-429f-828b-027f7e22f0a1",
   "metadata": {},
   "source": [
    "#### 1.2. Importar bases "
   ]
  },
  {
   "cell_type": "markdown",
   "id": "dc2dd9c1-435e-4782-bea4-f13009718ffc",
   "metadata": {},
   "source": [
    "Se importan las cuatro bases de manera conjunta, y se agrupan en la lista \"bases\". Para accerder a cada una de las bases se llama a la lista de bases + su respectivo índice. Ejemplo: bases[0]"
   ]
  },
  {
   "cell_type": "code",
   "execution_count": 3,
   "id": "3e2e6ca3-634f-4a1b-8520-b3d60d890415",
   "metadata": {},
   "outputs": [
    {
     "data": {
      "text/plain": [
       "'C:\\\\Users\\\\dell\\\\Documents\\\\GitHub\\\\Corruption_Paper\\\\code\\\\data\\\\preprocess_data'"
      ]
     },
     "execution_count": 3,
     "metadata": {},
     "output_type": "execute_result"
    }
   ],
   "source": [
    "pwd"
   ]
  },
  {
   "cell_type": "code",
   "execution_count": 4,
   "id": "c36ff79f-c74c-499c-86d2-9c8fd77ad18a",
   "metadata": {},
   "outputs": [],
   "source": [
    "path = r'..\\..\\..\\input\\built_data\\*.dta'"
   ]
  },
  {
   "cell_type": "code",
   "execution_count": 5,
   "id": "1b2e5794-95d9-4889-a729-8b567691ca90",
   "metadata": {
    "tags": []
   },
   "outputs": [
    {
     "name": "stdout",
     "output_type": "stream",
     "text": [
      "0\n",
      "1\n",
      "2\n",
      "3\n",
      "Wall time: 1h 9min 15s\n"
     ]
    }
   ],
   "source": [
    "%%time\n",
    "\n",
    "dfs = fun.importar_bases( path )\n",
    "for i, df in enumerate( dfs ):\n",
    "    print( i )"
   ]
  },
  {
   "cell_type": "code",
   "execution_count": 6,
   "id": "2f4235e8-1cfc-4901-baca-021244090ad3",
   "metadata": {
    "tags": []
   },
   "outputs": [],
   "source": [
    "# Filtrar los años\n",
    "\n",
    "for i, df in enumerate( dfs ):\n",
    "    dfs[ i ] = dfs[ i ][ dfs[ i ][ 'year' ] >= 2016 ]"
   ]
  },
  {
   "cell_type": "code",
   "execution_count": 7,
   "id": "22d62ffd-005c-4527-bebc-fd65231c8227",
   "metadata": {},
   "outputs": [
    {
     "data": {
      "text/plain": [
       "2019.0    0.266605\n",
       "2020.0    0.199257\n",
       "2018.0    0.195541\n",
       "2016.0    0.194612\n",
       "2017.0    0.143985\n",
       "Name: year, dtype: float64"
      ]
     },
     "execution_count": 7,
     "metadata": {},
     "output_type": "execute_result"
    }
   ],
   "source": [
    "# Test filtered years\n",
    "dfs[ 1 ][ 'year' ].value_counts( normalize = True )"
   ]
  },
  {
   "cell_type": "markdown",
   "id": "c309c951-60bb-4570-a28e-305d8d895ec3",
   "metadata": {},
   "source": [
    "#### 1.3. Última limpieza a las bases"
   ]
  },
  {
   "cell_type": "markdown",
   "id": "22ee32de-7937-459f-9a0e-8a6723d2baea",
   "metadata": {},
   "source": [
    "Últimas modificaciones a las bases de datos"
   ]
  },
  {
   "cell_type": "code",
   "execution_count": 8,
   "id": "8475af1d-7c2e-4c76-a534-f041e9a15b91",
   "metadata": {},
   "outputs": [
    {
     "name": "stdout",
     "output_type": "stream",
     "text": [
      "Wall time: 8min 4s\n"
     ]
    }
   ],
   "source": [
    "%%time\n",
    "\n",
    "for i, df in enumerate( dfs ):\n",
    "    data_cols = [ col for col in dfs[ i ].columns if col not in vn.no_predictoras_variables and col not in vn.string_variables ]\n",
    "    encode_variables = { \"sexo\":{ \"Mujer\":1, \"Hombre\":2 }}\n",
    "    dfs[ i ] = dfs[ i ][ data_cols ]\n",
    "    dfs[ i ] = dfs[ i ].replace( encode_variables )\n",
    "    dfs[ i ] = dfs[ i ].astype( str ).replace( '', np.nan, regex = True )\n",
    "    dfs[ i ] = dfs[ i ].astype( str ).replace( '\\.+$', np.nan, regex = True ).astype( float )"
   ]
  },
  {
   "cell_type": "markdown",
   "id": "a3c7df5f-2e1d-4eef-96c0-0387ad464dec",
   "metadata": {},
   "source": [
    "#### 1.6. Asignar nombres a las bases"
   ]
  },
  {
   "cell_type": "code",
   "execution_count": 9,
   "id": "322a8f14-b596-40f3-87b6-cfb94df9e6c8",
   "metadata": {},
   "outputs": [],
   "source": [
    "dfs[ 0 ].name = 'base0'\n",
    "dfs[ 1 ].name = 'base1'\n",
    "dfs[ 2 ].name = 'base2'\n",
    "dfs[ 3 ].name = 'base3'"
   ]
  },
  {
   "cell_type": "markdown",
   "id": "058e1120-973a-40ea-9ed0-90339bf33b19",
   "metadata": {},
   "source": [
    "#### 1.7. Determinar el número de variables por cada fuente"
   ]
  },
  {
   "cell_type": "code",
   "execution_count": 10,
   "id": "d137f1ed-d451-49c7-9ffb-a56959380a9c",
   "metadata": {
    "tags": []
   },
   "outputs": [
    {
     "name": "stdout",
     "output_type": "stream",
     "text": [
      "base0: Variables de Renamu: 730; Variables de SIAF: 17532; variables políticas 4\n",
      "base1: Variables de Renamu: 730; Variables de SIAF: 17532; variables políticas 4\n",
      "base2: Variables de Renamu: 730; Variables de SIAF: 17532; variables políticas 4\n",
      "base3: Variables de Renamu: 730; Variables de SIAF: 17532; variables políticas 4\n"
     ]
    }
   ],
   "source": [
    "fun.contar_variables( dfs )"
   ]
  },
  {
   "cell_type": "markdown",
   "id": "29f794e7-a76b-4256-bf7a-b39df3bbabc1",
   "metadata": {},
   "source": [
    "#### 1.8. Determinar las dimensiones de cada base"
   ]
  },
  {
   "cell_type": "code",
   "execution_count": 11,
   "id": "895bca39-43f8-43ce-bb0a-e04a2317d346",
   "metadata": {
    "tags": []
   },
   "outputs": [
    {
     "name": "stdout",
     "output_type": "stream",
     "text": [
      "base0 (1397, 18279)\n",
      "base1 (2153, 18279)\n",
      "base2 (2694, 18279)\n",
      "base3 (5122, 18282)\n"
     ]
    }
   ],
   "source": [
    "fun.determinar_dimensiones( dfs )"
   ]
  },
  {
   "cell_type": "markdown",
   "id": "53bf5173-c30d-4ef8-a005-405a82a21cff",
   "metadata": {},
   "source": [
    "## 2. Preprocesamiento"
   ]
  },
  {
   "cell_type": "markdown",
   "id": "34417970-3695-4f99-9235-6852ffc8870d",
   "metadata": {},
   "source": [
    "### 2.1 Imputación con 0"
   ]
  },
  {
   "cell_type": "markdown",
   "id": "4f07243f-19fa-427b-8906-a403aa1084a7",
   "metadata": {},
   "source": [
    "Se imputa los valores perdidos de las variables de SIAF con 0. No se generan variables dummy de control."
   ]
  },
  {
   "cell_type": "code",
   "execution_count": 12,
   "id": "0b26b539-4244-4896-9d87-0580ed5c06b9",
   "metadata": {},
   "outputs": [],
   "source": [
    "for i, df in enumerate( dfs ):\n",
    "    dfs[ i ] = fun.imputar_i( dfs[ i ], vn.siaf_variables, 0, dummy = False )"
   ]
  },
  {
   "cell_type": "markdown",
   "id": "34da4924-dabf-4994-87e0-c936ba9f62e0",
   "metadata": {},
   "source": [
    "Generar tablas descriptivas de los cuatro casos"
   ]
  },
  {
   "cell_type": "code",
   "execution_count": 13,
   "id": "2a258092-8a91-41e0-852f-829c9943c8d2",
   "metadata": {},
   "outputs": [],
   "source": [
    "# export_path = r'..\\..\\extra\\descriptive_tables'\n",
    "# file_name = \"tabla_descriptiva_filtrada_ac\""
   ]
  },
  {
   "cell_type": "code",
   "execution_count": 14,
   "id": "202c498d-565a-4ccf-b45e-52f0e19c655c",
   "metadata": {
    "tags": []
   },
   "outputs": [],
   "source": [
    "# fun.generar_tablas_descriptivas( dfs, file_name, export_path ) "
   ]
  },
  {
   "cell_type": "markdown",
   "id": "612cfbd2-3ee5-4151-a58d-d311b48f22e6",
   "metadata": {},
   "source": [
    "Se verifica que las variables pertenecientes a SIAF no tengan valores perdidos"
   ]
  },
  {
   "cell_type": "code",
   "execution_count": 15,
   "id": "9f7a9b45-31c5-428e-a1c4-7462f197825d",
   "metadata": {},
   "outputs": [
    {
     "name": "stdout",
     "output_type": "stream",
     "text": [
      "0\n",
      "0\n",
      "0\n",
      "0\n"
     ]
    }
   ],
   "source": [
    "df0_siaf = fun.listar_variables( dfs[ 0 ], df = \"siaf\" )\n",
    "df1_siaf = fun.listar_variables( dfs[ 1 ], df = \"siaf\" )\n",
    "df2_siaf = fun.listar_variables( dfs[ 2 ], df = \"siaf\" )\n",
    "df3_siaf = fun.listar_variables( dfs[ 3 ], df = \"siaf\" )\n",
    "\n",
    "print( dfs[ 0 ][ df0_siaf ].isnull().sum().sum(),\n",
    "       dfs[ 1 ][ df1_siaf ].isnull().sum().sum(),\n",
    "       dfs[ 2 ][ df2_siaf ].isnull().sum().sum(),\n",
    "       dfs[ 3 ][ df3_siaf ].isnull().sum().sum(), sep = \"\\n\" )"
   ]
  },
  {
   "cell_type": "markdown",
   "id": "8d85d008-9420-4838-bd61-f6e9f98f59b5",
   "metadata": {},
   "source": [
    "Se verifica que las variables políticas no tengan valores perdidos"
   ]
  },
  {
   "cell_type": "code",
   "execution_count": 16,
   "id": "20a03cba-aa96-439a-9b52-7aa9fd6d6161",
   "metadata": {
    "tags": []
   },
   "outputs": [
    {
     "name": "stdout",
     "output_type": "stream",
     "text": [
      "56\n",
      "60\n",
      "84\n",
      "108\n"
     ]
    }
   ],
   "source": [
    "df0_pol = fun.listar_variables( dfs[ 0 ], df = \"politica\" )\n",
    "df1_pol = fun.listar_variables( dfs[ 1 ], df = \"politica\" )\n",
    "df2_pol = fun.listar_variables( dfs[ 2 ], df = \"politica\" )\n",
    "df3_pol = fun.listar_variables( dfs[ 3 ], df = \"politica\" )\n",
    "\n",
    "print( dfs[ 0 ][ df0_pol ].isnull().sum().sum(),\n",
    "       dfs[ 1 ][ df1_pol ].isnull().sum().sum(),\n",
    "       dfs[ 2 ][ df1_pol ].isnull().sum().sum(),\n",
    "       dfs[ 3 ][ df1_pol ].isnull().sum().sum(), sep = \"\\n\" )"
   ]
  },
  {
   "cell_type": "markdown",
   "id": "e7d9bda4-a534-47d1-9d51-f3c3265abb94",
   "metadata": {},
   "source": [
    "### 2.2 Filtrar por valores perdidos"
   ]
  },
  {
   "cell_type": "markdown",
   "id": "a20be40f-c7c9-4fcd-81f2-13f5cc4e307a",
   "metadata": {},
   "source": [
    "Se descartan las variables con un porcentaje de valores perdidos mayor o igual al umbral 0.1"
   ]
  },
  {
   "cell_type": "code",
   "execution_count": 17,
   "id": "615a5d47-bf50-4041-a1f3-a1c7094c8d2b",
   "metadata": {},
   "outputs": [],
   "source": [
    "for i, df in enumerate( dfs ):\n",
    "    dfs[ i ] = fun.filtro_missings( df, 0.1 )"
   ]
  },
  {
   "cell_type": "markdown",
   "id": "b4bca2e0-854d-42f4-924d-f7665d757824",
   "metadata": {
    "tags": []
   },
   "source": [
    "Se verifica el numero de variables por fuente de cada base luego del paso 2.2."
   ]
  },
  {
   "cell_type": "code",
   "execution_count": 18,
   "id": "8a5f6204-41e9-4c3f-8bfd-b50527b0927e",
   "metadata": {},
   "outputs": [],
   "source": [
    "dfs[ 0 ].name = 'base0'\n",
    "dfs[ 1 ].name = 'base1'\n",
    "dfs[ 2 ].name = 'base2'\n",
    "dfs[ 3 ].name = 'base3'"
   ]
  },
  {
   "cell_type": "code",
   "execution_count": 19,
   "id": "c7a55b8f-e109-41b1-9e14-862e3d741840",
   "metadata": {
    "tags": []
   },
   "outputs": [
    {
     "name": "stdout",
     "output_type": "stream",
     "text": [
      "base0: Variables de Renamu: 250; Variables de SIAF: 17532; variables políticas 4\n",
      "base1: Variables de Renamu: 234; Variables de SIAF: 17532; variables políticas 4\n",
      "base2: Variables de Renamu: 260; Variables de SIAF: 17532; variables políticas 4\n",
      "base3: Variables de Renamu: 270; Variables de SIAF: 17532; variables políticas 4\n"
     ]
    }
   ],
   "source": [
    "fun.contar_variables( dfs )"
   ]
  },
  {
   "cell_type": "markdown",
   "id": "4d2034d7-1d8d-41c4-8cf7-e0618de9340e",
   "metadata": {},
   "source": [
    "Se verifica la dimensionalidad de las bases de datos"
   ]
  },
  {
   "cell_type": "code",
   "execution_count": 20,
   "id": "f5cec000-0010-49bb-88df-50f27c01e0bd",
   "metadata": {
    "tags": []
   },
   "outputs": [
    {
     "name": "stdout",
     "output_type": "stream",
     "text": [
      "base0 (1397, 17792)\n",
      "base1 (2153, 17776)\n",
      "base2 (2694, 17802)\n",
      "base3 (5122, 17812)\n"
     ]
    }
   ],
   "source": [
    "fun.determinar_dimensiones( dfs )"
   ]
  },
  {
   "cell_type": "markdown",
   "id": "8fa57430-7828-4aae-b084-a5b77b09c2cb",
   "metadata": {},
   "source": [
    "### 2.3. Imputación con media y con moda"
   ]
  },
  {
   "cell_type": "markdown",
   "id": "e168b6a5-9b8b-4af4-9adc-58861f603aec",
   "metadata": {},
   "source": [
    "Se imputa las variables pertenecientes a Renamu. Las variables numéricas se imputan con media, y las variables categóricas con moda."
   ]
  },
  {
   "cell_type": "code",
   "execution_count": 21,
   "id": "bc45e425-5f07-483a-8a56-fdf2db0aec67",
   "metadata": {},
   "outputs": [],
   "source": [
    "for i, df in enumerate( dfs ):\n",
    "    dfs[ i ] = fun.imputar_ii( dfs[ i ], vn.renamu_numvars, num = True, dummy = False )\n",
    "    dfs[ i ] = fun.imputar_ii( dfs[ i ], vn.renamu_catvars, num = False, dummy = False )"
   ]
  },
  {
   "cell_type": "code",
   "execution_count": 22,
   "id": "a1a59553-ac45-40dd-a592-852c458aa86d",
   "metadata": {},
   "outputs": [
    {
     "data": {
      "text/plain": [
       "130"
      ]
     },
     "execution_count": 22,
     "metadata": {},
     "output_type": "execute_result"
    }
   ],
   "source": [
    "dfs[ 3 ].isnull().sum().sum()"
   ]
  },
  {
   "cell_type": "markdown",
   "id": "31366e7e-3f2d-42c5-ac86-01d6e3da3c9e",
   "metadata": {},
   "source": [
    "Se verifica que las variables pertenecientes a Renamu ya no tengan valores perdidos"
   ]
  },
  {
   "cell_type": "code",
   "execution_count": 23,
   "id": "1e1fa5d9-7283-4a7e-b35b-ef317f45a75a",
   "metadata": {},
   "outputs": [
    {
     "name": "stdout",
     "output_type": "stream",
     "text": [
      "0\n",
      "0\n",
      "0\n",
      "0\n"
     ]
    }
   ],
   "source": [
    "df0_renamu = fun.listar_variables( dfs[ 0 ], df = \"renamu\" )\n",
    "df1_renamu = fun.listar_variables( dfs[ 1 ], df = \"renamu\" )\n",
    "df2_renamu = fun.listar_variables( dfs[ 2 ], df = \"renamu\" )\n",
    "df3_renamu = fun.listar_variables( dfs[ 3 ], df = \"renamu\" )\n",
    "\n",
    "print( dfs[ 0 ][ df0_renamu ].isnull().sum().sum(),\n",
    "       dfs[ 1 ][ df1_renamu ].isnull().sum().sum(),\n",
    "       dfs[ 2 ][ df2_renamu ].isnull().sum().sum(),\n",
    "       dfs[ 3 ][ df3_renamu ].isnull().sum().sum(), sep = \"\\n\" )"
   ]
  },
  {
   "cell_type": "markdown",
   "id": "0fb69120-eaf4-41a4-a946-b3e4ad71fe41",
   "metadata": {},
   "source": [
    "### 2.4. Filtro por variabilidad"
   ]
  },
  {
   "cell_type": "markdown",
   "id": "372adae4-ff36-4492-953a-9bb536956e45",
   "metadata": {},
   "source": [
    "Se genera una lista de variables que no deben ser modificadas o filtradas"
   ]
  },
  {
   "cell_type": "code",
   "execution_count": 24,
   "id": "a5a343d7-075b-4228-9cc6-f0660e98738a",
   "metadata": {},
   "outputs": [],
   "source": [
    "vars_no_mod      = [ 'ubigeo', 'year' ]\n",
    "vars_no_mod_full = vn.dependientes_variables + vars_no_mod"
   ]
  },
  {
   "cell_type": "markdown",
   "id": "21f1f9d0-b7ea-4ea5-98b0-ab3dd9230a6c",
   "metadata": {},
   "source": [
    "Se descartan aquellas variables constantes, es decir, con una variabilidad de 0"
   ]
  },
  {
   "cell_type": "code",
   "execution_count": 25,
   "id": "40bb1262-acea-4c8c-a484-1155b608fd6a",
   "metadata": {},
   "outputs": [],
   "source": [
    "for i, df in enumerate( dfs ):\n",
    "    dfs[ i ] = fun.filtro_variabilidad( dfs[ i ], 0, vars_no_mod_full )"
   ]
  },
  {
   "cell_type": "markdown",
   "id": "f8e49f3d-0bf6-4565-b5d6-2d4b14d5ba34",
   "metadata": {},
   "source": [
    "Se verifica la dimensionalidad de las bases de datos"
   ]
  },
  {
   "cell_type": "code",
   "execution_count": 26,
   "id": "5345788b-4f63-4b91-a97e-b305ae604526",
   "metadata": {},
   "outputs": [],
   "source": [
    "dfs[ 0 ].name = 'base0'\n",
    "dfs[ 1 ].name = 'base1'\n",
    "dfs[ 2 ].name = 'base2'\n",
    "dfs[ 3 ].name = 'base3'"
   ]
  },
  {
   "cell_type": "code",
   "execution_count": 27,
   "id": "28501059-3572-4338-9ca8-413212319a4f",
   "metadata": {},
   "outputs": [
    {
     "name": "stdout",
     "output_type": "stream",
     "text": [
      "base0 (1397, 14542)\n",
      "base1 (2153, 14526)\n",
      "base2 (2694, 14834)\n",
      "base3 (5122, 14844)\n"
     ]
    }
   ],
   "source": [
    "fun.determinar_dimensiones( dfs )"
   ]
  },
  {
   "cell_type": "markdown",
   "id": "ce8ac0b1-fef5-451a-aa8c-d4c3b31d79cb",
   "metadata": {},
   "source": [
    "### 2.5. Eliminar filas de aquellas columnas con valores perdidos"
   ]
  },
  {
   "cell_type": "markdown",
   "id": "43f635f4-9c38-49f7-a584-a1f2c144bc7f",
   "metadata": {},
   "source": [
    "Se verifica la dimensionalidad de las bases de datos"
   ]
  },
  {
   "cell_type": "code",
   "execution_count": 28,
   "id": "c9dd02f5-6c74-4627-bf55-437a11838380",
   "metadata": {},
   "outputs": [
    {
     "name": "stdout",
     "output_type": "stream",
     "text": [
      "base0 (1397, 14542)\n",
      "base1 (2153, 14526)\n",
      "base2 (2694, 14834)\n",
      "base3 (5122, 14844)\n"
     ]
    }
   ],
   "source": [
    "dfs[ 0 ].name = 'base0'\n",
    "dfs[ 1 ].name = 'base1'\n",
    "dfs[ 2 ].name = 'base2'\n",
    "dfs[ 3 ].name = 'base3'\n",
    "\n",
    "fun.determinar_dimensiones( dfs )"
   ]
  },
  {
   "cell_type": "markdown",
   "id": "e97643c5-7aa1-4000-a8c7-c0381de63dbe",
   "metadata": {},
   "source": [
    "Se verifica la lista de variables con valores perdidos"
   ]
  },
  {
   "cell_type": "code",
   "execution_count": 29,
   "id": "30c6d1b7-a8ea-4416-9c7e-2398a9bbaabf",
   "metadata": {},
   "outputs": [
    {
     "name": "stdout",
     "output_type": "stream",
     "text": [
      "['sharevotprim', 'margvictory', 'Qpolitical', 'vototal']\n",
      "['sharevotprim', 'margvictory', 'Qpolitical', 'vototal', 'monto_corrup1', 'monto_corrup2']\n",
      "['sharevotprim', 'margvictory', 'Qpolitical', 'vototal']\n",
      "['sharevotprim', 'margvictory', 'Qpolitical', 'vototal', 'monto_corrup1', 'monto_corrup2']\n"
     ]
    }
   ],
   "source": [
    "missing_vars_0 = [ var for var in dfs[ 0 ].columns if dfs[ 0 ][ var ].isnull().any() ]\n",
    "missing_vars_1 = [ var for var in dfs[ 1 ].columns if dfs[ 1 ][ var ].isnull().any() ]\n",
    "missing_vars_2 = [ var for var in dfs[ 2 ].columns if dfs[ 2 ][ var ].isnull().any() ]\n",
    "missing_vars_3 = [ var for var in dfs[ 3 ].columns if dfs[ 3 ][ var ].isnull().any() ]\n",
    "\n",
    "print( missing_vars_0,\n",
    "       missing_vars_1,\n",
    "       missing_vars_2,\n",
    "       missing_vars_3, sep = \"\\n\" )"
   ]
  },
  {
   "cell_type": "markdown",
   "id": "49819994-d056-4ec0-9df9-2562d9195a1d",
   "metadata": {},
   "source": [
    "Se verifica el numero de valores perdidos por base"
   ]
  },
  {
   "cell_type": "code",
   "execution_count": 30,
   "id": "b3c44368-4649-4151-aac1-d326cac15c40",
   "metadata": {},
   "outputs": [
    {
     "name": "stdout",
     "output_type": "stream",
     "text": [
      "56\n",
      "68\n",
      "84\n",
      "130\n"
     ]
    }
   ],
   "source": [
    "print( dfs[ 0 ].isnull().sum().sum(),\n",
    "       dfs[ 1 ].isnull().sum().sum(),\n",
    "       dfs[ 2 ].isnull().sum().sum(),\n",
    "       dfs[ 3 ].isnull().sum().sum(), sep = \"\\n\" )"
   ]
  },
  {
   "cell_type": "markdown",
   "id": "ce3bc154-e61f-4ccf-8a8f-3bb8682e8525",
   "metadata": {},
   "source": [
    "Se eliminan las columnas con valores perdidos"
   ]
  },
  {
   "cell_type": "code",
   "execution_count": 35,
   "id": "3ef78858-3d6f-4fb8-8f3d-a77bd1251fa1",
   "metadata": {},
   "outputs": [],
   "source": [
    "for i, df in enumerate( dfs ):\n",
    "    dfs[ i ] = fun.drop_missing_rows( dfs[ i ], missing_vars_1 )"
   ]
  },
  {
   "cell_type": "markdown",
   "id": "2836139c-e472-47d0-8cc4-02bd2a925115",
   "metadata": {},
   "source": [
    "Se verifica la dimensionalidad de las bases de datos"
   ]
  },
  {
   "cell_type": "code",
   "execution_count": 36,
   "id": "e87dff58-c37c-41b7-8075-8a3aa2e4b9e3",
   "metadata": {},
   "outputs": [
    {
     "name": "stdout",
     "output_type": "stream",
     "text": [
      "base0 (1383, 14542)\n",
      "base1 (2134, 14526)\n",
      "base2 (2673, 14834)\n",
      "base3 (5084, 14844)\n"
     ]
    }
   ],
   "source": [
    "dfs[ 0 ].name = 'base0'\n",
    "dfs[ 1 ].name = 'base1'\n",
    "dfs[ 2 ].name = 'base2'\n",
    "dfs[ 3 ].name = 'base3'\n",
    "\n",
    "fun.determinar_dimensiones( dfs )"
   ]
  },
  {
   "cell_type": "code",
   "execution_count": 37,
   "id": "7a646189-3377-4a1f-a582-af2486ef543f",
   "metadata": {},
   "outputs": [
    {
     "name": "stdout",
     "output_type": "stream",
     "text": [
      "0\n",
      "0\n",
      "0\n",
      "0\n"
     ]
    }
   ],
   "source": [
    "print( dfs[ 0 ].isnull().sum().sum(),\n",
    "       dfs[ 1 ].isnull().sum().sum(),\n",
    "       dfs[ 2 ].isnull().sum().sum(),\n",
    "       dfs[ 3 ].isnull().sum().sum(), sep = \"\\n\" )"
   ]
  },
  {
   "cell_type": "markdown",
   "id": "66a18d80-b011-4d19-9e5f-babcff80ee1b",
   "metadata": {},
   "source": [
    "### 2.6. Imputar outliers"
   ]
  },
  {
   "cell_type": "markdown",
   "id": "4b2ed84b-701a-4f2b-9bb1-df8a355a8d21",
   "metadata": {},
   "source": [
    "Se imputa los valores del percentil 1% superior con los valores del percentil 99% para cada una de las variables de SIAF"
   ]
  },
  {
   "cell_type": "code",
   "execution_count": 39,
   "id": "6367df69-2b33-42c4-97f7-917c68eaf4b7",
   "metadata": {},
   "outputs": [],
   "source": [
    "for i, df in enumerate( dfs ):\n",
    "    dfs[ i ] = fun.imputar_outliers( dfs[ i ], vn.siaf_variables, 0.01 )"
   ]
  },
  {
   "cell_type": "markdown",
   "id": "71d32628-6e7e-4a14-9028-5cbaa93f9c57",
   "metadata": {},
   "source": [
    "### 2.7. Transformaciones logarítmicas"
   ]
  },
  {
   "cell_type": "markdown",
   "id": "cf606990-deec-4802-b597-877b911c4a53",
   "metadata": {},
   "source": [
    "Se identifica las variables negativas de SIAF y se les divide entre un millón. "
   ]
  },
  {
   "cell_type": "code",
   "execution_count": 40,
   "id": "fc3b309c-cfa5-45b1-8f24-bc0aeaab9e19",
   "metadata": {},
   "outputs": [],
   "source": [
    "for i, df in enumerate( dfs ):\n",
    "    dfs[ i ] = fun.dividir_variables_negativas( dfs[ i ], 1_000_000, vars_no_mod_full )"
   ]
  },
  {
   "cell_type": "markdown",
   "id": "4d2c89f1-2bae-4f32-b1c2-3034a1690102",
   "metadata": {},
   "source": [
    "Se crea una nueva lista de variables que no serán modificadas, que incluye a \"year\", \"ubigeo\" y las variables dependientes categóricas"
   ]
  },
  {
   "cell_type": "code",
   "execution_count": 41,
   "id": "b3dedccf-d342-4c78-9c18-ec18d48bf241",
   "metadata": {},
   "outputs": [],
   "source": [
    "num_predictores = vn.siaf_variables + vn.dependientes_numericas\n",
    "vars_no_mod_2   = vars_no_mod + vn.dependientes_categoricas"
   ]
  },
  {
   "cell_type": "markdown",
   "id": "5f219a44-ac10-4063-ba57-983fc9abd98e",
   "metadata": {},
   "source": [
    "Se realiza una transformación logarítmica a todas las variables pertenecientes a SIAF que no son negativas."
   ]
  },
  {
   "cell_type": "code",
   "execution_count": 42,
   "id": "6cc12dbd-25a3-412c-b154-e41caf68064c",
   "metadata": {
    "tags": []
   },
   "outputs": [
    {
     "name": "stderr",
     "output_type": "stream",
     "text": [
      "C:\\Anaconda\\lib\\site-packages\\pandas\\core\\arraylike.py:397: RuntimeWarning: invalid value encountered in log\n",
      "  result = getattr(ufunc, method)(*inputs, **kwargs)\n"
     ]
    }
   ],
   "source": [
    "for i, df in enumerate( dfs ):\n",
    "    dfs[ i ] = fun.transformacion_log( dfs[ i ], num_predictores, vars_no_mod_2 )"
   ]
  },
  {
   "cell_type": "markdown",
   "id": "388b25e3-36df-4701-9ded-8cc9b4eb6d7c",
   "metadata": {},
   "source": [
    "### 2.7. Exportar las bases de datos"
   ]
  },
  {
   "cell_type": "code",
   "execution_count": 43,
   "id": "e6a599a4-e750-4273-bbc4-b673c3c48909",
   "metadata": {},
   "outputs": [],
   "source": [
    "dfs[ 0 ].to_csv( r'..\\..\\..\\input\\preprocessed_data\\base0.csv', index = False )\n",
    "dfs[ 1 ].to_csv( r'..\\..\\..\\input\\preprocessed_data\\base1.csv', index = False )\n",
    "dfs[ 2 ].to_csv( r'..\\..\\..\\input\\preprocessed_data\\base2.csv', index = False )\n",
    "dfs[ 3 ].to_csv( r'..\\..\\..\\input\\preprocessed_data\\base3.csv', index = False )"
   ]
  }
 ],
 "metadata": {
  "kernelspec": {
   "display_name": "Python 3 (ipykernel)",
   "language": "python",
   "name": "python3"
  },
  "language_info": {
   "codemirror_mode": {
    "name": "ipython",
    "version": 3
   },
   "file_extension": ".py",
   "mimetype": "text/x-python",
   "name": "python",
   "nbconvert_exporter": "python",
   "pygments_lexer": "ipython3",
   "version": "3.9.13"
  }
 },
 "nbformat": 4,
 "nbformat_minor": 5
}
