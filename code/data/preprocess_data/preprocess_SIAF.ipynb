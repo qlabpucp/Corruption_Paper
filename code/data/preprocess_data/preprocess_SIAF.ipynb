{
 "cells": [
  {
   "cell_type": "markdown",
   "id": "5e5fbf3b-a194-4cd8-9d8a-8f17aafe6406",
   "metadata": {},
   "source": [
    "## 1. Cargar los datos"
   ]
  },
  {
   "cell_type": "markdown",
   "id": "4d1a2fc7-820e-449c-8666-c0effe7f3c58",
   "metadata": {},
   "source": [
    "#### 1.1. Importar librerias y módulos"
   ]
  },
  {
   "cell_type": "code",
   "execution_count": 1,
   "id": "0ed9ef30-0261-4660-b09d-55b1fad7e5f5",
   "metadata": {},
   "outputs": [],
   "source": [
    "import pandas as pd\n",
    "import numpy as np\n",
    "from glob import glob\n",
    "import os\n",
    "from warnings import simplefilter\n",
    "from importlib.machinery import SourceFileLoader\n",
    "from sklearn.feature_selection import VarianceThreshold\n",
    "import xlsxwriter"
   ]
  },
  {
   "cell_type": "code",
   "execution_count": 2,
   "id": "81b37f12-310a-4a58-b43d-57c4d388ab71",
   "metadata": {
    "tags": []
   },
   "outputs": [],
   "source": [
    "fun = SourceFileLoader( 'funciones', r'..\\..\\..\\code\\modules\\funciones.py' ).load_module()\n",
    "vn  = SourceFileLoader( 'variables_nombres', r'..\\..\\..\\code\\modules\\variables_nombres.py' ).load_module()"
   ]
  },
  {
   "cell_type": "code",
   "execution_count": 3,
   "id": "d2b37738-301a-4d4d-96d5-1bc8ada52d82",
   "metadata": {
    "tags": []
   },
   "outputs": [],
   "source": [
    "simplefilter( action = \"ignore\", category = pd.errors.PerformanceWarning )\n",
    "simplefilter( action = \"ignore\", category = FutureWarning )\n",
    "# print( dir( fun ) )\n",
    "# pd.set_option( 'display.max_rows', 10 )\n",
    "# pd.set_option( 'display.max_columns', 10 )"
   ]
  },
  {
   "cell_type": "markdown",
   "id": "b1cf9982-9115-429f-828b-027f7e22f0a1",
   "metadata": {},
   "source": [
    "#### 1.2. Importar bases "
   ]
  },
  {
   "cell_type": "markdown",
   "id": "dc2dd9c1-435e-4782-bea4-f13009718ffc",
   "metadata": {},
   "source": [
    "Se importan las cuatro bases de manera conjunta, y se agrupan en la lista \"bases\". Para accerder a cada una de las bases se llama a la lista de bases + su respectivo índice. Ejemplo: bases[0]"
   ]
  },
  {
   "cell_type": "code",
   "execution_count": 4,
   "id": "3e2e6ca3-634f-4a1b-8520-b3d60d890415",
   "metadata": {},
   "outputs": [
    {
     "data": {
      "text/plain": [
       "'C:\\\\Users\\\\dell\\\\Documents\\\\GitHub\\\\Corruption_Paper\\\\code\\\\data\\\\preprocess_data'"
      ]
     },
     "execution_count": 4,
     "metadata": {},
     "output_type": "execute_result"
    }
   ],
   "source": [
    "pwd"
   ]
  },
  {
   "cell_type": "code",
   "execution_count": 9,
   "id": "c36ff79f-c74c-499c-86d2-9c8fd77ad18a",
   "metadata": {},
   "outputs": [],
   "source": [
    "path = r'..\\..\\..\\input\\built_data\\matrix_c1_siaf.dta'"
   ]
  },
  {
   "cell_type": "code",
   "execution_count": 22,
   "id": "1b2e5794-95d9-4889-a729-8b567691ca90",
   "metadata": {
    "tags": []
   },
   "outputs": [
    {
     "name": "stdout",
     "output_type": "stream",
     "text": [
      "CPU times: total: 14.6 s\n",
      "Wall time: 14.9 s\n"
     ]
    }
   ],
   "source": [
    "%%time\n",
    "\n",
    "df = pd.read_stata( path )"
   ]
  },
  {
   "cell_type": "markdown",
   "id": "c309c951-60bb-4570-a28e-305d8d895ec3",
   "metadata": {},
   "source": [
    "#### 1.3. Última limpieza a las bases"
   ]
  },
  {
   "cell_type": "markdown",
   "id": "22ee32de-7937-459f-9a0e-8a6723d2baea",
   "metadata": {},
   "source": [
    "Últimas modificaciones a las bases de datos"
   ]
  },
  {
   "cell_type": "code",
   "execution_count": 19,
   "id": "9d21ca7d-2585-44b8-ac3c-f31644a60ee2",
   "metadata": {
    "tags": []
   },
   "outputs": [
    {
     "name": "stdout",
     "output_type": "stream",
     "text": [
      "corrup_intensa\n",
      "corrup_amplia\n"
     ]
    }
   ],
   "source": [
    "for col in df.columns:\n",
    "    if \"Sí\" in df[ col ].values:\n",
    "        print( col )"
   ]
  },
  {
   "cell_type": "code",
   "execution_count": 26,
   "id": "44e7439e-b8fb-4118-9683-f601d17dd9a7",
   "metadata": {
    "tags": []
   },
   "outputs": [
    {
     "data": {
      "text/plain": [
       "corrup_intensa\n",
       "1.0    1331\n",
       "0.0     731\n",
       "Name: count, dtype: int64"
      ]
     },
     "execution_count": 26,
     "metadata": {},
     "output_type": "execute_result"
    }
   ],
   "source": [
    "df[ 'corrup_intensa' ].value_counts()"
   ]
  },
  {
   "cell_type": "code",
   "execution_count": 25,
   "id": "f76e38fd-84e8-400e-9dcf-3345252c04f8",
   "metadata": {
    "tags": []
   },
   "outputs": [],
   "source": [
    "data_cols        = [ col for col in df.columns if col not in vn.no_predictoras_variables and col not in vn.string_variables ]\n",
    "df               = df[ data_cols ]\n",
    "encode_variables = { \"corrup_intensa\": { \"Sí\": 1, \"No\": 0 },  \"corrup_amplia\": { \"Sí\": 1, \"No\": 0 } }\n",
    "df               = df.replace( encode_variables )\n",
    "df               = df.astype( str ).replace( '', np.nan, regex = True )\n",
    "df               = df.astype( str ).replace( '\\.+$', np.nan, regex = True ).astype( float )"
   ]
  },
  {
   "cell_type": "code",
   "execution_count": 28,
   "id": "895bca39-43f8-43ce-bb0a-e04a2317d346",
   "metadata": {
    "tags": []
   },
   "outputs": [
    {
     "data": {
      "text/plain": [
       "(2062, 17539)"
      ]
     },
     "execution_count": 28,
     "metadata": {},
     "output_type": "execute_result"
    }
   ],
   "source": [
    "df.shape"
   ]
  },
  {
   "cell_type": "markdown",
   "id": "53bf5173-c30d-4ef8-a005-405a82a21cff",
   "metadata": {},
   "source": [
    "## 2. Preprocesamiento"
   ]
  },
  {
   "cell_type": "markdown",
   "id": "34417970-3695-4f99-9235-6852ffc8870d",
   "metadata": {},
   "source": [
    "### 2.1 Imputación con 0"
   ]
  },
  {
   "cell_type": "markdown",
   "id": "4f07243f-19fa-427b-8906-a403aa1084a7",
   "metadata": {},
   "source": [
    "Se imputa los valores perdidos de las variables de SIAF con 0. No se generan variables dummy de control."
   ]
  },
  {
   "cell_type": "code",
   "execution_count": 29,
   "id": "457a5faa-57cf-413e-afd2-ce7269a19642",
   "metadata": {
    "tags": []
   },
   "outputs": [],
   "source": [
    "df = fun.imputar_i( df, vn.siaf_variables, 0, dummy = False )"
   ]
  },
  {
   "cell_type": "markdown",
   "id": "612cfbd2-3ee5-4151-a58d-d311b48f22e6",
   "metadata": {},
   "source": [
    "Se verifica que las variables pertenecientes a SIAF no tengan valores perdidos"
   ]
  },
  {
   "cell_type": "code",
   "execution_count": 34,
   "id": "ba22957f-5baa-4b49-9062-6ac518bd03da",
   "metadata": {
    "tags": []
   },
   "outputs": [
    {
     "data": {
      "text/plain": [
       "0"
      ]
     },
     "execution_count": 34,
     "metadata": {},
     "output_type": "execute_result"
    }
   ],
   "source": [
    "df.isnull().sum().sum()"
   ]
  },
  {
   "cell_type": "markdown",
   "id": "0fb69120-eaf4-41a4-a946-b3e4ad71fe41",
   "metadata": {},
   "source": [
    "### 2.2. Filtro por variabilidad"
   ]
  },
  {
   "cell_type": "markdown",
   "id": "372adae4-ff36-4492-953a-9bb536956e45",
   "metadata": {},
   "source": [
    "Se genera una lista de variables que no deben ser modificadas o filtradas"
   ]
  },
  {
   "cell_type": "code",
   "execution_count": 31,
   "id": "a5a343d7-075b-4228-9cc6-f0660e98738a",
   "metadata": {},
   "outputs": [],
   "source": [
    "vars_no_mod      = [ 'ubigeo', 'year', 'variable_gasto' ]\n",
    "vars_no_mod_full = vn.dependientes_variables + vars_no_mod"
   ]
  },
  {
   "cell_type": "markdown",
   "id": "21f1f9d0-b7ea-4ea5-98b0-ab3dd9230a6c",
   "metadata": {},
   "source": [
    "Se descartan aquellas variables constantes, es decir, con una variabilidad de 0"
   ]
  },
  {
   "cell_type": "code",
   "execution_count": 32,
   "id": "d54c688e-1f3e-43ab-95cd-55affacaf662",
   "metadata": {
    "tags": []
   },
   "outputs": [],
   "source": [
    "df = fun.filtro_variabilidad( df, 0, vars_no_mod_full )"
   ]
  },
  {
   "cell_type": "code",
   "execution_count": 33,
   "id": "28501059-3572-4338-9ca8-413212319a4f",
   "metadata": {
    "tags": []
   },
   "outputs": [
    {
     "data": {
      "text/plain": [
       "(2062, 14740)"
      ]
     },
     "execution_count": 33,
     "metadata": {},
     "output_type": "execute_result"
    }
   ],
   "source": [
    "df.shape"
   ]
  },
  {
   "cell_type": "markdown",
   "id": "66a18d80-b011-4d19-9e5f-babcff80ee1b",
   "metadata": {},
   "source": [
    "### 2.3. Imputar outliers"
   ]
  },
  {
   "cell_type": "markdown",
   "id": "4b2ed84b-701a-4f2b-9bb1-df8a355a8d21",
   "metadata": {},
   "source": [
    "Se imputa los valores del percentil 1% superior con los valores del percentil 99% para cada una de las variables de SIAF"
   ]
  },
  {
   "cell_type": "code",
   "execution_count": 35,
   "id": "6367df69-2b33-42c4-97f7-917c68eaf4b7",
   "metadata": {},
   "outputs": [],
   "source": [
    "df = fun.imputar_outliers( df, vn.siaf_variables, 0.01 )"
   ]
  },
  {
   "cell_type": "markdown",
   "id": "71d32628-6e7e-4a14-9028-5cbaa93f9c57",
   "metadata": {},
   "source": [
    "### 2.7. Transformaciones logarítmicas"
   ]
  },
  {
   "cell_type": "markdown",
   "id": "cf606990-deec-4802-b597-877b911c4a53",
   "metadata": {},
   "source": [
    "Se identifica las variables negativas de SIAF y se les divide entre un millón. "
   ]
  },
  {
   "cell_type": "code",
   "execution_count": 36,
   "id": "1cc0a3ca-37a7-4666-9f25-12cbb8fdce25",
   "metadata": {
    "tags": []
   },
   "outputs": [],
   "source": [
    "df = fun.dividir_variables_negativas( df, 1_000_000, vars_no_mod_full )"
   ]
  },
  {
   "cell_type": "markdown",
   "id": "4d2c89f1-2bae-4f32-b1c2-3034a1690102",
   "metadata": {},
   "source": [
    "Se crea una lista de variables a modificar logarítmicamente"
   ]
  },
  {
   "cell_type": "code",
   "execution_count": 37,
   "id": "b3dedccf-d342-4c78-9c18-ec18d48bf241",
   "metadata": {},
   "outputs": [],
   "source": [
    "num_predictores = vn.siaf_variables + vn.dependientes_numericas"
   ]
  },
  {
   "cell_type": "markdown",
   "id": "5f219a44-ac10-4063-ba57-983fc9abd98e",
   "metadata": {},
   "source": [
    "Se realiza una transformación logarítmica a todas las variables pertenecientes a SIAF que no son negativas."
   ]
  },
  {
   "cell_type": "code",
   "execution_count": 38,
   "id": "6cc12dbd-25a3-412c-b154-e41caf68064c",
   "metadata": {
    "tags": []
   },
   "outputs": [],
   "source": [
    "df = fun.transformacion_log( df, num_predictores, vars_no_mod )"
   ]
  },
  {
   "cell_type": "markdown",
   "id": "018b8da3-c94e-4e7b-a04e-4a70f2c70437",
   "metadata": {
    "tags": []
   },
   "source": [
    "Se verifica el numero de variables por fuente de cada base luego del paso 2.7."
   ]
  },
  {
   "cell_type": "code",
   "execution_count": 39,
   "id": "f04e5c52-cb37-40ad-851f-acfbd6491675",
   "metadata": {
    "tags": []
   },
   "outputs": [
    {
     "data": {
      "text/plain": [
       "(2062, 14740)"
      ]
     },
     "execution_count": 39,
     "metadata": {},
     "output_type": "execute_result"
    }
   ],
   "source": [
    "df.shape"
   ]
  },
  {
   "cell_type": "markdown",
   "id": "388b25e3-36df-4701-9ded-8cc9b4eb6d7c",
   "metadata": {},
   "source": [
    "### 2.7. Exportar las bases de datos"
   ]
  },
  {
   "cell_type": "code",
   "execution_count": 40,
   "id": "e6a599a4-e750-4273-bbc4-b673c3c48909",
   "metadata": {},
   "outputs": [],
   "source": [
    "df.to_csv( r'..\\..\\..\\input\\preprocessed_data\\base0_siaf.csv', index = False )"
   ]
  }
 ],
 "metadata": {
  "kernelspec": {
   "display_name": "Python 3 (ipykernel)",
   "language": "python",
   "name": "python3"
  },
  "language_info": {
   "codemirror_mode": {
    "name": "ipython",
    "version": 3
   },
   "file_extension": ".py",
   "mimetype": "text/x-python",
   "name": "python",
   "nbconvert_exporter": "python",
   "pygments_lexer": "ipython3",
   "version": "3.11.4"
  }
 },
 "nbformat": 4,
 "nbformat_minor": 5
}
