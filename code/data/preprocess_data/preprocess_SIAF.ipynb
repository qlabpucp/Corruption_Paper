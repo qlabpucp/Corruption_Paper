{
 "cells": [
  {
   "cell_type": "markdown",
   "id": "5e5fbf3b-a194-4cd8-9d8a-8f17aafe6406",
   "metadata": {},
   "source": [
    "## 1. Cargar los datos"
   ]
  },
  {
   "cell_type": "markdown",
   "id": "4d1a2fc7-820e-449c-8666-c0effe7f3c58",
   "metadata": {},
   "source": [
    "#### 1.1. Importar librerias y módulos"
   ]
  },
  {
   "cell_type": "code",
   "execution_count": 1,
   "id": "0ed9ef30-0261-4660-b09d-55b1fad7e5f5",
   "metadata": {},
   "outputs": [],
   "source": [
    "import pandas as pd\n",
    "import numpy as np\n",
    "from glob import glob\n",
    "import os\n",
    "from warnings import simplefilter\n",
    "from importlib.machinery import SourceFileLoader\n",
    "from sklearn.feature_selection import VarianceThreshold\n",
    "import xlsxwriter"
   ]
  },
  {
   "cell_type": "code",
   "execution_count": 2,
   "id": "81b37f12-310a-4a58-b43d-57c4d388ab71",
   "metadata": {
    "tags": []
   },
   "outputs": [],
   "source": [
    "fun = SourceFileLoader( 'funciones', r'..\\..\\..\\code\\modules\\funciones.py' ).load_module()\n",
    "vn  = SourceFileLoader( 'variables_nombres', r'..\\..\\..\\code\\modules\\variables_nombres.py' ).load_module()"
   ]
  },
  {
   "cell_type": "code",
   "execution_count": 3,
   "id": "d2b37738-301a-4d4d-96d5-1bc8ada52d82",
   "metadata": {
    "tags": []
   },
   "outputs": [],
   "source": [
    "simplefilter( action = \"ignore\", category = pd.errors.PerformanceWarning )\n",
    "simplefilter( action = \"ignore\", category = FutureWarning )\n",
    "# print( dir( fun ) )\n",
    "# pd.set_option( 'display.max_rows', 10 )\n",
    "# pd.set_option( 'display.max_columns', 10 )"
   ]
  },
  {
   "cell_type": "markdown",
   "id": "b1cf9982-9115-429f-828b-027f7e22f0a1",
   "metadata": {},
   "source": [
    "#### 1.2. Importar bases "
   ]
  },
  {
   "cell_type": "markdown",
   "id": "dc2dd9c1-435e-4782-bea4-f13009718ffc",
   "metadata": {},
   "source": [
    "Se importan las cuatro bases de manera conjunta, y se agrupan en la lista \"bases\". Para accerder a cada una de las bases se llama a la lista de bases + su respectivo índice. Ejemplo: bases[0]"
   ]
  },
  {
   "cell_type": "code",
   "execution_count": 4,
   "id": "3e2e6ca3-634f-4a1b-8520-b3d60d890415",
   "metadata": {},
   "outputs": [
    {
     "data": {
      "text/plain": [
       "'C:\\\\Users\\\\dell\\\\Documents\\\\GitHub\\\\Corruption_Paper\\\\code\\\\data\\\\preprocess_data'"
      ]
     },
     "execution_count": 4,
     "metadata": {},
     "output_type": "execute_result"
    }
   ],
   "source": [
    "pwd"
   ]
  },
  {
   "cell_type": "code",
   "execution_count": 5,
   "id": "c36ff79f-c74c-499c-86d2-9c8fd77ad18a",
   "metadata": {},
   "outputs": [],
   "source": [
    "path = r'..\\..\\..\\input\\built_data\\matrix_c1_siaf_canon_1620.dta'"
   ]
  },
  {
   "cell_type": "code",
   "execution_count": 10,
   "id": "1b2e5794-95d9-4889-a729-8b567691ca90",
   "metadata": {
    "tags": []
   },
   "outputs": [
    {
     "name": "stdout",
     "output_type": "stream",
     "text": [
      "CPU times: total: 26.6 s\n",
      "Wall time: 27 s\n"
     ]
    }
   ],
   "source": [
    "%%time\n",
    "\n",
    "df = pd.read_stata( path )"
   ]
  },
  {
   "cell_type": "markdown",
   "id": "c309c951-60bb-4570-a28e-305d8d895ec3",
   "metadata": {},
   "source": [
    "#### 1.3. Última limpieza a las bases"
   ]
  },
  {
   "cell_type": "markdown",
   "id": "22ee32de-7937-459f-9a0e-8a6723d2baea",
   "metadata": {},
   "source": [
    "Últimas modificaciones a las bases de datos"
   ]
  },
  {
   "cell_type": "code",
   "execution_count": null,
   "id": "9d21ca7d-2585-44b8-ac3c-f31644a60ee2",
   "metadata": {
    "tags": []
   },
   "outputs": [],
   "source": [
    "for col in df.columns:\n",
    "    if \"Sí\" in df[ col ].values:\n",
    "        print( col )"
   ]
  },
  {
   "cell_type": "code",
   "execution_count": 11,
   "id": "44e7439e-b8fb-4118-9683-f601d17dd9a7",
   "metadata": {
    "tags": []
   },
   "outputs": [
    {
     "data": {
      "text/plain": [
       "corrup_intensa\n",
       "Sí    989\n",
       "No    389\n",
       "Name: count, dtype: int64"
      ]
     },
     "execution_count": 11,
     "metadata": {},
     "output_type": "execute_result"
    }
   ],
   "source": [
    "df[ 'corrup_intensa' ].value_counts()"
   ]
  },
  {
   "cell_type": "code",
   "execution_count": 12,
   "id": "f76e38fd-84e8-400e-9dcf-3345252c04f8",
   "metadata": {
    "tags": []
   },
   "outputs": [],
   "source": [
    "data_cols        = [ col for col in df.columns if col not in vn.no_predictoras_variables and col not in vn.string_variables ]\n",
    "df               = df[ data_cols ]\n",
    "encode_variables = { \"corrup_intensa\": { \"Sí\": 1, \"No\": 0 },  \"corrup_amplia\": { \"Sí\": 1, \"No\": 0 } }\n",
    "df               = df.replace( encode_variables )\n",
    "df               = df.astype( str ).replace( '', np.nan, regex = True )\n",
    "df               = df.astype( str ).replace( '\\.+$', np.nan, regex = True ).astype( float )"
   ]
  },
  {
   "cell_type": "code",
   "execution_count": 13,
   "id": "895bca39-43f8-43ce-bb0a-e04a2317d346",
   "metadata": {
    "tags": []
   },
   "outputs": [
    {
     "data": {
      "text/plain": [
       "(1378, 17557)"
      ]
     },
     "execution_count": 13,
     "metadata": {},
     "output_type": "execute_result"
    }
   ],
   "source": [
    "df.shape"
   ]
  },
  {
   "cell_type": "markdown",
   "id": "53bf5173-c30d-4ef8-a005-405a82a21cff",
   "metadata": {},
   "source": [
    "## 2. Preprocesamiento"
   ]
  },
  {
   "cell_type": "markdown",
   "id": "34417970-3695-4f99-9235-6852ffc8870d",
   "metadata": {},
   "source": [
    "### 2.1 Imputación con 0"
   ]
  },
  {
   "cell_type": "markdown",
   "id": "4f07243f-19fa-427b-8906-a403aa1084a7",
   "metadata": {},
   "source": [
    "Se imputa los valores perdidos de las variables de SIAF con 0. No se generan variables dummy de control."
   ]
  },
  {
   "cell_type": "code",
   "execution_count": 14,
   "id": "457a5faa-57cf-413e-afd2-ce7269a19642",
   "metadata": {
    "tags": []
   },
   "outputs": [],
   "source": [
    "df = fun.imputar_i( df, vn.siaf_variables, 0, dummy = False )"
   ]
  },
  {
   "cell_type": "markdown",
   "id": "612cfbd2-3ee5-4151-a58d-d311b48f22e6",
   "metadata": {},
   "source": [
    "Se verifica que las variables pertenecientes a SIAF no tengan valores perdidos"
   ]
  },
  {
   "cell_type": "code",
   "execution_count": 15,
   "id": "ba22957f-5baa-4b49-9062-6ac518bd03da",
   "metadata": {
    "tags": []
   },
   "outputs": [
    {
     "data": {
      "text/plain": [
       "0"
      ]
     },
     "execution_count": 15,
     "metadata": {},
     "output_type": "execute_result"
    }
   ],
   "source": [
    "df.isnull().sum().sum()"
   ]
  },
  {
   "cell_type": "markdown",
   "id": "0fb69120-eaf4-41a4-a946-b3e4ad71fe41",
   "metadata": {},
   "source": [
    "### 2.2. Filtro por variabilidad"
   ]
  },
  {
   "cell_type": "markdown",
   "id": "372adae4-ff36-4492-953a-9bb536956e45",
   "metadata": {},
   "source": [
    "Se genera una lista de variables que no deben ser modificadas o filtradas"
   ]
  },
  {
   "cell_type": "code",
   "execution_count": 16,
   "id": "a5a343d7-075b-4228-9cc6-f0660e98738a",
   "metadata": {},
   "outputs": [],
   "source": [
    "vars_no_mod      = [ 'ubigeo', 'year', 'variable_gasto' ]\n",
    "vars_no_mod_full = vn.dependientes_variables + vars_no_mod"
   ]
  },
  {
   "cell_type": "markdown",
   "id": "21f1f9d0-b7ea-4ea5-98b0-ab3dd9230a6c",
   "metadata": {},
   "source": [
    "Se descartan aquellas variables constantes, es decir, con una variabilidad de 0"
   ]
  },
  {
   "cell_type": "code",
   "execution_count": 17,
   "id": "d54c688e-1f3e-43ab-95cd-55affacaf662",
   "metadata": {
    "tags": []
   },
   "outputs": [],
   "source": [
    "df = fun.filtro_variabilidad( df, 0, vars_no_mod_full )"
   ]
  },
  {
   "cell_type": "code",
   "execution_count": 18,
   "id": "28501059-3572-4338-9ca8-413212319a4f",
   "metadata": {
    "tags": []
   },
   "outputs": [
    {
     "data": {
      "text/plain": [
       "(1378, 14325)"
      ]
     },
     "execution_count": 18,
     "metadata": {},
     "output_type": "execute_result"
    }
   ],
   "source": [
    "df.shape"
   ]
  },
  {
   "cell_type": "markdown",
   "id": "66a18d80-b011-4d19-9e5f-babcff80ee1b",
   "metadata": {},
   "source": [
    "### 2.3. Imputar outliers"
   ]
  },
  {
   "cell_type": "markdown",
   "id": "4b2ed84b-701a-4f2b-9bb1-df8a355a8d21",
   "metadata": {},
   "source": [
    "Se imputa los valores del percentil 1% superior con los valores del percentil 99% para cada una de las variables de SIAF"
   ]
  },
  {
   "cell_type": "code",
   "execution_count": 19,
   "id": "6367df69-2b33-42c4-97f7-917c68eaf4b7",
   "metadata": {},
   "outputs": [],
   "source": [
    "df = fun.imputar_outliers( df, vn.siaf_variables, 0.01 )"
   ]
  },
  {
   "cell_type": "markdown",
   "id": "71d32628-6e7e-4a14-9028-5cbaa93f9c57",
   "metadata": {},
   "source": [
    "### 2.7. Transformaciones logarítmicas"
   ]
  },
  {
   "cell_type": "markdown",
   "id": "cf606990-deec-4802-b597-877b911c4a53",
   "metadata": {},
   "source": [
    "Se identifica las variables negativas de SIAF y se les divide entre un millón. "
   ]
  },
  {
   "cell_type": "code",
   "execution_count": 20,
   "id": "1cc0a3ca-37a7-4666-9f25-12cbb8fdce25",
   "metadata": {
    "tags": []
   },
   "outputs": [],
   "source": [
    "df = fun.dividir_variables_negativas( df, 1_000_000, vars_no_mod_full )"
   ]
  },
  {
   "cell_type": "markdown",
   "id": "4d2c89f1-2bae-4f32-b1c2-3034a1690102",
   "metadata": {},
   "source": [
    "Se crea una lista de variables a modificar logarítmicamente"
   ]
  },
  {
   "cell_type": "code",
   "execution_count": 21,
   "id": "b3dedccf-d342-4c78-9c18-ec18d48bf241",
   "metadata": {},
   "outputs": [],
   "source": [
    "num_predictores = vn.siaf_variables + vn.dependientes_numericas"
   ]
  },
  {
   "cell_type": "markdown",
   "id": "5f219a44-ac10-4063-ba57-983fc9abd98e",
   "metadata": {},
   "source": [
    "Se realiza una transformación logarítmica a todas las variables pertenecientes a SIAF que no son negativas."
   ]
  },
  {
   "cell_type": "code",
   "execution_count": 22,
   "id": "6cc12dbd-25a3-412c-b154-e41caf68064c",
   "metadata": {
    "tags": []
   },
   "outputs": [],
   "source": [
    "df = fun.transformacion_log( df, num_predictores, vars_no_mod )"
   ]
  },
  {
   "cell_type": "markdown",
   "id": "018b8da3-c94e-4e7b-a04e-4a70f2c70437",
   "metadata": {
    "tags": []
   },
   "source": [
    "Se verifica el numero de variables por fuente de cada base luego del paso 2.7."
   ]
  },
  {
   "cell_type": "code",
   "execution_count": 23,
   "id": "f04e5c52-cb37-40ad-851f-acfbd6491675",
   "metadata": {
    "tags": []
   },
   "outputs": [
    {
     "data": {
      "text/plain": [
       "(1378, 14325)"
      ]
     },
     "execution_count": 23,
     "metadata": {},
     "output_type": "execute_result"
    }
   ],
   "source": [
    "df.shape"
   ]
  },
  {
   "cell_type": "markdown",
   "id": "388b25e3-36df-4701-9ded-8cc9b4eb6d7c",
   "metadata": {},
   "source": [
    "### 2.7. Exportar las bases de datos"
   ]
  },
  {
   "cell_type": "code",
   "execution_count": 24,
   "id": "e6a599a4-e750-4273-bbc4-b673c3c48909",
   "metadata": {},
   "outputs": [],
   "source": [
    "df.to_csv( r'..\\..\\..\\input\\preprocessed_data\\base0_siaf_canon_1620.csv', index = False )"
   ]
  },
  {
   "cell_type": "code",
   "execution_count": 25,
   "id": "3dca54a4-47f1-4200-a483-a5e54740834a",
   "metadata": {
    "collapsed": true,
    "jupyter": {
     "outputs_hidden": true
    },
    "tags": []
   },
   "outputs": [
    {
     "data": {
      "text/html": [
       "<div>\n",
       "<style scoped>\n",
       "    .dataframe tbody tr th:only-of-type {\n",
       "        vertical-align: middle;\n",
       "    }\n",
       "\n",
       "    .dataframe tbody tr th {\n",
       "        vertical-align: top;\n",
       "    }\n",
       "\n",
       "    .dataframe thead th {\n",
       "        text-align: right;\n",
       "    }\n",
       "</style>\n",
       "<table border=\"1\" class=\"dataframe\">\n",
       "  <thead>\n",
       "    <tr style=\"text-align: right;\">\n",
       "      <th></th>\n",
       "      <th>year</th>\n",
       "      <th>ubigeo</th>\n",
       "      <th>piagft_reod</th>\n",
       "      <th>pimgft_reod</th>\n",
       "      <th>tejgft_reod</th>\n",
       "      <th>tdvgft_reod</th>\n",
       "      <th>dfgpimpiaft_reod</th>\n",
       "      <th>dfgdevpiagft_reod</th>\n",
       "      <th>devppimft_reod</th>\n",
       "      <th>piagft_redr</th>\n",
       "      <th>...</th>\n",
       "      <th>_pim_canonpc</th>\n",
       "      <th>_pia_canonpc</th>\n",
       "      <th>_totaleje_canonpc</th>\n",
       "      <th>_totaldev_canonpc</th>\n",
       "      <th>corrup_intensa</th>\n",
       "      <th>corrup_amplia</th>\n",
       "      <th>per_corrup1</th>\n",
       "      <th>per_corrup2</th>\n",
       "      <th>monto_corrup1</th>\n",
       "      <th>monto_corrup2</th>\n",
       "    </tr>\n",
       "  </thead>\n",
       "  <tbody>\n",
       "    <tr>\n",
       "      <th>0</th>\n",
       "      <td>2016.0</td>\n",
       "      <td>10101.0</td>\n",
       "      <td>1042514.0</td>\n",
       "      <td>16.955749</td>\n",
       "      <td>22486872.37</td>\n",
       "      <td>16.751669</td>\n",
       "      <td>22066868.0</td>\n",
       "      <td>17.800800</td>\n",
       "      <td>4.413279</td>\n",
       "      <td>4112775.0</td>\n",
       "      <td>...</td>\n",
       "      <td>3.852454</td>\n",
       "      <td>0.026929</td>\n",
       "      <td>14.234422</td>\n",
       "      <td>14.234422</td>\n",
       "      <td>1.0</td>\n",
       "      <td>1.0</td>\n",
       "      <td>4.0</td>\n",
       "      <td>6.0</td>\n",
       "      <td>973126.80</td>\n",
       "      <td>973126.80</td>\n",
       "    </tr>\n",
       "    <tr>\n",
       "      <th>1</th>\n",
       "      <td>2018.0</td>\n",
       "      <td>10101.0</td>\n",
       "      <td>1022578.0</td>\n",
       "      <td>14.176742</td>\n",
       "      <td>0.00</td>\n",
       "      <td>14.172675</td>\n",
       "      <td>412516.0</td>\n",
       "      <td>0.406691</td>\n",
       "      <td>4.611094</td>\n",
       "      <td>3277303.0</td>\n",
       "      <td>...</td>\n",
       "      <td>4.043831</td>\n",
       "      <td>0.028230</td>\n",
       "      <td>38.567413</td>\n",
       "      <td>38.567413</td>\n",
       "      <td>1.0</td>\n",
       "      <td>1.0</td>\n",
       "      <td>4.0</td>\n",
       "      <td>0.0</td>\n",
       "      <td>850498.70</td>\n",
       "      <td>850498.70</td>\n",
       "    </tr>\n",
       "    <tr>\n",
       "      <th>2</th>\n",
       "      <td>2019.0</td>\n",
       "      <td>10101.0</td>\n",
       "      <td>2117193.0</td>\n",
       "      <td>15.475330</td>\n",
       "      <td>0.00</td>\n",
       "      <td>14.632606</td>\n",
       "      <td>3141169.0</td>\n",
       "      <td>0.146721</td>\n",
       "      <td>3.785407</td>\n",
       "      <td>3567725.0</td>\n",
       "      <td>...</td>\n",
       "      <td>3.644506</td>\n",
       "      <td>0.027500</td>\n",
       "      <td>0.000000</td>\n",
       "      <td>28.804354</td>\n",
       "      <td>1.0</td>\n",
       "      <td>1.0</td>\n",
       "      <td>10.0</td>\n",
       "      <td>0.0</td>\n",
       "      <td>213328.66</td>\n",
       "      <td>213328.66</td>\n",
       "    </tr>\n",
       "    <tr>\n",
       "      <th>3</th>\n",
       "      <td>2020.0</td>\n",
       "      <td>10101.0</td>\n",
       "      <td>2125970.0</td>\n",
       "      <td>16.550231</td>\n",
       "      <td>0.00</td>\n",
       "      <td>15.510281</td>\n",
       "      <td>13279469.0</td>\n",
       "      <td>3.319424</td>\n",
       "      <td>3.593118</td>\n",
       "      <td>3874238.0</td>\n",
       "      <td>...</td>\n",
       "      <td>3.122964</td>\n",
       "      <td>0.026807</td>\n",
       "      <td>0.000000</td>\n",
       "      <td>17.171967</td>\n",
       "      <td>1.0</td>\n",
       "      <td>1.0</td>\n",
       "      <td>5.0</td>\n",
       "      <td>0.0</td>\n",
       "      <td>25466196.00</td>\n",
       "      <td>25466196.00</td>\n",
       "    </tr>\n",
       "    <tr>\n",
       "      <th>4</th>\n",
       "      <td>2017.0</td>\n",
       "      <td>10102.0</td>\n",
       "      <td>4254.0</td>\n",
       "      <td>15.837134</td>\n",
       "      <td>4827767.87</td>\n",
       "      <td>15.389895</td>\n",
       "      <td>7546315.0</td>\n",
       "      <td>4.823514</td>\n",
       "      <td>4.173450</td>\n",
       "      <td>1500.0</td>\n",
       "      <td>...</td>\n",
       "      <td>5.758890</td>\n",
       "      <td>0.000000</td>\n",
       "      <td>205.684900</td>\n",
       "      <td>205.684900</td>\n",
       "      <td>1.0</td>\n",
       "      <td>1.0</td>\n",
       "      <td>5.0</td>\n",
       "      <td>0.0</td>\n",
       "      <td>7662770.00</td>\n",
       "      <td>7662770.00</td>\n",
       "    </tr>\n",
       "    <tr>\n",
       "      <th>...</th>\n",
       "      <td>...</td>\n",
       "      <td>...</td>\n",
       "      <td>...</td>\n",
       "      <td>...</td>\n",
       "      <td>...</td>\n",
       "      <td>...</td>\n",
       "      <td>...</td>\n",
       "      <td>...</td>\n",
       "      <td>...</td>\n",
       "      <td>...</td>\n",
       "      <td>...</td>\n",
       "      <td>...</td>\n",
       "      <td>...</td>\n",
       "      <td>...</td>\n",
       "      <td>...</td>\n",
       "      <td>...</td>\n",
       "      <td>...</td>\n",
       "      <td>...</td>\n",
       "      <td>...</td>\n",
       "      <td>...</td>\n",
       "      <td>...</td>\n",
       "    </tr>\n",
       "    <tr>\n",
       "      <th>1373</th>\n",
       "      <td>2016.0</td>\n",
       "      <td>250105.0</td>\n",
       "      <td>1402637.0</td>\n",
       "      <td>15.631399</td>\n",
       "      <td>5108248.00</td>\n",
       "      <td>15.446367</td>\n",
       "      <td>4743897.0</td>\n",
       "      <td>3.705611</td>\n",
       "      <td>4.432099</td>\n",
       "      <td>2712287.0</td>\n",
       "      <td>...</td>\n",
       "      <td>4.473697</td>\n",
       "      <td>56.676807</td>\n",
       "      <td>73.471180</td>\n",
       "      <td>73.471180</td>\n",
       "      <td>1.0</td>\n",
       "      <td>1.0</td>\n",
       "      <td>16.0</td>\n",
       "      <td>0.0</td>\n",
       "      <td>19161298.00</td>\n",
       "      <td>19161298.00</td>\n",
       "    </tr>\n",
       "    <tr>\n",
       "      <th>1374</th>\n",
       "      <td>2017.0</td>\n",
       "      <td>250105.0</td>\n",
       "      <td>1402637.0</td>\n",
       "      <td>15.856344</td>\n",
       "      <td>7691763.84</td>\n",
       "      <td>15.842849</td>\n",
       "      <td>6294380.0</td>\n",
       "      <td>6.191212</td>\n",
       "      <td>4.601761</td>\n",
       "      <td>2828859.0</td>\n",
       "      <td>...</td>\n",
       "      <td>4.458875</td>\n",
       "      <td>37.567630</td>\n",
       "      <td>55.142548</td>\n",
       "      <td>55.142548</td>\n",
       "      <td>0.0</td>\n",
       "      <td>1.0</td>\n",
       "      <td>0.0</td>\n",
       "      <td>37.0</td>\n",
       "      <td>0.00</td>\n",
       "      <td>938897.20</td>\n",
       "    </tr>\n",
       "    <tr>\n",
       "      <th>1375</th>\n",
       "      <td>2018.0</td>\n",
       "      <td>250105.0</td>\n",
       "      <td>1402637.0</td>\n",
       "      <td>14.153865</td>\n",
       "      <td>0.00</td>\n",
       "      <td>14.148727</td>\n",
       "      <td>0.0</td>\n",
       "      <td>-0.007189</td>\n",
       "      <td>4.610033</td>\n",
       "      <td>2693324.0</td>\n",
       "      <td>...</td>\n",
       "      <td>4.233397</td>\n",
       "      <td>36.648098</td>\n",
       "      <td>46.291496</td>\n",
       "      <td>44.413340</td>\n",
       "      <td>0.0</td>\n",
       "      <td>1.0</td>\n",
       "      <td>0.0</td>\n",
       "      <td>2.0</td>\n",
       "      <td>0.00</td>\n",
       "      <td>762652.00</td>\n",
       "    </tr>\n",
       "    <tr>\n",
       "      <th>1376</th>\n",
       "      <td>2017.0</td>\n",
       "      <td>250301.0</td>\n",
       "      <td>1337089.0</td>\n",
       "      <td>16.271724</td>\n",
       "      <td>11252813.34</td>\n",
       "      <td>16.228544</td>\n",
       "      <td>10323482.0</td>\n",
       "      <td>9.830694</td>\n",
       "      <td>4.572377</td>\n",
       "      <td>1546253.0</td>\n",
       "      <td>...</td>\n",
       "      <td>5.940664</td>\n",
       "      <td>238.385640</td>\n",
       "      <td>314.466900</td>\n",
       "      <td>314.466900</td>\n",
       "      <td>0.0</td>\n",
       "      <td>1.0</td>\n",
       "      <td>0.0</td>\n",
       "      <td>5.0</td>\n",
       "      <td>0.00</td>\n",
       "      <td>1791342.00</td>\n",
       "    </tr>\n",
       "    <tr>\n",
       "      <th>1377</th>\n",
       "      <td>2020.0</td>\n",
       "      <td>250301.0</td>\n",
       "      <td>21084755.0</td>\n",
       "      <td>17.051327</td>\n",
       "      <td>0.00</td>\n",
       "      <td>15.684451</td>\n",
       "      <td>4342358.0</td>\n",
       "      <td>-14.603329</td>\n",
       "      <td>3.276775</td>\n",
       "      <td>1576600.0</td>\n",
       "      <td>...</td>\n",
       "      <td>5.991580</td>\n",
       "      <td>174.887280</td>\n",
       "      <td>0.000000</td>\n",
       "      <td>239.092150</td>\n",
       "      <td>1.0</td>\n",
       "      <td>1.0</td>\n",
       "      <td>14.0</td>\n",
       "      <td>0.0</td>\n",
       "      <td>610486.25</td>\n",
       "      <td>610486.25</td>\n",
       "    </tr>\n",
       "  </tbody>\n",
       "</table>\n",
       "<p>1378 rows × 14325 columns</p>\n",
       "</div>"
      ],
      "text/plain": [
       "        year    ubigeo  piagft_reod  pimgft_reod  tejgft_reod  tdvgft_reod  \\\n",
       "0     2016.0   10101.0    1042514.0    16.955749  22486872.37    16.751669   \n",
       "1     2018.0   10101.0    1022578.0    14.176742         0.00    14.172675   \n",
       "2     2019.0   10101.0    2117193.0    15.475330         0.00    14.632606   \n",
       "3     2020.0   10101.0    2125970.0    16.550231         0.00    15.510281   \n",
       "4     2017.0   10102.0       4254.0    15.837134   4827767.87    15.389895   \n",
       "...      ...       ...          ...          ...          ...          ...   \n",
       "1373  2016.0  250105.0    1402637.0    15.631399   5108248.00    15.446367   \n",
       "1374  2017.0  250105.0    1402637.0    15.856344   7691763.84    15.842849   \n",
       "1375  2018.0  250105.0    1402637.0    14.153865         0.00    14.148727   \n",
       "1376  2017.0  250301.0    1337089.0    16.271724  11252813.34    16.228544   \n",
       "1377  2020.0  250301.0   21084755.0    17.051327         0.00    15.684451   \n",
       "\n",
       "      dfgpimpiaft_reod  dfgdevpiagft_reod  devppimft_reod  piagft_redr  ...  \\\n",
       "0           22066868.0          17.800800        4.413279    4112775.0  ...   \n",
       "1             412516.0           0.406691        4.611094    3277303.0  ...   \n",
       "2            3141169.0           0.146721        3.785407    3567725.0  ...   \n",
       "3           13279469.0           3.319424        3.593118    3874238.0  ...   \n",
       "4            7546315.0           4.823514        4.173450       1500.0  ...   \n",
       "...                ...                ...             ...          ...  ...   \n",
       "1373         4743897.0           3.705611        4.432099    2712287.0  ...   \n",
       "1374         6294380.0           6.191212        4.601761    2828859.0  ...   \n",
       "1375               0.0          -0.007189        4.610033    2693324.0  ...   \n",
       "1376        10323482.0           9.830694        4.572377    1546253.0  ...   \n",
       "1377         4342358.0         -14.603329        3.276775    1576600.0  ...   \n",
       "\n",
       "      _pim_canonpc  _pia_canonpc  _totaleje_canonpc  _totaldev_canonpc  \\\n",
       "0         3.852454      0.026929          14.234422          14.234422   \n",
       "1         4.043831      0.028230          38.567413          38.567413   \n",
       "2         3.644506      0.027500           0.000000          28.804354   \n",
       "3         3.122964      0.026807           0.000000          17.171967   \n",
       "4         5.758890      0.000000         205.684900         205.684900   \n",
       "...            ...           ...                ...                ...   \n",
       "1373      4.473697     56.676807          73.471180          73.471180   \n",
       "1374      4.458875     37.567630          55.142548          55.142548   \n",
       "1375      4.233397     36.648098          46.291496          44.413340   \n",
       "1376      5.940664    238.385640         314.466900         314.466900   \n",
       "1377      5.991580    174.887280           0.000000         239.092150   \n",
       "\n",
       "      corrup_intensa  corrup_amplia  per_corrup1  per_corrup2  monto_corrup1  \\\n",
       "0                1.0            1.0          4.0          6.0      973126.80   \n",
       "1                1.0            1.0          4.0          0.0      850498.70   \n",
       "2                1.0            1.0         10.0          0.0      213328.66   \n",
       "3                1.0            1.0          5.0          0.0    25466196.00   \n",
       "4                1.0            1.0          5.0          0.0     7662770.00   \n",
       "...              ...            ...          ...          ...            ...   \n",
       "1373             1.0            1.0         16.0          0.0    19161298.00   \n",
       "1374             0.0            1.0          0.0         37.0           0.00   \n",
       "1375             0.0            1.0          0.0          2.0           0.00   \n",
       "1376             0.0            1.0          0.0          5.0           0.00   \n",
       "1377             1.0            1.0         14.0          0.0      610486.25   \n",
       "\n",
       "      monto_corrup2  \n",
       "0         973126.80  \n",
       "1         850498.70  \n",
       "2         213328.66  \n",
       "3       25466196.00  \n",
       "4        7662770.00  \n",
       "...             ...  \n",
       "1373    19161298.00  \n",
       "1374      938897.20  \n",
       "1375      762652.00  \n",
       "1376     1791342.00  \n",
       "1377      610486.25  \n",
       "\n",
       "[1378 rows x 14325 columns]"
      ]
     },
     "execution_count": 25,
     "metadata": {},
     "output_type": "execute_result"
    }
   ],
   "source": [
    "df"
   ]
  }
 ],
 "metadata": {
  "kernelspec": {
   "display_name": "Python 3 (ipykernel)",
   "language": "python",
   "name": "python3"
  },
  "language_info": {
   "codemirror_mode": {
    "name": "ipython",
    "version": 3
   },
   "file_extension": ".py",
   "mimetype": "text/x-python",
   "name": "python",
   "nbconvert_exporter": "python",
   "pygments_lexer": "ipython3",
   "version": "3.11.4"
  }
 },
 "nbformat": 4,
 "nbformat_minor": 5
}
