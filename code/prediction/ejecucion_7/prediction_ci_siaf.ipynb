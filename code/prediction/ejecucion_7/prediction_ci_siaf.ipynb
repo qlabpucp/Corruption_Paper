{
 "cells": [
  {
   "cell_type": "markdown",
   "id": "e2313018-4985-4133-8753-015f7e961d92",
   "metadata": {},
   "source": [
    "* Base de datos: 2007-2020\n",
    "* Tipo corrupción: Intensa"
   ]
  },
  {
   "cell_type": "markdown",
   "id": "4ba6f58f-fcad-4f2f-a374-ee889fecff46",
   "metadata": {},
   "source": [
    "## 1. Cargar datos"
   ]
  },
  {
   "cell_type": "code",
   "execution_count": 1,
   "id": "b3fa88cf-49b8-466b-87d9-9635cef5e069",
   "metadata": {
    "tags": []
   },
   "outputs": [],
   "source": [
    "import warnings\n",
    "warnings.filterwarnings( 'ignore' )"
   ]
  },
  {
   "cell_type": "code",
   "execution_count": 2,
   "id": "ec338cb3-06de-42cb-835b-c9bd6ce181de",
   "metadata": {
    "tags": []
   },
   "outputs": [],
   "source": [
    "import pandas as pd\n",
    "import numpy as np\n",
    "import pickle\n",
    "import joblib\n",
    "from glob import glob"
   ]
  },
  {
   "cell_type": "code",
   "execution_count": 3,
   "id": "b4d0553e-7695-4802-8f68-d6414426b4c7",
   "metadata": {
    "tags": []
   },
   "outputs": [],
   "source": [
    "path      = r'..\\..\\..\\input\\prediction_data\\ejecucion_7\\b0_ci_siaf\\preprocessed_data\\*.csv'\n",
    "path_list = glob( path )\n",
    "dfs       = []\n",
    "\n",
    "for i, base in enumerate( path_list ):\n",
    "    df = pd.read_csv( base, dtype = { 'ubigeo': str, 'year': str } )\n",
    "    dfs.append( df )"
   ]
  },
  {
   "cell_type": "markdown",
   "id": "fb09f8cd-134f-4db0-b441-0b05be68c7bf",
   "metadata": {},
   "source": [
    "## 2. Hacer predicciones"
   ]
  },
  {
   "cell_type": "code",
   "execution_count": 4,
   "id": "d7ee7e49-21a3-455e-924e-818aada51997",
   "metadata": {
    "tags": []
   },
   "outputs": [],
   "source": [
    "optimal_model = joblib.load( r'..\\..\\..\\output\\ejecucion_6\\models\\base0\\model_ci_Random Forest Classifier_2.joblib' )"
   ]
  },
  {
   "cell_type": "code",
   "execution_count": 5,
   "id": "99a086a7-5028-4f51-ab28-53872be21937",
   "metadata": {},
   "outputs": [],
   "source": [
    "for i, df in enumerate( dfs ):\n",
    "    \n",
    "    ubigeo_column                        = dfs[ i ][ 'ubigeo' ].copy()\n",
    "    year_column                          = dfs[ i ][ 'year' ].copy()\n",
    "    dfs[ i ]                             = dfs[ i ].drop( [ 'ubigeo', 'year' ], axis = 1 )\n",
    "    \n",
    "    y_pred_class_o                       = optimal_model.predict( dfs[ i ] )\n",
    "    y_pred_prob_o                        = optimal_model.predict_proba( dfs[ i ] )[ :, 1 ]  \n",
    "    dfs[ i ][ 'prob_ci' ]                = y_pred_prob_o\n",
    "    dfs[ i ][ 'class_ci_default' ]       = y_pred_class_o\n",
    "    dfs[ i ][ 'class_ci_calculated_50' ] = dfs[ i ][ 'prob_ci' ].apply( lambda x: 1 if x > 0.5 else 0 )\n",
    "    dfs[ i ][ 'class_ci_calculated_60' ] = dfs[ i ][ 'prob_ci' ].apply( lambda x: 1 if x > 0.6 else 0 )\n",
    "    dfs[ i ][ 'class_ci_calculated_70' ] = dfs[ i ][ 'prob_ci' ].apply( lambda x: 1 if x > 0.7 else 0 )\n",
    "    dfs[ i ][ 'class_ci_100' ]           = ( dfs[ i ][ 'prob_ci' ].rank( ascending = False, method = 'first' ) <= 100 ).astype( int )\n",
    "    \n",
    "    dfs[ i ][ 'ubigeo' ]                = ubigeo_column\n",
    "    dfs[ i ][ 'year' ]                  = year_column\n",
    "    \n",
    "    dfs[ i ]                            = dfs[ i ][ [ 'ubigeo', 'year', 'prob_ci', 'class_ci_default', \n",
    "                                                      'class_ci_calculated_50', 'class_ci_calculated_60',\n",
    "                                                      'class_ci_calculated_70', 'class_ci_100' ] ]"
   ]
  },
  {
   "cell_type": "code",
   "execution_count": 6,
   "id": "8a147f3f-5b54-4f45-9905-57dc84c75536",
   "metadata": {
    "tags": []
   },
   "outputs": [],
   "source": [
    "complete_base = pd.concat( dfs, axis = 0 )"
   ]
  },
  {
   "cell_type": "code",
   "execution_count": 7,
   "id": "ece71d32",
   "metadata": {},
   "outputs": [
    {
     "data": {
      "text/html": [
       "<div>\n",
       "<style scoped>\n",
       "    .dataframe tbody tr th:only-of-type {\n",
       "        vertical-align: middle;\n",
       "    }\n",
       "\n",
       "    .dataframe tbody tr th {\n",
       "        vertical-align: top;\n",
       "    }\n",
       "\n",
       "    .dataframe thead th {\n",
       "        text-align: right;\n",
       "    }\n",
       "</style>\n",
       "<table border=\"1\" class=\"dataframe\">\n",
       "  <thead>\n",
       "    <tr style=\"text-align: right;\">\n",
       "      <th></th>\n",
       "      <th>ubigeo</th>\n",
       "      <th>year</th>\n",
       "      <th>prob_ci</th>\n",
       "      <th>class_ci_default</th>\n",
       "      <th>class_ci_calculated_50</th>\n",
       "      <th>class_ci_calculated_60</th>\n",
       "      <th>class_ci_calculated_70</th>\n",
       "      <th>class_ci_100</th>\n",
       "    </tr>\n",
       "  </thead>\n",
       "  <tbody>\n",
       "    <tr>\n",
       "      <th>0</th>\n",
       "      <td>010101</td>\n",
       "      <td>2007.0</td>\n",
       "      <td>0.836000</td>\n",
       "      <td>1.0</td>\n",
       "      <td>1</td>\n",
       "      <td>1</td>\n",
       "      <td>1</td>\n",
       "      <td>0</td>\n",
       "    </tr>\n",
       "    <tr>\n",
       "      <th>1</th>\n",
       "      <td>010102</td>\n",
       "      <td>2007.0</td>\n",
       "      <td>0.848000</td>\n",
       "      <td>1.0</td>\n",
       "      <td>1</td>\n",
       "      <td>1</td>\n",
       "      <td>1</td>\n",
       "      <td>1</td>\n",
       "    </tr>\n",
       "    <tr>\n",
       "      <th>2</th>\n",
       "      <td>010103</td>\n",
       "      <td>2007.0</td>\n",
       "      <td>0.848000</td>\n",
       "      <td>1.0</td>\n",
       "      <td>1</td>\n",
       "      <td>1</td>\n",
       "      <td>1</td>\n",
       "      <td>1</td>\n",
       "    </tr>\n",
       "    <tr>\n",
       "      <th>3</th>\n",
       "      <td>010104</td>\n",
       "      <td>2007.0</td>\n",
       "      <td>0.848000</td>\n",
       "      <td>1.0</td>\n",
       "      <td>1</td>\n",
       "      <td>1</td>\n",
       "      <td>1</td>\n",
       "      <td>1</td>\n",
       "    </tr>\n",
       "    <tr>\n",
       "      <th>4</th>\n",
       "      <td>010105</td>\n",
       "      <td>2007.0</td>\n",
       "      <td>0.848000</td>\n",
       "      <td>1.0</td>\n",
       "      <td>1</td>\n",
       "      <td>1</td>\n",
       "      <td>1</td>\n",
       "      <td>1</td>\n",
       "    </tr>\n",
       "    <tr>\n",
       "      <th>...</th>\n",
       "      <td>...</td>\n",
       "      <td>...</td>\n",
       "      <td>...</td>\n",
       "      <td>...</td>\n",
       "      <td>...</td>\n",
       "      <td>...</td>\n",
       "      <td>...</td>\n",
       "      <td>...</td>\n",
       "    </tr>\n",
       "    <tr>\n",
       "      <th>1869</th>\n",
       "      <td>250302</td>\n",
       "      <td>2020.0</td>\n",
       "      <td>0.412000</td>\n",
       "      <td>0.0</td>\n",
       "      <td>0</td>\n",
       "      <td>0</td>\n",
       "      <td>0</td>\n",
       "      <td>0</td>\n",
       "    </tr>\n",
       "    <tr>\n",
       "      <th>1870</th>\n",
       "      <td>250303</td>\n",
       "      <td>2020.0</td>\n",
       "      <td>0.700000</td>\n",
       "      <td>1.0</td>\n",
       "      <td>1</td>\n",
       "      <td>1</td>\n",
       "      <td>0</td>\n",
       "      <td>0</td>\n",
       "    </tr>\n",
       "    <tr>\n",
       "      <th>1871</th>\n",
       "      <td>250304</td>\n",
       "      <td>2020.0</td>\n",
       "      <td>0.767983</td>\n",
       "      <td>1.0</td>\n",
       "      <td>1</td>\n",
       "      <td>1</td>\n",
       "      <td>1</td>\n",
       "      <td>1</td>\n",
       "    </tr>\n",
       "    <tr>\n",
       "      <th>1872</th>\n",
       "      <td>250305</td>\n",
       "      <td>2020.0</td>\n",
       "      <td>0.691983</td>\n",
       "      <td>1.0</td>\n",
       "      <td>1</td>\n",
       "      <td>1</td>\n",
       "      <td>0</td>\n",
       "      <td>0</td>\n",
       "    </tr>\n",
       "    <tr>\n",
       "      <th>1873</th>\n",
       "      <td>250401</td>\n",
       "      <td>2020.0</td>\n",
       "      <td>0.719983</td>\n",
       "      <td>1.0</td>\n",
       "      <td>1</td>\n",
       "      <td>1</td>\n",
       "      <td>1</td>\n",
       "      <td>0</td>\n",
       "    </tr>\n",
       "  </tbody>\n",
       "</table>\n",
       "<p>25915 rows × 8 columns</p>\n",
       "</div>"
      ],
      "text/plain": [
       "      ubigeo    year   prob_ci  class_ci_default  class_ci_calculated_50  \\\n",
       "0     010101  2007.0  0.836000               1.0                       1   \n",
       "1     010102  2007.0  0.848000               1.0                       1   \n",
       "2     010103  2007.0  0.848000               1.0                       1   \n",
       "3     010104  2007.0  0.848000               1.0                       1   \n",
       "4     010105  2007.0  0.848000               1.0                       1   \n",
       "...      ...     ...       ...               ...                     ...   \n",
       "1869  250302  2020.0  0.412000               0.0                       0   \n",
       "1870  250303  2020.0  0.700000               1.0                       1   \n",
       "1871  250304  2020.0  0.767983               1.0                       1   \n",
       "1872  250305  2020.0  0.691983               1.0                       1   \n",
       "1873  250401  2020.0  0.719983               1.0                       1   \n",
       "\n",
       "      class_ci_calculated_60  class_ci_calculated_70  class_ci_100  \n",
       "0                          1                       1             0  \n",
       "1                          1                       1             1  \n",
       "2                          1                       1             1  \n",
       "3                          1                       1             1  \n",
       "4                          1                       1             1  \n",
       "...                      ...                     ...           ...  \n",
       "1869                       0                       0             0  \n",
       "1870                       1                       0             0  \n",
       "1871                       1                       1             1  \n",
       "1872                       1                       0             0  \n",
       "1873                       1                       1             0  \n",
       "\n",
       "[25915 rows x 8 columns]"
      ]
     },
     "execution_count": 7,
     "metadata": {},
     "output_type": "execute_result"
    }
   ],
   "source": [
    "complete_base"
   ]
  },
  {
   "cell_type": "markdown",
   "id": "d71a16ab-3746-4a38-8e07-bc0dbf4ae6f2",
   "metadata": {},
   "source": [
    "## 3. Exportar datos"
   ]
  },
  {
   "cell_type": "code",
   "execution_count": 8,
   "id": "2c8dcbde-88ed-45a9-a58a-015bb0d06524",
   "metadata": {
    "tags": []
   },
   "outputs": [],
   "source": [
    "complete_base.to_csv( r'..\\..\\..\\input\\prediction_data\\ejecucion_7\\b0_ci_siaf\\predicted_data\\base0_predicted_ci.csv', index = False )"
   ]
  }
 ],
 "metadata": {
  "kernelspec": {
   "display_name": "Python 3 (ipykernel)",
   "language": "python",
   "name": "python3"
  },
  "language_info": {
   "codemirror_mode": {
    "name": "ipython",
    "version": 3
   },
   "file_extension": ".py",
   "mimetype": "text/x-python",
   "name": "python",
   "nbconvert_exporter": "python",
   "pygments_lexer": "ipython3",
   "version": "3.11.4"
  }
 },
 "nbformat": 4,
 "nbformat_minor": 5
}
