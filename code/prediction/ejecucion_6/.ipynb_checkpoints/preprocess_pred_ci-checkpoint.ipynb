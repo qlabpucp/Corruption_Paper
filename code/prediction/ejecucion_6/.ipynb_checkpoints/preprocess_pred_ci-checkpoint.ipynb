{
 "cells": [
  {
   "cell_type": "markdown",
   "id": "5e5fbf3b-a194-4cd8-9d8a-8f17aafe6406",
   "metadata": {},
   "source": [
    "## 1. Cargar los datos"
   ]
  },
  {
   "cell_type": "markdown",
   "id": "4d1a2fc7-820e-449c-8666-c0effe7f3c58",
   "metadata": {},
   "source": [
    "#### 1.1. Importar librerias y módulos"
   ]
  },
  {
   "cell_type": "code",
   "execution_count": 1,
   "id": "0ed9ef30-0261-4660-b09d-55b1fad7e5f5",
   "metadata": {},
   "outputs": [],
   "source": [
    "import pandas as pd\n",
    "import numpy as np\n",
    "from glob import glob\n",
    "import os\n",
    "from warnings import simplefilter\n",
    "from importlib.machinery import SourceFileLoader"
   ]
  },
  {
   "cell_type": "code",
   "execution_count": 2,
   "id": "d2b37738-301a-4d4d-96d5-1bc8ada52d82",
   "metadata": {
    "tags": []
   },
   "outputs": [],
   "source": [
    "simplefilter( action = 'ignore', category = pd.errors.PerformanceWarning )\n",
    "# print( dir( fun ) )\n",
    "# pd.set_option( 'display.max_rows', 10 )\n",
    "# pd.set_option( 'display.max_columns', 10 )"
   ]
  },
  {
   "cell_type": "code",
   "execution_count": 22,
   "id": "7e77f27d-714e-4c10-80af-5f1797569ca6",
   "metadata": {
    "tags": []
   },
   "outputs": [],
   "source": [
    "fun = SourceFileLoader( 'funciones', r'..\\..\\code\\modules\\funciones.py' ).load_module()\n",
    "vn  = SourceFileLoader( 'variables_nombres', r'..\\..\\code\\modules\\variables_nombres.py' ).load_module()"
   ]
  },
  {
   "cell_type": "markdown",
   "id": "b1cf9982-9115-429f-828b-027f7e22f0a1",
   "metadata": {},
   "source": [
    "#### 1.2. Importar bases "
   ]
  },
  {
   "cell_type": "markdown",
   "id": "dc2dd9c1-435e-4782-bea4-f13009718ffc",
   "metadata": {},
   "source": [
    "Se importan las cuatro bases de manera conjunta, y se agrupan en la lista \"bases\". Para accerder a cada una de las bases se llama a la lista de bases + su respectivo índice. Ejemplo: bases[0]"
   ]
  },
  {
   "cell_type": "code",
   "execution_count": 4,
   "id": "3e2e6ca3-634f-4a1b-8520-b3d60d890415",
   "metadata": {},
   "outputs": [
    {
     "data": {
      "text/plain": [
       "'C:\\\\Users\\\\dell\\\\Documents\\\\GitHub\\\\Corruption_Paper\\\\code\\\\prediction'"
      ]
     },
     "execution_count": 4,
     "metadata": {},
     "output_type": "execute_result"
    }
   ],
   "source": [
    "pwd"
   ]
  },
  {
   "cell_type": "code",
   "execution_count": 7,
   "id": "c36ff79f-c74c-499c-86d2-9c8fd77ad18a",
   "metadata": {},
   "outputs": [],
   "source": [
    "path = r'..\\..\\input\\prediction_data\\base0\\built_data_by_year\\*.dta'"
   ]
  },
  {
   "cell_type": "code",
   "execution_count": 8,
   "id": "5b9da81e-69b8-4773-932c-c80ebf70df3e",
   "metadata": {
    "tags": []
   },
   "outputs": [
    {
     "name": "stdout",
     "output_type": "stream",
     "text": [
      "0\n",
      "1\n",
      "2\n",
      "3\n",
      "4\n",
      "5\n",
      "6\n",
      "7\n",
      "8\n",
      "9\n",
      "10\n",
      "11\n",
      "12\n",
      "13\n",
      "CPU times: total: 5min 14s\n",
      "Wall time: 5min 18s\n"
     ]
    }
   ],
   "source": [
    "%%time\n",
    "\n",
    "dfs = fun.importar_bases( path )\n",
    "for i, df in enumerate( dfs ):\n",
    "    print( i )"
   ]
  },
  {
   "cell_type": "markdown",
   "id": "028355e5-c664-4b3b-954f-875b506c8d84",
   "metadata": {},
   "source": [
    "#### 1.3. Última limpieza a las bases"
   ]
  },
  {
   "cell_type": "markdown",
   "id": "27ae56e0-44ea-4586-a0a7-87e0b00e518d",
   "metadata": {},
   "source": [
    "Últimas modificaciones a las bases de datos"
   ]
  },
  {
   "cell_type": "code",
   "execution_count": 9,
   "id": "3d9726b3-a3e8-4313-bd27-7f86d98ee6b7",
   "metadata": {
    "tags": []
   },
   "outputs": [
    {
     "name": "stdout",
     "output_type": "stream",
     "text": [
      "CPU times: total: 21min 18s\n",
      "Wall time: 21min 42s\n"
     ]
    }
   ],
   "source": [
    "%%time\n",
    "plus_vars = [ 'ubigeo', 'year' ]\n",
    "\n",
    "for i, df in enumerate( dfs ):\n",
    "    data_cols = [ col for col in dfs[ i ].columns if col not in vn.no_predictoras_variables and col not in vn.string_variables ]\n",
    "    encode_variables = { \"sexo\": { \"Mujer\" : 1, \"Hombre\" : 2 } }\n",
    "    dfs[ i ] = dfs[ i ][ data_cols ]\n",
    "    dfs[ i ] = dfs[ i ].replace( encode_variables )\n",
    "    dfs[ i ] = dfs[ i ].astype( str ).replace( '', np.nan, regex = True )\n",
    "    dfs[ i ] = dfs[ i ].astype( str ).replace( '\\.+$', np.nan, regex = True )\n",
    "    dfs[ i ] = dfs[ i ].apply( lambda col: col.astype( float ) if col.name not in plus_vars else col )"
   ]
  },
  {
   "cell_type": "code",
   "execution_count": 10,
   "id": "45b8d7d9-dd0c-4def-93b3-d72408580df3",
   "metadata": {
    "tags": []
   },
   "outputs": [
    {
     "data": {
      "text/plain": [
       "0       010101\n",
       "1       010102\n",
       "2       010103\n",
       "3       010104\n",
       "4       010105\n",
       "         ...  \n",
       "1825    250204\n",
       "1826    250301\n",
       "1827    250302\n",
       "1828    250303\n",
       "1829    250401\n",
       "Name: ubigeo, Length: 1830, dtype: object"
      ]
     },
     "execution_count": 10,
     "metadata": {},
     "output_type": "execute_result"
    }
   ],
   "source": [
    "dfs[ 0 ][ 'ubigeo' ]"
   ]
  },
  {
   "cell_type": "code",
   "execution_count": 18,
   "id": "b4381546-d1e6-4cab-88b7-3e6bd9a8dd90",
   "metadata": {
    "tags": []
   },
   "outputs": [],
   "source": [
    "for i in range( 14 ):\n",
    "    \n",
    "    if i <= 2:\n",
    "        dfs[ i ].name = f'base0_200{ 7 + i }'   \n",
    "    else: \n",
    "        dfs[ i ].name = f'base0_20{ 7 + i }'"
   ]
  },
  {
   "cell_type": "markdown",
   "id": "6236cb73-9f9e-4b35-be83-3ed2fb0120d4",
   "metadata": {},
   "source": [
    "## 2. Preprocesamiento"
   ]
  },
  {
   "cell_type": "markdown",
   "id": "6d7f83f5-e74a-4b53-8a5e-66a813e7ab9b",
   "metadata": {},
   "source": [
    "### 2.1 Imputación con 0"
   ]
  },
  {
   "cell_type": "markdown",
   "id": "8385bc9d-37db-44de-86b4-5faf15cddcbb",
   "metadata": {},
   "source": [
    "Se imputa los valores perdidos de las variables de SIAF con 0. No se generan variables dummy de control."
   ]
  },
  {
   "cell_type": "code",
   "execution_count": 20,
   "id": "c531520b-8020-44e0-937b-421a86eecb05",
   "metadata": {},
   "outputs": [],
   "source": [
    "for i, df in enumerate( dfs ):\n",
    "    dfs[ i ] = fun.imputar_i( dfs[ i ], vn.siaf_variables, 0, dummy = False )"
   ]
  },
  {
   "cell_type": "markdown",
   "id": "ecc79f81-7e98-46e1-bded-d0ca0e745b79",
   "metadata": {},
   "source": [
    "Se verifica que las variables pertenecientes a SIAF no tengan valores perdidos"
   ]
  },
  {
   "cell_type": "code",
   "execution_count": 24,
   "id": "400f6b8f-a652-4cce-892c-33dbb2e9d6a7",
   "metadata": {
    "collapsed": true,
    "jupyter": {
     "outputs_hidden": true
    },
    "tags": []
   },
   "outputs": [
    {
     "ename": "NameError",
     "evalue": "name 'vn' is not defined",
     "output_type": "error",
     "traceback": [
      "\u001b[1;31m---------------------------------------------------------------------------\u001b[0m",
      "\u001b[1;31mNameError\u001b[0m                                 Traceback (most recent call last)",
      "Cell \u001b[1;32mIn[24], line 1\u001b[0m\n\u001b[1;32m----> 1\u001b[0m df0_siaf \u001b[38;5;241m=\u001b[39m fun\u001b[38;5;241m.\u001b[39mlistar_variables( dfs[ \u001b[38;5;241m0\u001b[39m ], df \u001b[38;5;241m=\u001b[39m \u001b[38;5;124m\"\u001b[39m\u001b[38;5;124msiaf\u001b[39m\u001b[38;5;124m\"\u001b[39m )\n\u001b[0;32m      2\u001b[0m df1_siaf \u001b[38;5;241m=\u001b[39m fun\u001b[38;5;241m.\u001b[39mlistar_variables( dfs[ \u001b[38;5;241m1\u001b[39m ], df \u001b[38;5;241m=\u001b[39m \u001b[38;5;124m\"\u001b[39m\u001b[38;5;124msiaf\u001b[39m\u001b[38;5;124m\"\u001b[39m )\n\u001b[0;32m      3\u001b[0m df2_siaf \u001b[38;5;241m=\u001b[39m fun\u001b[38;5;241m.\u001b[39mlistar_variables( dfs[ \u001b[38;5;241m2\u001b[39m ], df \u001b[38;5;241m=\u001b[39m \u001b[38;5;124m\"\u001b[39m\u001b[38;5;124msiaf\u001b[39m\u001b[38;5;124m\"\u001b[39m )\n",
      "File \u001b[1;32m~\\Documents\\GitHub\\Corruption_Paper\\code\\modules\\funciones.py:104\u001b[0m, in \u001b[0;36mlistar_variables\u001b[1;34m(dataset, df)\u001b[0m\n\u001b[0;32m     87\u001b[0m \u001b[38;5;250m\u001b[39m\u001b[38;5;124;03m'''\u001b[39;00m\n\u001b[0;32m     88\u001b[0m \u001b[38;5;124;03mPropósito:\u001b[39;00m\n\u001b[0;32m     89\u001b[0m \u001b[38;5;124;03m    - Generar una lista de variables pertenecientes, o bien a SIAF o bien\u001b[39;00m\n\u001b[1;32m   (...)\u001b[0m\n\u001b[0;32m    101\u001b[0m \u001b[38;5;124;03m      lo espeficado en el segundo argumento de la función.\u001b[39;00m\n\u001b[0;32m    102\u001b[0m \u001b[38;5;124;03m'''\u001b[39;00m    \n\u001b[0;32m    103\u001b[0m \u001b[38;5;28;01mif\u001b[39;00m df \u001b[38;5;241m==\u001b[39m \u001b[38;5;124m\"\u001b[39m\u001b[38;5;124msiaf\u001b[39m\u001b[38;5;124m\"\u001b[39m: \n\u001b[1;32m--> 104\u001b[0m     variables \u001b[38;5;241m=\u001b[39m [ var \u001b[38;5;28;01mfor\u001b[39;00m var \u001b[38;5;129;01min\u001b[39;00m dataset\u001b[38;5;241m.\u001b[39mcolumns \u001b[38;5;28;01mif\u001b[39;00m var \u001b[38;5;129;01min\u001b[39;00m vn\u001b[38;5;241m.\u001b[39msiaf_variables ]\n\u001b[0;32m    105\u001b[0m \u001b[38;5;28;01mif\u001b[39;00m df \u001b[38;5;241m==\u001b[39m \u001b[38;5;124m\"\u001b[39m\u001b[38;5;124mrenamu\u001b[39m\u001b[38;5;124m\"\u001b[39m:\n\u001b[0;32m    106\u001b[0m     variables \u001b[38;5;241m=\u001b[39m [ var \u001b[38;5;28;01mfor\u001b[39;00m var \u001b[38;5;129;01min\u001b[39;00m dataset\u001b[38;5;241m.\u001b[39mcolumns \u001b[38;5;28;01mif\u001b[39;00m var \u001b[38;5;129;01min\u001b[39;00m vn\u001b[38;5;241m.\u001b[39mrenamu_variables ]\n",
      "File \u001b[1;32m~\\Documents\\GitHub\\Corruption_Paper\\code\\modules\\funciones.py:104\u001b[0m, in \u001b[0;36m<listcomp>\u001b[1;34m(.0)\u001b[0m\n\u001b[0;32m     87\u001b[0m \u001b[38;5;250m\u001b[39m\u001b[38;5;124;03m'''\u001b[39;00m\n\u001b[0;32m     88\u001b[0m \u001b[38;5;124;03mPropósito:\u001b[39;00m\n\u001b[0;32m     89\u001b[0m \u001b[38;5;124;03m    - Generar una lista de variables pertenecientes, o bien a SIAF o bien\u001b[39;00m\n\u001b[1;32m   (...)\u001b[0m\n\u001b[0;32m    101\u001b[0m \u001b[38;5;124;03m      lo espeficado en el segundo argumento de la función.\u001b[39;00m\n\u001b[0;32m    102\u001b[0m \u001b[38;5;124;03m'''\u001b[39;00m    \n\u001b[0;32m    103\u001b[0m \u001b[38;5;28;01mif\u001b[39;00m df \u001b[38;5;241m==\u001b[39m \u001b[38;5;124m\"\u001b[39m\u001b[38;5;124msiaf\u001b[39m\u001b[38;5;124m\"\u001b[39m: \n\u001b[1;32m--> 104\u001b[0m     variables \u001b[38;5;241m=\u001b[39m [ var \u001b[38;5;28;01mfor\u001b[39;00m var \u001b[38;5;129;01min\u001b[39;00m dataset\u001b[38;5;241m.\u001b[39mcolumns \u001b[38;5;28;01mif\u001b[39;00m var \u001b[38;5;129;01min\u001b[39;00m vn\u001b[38;5;241m.\u001b[39msiaf_variables ]\n\u001b[0;32m    105\u001b[0m \u001b[38;5;28;01mif\u001b[39;00m df \u001b[38;5;241m==\u001b[39m \u001b[38;5;124m\"\u001b[39m\u001b[38;5;124mrenamu\u001b[39m\u001b[38;5;124m\"\u001b[39m:\n\u001b[0;32m    106\u001b[0m     variables \u001b[38;5;241m=\u001b[39m [ var \u001b[38;5;28;01mfor\u001b[39;00m var \u001b[38;5;129;01min\u001b[39;00m dataset\u001b[38;5;241m.\u001b[39mcolumns \u001b[38;5;28;01mif\u001b[39;00m var \u001b[38;5;129;01min\u001b[39;00m vn\u001b[38;5;241m.\u001b[39mrenamu_variables ]\n",
      "\u001b[1;31mNameError\u001b[0m: name 'vn' is not defined"
     ]
    }
   ],
   "source": [
    "df0_siaf = fun.listar_variables( dfs[ 0 ], df = \"siaf\" )\n",
    "df1_siaf = fun.listar_variables( dfs[ 1 ], df = \"siaf\" )\n",
    "df2_siaf = fun.listar_variables( dfs[ 2 ], df = \"siaf\" )\n",
    "df3_siaf = fun.listar_variables( dfs[ 3 ], df = \"siaf\" )\n",
    "df4_siaf = fun.listar_variables( dfs[ 4 ], df = \"siaf\" )\n",
    "\n",
    "print( dfs[ 0 ][ df0_siaf ].isnull().sum().sum(),\n",
    "       dfs[ 1 ][ df1_siaf ].isnull().sum().sum(),\n",
    "       dfs[ 2 ][ df1_siaf ].isnull().sum().sum(),\n",
    "       dfs[ 3 ][ df1_siaf ].isnull().sum().sum(),\n",
    "       dfs[ 4 ][ df1_siaf ].isnull().sum().sum(), sep = \"\\n\" )"
   ]
  },
  {
   "cell_type": "code",
   "execution_count": 23,
   "id": "b0497d84-fd63-4782-b828-98641b9f0118",
   "metadata": {
    "collapsed": true,
    "jupyter": {
     "outputs_hidden": true
    },
    "tags": []
   },
   "outputs": [
    {
     "ename": "NameError",
     "evalue": "name 'vn' is not defined",
     "output_type": "error",
     "traceback": [
      "\u001b[1;31m---------------------------------------------------------------------------\u001b[0m",
      "\u001b[1;31mNameError\u001b[0m                                 Traceback (most recent call last)",
      "Cell \u001b[1;32mIn[23], line 5\u001b[0m\n\u001b[0;32m      1\u001b[0m dfs_siaf \u001b[38;5;241m=\u001b[39m []\n\u001b[0;32m      3\u001b[0m \u001b[38;5;28;01mfor\u001b[39;00m df \u001b[38;5;129;01min\u001b[39;00m dfs:\n\u001b[1;32m----> 5\u001b[0m     df_siaf \u001b[38;5;241m=\u001b[39m fun\u001b[38;5;241m.\u001b[39mlistar_variables( df, df \u001b[38;5;241m=\u001b[39m \u001b[38;5;124m\"\u001b[39m\u001b[38;5;124msiaf\u001b[39m\u001b[38;5;124m\"\u001b[39m )\n\u001b[0;32m      6\u001b[0m     dfs_siaf\u001b[38;5;241m.\u001b[39mappend( df_siaf )\n\u001b[0;32m      8\u001b[0m \u001b[38;5;28;01mfor\u001b[39;00m i, df_siaf \u001b[38;5;129;01min\u001b[39;00m \u001b[38;5;28menumerate\u001b[39m( dfs_siaf ):\n",
      "File \u001b[1;32m~\\Documents\\GitHub\\Corruption_Paper\\code\\modules\\funciones.py:104\u001b[0m, in \u001b[0;36mlistar_variables\u001b[1;34m(dataset, df)\u001b[0m\n\u001b[0;32m     87\u001b[0m \u001b[38;5;250m\u001b[39m\u001b[38;5;124;03m'''\u001b[39;00m\n\u001b[0;32m     88\u001b[0m \u001b[38;5;124;03mPropósito:\u001b[39;00m\n\u001b[0;32m     89\u001b[0m \u001b[38;5;124;03m    - Generar una lista de variables pertenecientes, o bien a SIAF o bien\u001b[39;00m\n\u001b[1;32m   (...)\u001b[0m\n\u001b[0;32m    101\u001b[0m \u001b[38;5;124;03m      lo espeficado en el segundo argumento de la función.\u001b[39;00m\n\u001b[0;32m    102\u001b[0m \u001b[38;5;124;03m'''\u001b[39;00m    \n\u001b[0;32m    103\u001b[0m \u001b[38;5;28;01mif\u001b[39;00m df \u001b[38;5;241m==\u001b[39m \u001b[38;5;124m\"\u001b[39m\u001b[38;5;124msiaf\u001b[39m\u001b[38;5;124m\"\u001b[39m: \n\u001b[1;32m--> 104\u001b[0m     variables \u001b[38;5;241m=\u001b[39m [ var \u001b[38;5;28;01mfor\u001b[39;00m var \u001b[38;5;129;01min\u001b[39;00m dataset\u001b[38;5;241m.\u001b[39mcolumns \u001b[38;5;28;01mif\u001b[39;00m var \u001b[38;5;129;01min\u001b[39;00m vn\u001b[38;5;241m.\u001b[39msiaf_variables ]\n\u001b[0;32m    105\u001b[0m \u001b[38;5;28;01mif\u001b[39;00m df \u001b[38;5;241m==\u001b[39m \u001b[38;5;124m\"\u001b[39m\u001b[38;5;124mrenamu\u001b[39m\u001b[38;5;124m\"\u001b[39m:\n\u001b[0;32m    106\u001b[0m     variables \u001b[38;5;241m=\u001b[39m [ var \u001b[38;5;28;01mfor\u001b[39;00m var \u001b[38;5;129;01min\u001b[39;00m dataset\u001b[38;5;241m.\u001b[39mcolumns \u001b[38;5;28;01mif\u001b[39;00m var \u001b[38;5;129;01min\u001b[39;00m vn\u001b[38;5;241m.\u001b[39mrenamu_variables ]\n",
      "File \u001b[1;32m~\\Documents\\GitHub\\Corruption_Paper\\code\\modules\\funciones.py:104\u001b[0m, in \u001b[0;36m<listcomp>\u001b[1;34m(.0)\u001b[0m\n\u001b[0;32m     87\u001b[0m \u001b[38;5;250m\u001b[39m\u001b[38;5;124;03m'''\u001b[39;00m\n\u001b[0;32m     88\u001b[0m \u001b[38;5;124;03mPropósito:\u001b[39;00m\n\u001b[0;32m     89\u001b[0m \u001b[38;5;124;03m    - Generar una lista de variables pertenecientes, o bien a SIAF o bien\u001b[39;00m\n\u001b[1;32m   (...)\u001b[0m\n\u001b[0;32m    101\u001b[0m \u001b[38;5;124;03m      lo espeficado en el segundo argumento de la función.\u001b[39;00m\n\u001b[0;32m    102\u001b[0m \u001b[38;5;124;03m'''\u001b[39;00m    \n\u001b[0;32m    103\u001b[0m \u001b[38;5;28;01mif\u001b[39;00m df \u001b[38;5;241m==\u001b[39m \u001b[38;5;124m\"\u001b[39m\u001b[38;5;124msiaf\u001b[39m\u001b[38;5;124m\"\u001b[39m: \n\u001b[1;32m--> 104\u001b[0m     variables \u001b[38;5;241m=\u001b[39m [ var \u001b[38;5;28;01mfor\u001b[39;00m var \u001b[38;5;129;01min\u001b[39;00m dataset\u001b[38;5;241m.\u001b[39mcolumns \u001b[38;5;28;01mif\u001b[39;00m var \u001b[38;5;129;01min\u001b[39;00m vn\u001b[38;5;241m.\u001b[39msiaf_variables ]\n\u001b[0;32m    105\u001b[0m \u001b[38;5;28;01mif\u001b[39;00m df \u001b[38;5;241m==\u001b[39m \u001b[38;5;124m\"\u001b[39m\u001b[38;5;124mrenamu\u001b[39m\u001b[38;5;124m\"\u001b[39m:\n\u001b[0;32m    106\u001b[0m     variables \u001b[38;5;241m=\u001b[39m [ var \u001b[38;5;28;01mfor\u001b[39;00m var \u001b[38;5;129;01min\u001b[39;00m dataset\u001b[38;5;241m.\u001b[39mcolumns \u001b[38;5;28;01mif\u001b[39;00m var \u001b[38;5;129;01min\u001b[39;00m vn\u001b[38;5;241m.\u001b[39mrenamu_variables ]\n",
      "\u001b[1;31mNameError\u001b[0m: name 'vn' is not defined"
     ]
    }
   ],
   "source": [
    "dfs_siaf = []\n",
    "\n",
    "for df in dfs:\n",
    "    \n",
    "    df_siaf = fun.listar_variables( df, df = \"siaf\" )\n",
    "    dfs_siaf.append( df_siaf )\n",
    "\n",
    "for i, df_siaf in enumerate( dfs_siaf ):\n",
    "    \n",
    "    print( dfs[ i ][ df_siaf ].isnull().sum().sum() )"
   ]
  },
  {
   "cell_type": "markdown",
   "id": "24e54105-ca3c-440c-860a-97982ad2a1d6",
   "metadata": {},
   "source": [
    "### 2.2 Mantener solo las variables del conjunto de entrenamiento"
   ]
  },
  {
   "cell_type": "markdown",
   "id": "0ad34439-ae26-46df-b44f-d5ca41c0a8c7",
   "metadata": {},
   "source": [
    "Se mantienen solo las variables del conjunto de entrenamiento con el que fueron entrenados los modelos"
   ]
  },
  {
   "cell_type": "code",
   "execution_count": 25,
   "id": "a5b66ff2-3f39-407d-b95b-512fc9db89e3",
   "metadata": {},
   "outputs": [],
   "source": [
    "for i in range( 14 ):\n",
    "    \n",
    "    if i <= 2:\n",
    "        dfs[ i ].name = f'base0_200{ 7 + i }'   \n",
    "    else: \n",
    "        dfs[ i ].name = f'base0_20{ 7 + i }'"
   ]
  },
  {
   "cell_type": "code",
   "execution_count": 26,
   "id": "d29545ca-4318-49d7-8a71-ffe1fc877437",
   "metadata": {
    "tags": []
   },
   "outputs": [
    {
     "name": "stdout",
     "output_type": "stream",
     "text": [
      "base0_2007 (1830, 18292)\n",
      "base0_2008 (1830, 18292)\n",
      "base0_2009 (1834, 18292)\n",
      "base0_2010 (1834, 18292)\n",
      "base0_2011 (1837, 18292)\n",
      "base0_2012 (1838, 18292)\n",
      "base0_2013 (1838, 18292)\n",
      "base0_2014 (1847, 18292)\n",
      "base0_2015 (1855, 18292)\n",
      "base0_2016 (1874, 18292)\n",
      "base0_2017 (1876, 18292)\n",
      "base0_2018 (1874, 18292)\n",
      "base0_2019 (1874, 18292)\n",
      "base0_2020 (1874, 18292)\n"
     ]
    }
   ],
   "source": [
    "fun.determinar_dimensiones( dfs )"
   ]
  },
  {
   "cell_type": "code",
   "execution_count": 27,
   "id": "e65cfc77-15e5-4413-92b9-bec844fc163d",
   "metadata": {
    "tags": []
   },
   "outputs": [],
   "source": [
    "path      = r'..\\..\\code\\prediction\\colnames_b0_ci_siaf.xlsx'\n",
    "plus_vars = [ 'ubigeo', 'year' ]\n",
    "\n",
    "for i, df in enumerate( dfs ):\n",
    "    dfs[ i ] = fun.filtro_vars( df, path, plus_vars )"
   ]
  },
  {
   "cell_type": "code",
   "execution_count": 28,
   "id": "18c4b290-6f5f-46ae-94d1-cd33715c9a2e",
   "metadata": {
    "tags": []
   },
   "outputs": [],
   "source": [
    "for i in range( 14 ):\n",
    "    \n",
    "    if i <= 2:\n",
    "        dfs[ i ].name = f'base0_200{ 7 + i }'   \n",
    "    else: \n",
    "        dfs[ i ].name = f'base0_20{ 7 + i }'"
   ]
  },
  {
   "cell_type": "code",
   "execution_count": 29,
   "id": "19836f09-4d6e-47bd-a871-c76eacfdf41b",
   "metadata": {
    "tags": []
   },
   "outputs": [
    {
     "name": "stdout",
     "output_type": "stream",
     "text": [
      "base0_2007 (1830, 14734)\n",
      "base0_2008 (1830, 14734)\n",
      "base0_2009 (1834, 14734)\n",
      "base0_2010 (1834, 14734)\n",
      "base0_2011 (1837, 14734)\n",
      "base0_2012 (1838, 14734)\n",
      "base0_2013 (1838, 14734)\n",
      "base0_2014 (1847, 14734)\n",
      "base0_2015 (1855, 14734)\n",
      "base0_2016 (1874, 14734)\n",
      "base0_2017 (1876, 14734)\n",
      "base0_2018 (1874, 14734)\n",
      "base0_2019 (1874, 14734)\n",
      "base0_2020 (1874, 14734)\n"
     ]
    }
   ],
   "source": [
    "fun.determinar_dimensiones( dfs )"
   ]
  },
  {
   "cell_type": "code",
   "execution_count": 30,
   "id": "cf11e3a2-1ff6-4f04-945d-9ee4956a6bb6",
   "metadata": {
    "tags": []
   },
   "outputs": [
    {
     "data": {
      "text/plain": [
       "0       2007.0\n",
       "1       2007.0\n",
       "2       2007.0\n",
       "3       2007.0\n",
       "4       2007.0\n",
       "         ...  \n",
       "1825    2007.0\n",
       "1826    2007.0\n",
       "1827    2007.0\n",
       "1828    2007.0\n",
       "1829    2007.0\n",
       "Name: year, Length: 1830, dtype: object"
      ]
     },
     "execution_count": 30,
     "metadata": {},
     "output_type": "execute_result"
    }
   ],
   "source": [
    "dfs[ 0 ][ 'year' ]"
   ]
  },
  {
   "cell_type": "markdown",
   "id": "e0c0973d-f18f-44d7-b4c3-e339f4b32319",
   "metadata": {},
   "source": [
    "### 2.3. Imputación con media y con moda"
   ]
  },
  {
   "cell_type": "markdown",
   "id": "8daee782-3c53-442b-87e6-ce7f74a4631e",
   "metadata": {},
   "source": [
    "Se imputa las variables pertenecientes a Renamu. Las variables numéricas se imputan con media, y las variables categóricas con moda."
   ]
  },
  {
   "cell_type": "code",
   "execution_count": 31,
   "id": "dfc96bad-a9da-402c-af4b-f9bbef065185",
   "metadata": {},
   "outputs": [],
   "source": [
    "for i, df in enumerate( dfs ):\n",
    "    dfs[ i ] = fun.imputar_ii( dfs[ i ], vn.renamu_numvars, num = True, dummy = False )\n",
    "    dfs[ i ] = fun.imputar_ii( dfs[ i ], vn.renamu_catvars, num = False, dummy = False )"
   ]
  },
  {
   "cell_type": "markdown",
   "id": "be890548-266d-4c58-9d68-3f240773be0d",
   "metadata": {},
   "source": [
    "Se verifica que las variables pertenecientes a Renamu ya no tengan valores perdidos"
   ]
  },
  {
   "cell_type": "code",
   "execution_count": 32,
   "id": "05ebc175-7f88-4ef5-ae15-0bb7a4a079e4",
   "metadata": {},
   "outputs": [],
   "source": [
    "# df0_renamu = fun.listar_variables( dfs[ 0 ], df = \"renamu\" )\n",
    "# df1_renamu = fun.listar_variables( dfs[ 1 ], df = \"renamu\" )\n",
    "# df2_renamu = fun.listar_variables( dfs[ 2 ], df = \"renamu\" )\n",
    "# df3_renamu = fun.listar_variables( dfs[ 3 ], df = \"renamu\" )\n",
    "# df4_renamu = fun.listar_variables( dfs[ 4 ], df = \"renamu\" )\n",
    "\n",
    "# print( dfs[ 0 ][ df0_renamu ].isnull().sum().sum(),\n",
    "#        dfs[ 1 ][ df1_renamu ].isnull().sum().sum(),\n",
    "#        dfs[ 2 ][ df1_renamu ].isnull().sum().sum(),\n",
    "#        dfs[ 3 ][ df1_renamu ].isnull().sum().sum(),\n",
    "#        dfs[ 4 ][ df1_renamu ].isnull().sum().sum(), sep = \"\\n\" )"
   ]
  },
  {
   "cell_type": "code",
   "execution_count": 33,
   "id": "f6dadbad-dfeb-4e43-9f6b-e8a0e2e66327",
   "metadata": {
    "tags": []
   },
   "outputs": [
    {
     "data": {
      "text/plain": [
       "0"
      ]
     },
     "execution_count": 33,
     "metadata": {},
     "output_type": "execute_result"
    }
   ],
   "source": [
    "dfs[ 0 ].isnull().sum().sum()"
   ]
  },
  {
   "cell_type": "markdown",
   "id": "ce8ac0b1-fef5-451a-aa8c-d4c3b31d79cb",
   "metadata": {},
   "source": [
    "### 2.5. Eliminar filas de aquellas columnas con valores perdidos"
   ]
  },
  {
   "cell_type": "markdown",
   "id": "43f635f4-9c38-49f7-a584-a1f2c144bc7f",
   "metadata": {},
   "source": [
    "Se verifica la dimensionalidad de las bases de datos"
   ]
  },
  {
   "cell_type": "code",
   "execution_count": 34,
   "id": "c9dd02f5-6c74-4627-bf55-437a11838380",
   "metadata": {},
   "outputs": [
    {
     "name": "stdout",
     "output_type": "stream",
     "text": [
      "base0_2007 (1830, 14734)\n",
      "base0_2008 (1830, 14734)\n",
      "base0_2009 (1834, 14734)\n",
      "base0_2010 (1834, 14734)\n",
      "base0_2011 (1837, 14734)\n",
      "base0_2012 (1838, 14734)\n",
      "base0_2013 (1838, 14734)\n",
      "base0_2014 (1847, 14734)\n",
      "base0_2015 (1855, 14734)\n",
      "base0_2016 (1874, 14734)\n",
      "base0_2017 (1876, 14734)\n",
      "base0_2018 (1874, 14734)\n",
      "base0_2019 (1874, 14734)\n",
      "base0_2020 (1874, 14734)\n"
     ]
    }
   ],
   "source": [
    "for i in range( 14 ):\n",
    "    \n",
    "    if i <= 2:\n",
    "        dfs[ i ].name = f'base0_200{ 7 + i }'   \n",
    "    else: \n",
    "        dfs[ i ].name = f'base0_20{ 7 + i }'\n",
    "\n",
    "fun.determinar_dimensiones( dfs )"
   ]
  },
  {
   "cell_type": "markdown",
   "id": "e97643c5-7aa1-4000-a8c7-c0381de63dbe",
   "metadata": {},
   "source": [
    "Se verifica la lista de variables con valores perdidos"
   ]
  },
  {
   "cell_type": "code",
   "execution_count": 22,
   "id": "30c6d1b7-a8ea-4416-9c7e-2398a9bbaabf",
   "metadata": {},
   "outputs": [
    {
     "name": "stdout",
     "output_type": "stream",
     "text": [
      "['sharevotprim', 'margvictory', 'Qpolitical', 'vototal']\n",
      "['sharevotprim', 'margvictory', 'Qpolitical', 'vototal']\n",
      "['sharevotprim', 'margvictory', 'Qpolitical', 'vototal']\n",
      "['sharevotprim', 'margvictory', 'Qpolitical', 'vototal']\n",
      "['sharevotprim', 'margvictory', 'Qpolitical', 'vototal']\n"
     ]
    }
   ],
   "source": [
    "# missing_vars_0 = [ var for var in dfs[ 0 ].columns if dfs[ 0 ][ var ].isnull().any() ]\n",
    "# missing_vars_1 = [ var for var in dfs[ 1 ].columns if dfs[ 1 ][ var ].isnull().any() ]\n",
    "# missing_vars_2 = [ var for var in dfs[ 2 ].columns if dfs[ 2 ][ var ].isnull().any() ]\n",
    "# missing_vars_3 = [ var for var in dfs[ 3 ].columns if dfs[ 3 ][ var ].isnull().any() ]\n",
    "# missing_vars_4 = [ var for var in dfs[ 4 ].columns if dfs[ 4 ][ var ].isnull().any() ]\n",
    "\n",
    "# print( missing_vars_0,\n",
    "#        missing_vars_1,\n",
    "#        missing_vars_2,\n",
    "#        missing_vars_3,\n",
    "#        missing_vars_4, sep = \"\\n\" )"
   ]
  },
  {
   "cell_type": "code",
   "execution_count": 38,
   "id": "883dfd96-96b7-4766-86b2-201a12fb94c0",
   "metadata": {
    "collapsed": true,
    "jupyter": {
     "outputs_hidden": true
    },
    "tags": []
   },
   "outputs": [
    {
     "name": "stdout",
     "output_type": "stream",
     "text": [
      "[]\n",
      "[]\n",
      "[]\n",
      "[]\n",
      "[]\n",
      "[]\n",
      "[]\n",
      "[]\n",
      "[]\n",
      "[]\n",
      "[]\n",
      "[]\n",
      "[]\n",
      "[]\n"
     ]
    }
   ],
   "source": [
    "missing_vars_list = []\n",
    "\n",
    "for df in dfs:\n",
    "    missing_vars = [var for var in df.columns if df[var].isnull().any()]\n",
    "    missing_vars_list.append(missing_vars)\n",
    "\n",
    "for missing_vars in missing_vars_list:\n",
    "    print(missing_vars)"
   ]
  },
  {
   "cell_type": "markdown",
   "id": "49819994-d056-4ec0-9df9-2562d9195a1d",
   "metadata": {},
   "source": [
    "Se verifica el numero de valores perdidos por base"
   ]
  },
  {
   "cell_type": "code",
   "execution_count": 23,
   "id": "b3c44368-4649-4151-aac1-d326cac15c40",
   "metadata": {},
   "outputs": [
    {
     "name": "stdout",
     "output_type": "stream",
     "text": [
      "192\n",
      "200\n",
      "24\n",
      "24\n",
      "24\n"
     ]
    }
   ],
   "source": [
    "# print( dfs[ 0 ].isnull().sum().sum(),\n",
    "#        dfs[ 1 ].isnull().sum().sum(),\n",
    "#        dfs[ 2 ].isnull().sum().sum(),\n",
    "#        dfs[ 3 ].isnull().sum().sum(),\n",
    "#        dfs[ 4 ].isnull().sum().sum(), sep = \"\\n\" )"
   ]
  },
  {
   "cell_type": "code",
   "execution_count": 36,
   "id": "97874f66-abc0-4c77-96a2-d16b7d046dd9",
   "metadata": {
    "tags": []
   },
   "outputs": [
    {
     "name": "stdout",
     "output_type": "stream",
     "text": [
      "0\n",
      "0\n",
      "0\n",
      "0\n",
      "0\n",
      "0\n",
      "0\n",
      "0\n",
      "0\n",
      "0\n",
      "0\n",
      "0\n",
      "0\n",
      "0\n"
     ]
    }
   ],
   "source": [
    "for df in dfs:\n",
    "    total_nulls = df.isnull().sum().sum()\n",
    "    print( total_nulls )"
   ]
  },
  {
   "cell_type": "markdown",
   "id": "ce3bc154-e61f-4ccf-8a8f-3bb8682e8525",
   "metadata": {},
   "source": [
    "Se eliminan las filas con valores perdidos"
   ]
  },
  {
   "cell_type": "code",
   "execution_count": 40,
   "id": "3ef78858-3d6f-4fb8-8f3d-a77bd1251fa1",
   "metadata": {},
   "outputs": [],
   "source": [
    "# for i, df in enumerate( dfs ):\n",
    "#     dfs[ i ] = fun.drop_missing_rows( dfs[ i ], missing_vars_1 )"
   ]
  },
  {
   "cell_type": "markdown",
   "id": "2836139c-e472-47d0-8cc4-02bd2a925115",
   "metadata": {},
   "source": [
    "Se verifica la dimensionalidad de las bases de datos"
   ]
  },
  {
   "cell_type": "code",
   "execution_count": 41,
   "id": "e87dff58-c37c-41b7-8075-8a3aa2e4b9e3",
   "metadata": {},
   "outputs": [
    {
     "name": "stdout",
     "output_type": "stream",
     "text": [
      "base0_2007 (1830, 14734)\n",
      "base0_2008 (1830, 14734)\n",
      "base0_2009 (1834, 14734)\n",
      "base0_2010 (1834, 14734)\n",
      "base0_2011 (1837, 14734)\n",
      "base0_2012 (1838, 14734)\n",
      "base0_2013 (1838, 14734)\n",
      "base0_2014 (1847, 14734)\n",
      "base0_2015 (1855, 14734)\n",
      "base0_2016 (1874, 14734)\n",
      "base0_2017 (1876, 14734)\n",
      "base0_2018 (1874, 14734)\n",
      "base0_2019 (1874, 14734)\n",
      "base0_2020 (1874, 14734)\n"
     ]
    }
   ],
   "source": [
    "for i in range( 14 ):\n",
    "    \n",
    "    if i <= 2:\n",
    "        dfs[ i ].name = f'base0_200{ 7 + i }'   \n",
    "    else: \n",
    "        dfs[ i ].name = f'base0_20{ 7 + i }'\n",
    "\n",
    "fun.determinar_dimensiones( dfs )"
   ]
  },
  {
   "cell_type": "code",
   "execution_count": null,
   "id": "7a646189-3377-4a1f-a582-af2486ef543f",
   "metadata": {},
   "outputs": [],
   "source": [
    "# print( dfs[ 0 ].isnull().sum().sum(),\n",
    "#        dfs[ 1 ].isnull().sum().sum(),\n",
    "#        dfs[ 2 ].isnull().sum().sum(),\n",
    "#        dfs[ 3 ].isnull().sum().sum(),\n",
    "#        dfs[ 3 ].isnull().sum().sum(), sep = \"\\n\" )"
   ]
  },
  {
   "cell_type": "code",
   "execution_count": 42,
   "id": "ba62e3c0-639a-444c-875a-a8d0a2882934",
   "metadata": {
    "tags": []
   },
   "outputs": [
    {
     "name": "stdout",
     "output_type": "stream",
     "text": [
      "0\n",
      "0\n",
      "0\n",
      "0\n",
      "0\n",
      "0\n",
      "0\n",
      "0\n",
      "0\n",
      "0\n",
      "0\n",
      "0\n",
      "0\n",
      "0\n"
     ]
    }
   ],
   "source": [
    "for df in dfs:\n",
    "    total_nulls = df.isnull().sum().sum()\n",
    "    print( total_nulls )"
   ]
  },
  {
   "cell_type": "markdown",
   "id": "66a18d80-b011-4d19-9e5f-babcff80ee1b",
   "metadata": {},
   "source": [
    "### 2.6. Imputar outliers"
   ]
  },
  {
   "cell_type": "markdown",
   "id": "4b2ed84b-701a-4f2b-9bb1-df8a355a8d21",
   "metadata": {},
   "source": [
    "Se imputa los valores del percentil 1% superior con los valores del percentil 99% para cada una de las variables de SIAF"
   ]
  },
  {
   "cell_type": "code",
   "execution_count": 43,
   "id": "6367df69-2b33-42c4-97f7-917c68eaf4b7",
   "metadata": {
    "tags": []
   },
   "outputs": [],
   "source": [
    "for i, df in enumerate( dfs ):\n",
    "    dfs[ i ] = fun.imputar_outliers( dfs[ i ], vn.siaf_variables, 0.01 )"
   ]
  },
  {
   "cell_type": "markdown",
   "id": "71d32628-6e7e-4a14-9028-5cbaa93f9c57",
   "metadata": {},
   "source": [
    "### 2.7. Transformaciones logarítmicas"
   ]
  },
  {
   "cell_type": "markdown",
   "id": "cf606990-deec-4802-b597-877b911c4a53",
   "metadata": {},
   "source": [
    "Se identifica las variables negativas de SIAF y se les divide entre un millón. "
   ]
  },
  {
   "cell_type": "code",
   "execution_count": 44,
   "id": "666ff3f6-a043-46f0-a6a4-910b8b81ee5c",
   "metadata": {
    "tags": []
   },
   "outputs": [],
   "source": [
    "vars_no_mod      = [ 'ubigeo', 'year' ]\n",
    "vars_no_mod_full = vn.dependientes_variables + vars_no_mod"
   ]
  },
  {
   "cell_type": "code",
   "execution_count": 45,
   "id": "fc3b309c-cfa5-45b1-8f24-bc0aeaab9e19",
   "metadata": {},
   "outputs": [],
   "source": [
    "for i, df in enumerate( dfs ):\n",
    "    dfs[ i ] = fun.dividir_variables_negativas( dfs[ i ], 1_000_000, vars_no_mod_full )"
   ]
  },
  {
   "cell_type": "markdown",
   "id": "4d2c89f1-2bae-4f32-b1c2-3034a1690102",
   "metadata": {},
   "source": [
    "Se crea una nueva lista de variables que no serán modificadas, que incluye a \"year\", \"ubigeo\" y las variables dependientes categóricas"
   ]
  },
  {
   "cell_type": "code",
   "execution_count": 46,
   "id": "b3dedccf-d342-4c78-9c18-ec18d48bf241",
   "metadata": {},
   "outputs": [],
   "source": [
    "num_predictores = vn.siaf_variables + vn.dependientes_numericas\n",
    "vars_no_mod_2   = vars_no_mod + vn.dependientes_categoricas"
   ]
  },
  {
   "cell_type": "markdown",
   "id": "5f219a44-ac10-4063-ba57-983fc9abd98e",
   "metadata": {},
   "source": [
    "Se realiza una transformación logarítmica a todas las variables pertenecientes a SIAF que no son negativas."
   ]
  },
  {
   "cell_type": "code",
   "execution_count": 47,
   "id": "6cc12dbd-25a3-412c-b154-e41caf68064c",
   "metadata": {
    "tags": []
   },
   "outputs": [],
   "source": [
    "for i, df in enumerate( dfs ):\n",
    "    dfs[ i ] = fun.transformacion_log( dfs[ i ], num_predictores, vars_no_mod_2 )"
   ]
  },
  {
   "cell_type": "markdown",
   "id": "018b8da3-c94e-4e7b-a04e-4a70f2c70437",
   "metadata": {
    "tags": []
   },
   "source": [
    "Se verifica el numero de variables por fuente de cada base luego del paso 2.7."
   ]
  },
  {
   "cell_type": "code",
   "execution_count": 48,
   "id": "d918a962-4451-4845-bb8b-77ad4cbf2550",
   "metadata": {},
   "outputs": [
    {
     "name": "stdout",
     "output_type": "stream",
     "text": [
      "base0_2007 (1830, 14734)\n",
      "base0_2008 (1830, 14734)\n",
      "base0_2009 (1834, 14734)\n",
      "base0_2010 (1834, 14734)\n",
      "base0_2011 (1837, 14734)\n",
      "base0_2012 (1838, 14734)\n",
      "base0_2013 (1838, 14734)\n",
      "base0_2014 (1847, 14734)\n",
      "base0_2015 (1855, 14734)\n",
      "base0_2016 (1874, 14734)\n",
      "base0_2017 (1876, 14734)\n",
      "base0_2018 (1874, 14734)\n",
      "base0_2019 (1874, 14734)\n",
      "base0_2020 (1874, 14734)\n"
     ]
    }
   ],
   "source": [
    "for i in range( 14 ):\n",
    "    \n",
    "    if i <= 2:\n",
    "        dfs[ i ].name = f'base0_200{ 7 + i }'   \n",
    "    else: \n",
    "        dfs[ i ].name = f'base0_20{ 7 + i }'\n",
    "\n",
    "fun.determinar_dimensiones( dfs )"
   ]
  },
  {
   "cell_type": "code",
   "execution_count": 50,
   "id": "f04e5c52-cb37-40ad-851f-acfbd6491675",
   "metadata": {
    "tags": []
   },
   "outputs": [],
   "source": [
    "# fun.contar_variables( dfs )"
   ]
  },
  {
   "cell_type": "code",
   "execution_count": 51,
   "id": "8f175024-782b-4325-a420-eb05d4ceb0f2",
   "metadata": {
    "tags": []
   },
   "outputs": [
    {
     "data": {
      "text/plain": [
       "dtype('O')"
      ]
     },
     "execution_count": 51,
     "metadata": {},
     "output_type": "execute_result"
    }
   ],
   "source": [
    "dfs[ 0 ][ 'year' ].dtype"
   ]
  },
  {
   "cell_type": "markdown",
   "id": "388b25e3-36df-4701-9ded-8cc9b4eb6d7c",
   "metadata": {},
   "source": [
    "### 2.7. Exportar las bases de datos"
   ]
  },
  {
   "cell_type": "code",
   "execution_count": 34,
   "id": "e6a599a4-e750-4273-bbc4-b673c3c48909",
   "metadata": {},
   "outputs": [],
   "source": [
    "dfs[ 0 ].to_csv( r'..\\..\\input\\prediction_data\\base0_ci\\preprocessed_data\\base0_2016.csv', index = False )\n",
    "dfs[ 1 ].to_csv( r'..\\..\\input\\prediction_data\\base0_ci\\preprocessed_data\\base0_2017.csv', index = False )\n",
    "dfs[ 2 ].to_csv( r'..\\..\\input\\prediction_data\\base0_ci\\preprocessed_data\\base0_2018.csv', index = False )\n",
    "dfs[ 3 ].to_csv( r'..\\..\\input\\prediction_data\\base0_ci\\preprocessed_data\\base0_2019.csv', index = False )\n",
    "dfs[ 4 ].to_csv( r'..\\..\\input\\prediction_data\\base0_ci\\preprocessed_data\\base0_2020.csv', index = False )"
   ]
  },
  {
   "cell_type": "code",
   "execution_count": 55,
   "id": "3730810e-0d26-4bd0-9270-d48d011ac435",
   "metadata": {
    "tags": []
   },
   "outputs": [],
   "source": [
    "for i, year in enumerate( range( 2007, 2021 ) ):\n",
    "    \n",
    "    file_name = rf'..\\..\\input\\prediction_data\\ejecucion_6\\b0_ci_siaf\\preprocessed_data\\base0_{ year }.csv'\n",
    "    dfs[ i ].to_csv( file_name, index = False )"
   ]
  },
  {
   "cell_type": "code",
   "execution_count": null,
   "id": "df7e7f25-f546-479c-b36b-592f5e8b9552",
   "metadata": {},
   "outputs": [],
   "source": [
    "# for i, year in enumerate(range(2016, 2021)):\n",
    "#     # Construir el nombre del archivo con el año correspondiente\n",
    "#     file_name = rf'..\\..\\input\\prediction_data\\base0_ci\\preprocessed_data\\base0_{year}.csv'\n",
    "#     # Guardar el dataframe en un archivo CSV\n",
    "#     dfs[i].to_csv(file_name, index=False)"
   ]
  }
 ],
 "metadata": {
  "kernelspec": {
   "display_name": "Python 3 (ipykernel)",
   "language": "python",
   "name": "python3"
  },
  "language_info": {
   "codemirror_mode": {
    "name": "ipython",
    "version": 3
   },
   "file_extension": ".py",
   "mimetype": "text/x-python",
   "name": "python",
   "nbconvert_exporter": "python",
   "pygments_lexer": "ipython3",
   "version": "3.11.5"
  }
 },
 "nbformat": 4,
 "nbformat_minor": 5
}
