{
 "cells": [
  {
   "cell_type": "markdown",
   "id": "e2313018-4985-4133-8753-015f7e961d92",
   "metadata": {},
   "source": [
    "* Base de datos: 2016-2020\n",
    "* Tipo corrupción: Intensa"
   ]
  },
  {
   "cell_type": "markdown",
   "id": "4ba6f58f-fcad-4f2f-a374-ee889fecff46",
   "metadata": {},
   "source": [
    "## 1. Cargar datos"
   ]
  },
  {
   "cell_type": "code",
   "execution_count": 1,
   "id": "b3fa88cf-49b8-466b-87d9-9635cef5e069",
   "metadata": {
    "tags": []
   },
   "outputs": [],
   "source": [
    "import warnings\n",
    "warnings.filterwarnings( 'ignore' )"
   ]
  },
  {
   "cell_type": "code",
   "execution_count": 2,
   "id": "ec338cb3-06de-42cb-835b-c9bd6ce181de",
   "metadata": {
    "tags": []
   },
   "outputs": [],
   "source": [
    "import pandas as pd\n",
    "import numpy as np\n",
    "import pickle\n",
    "import joblib\n",
    "from glob import glob"
   ]
  },
  {
   "cell_type": "code",
   "execution_count": 3,
   "id": "b4d0553e-7695-4802-8f68-d6414426b4c7",
   "metadata": {
    "tags": []
   },
   "outputs": [],
   "source": [
    "path      = r'..\\..\\input\\prediction_data\\base0_ci\\preprocessed_data\\*.csv'\n",
    "path_list = glob( path )\n",
    "dfs       = []\n",
    "\n",
    "for i, base in enumerate( path_list ):\n",
    "    df = pd.read_csv( base, dtype = { 'ubigeo': str, 'year': str } )\n",
    "    dfs.append( df )"
   ]
  },
  {
   "cell_type": "markdown",
   "id": "fb09f8cd-134f-4db0-b441-0b05be68c7bf",
   "metadata": {},
   "source": [
    "## 2. Hacer predicciones"
   ]
  },
  {
   "cell_type": "code",
   "execution_count": 4,
   "id": "d7ee7e49-21a3-455e-924e-818aada51997",
   "metadata": {
    "tags": []
   },
   "outputs": [],
   "source": [
    "optimal_model = joblib.load( r'..\\..\\output\\ejecucion_5\\models\\base0\\model_ci_Random Forest Classifier_3.joblib' )"
   ]
  },
  {
   "cell_type": "code",
   "execution_count": 5,
   "id": "99a086a7-5028-4f51-ab28-53872be21937",
   "metadata": {},
   "outputs": [],
   "source": [
    "for i, df in enumerate( dfs ):\n",
    "    \n",
    "    ubigeo_column                       = dfs[ i ][ 'ubigeo' ].copy()\n",
    "    year_column                         = dfs[ i ][ 'year' ].copy()\n",
    "    dfs[ i ]                            = dfs[ i ].drop( [ 'ubigeo', 'year' ], axis = 1 )\n",
    "    \n",
    "    y_pred_class_o                       = optimal_model.predict( dfs[ i ] )\n",
    "    y_pred_prob_o                        = optimal_model.predict_proba( dfs[ i ] )[ :, 1 ]  \n",
    "    dfs[ i ][ 'prob_ci' ]                = y_pred_prob_o\n",
    "    dfs[ i ][ 'class_ci_default' ]       = y_pred_class_o\n",
    "    dfs[ i ][ 'class_ci_calculated_50' ] = dfs[ i ][ 'prob_ci' ].apply( lambda x: 1 if x > 0.5 else 0 )\n",
    "    dfs[ i ][ 'class_ci_calculated_60' ] = dfs[ i ][ 'prob_ci' ].apply( lambda x: 1 if x > 0.6 else 0 )\n",
    "    dfs[ i ][ 'class_ci_100' ]           = ( dfs[ i ][ 'prob_ci' ].rank( ascending = False, method = 'first' ) <= 100 ).astype( int )\n",
    "    \n",
    "    dfs[ i ][ 'ubigeo' ]                = ubigeo_column\n",
    "    dfs[ i ][ 'year' ]                  = year_column\n",
    "    \n",
    "    dfs[ i ]                            = dfs[ i ][ [ 'ubigeo', 'year', 'prob_ci', 'class_ci_default', \n",
    "                                                      'class_ci_calculated_50', 'class_ci_calculated_60',\n",
    "                                                      'class_ci_100' ] ]"
   ]
  },
  {
   "cell_type": "code",
   "execution_count": 6,
   "id": "8a147f3f-5b54-4f45-9905-57dc84c75536",
   "metadata": {
    "tags": []
   },
   "outputs": [],
   "source": [
    "complete_base = pd.concat( dfs, axis = 0 )"
   ]
  },
  {
   "cell_type": "markdown",
   "id": "d71a16ab-3746-4a38-8e07-bc0dbf4ae6f2",
   "metadata": {},
   "source": [
    "## 3. Exportar datos"
   ]
  },
  {
   "cell_type": "code",
   "execution_count": 7,
   "id": "2c8dcbde-88ed-45a9-a58a-015bb0d06524",
   "metadata": {
    "tags": []
   },
   "outputs": [],
   "source": [
    "complete_base.to_csv( r'..\\..\\input\\prediction_data\\base0_ci\\predicted_data\\base0_complete.csv', index = False )"
   ]
  },
  {
   "cell_type": "code",
   "execution_count": 8,
   "id": "965da1a0-bd95-4cde-8060-71ddb6519113",
   "metadata": {},
   "outputs": [],
   "source": [
    "dfs[ 0 ].to_csv( r'..\\..\\input\\prediction_data\\base0_ci\\predicted_data\\base0_2016.csv', index = False )\n",
    "dfs[ 1 ].to_csv( r'..\\..\\input\\prediction_data\\base0_ci\\predicted_data\\base0_2017.csv', index = False )\n",
    "dfs[ 2 ].to_csv( r'..\\..\\input\\prediction_data\\base0_ci\\predicted_data\\base0_2018.csv', index = False )\n",
    "dfs[ 3 ].to_csv( r'..\\..\\input\\prediction_data\\base0_ci\\predicted_data\\base0_2019.csv', index = False )\n",
    "dfs[ 4 ].to_csv( r'..\\..\\input\\prediction_data\\base0_ci\\predicted_data\\base0_2020.csv', index = False )"
   ]
  }
 ],
 "metadata": {
  "kernelspec": {
   "display_name": "Python 3 (ipykernel)",
   "language": "python",
   "name": "python3"
  },
  "language_info": {
   "codemirror_mode": {
    "name": "ipython",
    "version": 3
   },
   "file_extension": ".py",
   "mimetype": "text/x-python",
   "name": "python",
   "nbconvert_exporter": "python",
   "pygments_lexer": "ipython3",
   "version": "3.11.4"
  }
 },
 "nbformat": 4,
 "nbformat_minor": 5
}
