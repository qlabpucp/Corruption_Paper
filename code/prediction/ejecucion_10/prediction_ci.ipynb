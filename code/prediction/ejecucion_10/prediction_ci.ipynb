{
 "cells": [
  {
   "cell_type": "markdown",
   "id": "e2313018-4985-4133-8753-015f7e961d92",
   "metadata": {},
   "source": [
    "* Base de datos: 2016-2020\n",
    "* Tipo corrupción: Intensa"
   ]
  },
  {
   "cell_type": "markdown",
   "id": "4ba6f58f-fcad-4f2f-a374-ee889fecff46",
   "metadata": {},
   "source": [
    "## 1. Cargar datos"
   ]
  },
  {
   "cell_type": "code",
   "execution_count": 1,
   "id": "b3fa88cf-49b8-466b-87d9-9635cef5e069",
   "metadata": {
    "tags": []
   },
   "outputs": [],
   "source": [
    "import warnings\n",
    "warnings.filterwarnings( 'ignore' )"
   ]
  },
  {
   "cell_type": "code",
   "execution_count": 2,
   "id": "ec338cb3-06de-42cb-835b-c9bd6ce181de",
   "metadata": {
    "tags": []
   },
   "outputs": [],
   "source": [
    "import pandas as pd\n",
    "import numpy as np\n",
    "import pickle\n",
    "import joblib\n",
    "from glob import glob"
   ]
  },
  {
   "cell_type": "code",
   "execution_count": 3,
   "id": "b4d0553e-7695-4802-8f68-d6414426b4c7",
   "metadata": {
    "tags": []
   },
   "outputs": [],
   "source": [
    "path      = r'..\\..\\..\\input\\prediction_data\\ejecucion_10\\b0\\preprocessed_data\\*.csv'\n",
    "path_list = glob( path )\n",
    "dfs       = []\n",
    "\n",
    "for i, base in enumerate( path_list ):\n",
    "    df = pd.read_csv( base, dtype = { 'ubigeo': str, 'year': str } )\n",
    "    dfs.append( df )"
   ]
  },
  {
   "cell_type": "markdown",
   "id": "fb09f8cd-134f-4db0-b441-0b05be68c7bf",
   "metadata": {},
   "source": [
    "## 2. Hacer predicciones para Corrupción Intensa"
   ]
  },
  {
   "cell_type": "code",
   "execution_count": 4,
   "id": "d7ee7e49-21a3-455e-924e-818aada51997",
   "metadata": {
    "tags": []
   },
   "outputs": [
    {
     "ename": "TypeError",
     "evalue": "__randomstate_ctor() takes from 0 to 1 positional arguments but 2 were given",
     "output_type": "error",
     "traceback": [
      "\u001b[1;31m---------------------------------------------------------------------------\u001b[0m",
      "\u001b[1;31mTypeError\u001b[0m                                 Traceback (most recent call last)",
      "Cell \u001b[1;32mIn[4], line 1\u001b[0m\n\u001b[1;32m----> 1\u001b[0m optimal_model \u001b[38;5;241m=\u001b[39m \u001b[43mjoblib\u001b[49m\u001b[38;5;241;43m.\u001b[39;49m\u001b[43mload\u001b[49m\u001b[43m(\u001b[49m\u001b[43m \u001b[49m\u001b[38;5;124;43mr\u001b[39;49m\u001b[38;5;124;43m'\u001b[39;49m\u001b[38;5;124;43m..\u001b[39;49m\u001b[38;5;124;43m\\\u001b[39;49m\u001b[38;5;124;43m..\u001b[39;49m\u001b[38;5;124;43m\\\u001b[39;49m\u001b[38;5;124;43m..\u001b[39;49m\u001b[38;5;124;43m\\\u001b[39;49m\u001b[38;5;124;43moutput\u001b[39;49m\u001b[38;5;124;43m\\\u001b[39;49m\u001b[38;5;124;43mejecucion_10\u001b[39;49m\u001b[38;5;124;43m\\\u001b[39;49m\u001b[38;5;124;43mmodels\u001b[39;49m\u001b[38;5;124;43m\\\u001b[39;49m\u001b[38;5;124;43mmodel_ci_Regression Forest_nro.joblib\u001b[39;49m\u001b[38;5;124;43m'\u001b[39;49m\u001b[43m \u001b[49m\u001b[43m)\u001b[49m\n",
      "File \u001b[1;32mc:\\Users\\dell\\anaconda3\\envs\\reg_forest\\lib\\site-packages\\joblib\\numpy_pickle.py:587\u001b[0m, in \u001b[0;36mload\u001b[1;34m(filename, mmap_mode)\u001b[0m\n\u001b[0;32m    581\u001b[0m             \u001b[38;5;28;01mif\u001b[39;00m \u001b[38;5;28misinstance\u001b[39m(fobj, \u001b[38;5;28mstr\u001b[39m):\n\u001b[0;32m    582\u001b[0m                 \u001b[38;5;66;03m# if the returned file object is a string, this means we\u001b[39;00m\n\u001b[0;32m    583\u001b[0m                 \u001b[38;5;66;03m# try to load a pickle file generated with an version of\u001b[39;00m\n\u001b[0;32m    584\u001b[0m                 \u001b[38;5;66;03m# Joblib so we load it with joblib compatibility function.\u001b[39;00m\n\u001b[0;32m    585\u001b[0m                 \u001b[38;5;28;01mreturn\u001b[39;00m load_compatibility(fobj)\n\u001b[1;32m--> 587\u001b[0m             obj \u001b[38;5;241m=\u001b[39m \u001b[43m_unpickle\u001b[49m\u001b[43m(\u001b[49m\u001b[43mfobj\u001b[49m\u001b[43m,\u001b[49m\u001b[43m \u001b[49m\u001b[43mfilename\u001b[49m\u001b[43m,\u001b[49m\u001b[43m \u001b[49m\u001b[43mmmap_mode\u001b[49m\u001b[43m)\u001b[49m\n\u001b[0;32m    588\u001b[0m \u001b[38;5;28;01mreturn\u001b[39;00m obj\n",
      "File \u001b[1;32mc:\\Users\\dell\\anaconda3\\envs\\reg_forest\\lib\\site-packages\\joblib\\numpy_pickle.py:506\u001b[0m, in \u001b[0;36m_unpickle\u001b[1;34m(fobj, filename, mmap_mode)\u001b[0m\n\u001b[0;32m    504\u001b[0m obj \u001b[38;5;241m=\u001b[39m \u001b[38;5;28;01mNone\u001b[39;00m\n\u001b[0;32m    505\u001b[0m \u001b[38;5;28;01mtry\u001b[39;00m:\n\u001b[1;32m--> 506\u001b[0m     obj \u001b[38;5;241m=\u001b[39m \u001b[43munpickler\u001b[49m\u001b[38;5;241;43m.\u001b[39;49m\u001b[43mload\u001b[49m\u001b[43m(\u001b[49m\u001b[43m)\u001b[49m\n\u001b[0;32m    507\u001b[0m     \u001b[38;5;28;01mif\u001b[39;00m unpickler\u001b[38;5;241m.\u001b[39mcompat_mode:\n\u001b[0;32m    508\u001b[0m         warnings\u001b[38;5;241m.\u001b[39mwarn(\u001b[38;5;124m\"\u001b[39m\u001b[38;5;124mThe file \u001b[39m\u001b[38;5;124m'\u001b[39m\u001b[38;5;132;01m%s\u001b[39;00m\u001b[38;5;124m'\u001b[39m\u001b[38;5;124m has been generated with a \u001b[39m\u001b[38;5;124m\"\u001b[39m\n\u001b[0;32m    509\u001b[0m                       \u001b[38;5;124m\"\u001b[39m\u001b[38;5;124mjoblib version less than 0.10. \u001b[39m\u001b[38;5;124m\"\u001b[39m\n\u001b[0;32m    510\u001b[0m                       \u001b[38;5;124m\"\u001b[39m\u001b[38;5;124mPlease regenerate this pickle file.\u001b[39m\u001b[38;5;124m\"\u001b[39m\n\u001b[0;32m    511\u001b[0m                       \u001b[38;5;241m%\u001b[39m filename,\n\u001b[0;32m    512\u001b[0m                       \u001b[38;5;167;01mDeprecationWarning\u001b[39;00m, stacklevel\u001b[38;5;241m=\u001b[39m\u001b[38;5;241m3\u001b[39m)\n",
      "File \u001b[1;32mc:\\Users\\dell\\anaconda3\\envs\\reg_forest\\lib\\pickle.py:1213\u001b[0m, in \u001b[0;36m_Unpickler.load\u001b[1;34m(self)\u001b[0m\n\u001b[0;32m   1211\u001b[0m             \u001b[38;5;28;01mraise\u001b[39;00m \u001b[38;5;167;01mEOFError\u001b[39;00m\n\u001b[0;32m   1212\u001b[0m         \u001b[38;5;28;01massert\u001b[39;00m \u001b[38;5;28misinstance\u001b[39m(key, bytes_types)\n\u001b[1;32m-> 1213\u001b[0m         \u001b[43mdispatch\u001b[49m\u001b[43m[\u001b[49m\u001b[43mkey\u001b[49m\u001b[43m[\u001b[49m\u001b[38;5;241;43m0\u001b[39;49m\u001b[43m]\u001b[49m\u001b[43m]\u001b[49m\u001b[43m(\u001b[49m\u001b[38;5;28;43mself\u001b[39;49m\u001b[43m)\u001b[49m\n\u001b[0;32m   1214\u001b[0m \u001b[38;5;28;01mexcept\u001b[39;00m _Stop \u001b[38;5;28;01mas\u001b[39;00m stopinst:\n\u001b[0;32m   1215\u001b[0m     \u001b[38;5;28;01mreturn\u001b[39;00m stopinst\u001b[38;5;241m.\u001b[39mvalue\n",
      "File \u001b[1;32mc:\\Users\\dell\\anaconda3\\envs\\reg_forest\\lib\\pickle.py:1590\u001b[0m, in \u001b[0;36m_Unpickler.load_reduce\u001b[1;34m(self)\u001b[0m\n\u001b[0;32m   1588\u001b[0m args \u001b[38;5;241m=\u001b[39m stack\u001b[38;5;241m.\u001b[39mpop()\n\u001b[0;32m   1589\u001b[0m func \u001b[38;5;241m=\u001b[39m stack[\u001b[38;5;241m-\u001b[39m\u001b[38;5;241m1\u001b[39m]\n\u001b[1;32m-> 1590\u001b[0m stack[\u001b[38;5;241m-\u001b[39m\u001b[38;5;241m1\u001b[39m] \u001b[38;5;241m=\u001b[39m \u001b[43mfunc\u001b[49m\u001b[43m(\u001b[49m\u001b[38;5;241;43m*\u001b[39;49m\u001b[43margs\u001b[49m\u001b[43m)\u001b[49m\n",
      "\u001b[1;31mTypeError\u001b[0m: __randomstate_ctor() takes from 0 to 1 positional arguments but 2 were given"
     ]
    }
   ],
   "source": [
    "optimal_model = joblib.load( r'..\\..\\..\\output\\ejecucion_10\\models\\model_ci_Regression Forest_nro.joblib' )"
   ]
  },
  {
   "cell_type": "code",
   "execution_count": 6,
   "id": "99a086a7-5028-4f51-ab28-53872be21937",
   "metadata": {},
   "outputs": [],
   "source": [
    "for i, df in enumerate( dfs ):\n",
    "    \n",
    "    ubigeo_column                       = dfs[ i ][ 'ubigeo' ].copy()\n",
    "    year_column                         = dfs[ i ][ 'year' ].copy()\n",
    "    dfs[ i ]                            = dfs[ i ].drop( [ 'ubigeo', 'year' ], axis = 1 )\n",
    "    \n",
    "    y_pred_default                       = optimal_model.predict( dfs[ i ] )\n",
    "    dfs[ i ][ 'default' ]                = y_pred_default\n",
    "    dfs[ i ][ 'class' ]                  = dfs[ i ][ 'prob_ci' ].apply( lambda x: 1 if x > 0.4 else 0 )   \n",
    "    dfs[ i ][ 'ubigeo' ]                = ubigeo_column\n",
    "    dfs[ i ][ 'year' ]                  = year_column\n",
    "    \n",
    "    dfs[ i ]                            = dfs[ i ][ [ 'ubigeo', 'year', 'default', 'class' ] ]"
   ]
  },
  {
   "cell_type": "code",
   "execution_count": 7,
   "id": "8a147f3f-5b54-4f45-9905-57dc84c75536",
   "metadata": {
    "tags": []
   },
   "outputs": [],
   "source": [
    "complete_base = pd.concat( dfs, axis = 0 )"
   ]
  },
  {
   "cell_type": "code",
   "execution_count": 8,
   "id": "2c8dcbde-88ed-45a9-a58a-015bb0d06524",
   "metadata": {
    "tags": []
   },
   "outputs": [],
   "source": [
    "complete_base.to_csv( r'..\\..\\input\\prediction_data\\ejecucion_10\\b0\\predicted_data\\b0_ci_predicted.csv', index = False )"
   ]
  },
  {
   "cell_type": "markdown",
   "id": "22938334",
   "metadata": {},
   "source": [
    "## 3. Hacer predicciones para Corrupción Amplia"
   ]
  },
  {
   "cell_type": "code",
   "execution_count": null,
   "id": "f383ce3a",
   "metadata": {},
   "outputs": [
    {
     "ename": "TypeError",
     "evalue": "__randomstate_ctor() takes from 0 to 1 positional arguments but 2 were given",
     "output_type": "error",
     "traceback": [
      "\u001b[1;31m---------------------------------------------------------------------------\u001b[0m\n",
      "\u001b[1;31mTypeError\u001b[0m                                 Traceback (most recent call last)\n",
      "Cell \u001b[1;32mIn[15], line 1\u001b[0m\n",
      "\u001b[1;32m----> 1\u001b[0m optimal_model \u001b[38;5;241m=\u001b[39m \u001b[43mjoblib\u001b[49m\u001b[38;5;241;43m.\u001b[39;49m\u001b[43mload\u001b[49m\u001b[43m(\u001b[49m\u001b[43m \u001b[49m\u001b[38;5;124;43mr\u001b[39;49m\u001b[38;5;124;43m'\u001b[39;49m\u001b[38;5;124;43m..\u001b[39;49m\u001b[38;5;124;43m\\\u001b[39;49m\u001b[38;5;124;43m..\u001b[39;49m\u001b[38;5;124;43m\\\u001b[39;49m\u001b[38;5;124;43m..\u001b[39;49m\u001b[38;5;124;43m\\\u001b[39;49m\u001b[38;5;124;43moutput\u001b[39;49m\u001b[38;5;124;43m\\\u001b[39;49m\u001b[38;5;124;43mejecucion_10\u001b[39;49m\u001b[38;5;124;43m\\\u001b[39;49m\u001b[38;5;124;43mmodels\u001b[39;49m\u001b[38;5;124;43m\\\u001b[39;49m\u001b[38;5;124;43mmodel_ci_Regression Forest_nro.joblib\u001b[39;49m\u001b[38;5;124;43m'\u001b[39;49m\u001b[43m \u001b[49m\u001b[43m)\u001b[49m\n",
      "\n",
      "File \u001b[1;32mc:\\Users\\dell\\anaconda3\\envs\\reg_forest\\lib\\site-packages\\joblib\\numpy_pickle.py:658\u001b[0m, in \u001b[0;36mload\u001b[1;34m(filename, mmap_mode)\u001b[0m\n",
      "\u001b[0;32m    652\u001b[0m             \u001b[38;5;28;01mif\u001b[39;00m \u001b[38;5;28misinstance\u001b[39m(fobj, \u001b[38;5;28mstr\u001b[39m):\n",
      "\u001b[0;32m    653\u001b[0m                 \u001b[38;5;66;03m# if the returned file object is a string, this means we\u001b[39;00m\n",
      "\u001b[0;32m    654\u001b[0m                 \u001b[38;5;66;03m# try to load a pickle file generated with an version of\u001b[39;00m\n",
      "\u001b[0;32m    655\u001b[0m                 \u001b[38;5;66;03m# Joblib so we load it with joblib compatibility function.\u001b[39;00m\n",
      "\u001b[0;32m    656\u001b[0m                 \u001b[38;5;28;01mreturn\u001b[39;00m load_compatibility(fobj)\n",
      "\u001b[1;32m--> 658\u001b[0m             obj \u001b[38;5;241m=\u001b[39m \u001b[43m_unpickle\u001b[49m\u001b[43m(\u001b[49m\u001b[43mfobj\u001b[49m\u001b[43m,\u001b[49m\u001b[43m \u001b[49m\u001b[43mfilename\u001b[49m\u001b[43m,\u001b[49m\u001b[43m \u001b[49m\u001b[43mmmap_mode\u001b[49m\u001b[43m)\u001b[49m\n",
      "\u001b[0;32m    659\u001b[0m \u001b[38;5;28;01mreturn\u001b[39;00m obj\n",
      "\n",
      "File \u001b[1;32mc:\\Users\\dell\\anaconda3\\envs\\reg_forest\\lib\\site-packages\\joblib\\numpy_pickle.py:577\u001b[0m, in \u001b[0;36m_unpickle\u001b[1;34m(fobj, filename, mmap_mode)\u001b[0m\n",
      "\u001b[0;32m    575\u001b[0m obj \u001b[38;5;241m=\u001b[39m \u001b[38;5;28;01mNone\u001b[39;00m\n",
      "\u001b[0;32m    576\u001b[0m \u001b[38;5;28;01mtry\u001b[39;00m:\n",
      "\u001b[1;32m--> 577\u001b[0m     obj \u001b[38;5;241m=\u001b[39m \u001b[43munpickler\u001b[49m\u001b[38;5;241;43m.\u001b[39;49m\u001b[43mload\u001b[49m\u001b[43m(\u001b[49m\u001b[43m)\u001b[49m\n",
      "\u001b[0;32m    578\u001b[0m     \u001b[38;5;28;01mif\u001b[39;00m unpickler\u001b[38;5;241m.\u001b[39mcompat_mode:\n",
      "\u001b[0;32m    579\u001b[0m         warnings\u001b[38;5;241m.\u001b[39mwarn(\u001b[38;5;124m\"\u001b[39m\u001b[38;5;124mThe file \u001b[39m\u001b[38;5;124m'\u001b[39m\u001b[38;5;132;01m%s\u001b[39;00m\u001b[38;5;124m'\u001b[39m\u001b[38;5;124m has been generated with a \u001b[39m\u001b[38;5;124m\"\u001b[39m\n",
      "\u001b[0;32m    580\u001b[0m                       \u001b[38;5;124m\"\u001b[39m\u001b[38;5;124mjoblib version less than 0.10. \u001b[39m\u001b[38;5;124m\"\u001b[39m\n",
      "\u001b[0;32m    581\u001b[0m                       \u001b[38;5;124m\"\u001b[39m\u001b[38;5;124mPlease regenerate this pickle file.\u001b[39m\u001b[38;5;124m\"\u001b[39m\n",
      "\u001b[0;32m    582\u001b[0m                       \u001b[38;5;241m%\u001b[39m filename,\n",
      "\u001b[0;32m    583\u001b[0m                       \u001b[38;5;167;01mDeprecationWarning\u001b[39;00m, stacklevel\u001b[38;5;241m=\u001b[39m\u001b[38;5;241m3\u001b[39m)\n",
      "\n",
      "File \u001b[1;32mc:\\Users\\dell\\anaconda3\\envs\\reg_forest\\lib\\pickle.py:1213\u001b[0m, in \u001b[0;36m_Unpickler.load\u001b[1;34m(self)\u001b[0m\n",
      "\u001b[0;32m   1211\u001b[0m             \u001b[38;5;28;01mraise\u001b[39;00m \u001b[38;5;167;01mEOFError\u001b[39;00m\n",
      "\u001b[0;32m   1212\u001b[0m         \u001b[38;5;28;01massert\u001b[39;00m \u001b[38;5;28misinstance\u001b[39m(key, bytes_types)\n",
      "\u001b[1;32m-> 1213\u001b[0m         \u001b[43mdispatch\u001b[49m\u001b[43m[\u001b[49m\u001b[43mkey\u001b[49m\u001b[43m[\u001b[49m\u001b[38;5;241;43m0\u001b[39;49m\u001b[43m]\u001b[49m\u001b[43m]\u001b[49m\u001b[43m(\u001b[49m\u001b[38;5;28;43mself\u001b[39;49m\u001b[43m)\u001b[49m\n",
      "\u001b[0;32m   1214\u001b[0m \u001b[38;5;28;01mexcept\u001b[39;00m _Stop \u001b[38;5;28;01mas\u001b[39;00m stopinst:\n",
      "\u001b[0;32m   1215\u001b[0m     \u001b[38;5;28;01mreturn\u001b[39;00m stopinst\u001b[38;5;241m.\u001b[39mvalue\n",
      "\n",
      "File \u001b[1;32mc:\\Users\\dell\\anaconda3\\envs\\reg_forest\\lib\\pickle.py:1590\u001b[0m, in \u001b[0;36m_Unpickler.load_reduce\u001b[1;34m(self)\u001b[0m\n",
      "\u001b[0;32m   1588\u001b[0m args \u001b[38;5;241m=\u001b[39m stack\u001b[38;5;241m.\u001b[39mpop()\n",
      "\u001b[0;32m   1589\u001b[0m func \u001b[38;5;241m=\u001b[39m stack[\u001b[38;5;241m-\u001b[39m\u001b[38;5;241m1\u001b[39m]\n",
      "\u001b[1;32m-> 1590\u001b[0m stack[\u001b[38;5;241m-\u001b[39m\u001b[38;5;241m1\u001b[39m] \u001b[38;5;241m=\u001b[39m \u001b[43mfunc\u001b[49m\u001b[43m(\u001b[49m\u001b[38;5;241;43m*\u001b[39;49m\u001b[43margs\u001b[49m\u001b[43m)\u001b[49m\n",
      "\n",
      "\u001b[1;31mTypeError\u001b[0m: __randomstate_ctor() takes from 0 to 1 positional arguments but 2 were given"
     ]
    }
   ],
   "source": [
    "optimal_model = joblib.load( r'..\\..\\..\\output\\ejecucion_10\\models\\model_ca_Regression Forest_st.joblib' )"
   ]
  },
  {
   "cell_type": "code",
   "execution_count": null,
   "id": "6d415d3a",
   "metadata": {},
   "outputs": [],
   "source": [
    "for i, df in enumerate( dfs ):\n",
    "    \n",
    "    ubigeo_column                       = dfs[ i ][ 'ubigeo' ].copy()\n",
    "    year_column                         = dfs[ i ][ 'year' ].copy()\n",
    "    dfs[ i ]                            = dfs[ i ].drop( [ 'ubigeo', 'year' ], axis = 1 )\n",
    "    \n",
    "    y_pred_default                       = optimal_model.predict( dfs[ i ] )\n",
    "    dfs[ i ][ 'default' ]                = y_pred_default\n",
    "    dfs[ i ][ 'class' ]                  = dfs[ i ][ 'prob_ci' ].apply( lambda x: 1 if x > 0.55 else 0 )   \n",
    "    dfs[ i ][ 'ubigeo' ]                = ubigeo_column\n",
    "    dfs[ i ][ 'year' ]                  = year_column\n",
    "    \n",
    "    dfs[ i ]                            = dfs[ i ][ [ 'ubigeo', 'year', 'default', 'class' ] ]"
   ]
  },
  {
   "cell_type": "code",
   "execution_count": null,
   "id": "df3fc507",
   "metadata": {},
   "outputs": [],
   "source": [
    "complete_base = pd.concat( dfs, axis = 0 )"
   ]
  },
  {
   "cell_type": "code",
   "execution_count": null,
   "id": "6ee85091",
   "metadata": {},
   "outputs": [],
   "source": [
    "complete_base.to_csv( r'..\\..\\input\\prediction_data\\ejecucion_10\\b0\\predicted_data\\b0_ca_predicted.csv', index = False )"
   ]
  }
 ],
 "metadata": {
  "kernelspec": {
   "display_name": "Python 3 (ipykernel)",
   "language": "python",
   "name": "python3"
  },
  "language_info": {
   "codemirror_mode": {
    "name": "ipython",
    "version": 3
   },
   "file_extension": ".py",
   "mimetype": "text/x-python",
   "name": "python",
   "nbconvert_exporter": "python",
   "pygments_lexer": "ipython3",
   "version": "3.10.13"
  }
 },
 "nbformat": 4,
 "nbformat_minor": 5
}
